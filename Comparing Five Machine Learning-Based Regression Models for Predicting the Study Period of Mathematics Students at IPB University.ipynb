{
 "cells": [
  {
   "cell_type": "markdown",
   "metadata": {},
   "source": [
    "# [Codes] Comparing Five Machine Learning-Based Regression Models for Predicting the Study Period of Mathematics Students at IPB University\n",
    "[Sri Nurdiati](https://scholar.google.com/citations?user=o2h0HGUAAAAJ&hl=en)\n",
    "dan\n",
    "[Mohamad Khoirun Najib](https://scholar.google.com/citations?hl=en&user=2K5lI0kAAAAJ)\n",
    "\n",
    "---\n",
    "\n",
    "A model that can predict a student's study period based on GPA is needed for characterization so that supervisors can apply the right strategy for their students. One model that can be used is a machine learning-based regression model. Therefore, this study aims to implement and select a machine learning-based regression model to predict a student's study period based on GPA. Several regression models used are \n",
    "- least-square regression, \n",
    "- ridge regression, \n",
    "- Huber regression, \n",
    "- quantile regression, and \n",
    "- quantile regression with $l_2$-regularization \n",
    "\n",
    "provided by Machine Learning in Julia (MLJ). \n",
    "\n",
    "The model is evaluated and selected based on several criteria such as maximum error, RMSE, and MAPE. "
   ]
  },
  {
   "cell_type": "markdown",
   "metadata": {},
   "source": [
    "## Collecting and Pre-processing Data\n",
    "The data used in this study is GPA data from semesters 1 to 6 and the study period of students of the S-1 Mathematics study program, IPB University, who entered in 2013-2016."
   ]
  },
  {
   "cell_type": "code",
   "execution_count": 1,
   "metadata": {},
   "outputs": [],
   "source": [
    "using CSV, DataFrames, MLJ, PrettyPrinting, Plots, StableRNGs\n",
    "import MLJScientificTypes"
   ]
  },
  {
   "cell_type": "code",
   "execution_count": 2,
   "metadata": {},
   "outputs": [
    {
     "name": "stdout",
     "output_type": "stream",
     "text": [
      "┌────────────┬────────────┬────────────┬────────────┬────────────┬────────────┬───────┐\n",
      "│\u001b[1m X1         \u001b[0m│\u001b[1m X2         \u001b[0m│\u001b[1m X3         \u001b[0m│\u001b[1m X4         \u001b[0m│\u001b[1m X5         \u001b[0m│\u001b[1m X6         \u001b[0m│\u001b[1m Y     \u001b[0m│\n",
      "│\u001b[90m Float64    \u001b[0m│\u001b[90m Float64    \u001b[0m│\u001b[90m Float64    \u001b[0m│\u001b[90m Float64    \u001b[0m│\u001b[90m Float64    \u001b[0m│\u001b[90m Float64    \u001b[0m│\u001b[90m Int64 \u001b[0m│\n",
      "│\u001b[90m Continuous \u001b[0m│\u001b[90m Continuous \u001b[0m│\u001b[90m Continuous \u001b[0m│\u001b[90m Continuous \u001b[0m│\u001b[90m Continuous \u001b[0m│\u001b[90m Continuous \u001b[0m│\u001b[90m Count \u001b[0m│\n",
      "├────────────┼────────────┼────────────┼────────────┼────────────┼────────────┼───────┤\n",
      "│ 4.0        │ 3.49       │ 3.48       │ 3.52       │ 3.55       │ 3.47       │ 48.0  │\n",
      "│ 4.0        │ 3.92       │ 3.92       │ 3.92       │ 3.89       │ 3.83       │ 47.0  │\n",
      "│ 3.79       │ 3.62       │ 3.39       │ 3.34       │ 3.34       │ 3.3        │ 51.0  │\n",
      "└────────────┴────────────┴────────────┴────────────┴────────────┴────────────┴───────┘\n"
     ]
    }
   ],
   "source": [
    "C = CSV.read(\"data.csv\",DataFrame)\n",
    "first(C, 3) |> pretty"
   ]
  },
  {
   "cell_type": "code",
   "execution_count": 3,
   "metadata": {
    "scrolled": false
   },
   "outputs": [
    {
     "name": "stdout",
     "output_type": "stream",
     "text": [
      "┌────────────┬────────────┬────────────┬────────────┬────────────┬────────────┬────────────┐\n",
      "│\u001b[1m X1         \u001b[0m│\u001b[1m X2         \u001b[0m│\u001b[1m X3         \u001b[0m│\u001b[1m X4         \u001b[0m│\u001b[1m X5         \u001b[0m│\u001b[1m X6         \u001b[0m│\u001b[1m Y          \u001b[0m│\n",
      "│\u001b[90m Float64    \u001b[0m│\u001b[90m Float64    \u001b[0m│\u001b[90m Float64    \u001b[0m│\u001b[90m Float64    \u001b[0m│\u001b[90m Float64    \u001b[0m│\u001b[90m Float64    \u001b[0m│\u001b[90m Float64    \u001b[0m│\n",
      "│\u001b[90m Continuous \u001b[0m│\u001b[90m Continuous \u001b[0m│\u001b[90m Continuous \u001b[0m│\u001b[90m Continuous \u001b[0m│\u001b[90m Continuous \u001b[0m│\u001b[90m Continuous \u001b[0m│\u001b[90m Continuous \u001b[0m│\n",
      "├────────────┼────────────┼────────────┼────────────┼────────────┼────────────┼────────────┤\n",
      "│ 4.0        │ 3.49       │ 3.48       │ 3.52       │ 3.55       │ 3.47       │ 48.0       │\n",
      "│ 4.0        │ 3.92       │ 3.92       │ 3.92       │ 3.89       │ 3.83       │ 47.0       │\n",
      "│ 3.79       │ 3.62       │ 3.39       │ 3.34       │ 3.34       │ 3.3        │ 51.0       │\n",
      "└────────────┴────────────┴────────────┴────────────┴────────────┴────────────┴────────────┘\n"
     ]
    }
   ],
   "source": [
    "C = coerce(C, :Y=>Continuous)\n",
    "first(C, 3) |> pretty"
   ]
  },
  {
   "cell_type": "code",
   "execution_count": 4,
   "metadata": {},
   "outputs": [
    {
     "name": "stdout",
     "output_type": "stream",
     "text": [
      "┌────────────┬────────────┬────────────┬────────────┬────────────┬────────────┐\n",
      "│\u001b[1m X1         \u001b[0m│\u001b[1m X2         \u001b[0m│\u001b[1m X3         \u001b[0m│\u001b[1m X4         \u001b[0m│\u001b[1m X5         \u001b[0m│\u001b[1m X6         \u001b[0m│\n",
      "│\u001b[90m Float64    \u001b[0m│\u001b[90m Float64    \u001b[0m│\u001b[90m Float64    \u001b[0m│\u001b[90m Float64    \u001b[0m│\u001b[90m Float64    \u001b[0m│\u001b[90m Float64    \u001b[0m│\n",
      "│\u001b[90m Continuous \u001b[0m│\u001b[90m Continuous \u001b[0m│\u001b[90m Continuous \u001b[0m│\u001b[90m Continuous \u001b[0m│\u001b[90m Continuous \u001b[0m│\u001b[90m Continuous \u001b[0m│\n",
      "├────────────┼────────────┼────────────┼────────────┼────────────┼────────────┤\n",
      "│ 4.0        │ 3.49       │ 3.48       │ 3.52       │ 3.55       │ 3.47       │\n",
      "│ 4.0        │ 3.92       │ 3.92       │ 3.92       │ 3.89       │ 3.83       │\n",
      "│ 3.79       │ 3.62       │ 3.39       │ 3.34       │ 3.34       │ 3.3        │\n",
      "└────────────┴────────────┴────────────┴────────────┴────────────┴────────────┘\n"
     ]
    }
   ],
   "source": [
    "y, X = unpack(C, ==(:Y), colname -> true) \n",
    "first(X, 3) |> pretty"
   ]
  },
  {
   "cell_type": "code",
   "execution_count": 5,
   "metadata": {},
   "outputs": [
    {
     "name": "stdout",
     "output_type": "stream",
     "text": [
      "ARDRegressor                            (ScikitLearn)\n",
      "AdaBoostRegressor                       (ScikitLearn)\n",
      "BaggingRegressor                        (ScikitLearn)\n",
      "BayesianRidgeRegressor                  (ScikitLearn)\n",
      "ConstantRegressor                       (MLJModels)\n",
      "DecisionTreeRegressor                   (BetaML)\n",
      "DecisionTreeRegressor                   (DecisionTree)\n",
      "DeterministicConstantRegressor          (MLJModels)\n",
      "DummyRegressor                          (ScikitLearn)\n",
      "ElasticNetCVRegressor                   (ScikitLearn)\n",
      "ElasticNetRegressor                     (MLJLinearModels)\n",
      "ElasticNetRegressor                     (ScikitLearn)\n",
      "EpsilonSVR                              (LIBSVM)\n",
      "EvoTreeGaussian                         (EvoTrees)\n",
      "EvoTreeRegressor                        (EvoTrees)\n",
      "ExtraTreesRegressor                     (ScikitLearn)\n",
      "GaussianProcessRegressor                (ScikitLearn)\n",
      "GradientBoostingRegressor               (ScikitLearn)\n",
      "HuberRegressor                          (MLJLinearModels)\n",
      "HuberRegressor                          (ScikitLearn)\n",
      "KNNRegressor                            (NearestNeighborModels)\n",
      "KNeighborsRegressor                     (ScikitLearn)\n",
      "KPLSRegressor                           (PartialLeastSquaresRegressor)\n",
      "LADRegressor                            (MLJLinearModels)\n",
      "LGBMRegressor                           (LightGBM)\n",
      "LarsCVRegressor                         (ScikitLearn)\n",
      "LarsRegressor                           (ScikitLearn)\n",
      "LassoCVRegressor                        (ScikitLearn)\n",
      "LassoLarsCVRegressor                    (ScikitLearn)\n",
      "LassoLarsICRegressor                    (ScikitLearn)\n",
      "LassoLarsRegressor                      (ScikitLearn)\n",
      "LassoRegressor                          (MLJLinearModels)\n",
      "LassoRegressor                          (ScikitLearn)\n",
      "LinearRegressor                         (GLM)\n",
      "LinearRegressor                         (MLJLinearModels)\n",
      "LinearRegressor                         (MultivariateStats)\n",
      "LinearRegressor                         (ScikitLearn)\n",
      "NeuralNetworkRegressor                  (MLJFlux)\n",
      "NuSVR                                   (LIBSVM)\n",
      "OrthogonalMatchingPursuitCVRegressor    (ScikitLearn)\n",
      "OrthogonalMatchingPursuitRegressor      (ScikitLearn)\n",
      "PLSRegressor                            (PartialLeastSquaresRegressor)\n",
      "PassiveAggressiveRegressor              (ScikitLearn)\n",
      "QuantileRegressor                       (MLJLinearModels)\n",
      "RANSACRegressor                         (ScikitLearn)\n",
      "RandomForestRegressor                   (BetaML)\n",
      "RandomForestRegressor                   (DecisionTree)\n",
      "RandomForestRegressor                   (ScikitLearn)\n",
      "RidgeCVRegressor                        (ScikitLearn)\n",
      "RidgeRegressor                          (MLJLinearModels)\n",
      "RidgeRegressor                          (MultivariateStats)\n",
      "RidgeRegressor                          (ScikitLearn)\n",
      "RobustRegressor                         (MLJLinearModels)\n",
      "SGDRegressor                            (ScikitLearn)\n",
      "SVMLinearRegressor                      (ScikitLearn)\n",
      "SVMNuRegressor                          (ScikitLearn)\n",
      "SVMRegressor                            (ScikitLearn)\n",
      "TheilSenRegressor                       (ScikitLearn)\n",
      "XGBoostRegressor                        (XGBoost)\n"
     ]
    }
   ],
   "source": [
    "for m in models(matching(X, y)) \n",
    "    println(rpad(m.name, 40), \"($(m.package_name))\") \n",
    "end"
   ]
  },
  {
   "cell_type": "markdown",
   "metadata": {},
   "source": [
    "## Dividing data\n",
    "The data is divided into \n",
    "- training data for students who entered in 2013-2015 and \n",
    "- testing data for students who entered in 2016. \n",
    "\n",
    "The total data obtained was 203 data, with 178 data (87.68%) as training data and the rest as testing data."
   ]
  },
  {
   "cell_type": "code",
   "execution_count": 186,
   "metadata": {},
   "outputs": [
    {
     "data": {
      "image/svg+xml": [
       "<?xml version=\"1.0\" encoding=\"utf-8\"?>\n",
       "<svg xmlns=\"http://www.w3.org/2000/svg\" xmlns:xlink=\"http://www.w3.org/1999/xlink\" width=\"600\" height=\"400\" viewBox=\"0 0 2400 1600\">\n",
       "<defs>\n",
       "  <clipPath id=\"clip960\">\n",
       "    <rect x=\"0\" y=\"0\" width=\"2400\" height=\"1600\"/>\n",
       "  </clipPath>\n",
       "</defs>\n",
       "<path clip-path=\"url(#clip960)\" d=\"\n",
       "M0 1600 L2400 1600 L2400 0 L0 0  Z\n",
       "  \" fill=\"#ffffff\" fill-rule=\"evenodd\" fill-opacity=\"1\"/>\n",
       "<defs>\n",
       "  <clipPath id=\"clip961\">\n",
       "    <rect x=\"480\" y=\"0\" width=\"1681\" height=\"1600\"/>\n",
       "  </clipPath>\n",
       "</defs>\n",
       "<path clip-path=\"url(#clip960)\" d=\"\n",
       "M141.853 1486.45 L2352.76 1486.45 L2352.76 47.2441 L141.853 47.2441  Z\n",
       "  \" fill=\"#ffffff\" fill-rule=\"evenodd\" fill-opacity=\"1\"/>\n",
       "<defs>\n",
       "  <clipPath id=\"clip962\">\n",
       "    <rect x=\"141\" y=\"47\" width=\"2212\" height=\"1440\"/>\n",
       "  </clipPath>\n",
       "</defs>\n",
       "<polyline clip-path=\"url(#clip962)\" style=\"stroke:#000000; stroke-width:2; stroke-opacity:0.1; fill:none\" points=\"\n",
       "  141.853,1486.45 141.853,47.2441 \n",
       "  \"/>\n",
       "<polyline clip-path=\"url(#clip962)\" style=\"stroke:#000000; stroke-width:2; stroke-opacity:0.1; fill:none\" points=\"\n",
       "  694.579,1486.45 694.579,47.2441 \n",
       "  \"/>\n",
       "<polyline clip-path=\"url(#clip962)\" style=\"stroke:#000000; stroke-width:2; stroke-opacity:0.1; fill:none\" points=\"\n",
       "  1247.3,1486.45 1247.3,47.2441 \n",
       "  \"/>\n",
       "<polyline clip-path=\"url(#clip962)\" style=\"stroke:#000000; stroke-width:2; stroke-opacity:0.1; fill:none\" points=\"\n",
       "  1800.03,1486.45 1800.03,47.2441 \n",
       "  \"/>\n",
       "<polyline clip-path=\"url(#clip962)\" style=\"stroke:#000000; stroke-width:2; stroke-opacity:0.1; fill:none\" points=\"\n",
       "  2352.76,1486.45 2352.76,47.2441 \n",
       "  \"/>\n",
       "<polyline clip-path=\"url(#clip960)\" style=\"stroke:#000000; stroke-width:4; stroke-opacity:1; fill:none\" points=\"\n",
       "  141.853,1486.45 2352.76,1486.45 \n",
       "  \"/>\n",
       "<polyline clip-path=\"url(#clip960)\" style=\"stroke:#000000; stroke-width:4; stroke-opacity:1; fill:none\" points=\"\n",
       "  141.853,1486.45 141.853,1469.18 \n",
       "  \"/>\n",
       "<polyline clip-path=\"url(#clip960)\" style=\"stroke:#000000; stroke-width:4; stroke-opacity:1; fill:none\" points=\"\n",
       "  694.579,1486.45 694.579,1469.18 \n",
       "  \"/>\n",
       "<polyline clip-path=\"url(#clip960)\" style=\"stroke:#000000; stroke-width:4; stroke-opacity:1; fill:none\" points=\"\n",
       "  1247.3,1486.45 1247.3,1469.18 \n",
       "  \"/>\n",
       "<polyline clip-path=\"url(#clip960)\" style=\"stroke:#000000; stroke-width:4; stroke-opacity:1; fill:none\" points=\"\n",
       "  1800.03,1486.45 1800.03,1469.18 \n",
       "  \"/>\n",
       "<polyline clip-path=\"url(#clip960)\" style=\"stroke:#000000; stroke-width:4; stroke-opacity:1; fill:none\" points=\"\n",
       "  2352.76,1486.45 2352.76,1469.18 \n",
       "  \"/>\n",
       "<path clip-path=\"url(#clip960)\" d=\"M 0 0 M130.024 1516.63 L118.219 1535.08 L130.024 1535.08 L130.024 1516.63 M128.797 1512.56 L134.677 1512.56 L134.677 1535.08 L139.608 1535.08 L139.608 1538.97 L134.677 1538.97 L134.677 1547.12 L130.024 1547.12 L130.024 1538.97 L114.423 1538.97 L114.423 1534.46 L128.797 1512.56 Z\" fill=\"#000000\" fill-rule=\"evenodd\" fill-opacity=\"1\" /><path clip-path=\"url(#clip960)\" d=\"M 0 0 M157.339 1515.64 Q153.728 1515.64 151.899 1519.2 Q150.094 1522.75 150.094 1529.87 Q150.094 1536.98 151.899 1540.55 Q153.728 1544.09 157.339 1544.09 Q160.973 1544.09 162.779 1540.55 Q164.607 1536.98 164.607 1529.87 Q164.607 1522.75 162.779 1519.2 Q160.973 1515.64 157.339 1515.64 M157.339 1511.93 Q163.149 1511.93 166.205 1516.54 Q169.283 1521.12 169.283 1529.87 Q169.283 1538.6 166.205 1543.21 Q163.149 1547.79 157.339 1547.79 Q151.529 1547.79 148.45 1543.21 Q145.395 1538.6 145.395 1529.87 Q145.395 1521.12 148.45 1516.54 Q151.529 1511.93 157.339 1511.93 Z\" fill=\"#000000\" fill-rule=\"evenodd\" fill-opacity=\"1\" /><path clip-path=\"url(#clip960)\" d=\"M 0 0 M669.278 1512.56 L687.634 1512.56 L687.634 1516.5 L673.56 1516.5 L673.56 1524.97 Q674.579 1524.62 675.597 1524.46 Q676.616 1524.27 677.634 1524.27 Q683.421 1524.27 686.801 1527.44 Q690.181 1530.62 690.181 1536.03 Q690.181 1541.61 686.708 1544.71 Q683.236 1547.79 676.917 1547.79 Q674.741 1547.79 672.472 1547.42 Q670.227 1547.05 667.82 1546.31 L667.82 1541.61 Q669.903 1542.74 672.125 1543.3 Q674.347 1543.86 676.824 1543.86 Q680.829 1543.86 683.167 1541.75 Q685.505 1539.64 685.505 1536.03 Q685.505 1532.42 683.167 1530.31 Q680.829 1528.21 676.824 1528.21 Q674.949 1528.21 673.074 1528.62 Q671.222 1529.04 669.278 1529.92 L669.278 1512.56 Z\" fill=\"#000000\" fill-rule=\"evenodd\" fill-opacity=\"1\" /><path clip-path=\"url(#clip960)\" d=\"M 0 0 M709.393 1515.64 Q705.782 1515.64 703.954 1519.2 Q702.148 1522.75 702.148 1529.87 Q702.148 1536.98 703.954 1540.55 Q705.782 1544.09 709.393 1544.09 Q713.028 1544.09 714.833 1540.55 Q716.662 1536.98 716.662 1529.87 Q716.662 1522.75 714.833 1519.2 Q713.028 1515.64 709.393 1515.64 M709.393 1511.93 Q715.204 1511.93 718.259 1516.54 Q721.338 1521.12 721.338 1529.87 Q721.338 1538.6 718.259 1543.21 Q715.204 1547.79 709.393 1547.79 Q703.583 1547.79 700.505 1543.21 Q697.449 1538.6 697.449 1529.87 Q697.449 1521.12 700.505 1516.54 Q703.583 1511.93 709.393 1511.93 Z\" fill=\"#000000\" fill-rule=\"evenodd\" fill-opacity=\"1\" /><path clip-path=\"url(#clip960)\" d=\"M 0 0 M1232.71 1527.98 Q1229.56 1527.98 1227.71 1530.13 Q1225.88 1532.28 1225.88 1536.03 Q1225.88 1539.76 1227.71 1541.93 Q1229.56 1544.09 1232.71 1544.09 Q1235.86 1544.09 1237.69 1541.93 Q1239.54 1539.76 1239.54 1536.03 Q1239.54 1532.28 1237.69 1530.13 Q1235.86 1527.98 1232.71 1527.98 M1241.99 1513.32 L1241.99 1517.58 Q1240.23 1516.75 1238.43 1516.31 Q1236.64 1515.87 1234.89 1515.87 Q1230.26 1515.87 1227.8 1519 Q1225.37 1522.12 1225.02 1528.44 Q1226.39 1526.43 1228.45 1525.36 Q1230.51 1524.27 1232.99 1524.27 Q1238.2 1524.27 1241.2 1527.44 Q1244.24 1530.59 1244.24 1536.03 Q1244.24 1541.36 1241.09 1544.57 Q1237.94 1547.79 1232.71 1547.79 Q1226.71 1547.79 1223.54 1543.21 Q1220.37 1538.6 1220.37 1529.87 Q1220.37 1521.68 1224.26 1516.82 Q1228.15 1511.93 1234.7 1511.93 Q1236.46 1511.93 1238.24 1512.28 Q1240.05 1512.63 1241.99 1513.32 Z\" fill=\"#000000\" fill-rule=\"evenodd\" fill-opacity=\"1\" /><path clip-path=\"url(#clip960)\" d=\"M 0 0 M1262.29 1515.64 Q1258.68 1515.64 1256.85 1519.2 Q1255.05 1522.75 1255.05 1529.87 Q1255.05 1536.98 1256.85 1540.55 Q1258.68 1544.09 1262.29 1544.09 Q1265.93 1544.09 1267.73 1540.55 Q1269.56 1536.98 1269.56 1529.87 Q1269.56 1522.75 1267.73 1519.2 Q1265.93 1515.64 1262.29 1515.64 M1262.29 1511.93 Q1268.1 1511.93 1271.16 1516.54 Q1274.24 1521.12 1274.24 1529.87 Q1274.24 1538.6 1271.16 1543.21 Q1268.1 1547.79 1262.29 1547.79 Q1256.48 1547.79 1253.4 1543.21 Q1250.35 1538.6 1250.35 1529.87 Q1250.35 1521.12 1253.4 1516.54 Q1256.48 1511.93 1262.29 1511.93 Z\" fill=\"#000000\" fill-rule=\"evenodd\" fill-opacity=\"1\" /><path clip-path=\"url(#clip960)\" d=\"M 0 0 M1773.39 1512.56 L1795.61 1512.56 L1795.61 1514.55 L1783.06 1547.12 L1778.18 1547.12 L1789.98 1516.5 L1773.39 1516.5 L1773.39 1512.56 Z\" fill=\"#000000\" fill-rule=\"evenodd\" fill-opacity=\"1\" /><path clip-path=\"url(#clip960)\" d=\"M 0 0 M1814.73 1515.64 Q1811.12 1515.64 1809.29 1519.2 Q1807.48 1522.75 1807.48 1529.87 Q1807.48 1536.98 1809.29 1540.55 Q1811.12 1544.09 1814.73 1544.09 Q1818.36 1544.09 1820.17 1540.55 Q1822 1536.98 1822 1529.87 Q1822 1522.75 1820.17 1519.2 Q1818.36 1515.64 1814.73 1515.64 M1814.73 1511.93 Q1820.54 1511.93 1823.59 1516.54 Q1826.67 1521.12 1826.67 1529.87 Q1826.67 1538.6 1823.59 1543.21 Q1820.54 1547.79 1814.73 1547.79 Q1808.92 1547.79 1805.84 1543.21 Q1802.78 1538.6 1802.78 1529.87 Q1802.78 1521.12 1805.84 1516.54 Q1808.92 1511.93 1814.73 1511.93 Z\" fill=\"#000000\" fill-rule=\"evenodd\" fill-opacity=\"1\" /><path clip-path=\"url(#clip960)\" d=\"M 0 0 M2337.63 1530.71 Q2334.3 1530.71 2332.37 1532.49 Q2330.48 1534.27 2330.48 1537.4 Q2330.48 1540.52 2332.37 1542.31 Q2334.3 1544.09 2337.63 1544.09 Q2340.96 1544.09 2342.88 1542.31 Q2344.8 1540.5 2344.8 1537.4 Q2344.8 1534.27 2342.88 1532.49 Q2340.99 1530.71 2337.63 1530.71 M2332.95 1528.72 Q2329.94 1527.98 2328.25 1525.92 Q2326.59 1523.86 2326.59 1520.89 Q2326.59 1516.75 2329.53 1514.34 Q2332.49 1511.93 2337.63 1511.93 Q2342.79 1511.93 2345.73 1514.34 Q2348.67 1516.75 2348.67 1520.89 Q2348.67 1523.86 2346.98 1525.92 Q2345.31 1527.98 2342.33 1528.72 Q2345.71 1529.5 2347.58 1531.8 Q2349.48 1534.09 2349.48 1537.4 Q2349.48 1542.42 2346.4 1545.11 Q2343.35 1547.79 2337.63 1547.79 Q2331.91 1547.79 2328.83 1545.11 Q2325.78 1542.42 2325.78 1537.4 Q2325.78 1534.09 2327.68 1531.8 Q2329.57 1529.5 2332.95 1528.72 M2331.24 1521.33 Q2331.24 1524.02 2332.91 1525.52 Q2334.6 1527.03 2337.63 1527.03 Q2340.64 1527.03 2342.33 1525.52 Q2344.04 1524.02 2344.04 1521.33 Q2344.04 1518.65 2342.33 1517.14 Q2340.64 1515.64 2337.63 1515.64 Q2334.6 1515.64 2332.91 1517.14 Q2331.24 1518.65 2331.24 1521.33 Z\" fill=\"#000000\" fill-rule=\"evenodd\" fill-opacity=\"1\" /><path clip-path=\"url(#clip960)\" d=\"M 0 0 M2367.79 1515.64 Q2364.18 1515.64 2362.35 1519.2 Q2360.55 1522.75 2360.55 1529.87 Q2360.55 1536.98 2362.35 1540.55 Q2364.18 1544.09 2367.79 1544.09 Q2371.42 1544.09 2373.23 1540.55 Q2375.06 1536.98 2375.06 1529.87 Q2375.06 1522.75 2373.23 1519.2 Q2371.42 1515.64 2367.79 1515.64 M2367.79 1511.93 Q2373.6 1511.93 2376.66 1516.54 Q2379.73 1521.12 2379.73 1529.87 Q2379.73 1538.6 2376.66 1543.21 Q2373.6 1547.79 2367.79 1547.79 Q2361.98 1547.79 2358.9 1543.21 Q2355.85 1538.6 2355.85 1529.87 Q2355.85 1521.12 2358.9 1516.54 Q2361.98 1511.93 2367.79 1511.93 Z\" fill=\"#000000\" fill-rule=\"evenodd\" fill-opacity=\"1\" /><polyline clip-path=\"url(#clip962)\" style=\"stroke:#000000; stroke-width:2; stroke-opacity:0.1; fill:none\" points=\"\n",
       "  141.853,1445.72 2352.76,1445.72 \n",
       "  \"/>\n",
       "<polyline clip-path=\"url(#clip962)\" style=\"stroke:#000000; stroke-width:2; stroke-opacity:0.1; fill:none\" points=\"\n",
       "  141.853,1156.83 2352.76,1156.83 \n",
       "  \"/>\n",
       "<polyline clip-path=\"url(#clip962)\" style=\"stroke:#000000; stroke-width:2; stroke-opacity:0.1; fill:none\" points=\"\n",
       "  141.853,867.954 2352.76,867.954 \n",
       "  \"/>\n",
       "<polyline clip-path=\"url(#clip962)\" style=\"stroke:#000000; stroke-width:2; stroke-opacity:0.1; fill:none\" points=\"\n",
       "  141.853,579.074 2352.76,579.074 \n",
       "  \"/>\n",
       "<polyline clip-path=\"url(#clip962)\" style=\"stroke:#000000; stroke-width:2; stroke-opacity:0.1; fill:none\" points=\"\n",
       "  141.853,290.193 2352.76,290.193 \n",
       "  \"/>\n",
       "<polyline clip-path=\"url(#clip960)\" style=\"stroke:#000000; stroke-width:4; stroke-opacity:1; fill:none\" points=\"\n",
       "  141.853,1486.45 141.853,47.2441 \n",
       "  \"/>\n",
       "<polyline clip-path=\"url(#clip960)\" style=\"stroke:#000000; stroke-width:4; stroke-opacity:1; fill:none\" points=\"\n",
       "  141.853,1445.72 168.384,1445.72 \n",
       "  \"/>\n",
       "<polyline clip-path=\"url(#clip960)\" style=\"stroke:#000000; stroke-width:4; stroke-opacity:1; fill:none\" points=\"\n",
       "  141.853,1156.83 168.384,1156.83 \n",
       "  \"/>\n",
       "<polyline clip-path=\"url(#clip960)\" style=\"stroke:#000000; stroke-width:4; stroke-opacity:1; fill:none\" points=\"\n",
       "  141.853,867.954 168.384,867.954 \n",
       "  \"/>\n",
       "<polyline clip-path=\"url(#clip960)\" style=\"stroke:#000000; stroke-width:4; stroke-opacity:1; fill:none\" points=\"\n",
       "  141.853,579.074 168.384,579.074 \n",
       "  \"/>\n",
       "<polyline clip-path=\"url(#clip960)\" style=\"stroke:#000000; stroke-width:4; stroke-opacity:1; fill:none\" points=\"\n",
       "  141.853,290.193 168.384,290.193 \n",
       "  \"/>\n",
       "<path clip-path=\"url(#clip960)\" d=\"M 0 0 M93.9086 1431.51 Q90.2975 1431.51 88.4688 1435.08 Q86.6632 1438.62 86.6632 1445.75 Q86.6632 1452.86 88.4688 1456.42 Q90.2975 1459.96 93.9086 1459.96 Q97.5428 1459.96 99.3483 1456.42 Q101.177 1452.86 101.177 1445.75 Q101.177 1438.62 99.3483 1435.08 Q97.5428 1431.51 93.9086 1431.51 M93.9086 1427.81 Q99.7187 1427.81 102.774 1432.42 Q105.853 1437 105.853 1445.75 Q105.853 1454.48 102.774 1459.08 Q99.7187 1463.67 93.9086 1463.67 Q88.0984 1463.67 85.0197 1459.08 Q81.9642 1454.48 81.9642 1445.75 Q81.9642 1437 85.0197 1432.42 Q88.0984 1427.81 93.9086 1427.81 Z\" fill=\"#000000\" fill-rule=\"evenodd\" fill-opacity=\"1\" /><path clip-path=\"url(#clip960)\" d=\"M 0 0 M54.5569 1170.18 L62.1958 1170.18 L62.1958 1143.81 L53.8856 1145.48 L53.8856 1141.22 L62.1495 1139.55 L66.8254 1139.55 L66.8254 1170.18 L74.4642 1170.18 L74.4642 1174.11 L54.5569 1174.11 L54.5569 1170.18 Z\" fill=\"#000000\" fill-rule=\"evenodd\" fill-opacity=\"1\" /><path clip-path=\"url(#clip960)\" d=\"M 0 0 M93.9086 1142.63 Q90.2975 1142.63 88.4688 1146.2 Q86.6632 1149.74 86.6632 1156.87 Q86.6632 1163.98 88.4688 1167.54 Q90.2975 1171.08 93.9086 1171.08 Q97.5428 1171.08 99.3483 1167.54 Q101.177 1163.98 101.177 1156.87 Q101.177 1149.74 99.3483 1146.2 Q97.5428 1142.63 93.9086 1142.63 M93.9086 1138.93 Q99.7187 1138.93 102.774 1143.54 Q105.853 1148.12 105.853 1156.87 Q105.853 1165.6 102.774 1170.2 Q99.7187 1174.79 93.9086 1174.79 Q88.0984 1174.79 85.0197 1170.2 Q81.9642 1165.6 81.9642 1156.87 Q81.9642 1148.12 85.0197 1143.54 Q88.0984 1138.93 93.9086 1138.93 Z\" fill=\"#000000\" fill-rule=\"evenodd\" fill-opacity=\"1\" /><path clip-path=\"url(#clip960)\" d=\"M 0 0 M57.7745 881.299 L74.0939 881.299 L74.0939 885.234 L52.1495 885.234 L52.1495 881.299 Q54.8115 878.544 59.3949 873.915 Q64.0013 869.262 65.1819 867.92 Q67.4272 865.396 68.3068 863.66 Q69.2096 861.901 69.2096 860.211 Q69.2096 857.457 67.2652 855.721 Q65.3439 853.984 62.2421 853.984 Q60.043 853.984 57.5893 854.748 Q55.1588 855.512 52.381 857.063 L52.381 852.341 Q55.2051 851.207 57.6588 850.628 Q60.1124 850.049 62.1495 850.049 Q67.5198 850.049 70.7142 852.734 Q73.9087 855.42 73.9087 859.91 Q73.9087 862.04 73.0985 863.961 Q72.3115 865.859 70.205 868.452 Q69.6263 869.123 66.5245 872.341 Q63.4226 875.535 57.7745 881.299 Z\" fill=\"#000000\" fill-rule=\"evenodd\" fill-opacity=\"1\" /><path clip-path=\"url(#clip960)\" d=\"M 0 0 M93.9086 853.753 Q90.2975 853.753 88.4688 857.318 Q86.6632 860.859 86.6632 867.989 Q86.6632 875.095 88.4688 878.66 Q90.2975 882.202 93.9086 882.202 Q97.5428 882.202 99.3483 878.66 Q101.177 875.095 101.177 867.989 Q101.177 860.859 99.3483 857.318 Q97.5428 853.753 93.9086 853.753 M93.9086 850.049 Q99.7187 850.049 102.774 854.656 Q105.853 859.239 105.853 867.989 Q105.853 876.716 102.774 881.322 Q99.7187 885.906 93.9086 885.906 Q88.0984 885.906 85.0197 881.322 Q81.9642 876.716 81.9642 867.989 Q81.9642 859.239 85.0197 854.656 Q88.0984 850.049 93.9086 850.049 Z\" fill=\"#000000\" fill-rule=\"evenodd\" fill-opacity=\"1\" /><path clip-path=\"url(#clip960)\" d=\"M 0 0 M67.9133 577.719 Q71.2698 578.437 73.1448 580.705 Q75.0429 582.974 75.0429 586.307 Q75.0429 591.423 71.5244 594.224 Q68.0059 597.025 61.5245 597.025 Q59.3486 597.025 57.0338 596.585 Q54.7421 596.168 52.2884 595.312 L52.2884 590.798 Q54.2328 591.932 56.5477 592.511 Q58.8625 593.09 61.3856 593.09 Q65.7837 593.09 68.0754 591.354 Q70.3902 589.617 70.3902 586.307 Q70.3902 583.252 68.2374 581.539 Q66.1078 579.803 62.2884 579.803 L58.2606 579.803 L58.2606 575.96 L62.4735 575.96 Q65.9226 575.96 67.7513 574.594 Q69.58 573.205 69.58 570.613 Q69.58 567.951 67.6819 566.539 Q65.8069 565.104 62.2884 565.104 Q60.3671 565.104 58.168 565.52 Q55.969 565.937 53.3301 566.817 L53.3301 562.65 Q55.9921 561.909 58.3069 561.539 Q60.6449 561.169 62.705 561.169 Q68.0291 561.169 71.1309 563.599 Q74.2327 566.006 74.2327 570.127 Q74.2327 572.997 72.5892 574.988 Q70.9457 576.955 67.9133 577.719 Z\" fill=\"#000000\" fill-rule=\"evenodd\" fill-opacity=\"1\" /><path clip-path=\"url(#clip960)\" d=\"M 0 0 M93.9086 564.872 Q90.2975 564.872 88.4688 568.437 Q86.6632 571.979 86.6632 579.108 Q86.6632 586.215 88.4688 589.779 Q90.2975 593.321 93.9086 593.321 Q97.5428 593.321 99.3483 589.779 Q101.177 586.215 101.177 579.108 Q101.177 571.979 99.3483 568.437 Q97.5428 564.872 93.9086 564.872 M93.9086 561.169 Q99.7187 561.169 102.774 565.775 Q105.853 570.358 105.853 579.108 Q105.853 587.835 102.774 592.441 Q99.7187 597.025 93.9086 597.025 Q88.0984 597.025 85.0197 592.441 Q81.9642 587.835 81.9642 579.108 Q81.9642 570.358 85.0197 565.775 Q88.0984 561.169 93.9086 561.169 Z\" fill=\"#000000\" fill-rule=\"evenodd\" fill-opacity=\"1\" /><path clip-path=\"url(#clip960)\" d=\"M 0 0 M66.5939 276.987 L54.7884 295.436 L66.5939 295.436 L66.5939 276.987 M65.367 272.913 L71.2466 272.913 L71.2466 295.436 L76.1772 295.436 L76.1772 299.325 L71.2466 299.325 L71.2466 307.473 L66.5939 307.473 L66.5939 299.325 L50.9921 299.325 L50.9921 294.811 L65.367 272.913 Z\" fill=\"#000000\" fill-rule=\"evenodd\" fill-opacity=\"1\" /><path clip-path=\"url(#clip960)\" d=\"M 0 0 M93.9086 275.991 Q90.2975 275.991 88.4688 279.556 Q86.6632 283.098 86.6632 290.228 Q86.6632 297.334 88.4688 300.899 Q90.2975 304.44 93.9086 304.44 Q97.5428 304.44 99.3483 300.899 Q101.177 297.334 101.177 290.228 Q101.177 283.098 99.3483 279.556 Q97.5428 275.991 93.9086 275.991 M93.9086 272.288 Q99.7187 272.288 102.774 276.894 Q105.853 281.478 105.853 290.228 Q105.853 298.954 102.774 303.561 Q99.7187 308.144 93.9086 308.144 Q88.0984 308.144 85.0197 303.561 Q81.9642 298.954 81.9642 290.228 Q81.9642 281.478 85.0197 276.894 Q88.0984 272.288 93.9086 272.288 Z\" fill=\"#000000\" fill-rule=\"evenodd\" fill-opacity=\"1\" /><path clip-path=\"url(#clip962)\" d=\"\n",
       "M362.943 867.954 L362.943 1445.72 L473.488 1445.72 L473.488 867.954 L362.943 867.954 L362.943 867.954  Z\n",
       "  \" fill=\"#009af9\" fill-rule=\"evenodd\" fill-opacity=\"1\"/>\n",
       "<polyline clip-path=\"url(#clip962)\" style=\"stroke:#000000; stroke-width:4; stroke-opacity:1; fill:none\" points=\"\n",
       "  362.943,867.954 362.943,1445.72 473.488,1445.72 473.488,867.954 362.943,867.954 \n",
       "  \"/>\n",
       "<path clip-path=\"url(#clip962)\" d=\"\n",
       "M473.488 347.969 L473.488 1445.72 L584.034 1445.72 L584.034 347.969 L473.488 347.969 L473.488 347.969  Z\n",
       "  \" fill=\"#009af9\" fill-rule=\"evenodd\" fill-opacity=\"1\"/>\n",
       "<polyline clip-path=\"url(#clip962)\" style=\"stroke:#000000; stroke-width:4; stroke-opacity:1; fill:none\" points=\"\n",
       "  473.488,347.969 473.488,1445.72 584.034,1445.72 584.034,347.969 473.488,347.969 \n",
       "  \"/>\n",
       "<path clip-path=\"url(#clip962)\" d=\"\n",
       "M584.034 87.9763 L584.034 1445.72 L694.579 1445.72 L694.579 87.9763 L584.034 87.9763 L584.034 87.9763  Z\n",
       "  \" fill=\"#009af9\" fill-rule=\"evenodd\" fill-opacity=\"1\"/>\n",
       "<polyline clip-path=\"url(#clip962)\" style=\"stroke:#000000; stroke-width:4; stroke-opacity:1; fill:none\" points=\"\n",
       "  584.034,87.9763 584.034,1445.72 694.579,1445.72 694.579,87.9763 584.034,87.9763 \n",
       "  \"/>\n",
       "<path clip-path=\"url(#clip962)\" d=\"\n",
       "M694.579 376.857 L694.579 1445.72 L805.124 1445.72 L805.124 376.857 L694.579 376.857 L694.579 376.857  Z\n",
       "  \" fill=\"#009af9\" fill-rule=\"evenodd\" fill-opacity=\"1\"/>\n",
       "<polyline clip-path=\"url(#clip962)\" style=\"stroke:#000000; stroke-width:4; stroke-opacity:1; fill:none\" points=\"\n",
       "  694.579,376.857 694.579,1445.72 805.124,1445.72 805.124,376.857 694.579,376.857 \n",
       "  \"/>\n",
       "<path clip-path=\"url(#clip962)\" d=\"\n",
       "M805.124 1070.17 L805.124 1445.72 L915.669 1445.72 L915.669 1070.17 L805.124 1070.17 L805.124 1070.17  Z\n",
       "  \" fill=\"#009af9\" fill-rule=\"evenodd\" fill-opacity=\"1\"/>\n",
       "<polyline clip-path=\"url(#clip962)\" style=\"stroke:#000000; stroke-width:4; stroke-opacity:1; fill:none\" points=\"\n",
       "  805.124,1070.17 805.124,1445.72 915.669,1445.72 915.669,1070.17 805.124,1070.17 \n",
       "  \"/>\n",
       "<path clip-path=\"url(#clip962)\" d=\"\n",
       "M915.669 1214.61 L915.669 1445.72 L1026.21 1445.72 L1026.21 1214.61 L915.669 1214.61 L915.669 1214.61  Z\n",
       "  \" fill=\"#009af9\" fill-rule=\"evenodd\" fill-opacity=\"1\"/>\n",
       "<polyline clip-path=\"url(#clip962)\" style=\"stroke:#000000; stroke-width:4; stroke-opacity:1; fill:none\" points=\"\n",
       "  915.669,1214.61 915.669,1445.72 1026.21,1445.72 1026.21,1214.61 915.669,1214.61 \n",
       "  \"/>\n",
       "<path clip-path=\"url(#clip962)\" d=\"\n",
       "M1026.21 1301.28 L1026.21 1445.72 L1136.76 1445.72 L1136.76 1301.28 L1026.21 1301.28 L1026.21 1301.28  Z\n",
       "  \" fill=\"#009af9\" fill-rule=\"evenodd\" fill-opacity=\"1\"/>\n",
       "<polyline clip-path=\"url(#clip962)\" style=\"stroke:#000000; stroke-width:4; stroke-opacity:1; fill:none\" points=\"\n",
       "  1026.21,1301.28 1026.21,1445.72 1136.76,1445.72 1136.76,1301.28 1026.21,1301.28 \n",
       "  \"/>\n",
       "<path clip-path=\"url(#clip962)\" d=\"\n",
       "M1136.76 1214.61 L1136.76 1445.72 L1247.3 1445.72 L1247.3 1214.61 L1136.76 1214.61 L1136.76 1214.61  Z\n",
       "  \" fill=\"#009af9\" fill-rule=\"evenodd\" fill-opacity=\"1\"/>\n",
       "<polyline clip-path=\"url(#clip962)\" style=\"stroke:#000000; stroke-width:4; stroke-opacity:1; fill:none\" points=\"\n",
       "  1136.76,1214.61 1136.76,1445.72 1247.3,1445.72 1247.3,1214.61 1136.76,1214.61 \n",
       "  \"/>\n",
       "<path clip-path=\"url(#clip962)\" d=\"\n",
       "M1247.3 1272.39 L1247.3 1445.72 L1357.85 1445.72 L1357.85 1272.39 L1247.3 1272.39 L1247.3 1272.39  Z\n",
       "  \" fill=\"#009af9\" fill-rule=\"evenodd\" fill-opacity=\"1\"/>\n",
       "<polyline clip-path=\"url(#clip962)\" style=\"stroke:#000000; stroke-width:4; stroke-opacity:1; fill:none\" points=\"\n",
       "  1247.3,1272.39 1247.3,1445.72 1357.85,1445.72 1357.85,1272.39 1247.3,1272.39 \n",
       "  \"/>\n",
       "<path clip-path=\"url(#clip962)\" d=\"\n",
       "M1357.85 1416.83 L1357.85 1445.72 L1468.39 1445.72 L1468.39 1416.83 L1357.85 1416.83 L1357.85 1416.83  Z\n",
       "  \" fill=\"#009af9\" fill-rule=\"evenodd\" fill-opacity=\"1\"/>\n",
       "<polyline clip-path=\"url(#clip962)\" style=\"stroke:#000000; stroke-width:4; stroke-opacity:1; fill:none\" points=\"\n",
       "  1357.85,1416.83 1357.85,1445.72 1468.39,1445.72 1468.39,1416.83 1357.85,1416.83 \n",
       "  \"/>\n",
       "<path clip-path=\"url(#clip962)\" d=\"\n",
       "M1468.39 1359.05 L1468.39 1445.72 L1578.94 1445.72 L1578.94 1359.05 L1468.39 1359.05 L1468.39 1359.05  Z\n",
       "  \" fill=\"#009af9\" fill-rule=\"evenodd\" fill-opacity=\"1\"/>\n",
       "<polyline clip-path=\"url(#clip962)\" style=\"stroke:#000000; stroke-width:4; stroke-opacity:1; fill:none\" points=\"\n",
       "  1468.39,1359.05 1468.39,1445.72 1578.94,1445.72 1578.94,1359.05 1468.39,1359.05 \n",
       "  \"/>\n",
       "<path clip-path=\"url(#clip962)\" d=\"\n",
       "M1578.94 1445.72 L1578.94 1445.72 L1689.49 1445.72 L1689.49 1445.72 L1578.94 1445.72 L1578.94 1445.72  Z\n",
       "  \" fill=\"#009af9\" fill-rule=\"evenodd\" fill-opacity=\"1\"/>\n",
       "<polyline clip-path=\"url(#clip962)\" style=\"stroke:#000000; stroke-width:4; stroke-opacity:1; fill:none\" points=\"\n",
       "  1578.94,1445.72 1578.94,1445.72 1689.49,1445.72 1578.94,1445.72 \n",
       "  \"/>\n",
       "<path clip-path=\"url(#clip962)\" d=\"\n",
       "M1689.49 1156.83 L1689.49 1445.72 L1800.03 1445.72 L1800.03 1156.83 L1689.49 1156.83 L1689.49 1156.83  Z\n",
       "  \" fill=\"#009af9\" fill-rule=\"evenodd\" fill-opacity=\"1\"/>\n",
       "<polyline clip-path=\"url(#clip962)\" style=\"stroke:#000000; stroke-width:4; stroke-opacity:1; fill:none\" points=\"\n",
       "  1689.49,1156.83 1689.49,1445.72 1800.03,1445.72 1800.03,1156.83 1689.49,1156.83 \n",
       "  \"/>\n",
       "<path clip-path=\"url(#clip962)\" d=\"\n",
       "M1800.03 1359.05 L1800.03 1445.72 L1910.58 1445.72 L1910.58 1359.05 L1800.03 1359.05 L1800.03 1359.05  Z\n",
       "  \" fill=\"#009af9\" fill-rule=\"evenodd\" fill-opacity=\"1\"/>\n",
       "<polyline clip-path=\"url(#clip962)\" style=\"stroke:#000000; stroke-width:4; stroke-opacity:1; fill:none\" points=\"\n",
       "  1800.03,1359.05 1800.03,1445.72 1910.58,1445.72 1910.58,1359.05 1800.03,1359.05 \n",
       "  \"/>\n",
       "<path clip-path=\"url(#clip962)\" d=\"\n",
       "M1910.58 1387.94 L1910.58 1445.72 L2021.12 1445.72 L2021.12 1387.94 L1910.58 1387.94 L1910.58 1387.94  Z\n",
       "  \" fill=\"#009af9\" fill-rule=\"evenodd\" fill-opacity=\"1\"/>\n",
       "<polyline clip-path=\"url(#clip962)\" style=\"stroke:#000000; stroke-width:4; stroke-opacity:1; fill:none\" points=\"\n",
       "  1910.58,1387.94 1910.58,1445.72 2021.12,1445.72 2021.12,1387.94 1910.58,1387.94 \n",
       "  \"/>\n",
       "<path clip-path=\"url(#clip962)\" d=\"\n",
       "M2021.12 1445.72 L2021.12 1445.72 L2131.67 1445.72 L2131.67 1445.72 L2021.12 1445.72 L2021.12 1445.72  Z\n",
       "  \" fill=\"#009af9\" fill-rule=\"evenodd\" fill-opacity=\"1\"/>\n",
       "<polyline clip-path=\"url(#clip962)\" style=\"stroke:#000000; stroke-width:4; stroke-opacity:1; fill:none\" points=\"\n",
       "  2021.12,1445.72 2021.12,1445.72 2131.67,1445.72 2021.12,1445.72 \n",
       "  \"/>\n",
       "<path clip-path=\"url(#clip962)\" d=\"\n",
       "M2131.67 1387.94 L2131.67 1445.72 L2242.21 1445.72 L2242.21 1387.94 L2131.67 1387.94 L2131.67 1387.94  Z\n",
       "  \" fill=\"#009af9\" fill-rule=\"evenodd\" fill-opacity=\"1\"/>\n",
       "<polyline clip-path=\"url(#clip962)\" style=\"stroke:#000000; stroke-width:4; stroke-opacity:1; fill:none\" points=\"\n",
       "  2131.67,1387.94 2131.67,1445.72 2242.21,1445.72 2242.21,1387.94 2131.67,1387.94 \n",
       "  \"/>\n",
       "<path clip-path=\"url(#clip960)\" d=\"\n",
       "M1980.97 216.178 L2279.06 216.178 L2279.06 95.2176 L1980.97 95.2176  Z\n",
       "  \" fill=\"#ffffff\" fill-rule=\"evenodd\" fill-opacity=\"1\"/>\n",
       "<polyline clip-path=\"url(#clip960)\" style=\"stroke:#000000; stroke-width:4; stroke-opacity:1; fill:none\" points=\"\n",
       "  1980.97,216.178 2279.06,216.178 2279.06,95.2176 1980.97,95.2176 1980.97,216.178 \n",
       "  \"/>\n",
       "<path clip-path=\"url(#clip960)\" d=\"\n",
       "M2005.54 179.89 L2152.93 179.89 L2152.93 131.506 L2005.54 131.506 L2005.54 179.89  Z\n",
       "  \" fill=\"#009af9\" fill-rule=\"evenodd\" fill-opacity=\"1\"/>\n",
       "<polyline clip-path=\"url(#clip960)\" style=\"stroke:#000000; stroke-width:4; stroke-opacity:1; fill:none\" points=\"\n",
       "  2005.54,179.89 2152.93,179.89 2152.93,131.506 2005.54,131.506 2005.54,179.89 \n",
       "  \"/>\n",
       "<path clip-path=\"url(#clip960)\" d=\"M 0 0 M2191.34 175.385 Q2189.53 180.015 2187.82 181.427 Q2186.11 182.839 2183.24 182.839 L2179.84 182.839 L2179.84 179.274 L2182.34 179.274 Q2184.09 179.274 2185.07 178.44 Q2186.04 177.607 2187.22 174.505 L2187.98 172.561 L2177.5 147.052 L2182.01 147.052 L2190.11 167.329 L2198.22 147.052 L2202.73 147.052 L2191.34 175.385 Z\" fill=\"#000000\" fill-rule=\"evenodd\" fill-opacity=\"1\" /><path clip-path=\"url(#clip960)\" d=\"M 0 0 M2210.02 169.042 L2217.66 169.042 L2217.66 142.677 L2209.35 144.343 L2209.35 140.084 L2217.61 138.418 L2222.29 138.418 L2222.29 169.042 L2229.93 169.042 L2229.93 172.978 L2210.02 172.978 L2210.02 169.042 Z\" fill=\"#000000\" fill-rule=\"evenodd\" fill-opacity=\"1\" /></svg>\n"
      ]
     },
     "execution_count": 186,
     "metadata": {},
     "output_type": "execute_result"
    }
   ],
   "source": [
    "histogram(y,xlim=(40,80))"
   ]
  },
  {
   "cell_type": "code",
   "execution_count": 73,
   "metadata": {
    "scrolled": true
   },
   "outputs": [
    {
     "name": "stdout",
     "output_type": "stream",
     "text": [
      "search: \u001b[0m\u001b[1mS\u001b[22m\u001b[0m\u001b[1mt\u001b[22m\u001b[0m\u001b[1ma\u001b[22m\u001b[0m\u001b[1mb\u001b[22m\u001b[0m\u001b[1ml\u001b[22m\u001b[0m\u001b[1me\u001b[22m\u001b[0m\u001b[1mR\u001b[22m\u001b[0m\u001b[1mN\u001b[22m\u001b[0m\u001b[1mG\u001b[22m \u001b[0m\u001b[1mS\u001b[22m\u001b[0m\u001b[1mt\u001b[22m\u001b[0m\u001b[1ma\u001b[22m\u001b[0m\u001b[1mb\u001b[22m\u001b[0m\u001b[1ml\u001b[22m\u001b[0m\u001b[1me\u001b[22m\u001b[0m\u001b[1mR\u001b[22m\u001b[0m\u001b[1mN\u001b[22m\u001b[0m\u001b[1mG\u001b[22ms di\u001b[0m\u001b[1ms\u001b[22m\u001b[0m\u001b[1mt\u001b[22minguish\u001b[0m\u001b[1ma\u001b[22m\u001b[0m\u001b[1mb\u001b[22m\u001b[0m\u001b[1ml\u001b[22m\u001b[0m\u001b[1me\u001b[22m_colo\u001b[0m\u001b[1mr\u001b[22ms\n",
      "\n"
     ]
    },
    {
     "data": {
      "text/latex": [
       "\\begin{verbatim}\n",
       "LehmerRNG\n",
       "StableRNG\n",
       "\\end{verbatim}\n",
       "Simple RNG with stable streams, usually suitable for testing. Use only the alias \\texttt{StableRNG}, as the name \\texttt{LehmerRNG} is not part of the API.\n",
       "\n",
       "Construction: \\texttt{StableRNG(seed::Integer)}.\n",
       "\n",
       "Seeding: \\texttt{Random.seed!(rng::StableRNG, seed::Integer)}.\n",
       "\n"
      ],
      "text/markdown": [
       "```\n",
       "LehmerRNG\n",
       "StableRNG\n",
       "```\n",
       "\n",
       "Simple RNG with stable streams, usually suitable for testing. Use only the alias `StableRNG`, as the name `LehmerRNG` is not part of the API.\n",
       "\n",
       "Construction: `StableRNG(seed::Integer)`.\n",
       "\n",
       "Seeding: `Random.seed!(rng::StableRNG, seed::Integer)`.\n"
      ],
      "text/plain": [
       "\u001b[36m  LehmerRNG\u001b[39m\n",
       "\u001b[36m  StableRNG\u001b[39m\n",
       "\n",
       "  Simple RNG with stable streams, usually suitable for testing. Use only the\n",
       "  alias \u001b[36mStableRNG\u001b[39m, as the name \u001b[36mLehmerRNG\u001b[39m is not part of the API.\n",
       "\n",
       "  Construction: \u001b[36mStableRNG(seed::Integer)\u001b[39m.\n",
       "\n",
       "  Seeding: \u001b[36mRandom.seed!(rng::StableRNG, seed::Integer)\u001b[39m."
      ]
     },
     "execution_count": 73,
     "metadata": {},
     "output_type": "execute_result"
    }
   ],
   "source": [
    "?StableRNG"
   ]
  },
  {
   "cell_type": "code",
   "execution_count": 132,
   "metadata": {},
   "outputs": [
    {
     "data": {
      "text/plain": [
       "StableRNGs.LehmerRNG(state=0x00000000000000000000000000000003)"
      ]
     },
     "execution_count": 132,
     "metadata": {},
     "output_type": "execute_result"
    }
   ],
   "source": [
    "StableRNG(1)"
   ]
  },
  {
   "cell_type": "code",
   "execution_count": 135,
   "metadata": {},
   "outputs": [
    {
     "data": {
      "text/plain": [
       "([69, 182, 196, 11, 30, 155, 186, 28, 119, 199  …  66, 176, 131, 148, 27, 35, 87, 71, 149, 108], [93, 7, 34, 1, 165, 147, 95, 106, 103, 99  …  184, 49, 18, 115, 25, 161, 142, 117, 179, 84])"
      ]
     },
     "execution_count": 135,
     "metadata": {},
     "output_type": "execute_result"
    }
   ],
   "source": [
    "train,test = partition(1:length(y),0.75,shuffle=true,rng=StableRNG(1))"
   ]
  },
  {
   "cell_type": "code",
   "execution_count": 136,
   "metadata": {},
   "outputs": [],
   "source": [
    "using StatsPlots"
   ]
  },
  {
   "cell_type": "code",
   "execution_count": 137,
   "metadata": {},
   "outputs": [
    {
     "data": {
      "image/svg+xml": [
       "<?xml version=\"1.0\" encoding=\"utf-8\"?>\n",
       "<svg xmlns=\"http://www.w3.org/2000/svg\" xmlns:xlink=\"http://www.w3.org/1999/xlink\" width=\"600\" height=\"400\" viewBox=\"0 0 2400 1600\">\n",
       "<defs>\n",
       "  <clipPath id=\"clip800\">\n",
       "    <rect x=\"0\" y=\"0\" width=\"2400\" height=\"1600\"/>\n",
       "  </clipPath>\n",
       "</defs>\n",
       "<path clip-path=\"url(#clip800)\" d=\"\n",
       "M0 1600 L2400 1600 L2400 0 L0 0  Z\n",
       "  \" fill=\"#ffffff\" fill-rule=\"evenodd\" fill-opacity=\"1\"/>\n",
       "<defs>\n",
       "  <clipPath id=\"clip801\">\n",
       "    <rect x=\"480\" y=\"0\" width=\"1681\" height=\"1600\"/>\n",
       "  </clipPath>\n",
       "</defs>\n",
       "<path clip-path=\"url(#clip800)\" d=\"\n",
       "M141.853 1486.45 L1152.76 1486.45 L1152.76 47.2441 L141.853 47.2441  Z\n",
       "  \" fill=\"#ffffff\" fill-rule=\"evenodd\" fill-opacity=\"1\"/>\n",
       "<defs>\n",
       "  <clipPath id=\"clip802\">\n",
       "    <rect x=\"141\" y=\"47\" width=\"1012\" height=\"1440\"/>\n",
       "  </clipPath>\n",
       "</defs>\n",
       "<polyline clip-path=\"url(#clip802)\" style=\"stroke:#000000; stroke-width:2; stroke-opacity:0.1; fill:none\" points=\"\n",
       "  170.463,1486.45 170.463,47.2441 \n",
       "  \"/>\n",
       "<polyline clip-path=\"url(#clip802)\" style=\"stroke:#000000; stroke-width:2; stroke-opacity:0.1; fill:none\" points=\"\n",
       "  408.884,1486.45 408.884,47.2441 \n",
       "  \"/>\n",
       "<polyline clip-path=\"url(#clip802)\" style=\"stroke:#000000; stroke-width:2; stroke-opacity:0.1; fill:none\" points=\"\n",
       "  647.304,1486.45 647.304,47.2441 \n",
       "  \"/>\n",
       "<polyline clip-path=\"url(#clip802)\" style=\"stroke:#000000; stroke-width:2; stroke-opacity:0.1; fill:none\" points=\"\n",
       "  885.725,1486.45 885.725,47.2441 \n",
       "  \"/>\n",
       "<polyline clip-path=\"url(#clip802)\" style=\"stroke:#000000; stroke-width:2; stroke-opacity:0.1; fill:none\" points=\"\n",
       "  1124.15,1486.45 1124.15,47.2441 \n",
       "  \"/>\n",
       "<polyline clip-path=\"url(#clip800)\" style=\"stroke:#000000; stroke-width:4; stroke-opacity:1; fill:none\" points=\"\n",
       "  141.853,1486.45 1152.76,1486.45 \n",
       "  \"/>\n",
       "<polyline clip-path=\"url(#clip800)\" style=\"stroke:#000000; stroke-width:4; stroke-opacity:1; fill:none\" points=\"\n",
       "  170.463,1486.45 170.463,1469.18 \n",
       "  \"/>\n",
       "<polyline clip-path=\"url(#clip800)\" style=\"stroke:#000000; stroke-width:4; stroke-opacity:1; fill:none\" points=\"\n",
       "  408.884,1486.45 408.884,1469.18 \n",
       "  \"/>\n",
       "<polyline clip-path=\"url(#clip800)\" style=\"stroke:#000000; stroke-width:4; stroke-opacity:1; fill:none\" points=\"\n",
       "  647.304,1486.45 647.304,1469.18 \n",
       "  \"/>\n",
       "<polyline clip-path=\"url(#clip800)\" style=\"stroke:#000000; stroke-width:4; stroke-opacity:1; fill:none\" points=\"\n",
       "  885.725,1486.45 885.725,1469.18 \n",
       "  \"/>\n",
       "<polyline clip-path=\"url(#clip800)\" style=\"stroke:#000000; stroke-width:4; stroke-opacity:1; fill:none\" points=\"\n",
       "  1124.15,1486.45 1124.15,1469.18 \n",
       "  \"/>\n",
       "<path clip-path=\"url(#clip800)\" d=\"M 0 0 M147.767 1515.64 Q144.156 1515.64 142.327 1519.2 Q140.521 1522.75 140.521 1529.87 Q140.521 1536.98 142.327 1540.55 Q144.156 1544.09 147.767 1544.09 Q151.401 1544.09 153.207 1540.55 Q155.035 1536.98 155.035 1529.87 Q155.035 1522.75 153.207 1519.2 Q151.401 1515.64 147.767 1515.64 M147.767 1511.93 Q153.577 1511.93 156.632 1516.54 Q159.711 1521.12 159.711 1529.87 Q159.711 1538.6 156.632 1543.21 Q153.577 1547.79 147.767 1547.79 Q141.957 1547.79 138.878 1543.21 Q135.822 1538.6 135.822 1529.87 Q135.822 1521.12 138.878 1516.54 Q141.957 1511.93 147.767 1511.93 Z\" fill=\"#000000\" fill-rule=\"evenodd\" fill-opacity=\"1\" /><path clip-path=\"url(#clip800)\" d=\"M 0 0 M167.929 1541.24 L172.813 1541.24 L172.813 1547.12 L167.929 1547.12 L167.929 1541.24 Z\" fill=\"#000000\" fill-rule=\"evenodd\" fill-opacity=\"1\" /><path clip-path=\"url(#clip800)\" d=\"M 0 0 M193.577 1527.98 Q190.429 1527.98 188.577 1530.13 Q186.748 1532.28 186.748 1536.03 Q186.748 1539.76 188.577 1541.93 Q190.429 1544.09 193.577 1544.09 Q196.725 1544.09 198.554 1541.93 Q200.405 1539.76 200.405 1536.03 Q200.405 1532.28 198.554 1530.13 Q196.725 1527.98 193.577 1527.98 M202.859 1513.32 L202.859 1517.58 Q201.1 1516.75 199.294 1516.31 Q197.512 1515.87 195.753 1515.87 Q191.123 1515.87 188.669 1519 Q186.239 1522.12 185.892 1528.44 Q187.257 1526.43 189.317 1525.36 Q191.378 1524.27 193.854 1524.27 Q199.063 1524.27 202.072 1527.44 Q205.104 1530.59 205.104 1536.03 Q205.104 1541.36 201.956 1544.57 Q198.808 1547.79 193.577 1547.79 Q187.581 1547.79 184.41 1543.21 Q181.239 1538.6 181.239 1529.87 Q181.239 1521.68 185.128 1516.82 Q189.017 1511.93 195.567 1511.93 Q197.327 1511.93 199.109 1512.28 Q200.915 1512.63 202.859 1513.32 Z\" fill=\"#000000\" fill-rule=\"evenodd\" fill-opacity=\"1\" /><path clip-path=\"url(#clip800)\" d=\"M 0 0 M386.315 1515.64 Q382.703 1515.64 380.875 1519.2 Q379.069 1522.75 379.069 1529.87 Q379.069 1536.98 380.875 1540.55 Q382.703 1544.09 386.315 1544.09 Q389.949 1544.09 391.754 1540.55 Q393.583 1536.98 393.583 1529.87 Q393.583 1522.75 391.754 1519.2 Q389.949 1515.64 386.315 1515.64 M386.315 1511.93 Q392.125 1511.93 395.18 1516.54 Q398.259 1521.12 398.259 1529.87 Q398.259 1538.6 395.18 1543.21 Q392.125 1547.79 386.315 1547.79 Q380.504 1547.79 377.426 1543.21 Q374.37 1538.6 374.37 1529.87 Q374.37 1521.12 377.426 1516.54 Q380.504 1511.93 386.315 1511.93 Z\" fill=\"#000000\" fill-rule=\"evenodd\" fill-opacity=\"1\" /><path clip-path=\"url(#clip800)\" d=\"M 0 0 M406.477 1541.24 L411.361 1541.24 L411.361 1547.12 L406.477 1547.12 L406.477 1541.24 Z\" fill=\"#000000\" fill-rule=\"evenodd\" fill-opacity=\"1\" /><path clip-path=\"url(#clip800)\" d=\"M 0 0 M431.546 1530.71 Q428.213 1530.71 426.291 1532.49 Q424.393 1534.27 424.393 1537.4 Q424.393 1540.52 426.291 1542.31 Q428.213 1544.09 431.546 1544.09 Q434.879 1544.09 436.8 1542.31 Q438.722 1540.5 438.722 1537.4 Q438.722 1534.27 436.8 1532.49 Q434.902 1530.71 431.546 1530.71 M426.87 1528.72 Q423.861 1527.98 422.171 1525.92 Q420.504 1523.86 420.504 1520.89 Q420.504 1516.75 423.444 1514.34 Q426.407 1511.93 431.546 1511.93 Q436.708 1511.93 439.648 1514.34 Q442.587 1516.75 442.587 1520.89 Q442.587 1523.86 440.898 1525.92 Q439.231 1527.98 436.245 1528.72 Q439.624 1529.5 441.499 1531.8 Q443.398 1534.09 443.398 1537.4 Q443.398 1542.42 440.319 1545.11 Q437.263 1547.79 431.546 1547.79 Q425.828 1547.79 422.75 1545.11 Q419.694 1542.42 419.694 1537.4 Q419.694 1534.09 421.592 1531.8 Q423.49 1529.5 426.87 1528.72 M425.157 1521.33 Q425.157 1524.02 426.824 1525.52 Q428.513 1527.03 431.546 1527.03 Q434.555 1527.03 436.245 1525.52 Q437.958 1524.02 437.958 1521.33 Q437.958 1518.65 436.245 1517.14 Q434.555 1515.64 431.546 1515.64 Q428.513 1515.64 426.824 1517.14 Q425.157 1518.65 425.157 1521.33 Z\" fill=\"#000000\" fill-rule=\"evenodd\" fill-opacity=\"1\" /><path clip-path=\"url(#clip800)\" d=\"M 0 0 M614.457 1543.18 L622.096 1543.18 L622.096 1516.82 L613.786 1518.49 L613.786 1514.23 L622.05 1512.56 L626.726 1512.56 L626.726 1543.18 L634.365 1543.18 L634.365 1547.12 L614.457 1547.12 L614.457 1543.18 Z\" fill=\"#000000\" fill-rule=\"evenodd\" fill-opacity=\"1\" /><path clip-path=\"url(#clip800)\" d=\"M 0 0 M643.809 1541.24 L648.693 1541.24 L648.693 1547.12 L643.809 1547.12 L643.809 1541.24 Z\" fill=\"#000000\" fill-rule=\"evenodd\" fill-opacity=\"1\" /><path clip-path=\"url(#clip800)\" d=\"M 0 0 M668.878 1515.64 Q665.267 1515.64 663.439 1519.2 Q661.633 1522.75 661.633 1529.87 Q661.633 1536.98 663.439 1540.55 Q665.267 1544.09 668.878 1544.09 Q672.513 1544.09 674.318 1540.55 Q676.147 1536.98 676.147 1529.87 Q676.147 1522.75 674.318 1519.2 Q672.513 1515.64 668.878 1515.64 M668.878 1511.93 Q674.689 1511.93 677.744 1516.54 Q680.823 1521.12 680.823 1529.87 Q680.823 1538.6 677.744 1543.21 Q674.689 1547.79 668.878 1547.79 Q663.068 1547.79 659.99 1543.21 Q656.934 1538.6 656.934 1529.87 Q656.934 1521.12 659.99 1516.54 Q663.068 1511.93 668.878 1511.93 Z\" fill=\"#000000\" fill-rule=\"evenodd\" fill-opacity=\"1\" /><path clip-path=\"url(#clip800)\" d=\"M 0 0 M853.676 1543.18 L861.315 1543.18 L861.315 1516.82 L853.005 1518.49 L853.005 1514.23 L861.269 1512.56 L865.945 1512.56 L865.945 1543.18 L873.584 1543.18 L873.584 1547.12 L853.676 1547.12 L853.676 1543.18 Z\" fill=\"#000000\" fill-rule=\"evenodd\" fill-opacity=\"1\" /><path clip-path=\"url(#clip800)\" d=\"M 0 0 M883.028 1541.24 L887.912 1541.24 L887.912 1547.12 L883.028 1547.12 L883.028 1541.24 Z\" fill=\"#000000\" fill-rule=\"evenodd\" fill-opacity=\"1\" /><path clip-path=\"url(#clip800)\" d=\"M 0 0 M902.125 1543.18 L918.445 1543.18 L918.445 1547.12 L896.5 1547.12 L896.5 1543.18 Q899.162 1540.43 903.746 1535.8 Q908.352 1531.15 909.533 1529.81 Q911.778 1527.28 912.658 1525.55 Q913.56 1523.79 913.56 1522.1 Q913.56 1519.34 911.616 1517.61 Q909.695 1515.87 906.593 1515.87 Q904.394 1515.87 901.94 1516.63 Q899.51 1517.4 896.732 1518.95 L896.732 1514.23 Q899.556 1513.09 902.01 1512.51 Q904.463 1511.93 906.5 1511.93 Q911.871 1511.93 915.065 1514.62 Q918.259 1517.31 918.259 1521.8 Q918.259 1523.93 917.449 1525.85 Q916.662 1527.74 914.556 1530.34 Q913.977 1531.01 910.875 1534.23 Q907.773 1537.42 902.125 1543.18 Z\" fill=\"#000000\" fill-rule=\"evenodd\" fill-opacity=\"1\" /><path clip-path=\"url(#clip800)\" d=\"M 0 0 M1091.06 1543.18 L1098.69 1543.18 L1098.69 1516.82 L1090.38 1518.49 L1090.38 1514.23 L1098.65 1512.56 L1103.32 1512.56 L1103.32 1543.18 L1110.96 1543.18 L1110.96 1547.12 L1091.06 1547.12 L1091.06 1543.18 Z\" fill=\"#000000\" fill-rule=\"evenodd\" fill-opacity=\"1\" /><path clip-path=\"url(#clip800)\" d=\"M 0 0 M1120.41 1541.24 L1125.29 1541.24 L1125.29 1547.12 L1120.41 1547.12 L1120.41 1541.24 Z\" fill=\"#000000\" fill-rule=\"evenodd\" fill-opacity=\"1\" /><path clip-path=\"url(#clip800)\" d=\"M 0 0 M1148.32 1516.63 L1136.52 1535.08 L1148.32 1535.08 L1148.32 1516.63 M1147.1 1512.56 L1152.98 1512.56 L1152.98 1535.08 L1157.91 1535.08 L1157.91 1538.97 L1152.98 1538.97 L1152.98 1547.12 L1148.32 1547.12 L1148.32 1538.97 L1132.72 1538.97 L1132.72 1534.46 L1147.1 1512.56 Z\" fill=\"#000000\" fill-rule=\"evenodd\" fill-opacity=\"1\" /><polyline clip-path=\"url(#clip802)\" style=\"stroke:#000000; stroke-width:2; stroke-opacity:0.1; fill:none\" points=\"\n",
       "  141.853,1486.45 1152.76,1486.45 \n",
       "  \"/>\n",
       "<polyline clip-path=\"url(#clip802)\" style=\"stroke:#000000; stroke-width:2; stroke-opacity:0.1; fill:none\" points=\"\n",
       "  141.853,1126.65 1152.76,1126.65 \n",
       "  \"/>\n",
       "<polyline clip-path=\"url(#clip802)\" style=\"stroke:#000000; stroke-width:2; stroke-opacity:0.1; fill:none\" points=\"\n",
       "  141.853,766.846 1152.76,766.846 \n",
       "  \"/>\n",
       "<polyline clip-path=\"url(#clip802)\" style=\"stroke:#000000; stroke-width:2; stroke-opacity:0.1; fill:none\" points=\"\n",
       "  141.853,407.045 1152.76,407.045 \n",
       "  \"/>\n",
       "<polyline clip-path=\"url(#clip802)\" style=\"stroke:#000000; stroke-width:2; stroke-opacity:0.1; fill:none\" points=\"\n",
       "  141.853,47.2441 1152.76,47.2441 \n",
       "  \"/>\n",
       "<polyline clip-path=\"url(#clip800)\" style=\"stroke:#000000; stroke-width:4; stroke-opacity:1; fill:none\" points=\"\n",
       "  141.853,1486.45 141.853,47.2441 \n",
       "  \"/>\n",
       "<polyline clip-path=\"url(#clip800)\" style=\"stroke:#000000; stroke-width:4; stroke-opacity:1; fill:none\" points=\"\n",
       "  141.853,1486.45 153.984,1486.45 \n",
       "  \"/>\n",
       "<polyline clip-path=\"url(#clip800)\" style=\"stroke:#000000; stroke-width:4; stroke-opacity:1; fill:none\" points=\"\n",
       "  141.853,1126.65 153.984,1126.65 \n",
       "  \"/>\n",
       "<polyline clip-path=\"url(#clip800)\" style=\"stroke:#000000; stroke-width:4; stroke-opacity:1; fill:none\" points=\"\n",
       "  141.853,766.846 153.984,766.846 \n",
       "  \"/>\n",
       "<polyline clip-path=\"url(#clip800)\" style=\"stroke:#000000; stroke-width:4; stroke-opacity:1; fill:none\" points=\"\n",
       "  141.853,407.045 153.984,407.045 \n",
       "  \"/>\n",
       "<polyline clip-path=\"url(#clip800)\" style=\"stroke:#000000; stroke-width:4; stroke-opacity:1; fill:none\" points=\"\n",
       "  141.853,47.2441 153.984,47.2441 \n",
       "  \"/>\n",
       "<path clip-path=\"url(#clip800)\" d=\"M 0 0 M66.5939 1473.24 L54.7884 1491.69 L66.5939 1491.69 L66.5939 1473.24 M65.367 1469.17 L71.2466 1469.17 L71.2466 1491.69 L76.1772 1491.69 L76.1772 1495.58 L71.2466 1495.58 L71.2466 1503.73 L66.5939 1503.73 L66.5939 1495.58 L50.9921 1495.58 L50.9921 1491.07 L65.367 1469.17 Z\" fill=\"#000000\" fill-rule=\"evenodd\" fill-opacity=\"1\" /><path clip-path=\"url(#clip800)\" d=\"M 0 0 M93.9086 1472.25 Q90.2975 1472.25 88.4688 1475.81 Q86.6632 1479.35 86.6632 1486.48 Q86.6632 1493.59 88.4688 1497.15 Q90.2975 1500.7 93.9086 1500.7 Q97.5428 1500.7 99.3483 1497.15 Q101.177 1493.59 101.177 1486.48 Q101.177 1479.35 99.3483 1475.81 Q97.5428 1472.25 93.9086 1472.25 M93.9086 1468.54 Q99.7187 1468.54 102.774 1473.15 Q105.853 1477.73 105.853 1486.48 Q105.853 1495.21 102.774 1499.82 Q99.7187 1504.4 93.9086 1504.4 Q88.0984 1504.4 85.0197 1499.82 Q81.9642 1495.21 81.9642 1486.48 Q81.9642 1477.73 85.0197 1473.15 Q88.0984 1468.54 93.9086 1468.54 Z\" fill=\"#000000\" fill-rule=\"evenodd\" fill-opacity=\"1\" /><path clip-path=\"url(#clip800)\" d=\"M 0 0 M53.793 1109.37 L72.1494 1109.37 L72.1494 1113.3 L58.0754 1113.3 L58.0754 1121.77 Q59.0939 1121.43 60.1124 1121.27 Q61.131 1121.08 62.1495 1121.08 Q67.9365 1121.08 71.3161 1124.25 Q74.6957 1127.42 74.6957 1132.84 Q74.6957 1138.42 71.2235 1141.52 Q67.7513 1144.6 61.4319 1144.6 Q59.256 1144.6 56.9875 1144.23 Q54.7421 1143.86 52.3347 1143.12 L52.3347 1138.42 Q54.418 1139.55 56.6402 1140.11 Q58.8625 1140.66 61.3393 1140.66 Q65.3439 1140.66 67.6819 1138.56 Q70.0198 1136.45 70.0198 1132.84 Q70.0198 1129.23 67.6819 1127.12 Q65.3439 1125.01 61.3393 1125.01 Q59.4643 1125.01 57.5893 1125.43 Q55.7375 1125.85 53.793 1126.73 L53.793 1109.37 Z\" fill=\"#000000\" fill-rule=\"evenodd\" fill-opacity=\"1\" /><path clip-path=\"url(#clip800)\" d=\"M 0 0 M93.9086 1112.45 Q90.2975 1112.45 88.4688 1116.01 Q86.6632 1119.55 86.6632 1126.68 Q86.6632 1133.79 88.4688 1137.35 Q90.2975 1140.89 93.9086 1140.89 Q97.5428 1140.89 99.3483 1137.35 Q101.177 1133.79 101.177 1126.68 Q101.177 1119.55 99.3483 1116.01 Q97.5428 1112.45 93.9086 1112.45 M93.9086 1108.74 Q99.7187 1108.74 102.774 1113.35 Q105.853 1117.93 105.853 1126.68 Q105.853 1135.41 102.774 1140.01 Q99.7187 1144.6 93.9086 1144.6 Q88.0984 1144.6 85.0197 1140.01 Q81.9642 1135.41 81.9642 1126.68 Q81.9642 1117.93 85.0197 1113.35 Q88.0984 1108.74 93.9086 1108.74 Z\" fill=\"#000000\" fill-rule=\"evenodd\" fill-opacity=\"1\" /><path clip-path=\"url(#clip800)\" d=\"M 0 0 M64.3254 764.983 Q61.1773 764.983 59.3254 767.135 Q57.4967 769.288 57.4967 773.038 Q57.4967 776.765 59.3254 778.941 Q61.1773 781.094 64.3254 781.094 Q67.4735 781.094 69.3022 778.941 Q71.1541 776.765 71.1541 773.038 Q71.1541 769.288 69.3022 767.135 Q67.4735 764.983 64.3254 764.983 M73.6077 750.33 L73.6077 754.589 Q71.8485 753.756 70.0429 753.316 Q68.2606 752.876 66.5013 752.876 Q61.8717 752.876 59.418 756.001 Q56.9875 759.126 56.6402 765.446 Q58.006 763.432 60.0662 762.367 Q62.1263 761.279 64.6032 761.279 Q69.8115 761.279 72.8207 764.45 Q75.8531 767.598 75.8531 773.038 Q75.8531 778.362 72.705 781.58 Q69.5568 784.797 64.3254 784.797 Q58.33 784.797 55.1588 780.214 Q51.9875 775.608 51.9875 766.881 Q51.9875 758.686 55.8764 753.825 Q59.7652 748.941 66.3161 748.941 Q68.0754 748.941 69.8578 749.288 Q71.6633 749.635 73.6077 750.33 Z\" fill=\"#000000\" fill-rule=\"evenodd\" fill-opacity=\"1\" /><path clip-path=\"url(#clip800)\" d=\"M 0 0 M93.9086 752.645 Q90.2975 752.645 88.4688 756.209 Q86.6632 759.751 86.6632 766.881 Q86.6632 773.987 88.4688 777.552 Q90.2975 781.094 93.9086 781.094 Q97.5428 781.094 99.3483 777.552 Q101.177 773.987 101.177 766.881 Q101.177 759.751 99.3483 756.209 Q97.5428 752.645 93.9086 752.645 M93.9086 748.941 Q99.7187 748.941 102.774 753.547 Q105.853 758.131 105.853 766.881 Q105.853 775.608 102.774 780.214 Q99.7187 784.797 93.9086 784.797 Q88.0984 784.797 85.0197 780.214 Q81.9642 775.608 81.9642 766.881 Q81.9642 758.131 85.0197 753.547 Q88.0984 748.941 93.9086 748.941 Z\" fill=\"#000000\" fill-rule=\"evenodd\" fill-opacity=\"1\" /><path clip-path=\"url(#clip800)\" d=\"M 0 0 M52.5662 389.765 L74.7883 389.765 L74.7883 391.756 L62.2421 424.325 L57.3578 424.325 L69.1633 393.7 L52.5662 393.7 L52.5662 389.765 Z\" fill=\"#000000\" fill-rule=\"evenodd\" fill-opacity=\"1\" /><path clip-path=\"url(#clip800)\" d=\"M 0 0 M93.9086 392.844 Q90.2975 392.844 88.4688 396.409 Q86.6632 399.95 86.6632 407.08 Q86.6632 414.186 88.4688 417.751 Q90.2975 421.293 93.9086 421.293 Q97.5428 421.293 99.3483 417.751 Q101.177 414.186 101.177 407.08 Q101.177 399.95 99.3483 396.409 Q97.5428 392.844 93.9086 392.844 M93.9086 389.14 Q99.7187 389.14 102.774 393.746 Q105.853 398.33 105.853 407.08 Q105.853 415.807 102.774 420.413 Q99.7187 424.996 93.9086 424.996 Q88.0984 424.996 85.0197 420.413 Q81.9642 415.807 81.9642 407.08 Q81.9642 398.33 85.0197 393.746 Q88.0984 389.14 93.9086 389.14 Z\" fill=\"#000000\" fill-rule=\"evenodd\" fill-opacity=\"1\" /><path clip-path=\"url(#clip800)\" d=\"M 0 0 M63.7467 48.1121 Q60.4134 48.1121 58.4921 49.8945 Q56.5939 51.6769 56.5939 54.8019 Q56.5939 57.9269 58.4921 59.7093 Q60.4134 61.4917 63.7467 61.4917 Q67.08 61.4917 69.0013 59.7093 Q70.9226 57.9038 70.9226 54.8019 Q70.9226 51.6769 69.0013 49.8945 Q67.1032 48.1121 63.7467 48.1121 M59.0708 46.1214 Q56.0615 45.3807 54.3717 43.3205 Q52.7051 41.2603 52.7051 38.2974 Q52.7051 34.1539 55.6449 31.7465 Q58.6078 29.3391 63.7467 29.3391 Q68.9087 29.3391 71.8485 31.7465 Q74.7883 34.1539 74.7883 38.2974 Q74.7883 41.2603 73.0985 43.3205 Q71.4318 45.3807 68.4457 46.1214 Q71.8253 46.9084 73.7003 49.2001 Q75.5985 51.4918 75.5985 54.8019 Q75.5985 59.825 72.5198 62.5102 Q69.4642 65.1954 63.7467 65.1954 Q58.0291 65.1954 54.9504 62.5102 Q51.8949 59.825 51.8949 54.8019 Q51.8949 51.4918 53.793 49.2001 Q55.6912 46.9084 59.0708 46.1214 M57.3578 38.7372 Q57.3578 41.4224 59.0245 42.927 Q60.7143 44.4316 63.7467 44.4316 Q66.7559 44.4316 68.4457 42.927 Q70.1587 41.4224 70.1587 38.7372 Q70.1587 36.052 68.4457 34.5474 Q66.7559 33.0428 63.7467 33.0428 Q60.7143 33.0428 59.0245 34.5474 Q57.3578 36.052 57.3578 38.7372 Z\" fill=\"#000000\" fill-rule=\"evenodd\" fill-opacity=\"1\" /><path clip-path=\"url(#clip800)\" d=\"M 0 0 M93.9086 33.0428 Q90.2975 33.0428 88.4688 36.6076 Q86.6632 40.1492 86.6632 47.2788 Q86.6632 54.3853 88.4688 57.9501 Q90.2975 61.4917 93.9086 61.4917 Q97.5428 61.4917 99.3483 57.9501 Q101.177 54.3853 101.177 47.2788 Q101.177 40.1492 99.3483 36.6076 Q97.5428 33.0428 93.9086 33.0428 M93.9086 29.3391 Q99.7187 29.3391 102.774 33.9456 Q105.853 38.5289 105.853 47.2788 Q105.853 56.0056 102.774 60.6121 Q99.7187 65.1954 93.9086 65.1954 Q88.0984 65.1954 85.0197 60.6121 Q81.9642 56.0056 81.9642 47.2788 Q81.9642 38.5289 85.0197 33.9456 Q88.0984 29.3391 93.9086 29.3391 Z\" fill=\"#000000\" fill-rule=\"evenodd\" fill-opacity=\"1\" /><path clip-path=\"url(#clip802)\" d=\"\n",
       "M647.304 1342.53 L408.884 1342.53 L885.725 1342.53 L647.304 1342.53 L647.304 1234.59 L647.304 1342.53  Z\n",
       "  \" fill=\"#009af9\" fill-rule=\"evenodd\" fill-opacity=\"1\"/>\n",
       "<polyline clip-path=\"url(#clip802)\" style=\"stroke:#000000; stroke-width:4; stroke-opacity:1; fill:none\" points=\"\n",
       "  647.304,1342.53 408.884,1342.53 885.725,1342.53 647.304,1342.53 647.304,1234.59 647.304,1342.53 \n",
       "  \"/>\n",
       "<path clip-path=\"url(#clip802)\" d=\"\n",
       "M1124.15 1234.59 L1124.15 1162.63 L170.463 1162.63 L170.463 1234.59 L1124.15 1234.59 L1124.15 1162.63 L1124.15 1234.59  Z\n",
       "  \" fill=\"#009af9\" fill-rule=\"evenodd\" fill-opacity=\"1\"/>\n",
       "<polyline clip-path=\"url(#clip802)\" style=\"stroke:#000000; stroke-width:4; stroke-opacity:1; fill:none\" points=\"\n",
       "  1124.15,1234.59 1124.15,1162.63 170.463,1162.63 170.463,1234.59 1124.15,1234.59 1124.15,1162.63 1124.15,1234.59 \n",
       "  \"/>\n",
       "<path clip-path=\"url(#clip802)\" d=\"\n",
       "M1124.15 1054.69 L170.463 1054.69 L170.463 1162.63 L1124.15 1162.63 L1124.15 1054.69 L647.304 1054.69 L1124.15 1054.69  Z\n",
       "  \" fill=\"#009af9\" fill-rule=\"evenodd\" fill-opacity=\"1\"/>\n",
       "<polyline clip-path=\"url(#clip802)\" style=\"stroke:#000000; stroke-width:4; stroke-opacity:1; fill:none\" points=\"\n",
       "  1124.15,1054.69 170.463,1054.69 170.463,1162.63 1124.15,1162.63 1124.15,1054.69 647.304,1054.69 1124.15,1054.69 \n",
       "  \"/>\n",
       "<path clip-path=\"url(#clip802)\" d=\"\n",
       "M647.304 802.826 L408.884 802.826 L885.725 802.826 L647.304 802.826 L647.304 1054.69 L647.304 802.826  Z\n",
       "  \" fill=\"#009af9\" fill-rule=\"evenodd\" fill-opacity=\"1\"/>\n",
       "<polyline clip-path=\"url(#clip802)\" style=\"stroke:#000000; stroke-width:4; stroke-opacity:1; fill:none\" points=\"\n",
       "  647.304,802.826 408.884,802.826 885.725,802.826 647.304,802.826 647.304,1054.69 647.304,802.826 \n",
       "  \"/>\n",
       "<circle clip-path=\"url(#clip802)\" cx=\"647.304\" cy=\"479.005\" r=\"14\" fill=\"#009af9\" fill-rule=\"evenodd\" fill-opacity=\"1\" stroke=\"#000000\" stroke-opacity=\"1\" stroke-width=\"3.2\"/>\n",
       "<circle clip-path=\"url(#clip802)\" cx=\"647.304\" cy=\"730.866\" r=\"14\" fill=\"#009af9\" fill-rule=\"evenodd\" fill-opacity=\"1\" stroke=\"#000000\" stroke-opacity=\"1\" stroke-width=\"3.2\"/>\n",
       "<circle clip-path=\"url(#clip802)\" cx=\"647.304\" cy=\"766.846\" r=\"14\" fill=\"#009af9\" fill-rule=\"evenodd\" fill-opacity=\"1\" stroke=\"#000000\" stroke-opacity=\"1\" stroke-width=\"3.2\"/>\n",
       "<circle clip-path=\"url(#clip802)\" cx=\"647.304\" cy=\"766.846\" r=\"14\" fill=\"#009af9\" fill-rule=\"evenodd\" fill-opacity=\"1\" stroke=\"#000000\" stroke-opacity=\"1\" stroke-width=\"3.2\"/>\n",
       "<circle clip-path=\"url(#clip802)\" cx=\"647.304\" cy=\"658.906\" r=\"14\" fill=\"#009af9\" fill-rule=\"evenodd\" fill-opacity=\"1\" stroke=\"#000000\" stroke-opacity=\"1\" stroke-width=\"3.2\"/>\n",
       "<circle clip-path=\"url(#clip802)\" cx=\"647.304\" cy=\"299.105\" r=\"14\" fill=\"#009af9\" fill-rule=\"evenodd\" fill-opacity=\"1\" stroke=\"#000000\" stroke-opacity=\"1\" stroke-width=\"3.2\"/>\n",
       "<circle clip-path=\"url(#clip802)\" cx=\"647.304\" cy=\"443.025\" r=\"14\" fill=\"#009af9\" fill-rule=\"evenodd\" fill-opacity=\"1\" stroke=\"#000000\" stroke-opacity=\"1\" stroke-width=\"3.2\"/>\n",
       "<circle clip-path=\"url(#clip802)\" cx=\"647.304\" cy=\"730.866\" r=\"14\" fill=\"#009af9\" fill-rule=\"evenodd\" fill-opacity=\"1\" stroke=\"#000000\" stroke-opacity=\"1\" stroke-width=\"3.2\"/>\n",
       "<circle clip-path=\"url(#clip802)\" cx=\"647.304\" cy=\"191.164\" r=\"14\" fill=\"#009af9\" fill-rule=\"evenodd\" fill-opacity=\"1\" stroke=\"#000000\" stroke-opacity=\"1\" stroke-width=\"3.2\"/>\n",
       "<circle clip-path=\"url(#clip802)\" cx=\"647.304\" cy=\"586.946\" r=\"14\" fill=\"#009af9\" fill-rule=\"evenodd\" fill-opacity=\"1\" stroke=\"#000000\" stroke-opacity=\"1\" stroke-width=\"3.2\"/>\n",
       "<circle clip-path=\"url(#clip802)\" cx=\"647.304\" cy=\"766.846\" r=\"14\" fill=\"#009af9\" fill-rule=\"evenodd\" fill-opacity=\"1\" stroke=\"#000000\" stroke-opacity=\"1\" stroke-width=\"3.2\"/>\n",
       "<circle clip-path=\"url(#clip802)\" cx=\"647.304\" cy=\"479.005\" r=\"14\" fill=\"#009af9\" fill-rule=\"evenodd\" fill-opacity=\"1\" stroke=\"#000000\" stroke-opacity=\"1\" stroke-width=\"3.2\"/>\n",
       "<circle clip-path=\"url(#clip802)\" cx=\"647.304\" cy=\"622.926\" r=\"14\" fill=\"#009af9\" fill-rule=\"evenodd\" fill-opacity=\"1\" stroke=\"#000000\" stroke-opacity=\"1\" stroke-width=\"3.2\"/>\n",
       "<circle clip-path=\"url(#clip802)\" cx=\"647.304\" cy=\"407.045\" r=\"14\" fill=\"#009af9\" fill-rule=\"evenodd\" fill-opacity=\"1\" stroke=\"#000000\" stroke-opacity=\"1\" stroke-width=\"3.2\"/>\n",
       "<circle clip-path=\"url(#clip802)\" cx=\"647.304\" cy=\"479.005\" r=\"14\" fill=\"#009af9\" fill-rule=\"evenodd\" fill-opacity=\"1\" stroke=\"#000000\" stroke-opacity=\"1\" stroke-width=\"3.2\"/>\n",
       "<circle clip-path=\"url(#clip802)\" cx=\"647.304\" cy=\"479.005\" r=\"14\" fill=\"#009af9\" fill-rule=\"evenodd\" fill-opacity=\"1\" stroke=\"#000000\" stroke-opacity=\"1\" stroke-width=\"3.2\"/>\n",
       "<circle clip-path=\"url(#clip802)\" cx=\"647.304\" cy=\"766.846\" r=\"14\" fill=\"#009af9\" fill-rule=\"evenodd\" fill-opacity=\"1\" stroke=\"#000000\" stroke-opacity=\"1\" stroke-width=\"3.2\"/>\n",
       "<circle clip-path=\"url(#clip802)\" cx=\"647.304\" cy=\"407.045\" r=\"14\" fill=\"#009af9\" fill-rule=\"evenodd\" fill-opacity=\"1\" stroke=\"#000000\" stroke-opacity=\"1\" stroke-width=\"3.2\"/>\n",
       "<circle clip-path=\"url(#clip802)\" cx=\"647.304\" cy=\"155.184\" r=\"14\" fill=\"#009af9\" fill-rule=\"evenodd\" fill-opacity=\"1\" stroke=\"#000000\" stroke-opacity=\"1\" stroke-width=\"3.2\"/>\n",
       "<circle clip-path=\"url(#clip802)\" cx=\"647.304\" cy=\"479.005\" r=\"14\" fill=\"#009af9\" fill-rule=\"evenodd\" fill-opacity=\"1\" stroke=\"#000000\" stroke-opacity=\"1\" stroke-width=\"3.2\"/>\n",
       "<circle clip-path=\"url(#clip802)\" cx=\"647.304\" cy=\"371.065\" r=\"14\" fill=\"#009af9\" fill-rule=\"evenodd\" fill-opacity=\"1\" stroke=\"#000000\" stroke-opacity=\"1\" stroke-width=\"3.2\"/>\n",
       "<polyline clip-path=\"url(#clip802)\" style=\"stroke:#009af9; stroke-width:0; stroke-opacity:1; fill:none\" points=\"\n",
       "  647.304,1342.53 408.884,1342.53 885.725,1342.53 647.304,1342.53 647.304,1234.59 \n",
       "  \"/>\n",
       "<polyline clip-path=\"url(#clip802)\" style=\"stroke:#009af9; stroke-width:0; stroke-opacity:1; fill:none\" points=\"\n",
       "  1124.15,1234.59 1124.15,1162.63 170.463,1162.63 170.463,1234.59 1124.15,1234.59 1124.15,1162.63 \n",
       "  \"/>\n",
       "<polyline clip-path=\"url(#clip802)\" style=\"stroke:#009af9; stroke-width:0; stroke-opacity:1; fill:none\" points=\"\n",
       "  1124.15,1054.69 170.463,1054.69 170.463,1162.63 1124.15,1162.63 1124.15,1054.69 647.304,1054.69 \n",
       "  \"/>\n",
       "<polyline clip-path=\"url(#clip802)\" style=\"stroke:#009af9; stroke-width:0; stroke-opacity:1; fill:none\" points=\"\n",
       "  647.304,802.826 408.884,802.826 885.725,802.826 647.304,802.826 647.304,1054.69 \n",
       "  \"/>\n",
       "<path clip-path=\"url(#clip800)\" d=\"\n",
       "M954.306 216.178 L1119.06 216.178 L1119.06 95.2176 L954.306 95.2176  Z\n",
       "  \" fill=\"#ffffff\" fill-rule=\"evenodd\" fill-opacity=\"1\"/>\n",
       "<polyline clip-path=\"url(#clip800)\" style=\"stroke:#000000; stroke-width:4; stroke-opacity:1; fill:none\" points=\"\n",
       "  954.306,216.178 1119.06,216.178 1119.06,95.2176 954.306,95.2176 954.306,216.178 \n",
       "  \"/>\n",
       "<path clip-path=\"url(#clip800)\" d=\"\n",
       "M965.539 179.89 L1032.93 179.89 L1032.93 131.506 L965.539 131.506 L965.539 179.89  Z\n",
       "  \" fill=\"#009af9\" fill-rule=\"evenodd\" fill-opacity=\"1\"/>\n",
       "<polyline clip-path=\"url(#clip800)\" style=\"stroke:#000000; stroke-width:4; stroke-opacity:1; fill:none\" points=\"\n",
       "  965.539,179.89 1032.93,179.89 1032.93,131.506 965.539,131.506 965.539,179.89 \n",
       "  \"/>\n",
       "<path clip-path=\"url(#clip800)\" d=\"M 0 0 M1058.01 175.385 Q1056.2 180.015 1054.49 181.427 Q1052.78 182.839 1049.91 182.839 L1046.5 182.839 L1046.5 179.274 L1049 179.274 Q1050.76 179.274 1051.73 178.44 Q1052.71 177.607 1053.89 174.505 L1054.65 172.561 L1044.16 147.052 L1048.68 147.052 L1056.78 167.329 L1064.88 147.052 L1069.4 147.052 L1058.01 175.385 Z\" fill=\"#000000\" fill-rule=\"evenodd\" fill-opacity=\"1\" /><path clip-path=\"url(#clip800)\" d=\"M 0 0 M1076.69 169.042 L1084.33 169.042 L1084.33 142.677 L1076.02 144.343 L1076.02 140.084 L1084.28 138.418 L1088.96 138.418 L1088.96 169.042 L1096.59 169.042 L1096.59 172.978 L1076.69 172.978 L1076.69 169.042 Z\" fill=\"#000000\" fill-rule=\"evenodd\" fill-opacity=\"1\" /><path clip-path=\"url(#clip800)\" d=\"\n",
       "M1341.85 1486.45 L2352.76 1486.45 L2352.76 47.2441 L1341.85 47.2441  Z\n",
       "  \" fill=\"#ffffff\" fill-rule=\"evenodd\" fill-opacity=\"1\"/>\n",
       "<defs>\n",
       "  <clipPath id=\"clip803\">\n",
       "    <rect x=\"1341\" y=\"47\" width=\"1012\" height=\"1440\"/>\n",
       "  </clipPath>\n",
       "</defs>\n",
       "<polyline clip-path=\"url(#clip803)\" style=\"stroke:#000000; stroke-width:2; stroke-opacity:0.1; fill:none\" points=\"\n",
       "  1370.46,1486.45 1370.46,47.2441 \n",
       "  \"/>\n",
       "<polyline clip-path=\"url(#clip803)\" style=\"stroke:#000000; stroke-width:2; stroke-opacity:0.1; fill:none\" points=\"\n",
       "  1608.88,1486.45 1608.88,47.2441 \n",
       "  \"/>\n",
       "<polyline clip-path=\"url(#clip803)\" style=\"stroke:#000000; stroke-width:2; stroke-opacity:0.1; fill:none\" points=\"\n",
       "  1847.3,1486.45 1847.3,47.2441 \n",
       "  \"/>\n",
       "<polyline clip-path=\"url(#clip803)\" style=\"stroke:#000000; stroke-width:2; stroke-opacity:0.1; fill:none\" points=\"\n",
       "  2085.72,1486.45 2085.72,47.2441 \n",
       "  \"/>\n",
       "<polyline clip-path=\"url(#clip803)\" style=\"stroke:#000000; stroke-width:2; stroke-opacity:0.1; fill:none\" points=\"\n",
       "  2324.15,1486.45 2324.15,47.2441 \n",
       "  \"/>\n",
       "<polyline clip-path=\"url(#clip800)\" style=\"stroke:#000000; stroke-width:4; stroke-opacity:1; fill:none\" points=\"\n",
       "  1341.85,1486.45 2352.76,1486.45 \n",
       "  \"/>\n",
       "<polyline clip-path=\"url(#clip800)\" style=\"stroke:#000000; stroke-width:4; stroke-opacity:1; fill:none\" points=\"\n",
       "  1370.46,1486.45 1370.46,1469.18 \n",
       "  \"/>\n",
       "<polyline clip-path=\"url(#clip800)\" style=\"stroke:#000000; stroke-width:4; stroke-opacity:1; fill:none\" points=\"\n",
       "  1608.88,1486.45 1608.88,1469.18 \n",
       "  \"/>\n",
       "<polyline clip-path=\"url(#clip800)\" style=\"stroke:#000000; stroke-width:4; stroke-opacity:1; fill:none\" points=\"\n",
       "  1847.3,1486.45 1847.3,1469.18 \n",
       "  \"/>\n",
       "<polyline clip-path=\"url(#clip800)\" style=\"stroke:#000000; stroke-width:4; stroke-opacity:1; fill:none\" points=\"\n",
       "  2085.72,1486.45 2085.72,1469.18 \n",
       "  \"/>\n",
       "<polyline clip-path=\"url(#clip800)\" style=\"stroke:#000000; stroke-width:4; stroke-opacity:1; fill:none\" points=\"\n",
       "  2324.15,1486.45 2324.15,1469.18 \n",
       "  \"/>\n",
       "<path clip-path=\"url(#clip800)\" d=\"M 0 0 M1337.54 1543.18 L1345.17 1543.18 L1345.17 1516.82 L1336.86 1518.49 L1336.86 1514.23 L1345.13 1512.56 L1349.8 1512.56 L1349.8 1543.18 L1357.44 1543.18 L1357.44 1547.12 L1337.54 1547.12 L1337.54 1543.18 Z\" fill=\"#000000\" fill-rule=\"evenodd\" fill-opacity=\"1\" /><path clip-path=\"url(#clip800)\" d=\"M 0 0 M1366.89 1541.24 L1371.77 1541.24 L1371.77 1547.12 L1366.89 1547.12 L1366.89 1541.24 Z\" fill=\"#000000\" fill-rule=\"evenodd\" fill-opacity=\"1\" /><path clip-path=\"url(#clip800)\" d=\"M 0 0 M1392.54 1527.98 Q1389.39 1527.98 1387.54 1530.13 Q1385.71 1532.28 1385.71 1536.03 Q1385.71 1539.76 1387.54 1541.93 Q1389.39 1544.09 1392.54 1544.09 Q1395.68 1544.09 1397.51 1541.93 Q1399.36 1539.76 1399.36 1536.03 Q1399.36 1532.28 1397.51 1530.13 Q1395.68 1527.98 1392.54 1527.98 M1401.82 1513.32 L1401.82 1517.58 Q1400.06 1516.75 1398.25 1516.31 Q1396.47 1515.87 1394.71 1515.87 Q1390.08 1515.87 1387.63 1519 Q1385.2 1522.12 1384.85 1528.44 Q1386.22 1526.43 1388.28 1525.36 Q1390.34 1524.27 1392.81 1524.27 Q1398.02 1524.27 1401.03 1527.44 Q1404.06 1530.59 1404.06 1536.03 Q1404.06 1541.36 1400.91 1544.57 Q1397.77 1547.79 1392.54 1547.79 Q1386.54 1547.79 1383.37 1543.21 Q1380.2 1538.6 1380.2 1529.87 Q1380.2 1521.68 1384.09 1516.82 Q1387.97 1511.93 1394.53 1511.93 Q1396.29 1511.93 1398.07 1512.28 Q1399.87 1512.63 1401.82 1513.32 Z\" fill=\"#000000\" fill-rule=\"evenodd\" fill-opacity=\"1\" /><path clip-path=\"url(#clip800)\" d=\"M 0 0 M1576.08 1543.18 L1583.72 1543.18 L1583.72 1516.82 L1575.41 1518.49 L1575.41 1514.23 L1583.68 1512.56 L1588.35 1512.56 L1588.35 1543.18 L1595.99 1543.18 L1595.99 1547.12 L1576.08 1547.12 L1576.08 1543.18 Z\" fill=\"#000000\" fill-rule=\"evenodd\" fill-opacity=\"1\" /><path clip-path=\"url(#clip800)\" d=\"M 0 0 M1605.43 1541.24 L1610.32 1541.24 L1610.32 1547.12 L1605.43 1547.12 L1605.43 1541.24 Z\" fill=\"#000000\" fill-rule=\"evenodd\" fill-opacity=\"1\" /><path clip-path=\"url(#clip800)\" d=\"M 0 0 M1630.5 1530.71 Q1627.17 1530.71 1625.25 1532.49 Q1623.35 1534.27 1623.35 1537.4 Q1623.35 1540.52 1625.25 1542.31 Q1627.17 1544.09 1630.5 1544.09 Q1633.84 1544.09 1635.76 1542.31 Q1637.68 1540.5 1637.68 1537.4 Q1637.68 1534.27 1635.76 1532.49 Q1633.86 1530.71 1630.5 1530.71 M1625.83 1528.72 Q1622.82 1527.98 1621.13 1525.92 Q1619.46 1523.86 1619.46 1520.89 Q1619.46 1516.75 1622.4 1514.34 Q1625.37 1511.93 1630.5 1511.93 Q1635.67 1511.93 1638.61 1514.34 Q1641.55 1516.75 1641.55 1520.89 Q1641.55 1523.86 1639.86 1525.92 Q1638.19 1527.98 1635.2 1528.72 Q1638.58 1529.5 1640.46 1531.8 Q1642.36 1534.09 1642.36 1537.4 Q1642.36 1542.42 1639.28 1545.11 Q1636.22 1547.79 1630.5 1547.79 Q1624.79 1547.79 1621.71 1545.11 Q1618.65 1542.42 1618.65 1537.4 Q1618.65 1534.09 1620.55 1531.8 Q1622.45 1529.5 1625.83 1528.72 M1624.12 1521.33 Q1624.12 1524.02 1625.78 1525.52 Q1627.47 1527.03 1630.5 1527.03 Q1633.51 1527.03 1635.2 1525.52 Q1636.92 1524.02 1636.92 1521.33 Q1636.92 1518.65 1635.2 1517.14 Q1633.51 1515.64 1630.5 1515.64 Q1627.47 1515.64 1625.78 1517.14 Q1624.12 1518.65 1624.12 1521.33 Z\" fill=\"#000000\" fill-rule=\"evenodd\" fill-opacity=\"1\" /><path clip-path=\"url(#clip800)\" d=\"M 0 0 M1818.54 1543.18 L1834.86 1543.18 L1834.86 1547.12 L1812.92 1547.12 L1812.92 1543.18 Q1815.58 1540.43 1820.16 1535.8 Q1824.77 1531.15 1825.95 1529.81 Q1828.2 1527.28 1829.08 1525.55 Q1829.98 1523.79 1829.98 1522.1 Q1829.98 1519.34 1828.03 1517.61 Q1826.11 1515.87 1823.01 1515.87 Q1820.81 1515.87 1818.36 1516.63 Q1815.93 1517.4 1813.15 1518.95 L1813.15 1514.23 Q1815.97 1513.09 1818.43 1512.51 Q1820.88 1511.93 1822.92 1511.93 Q1828.29 1511.93 1831.48 1514.62 Q1834.68 1517.31 1834.68 1521.8 Q1834.68 1523.93 1833.87 1525.85 Q1833.08 1527.74 1830.97 1530.34 Q1830.39 1531.01 1827.29 1534.23 Q1824.19 1537.42 1818.54 1543.18 Z\" fill=\"#000000\" fill-rule=\"evenodd\" fill-opacity=\"1\" /><path clip-path=\"url(#clip800)\" d=\"M 0 0 M1844.68 1541.24 L1849.56 1541.24 L1849.56 1547.12 L1844.68 1547.12 L1844.68 1541.24 Z\" fill=\"#000000\" fill-rule=\"evenodd\" fill-opacity=\"1\" /><path clip-path=\"url(#clip800)\" d=\"M 0 0 M1869.75 1515.64 Q1866.14 1515.64 1864.31 1519.2 Q1862.5 1522.75 1862.5 1529.87 Q1862.5 1536.98 1864.31 1540.55 Q1866.14 1544.09 1869.75 1544.09 Q1873.38 1544.09 1875.19 1540.55 Q1877.01 1536.98 1877.01 1529.87 Q1877.01 1522.75 1875.19 1519.2 Q1873.38 1515.64 1869.75 1515.64 M1869.75 1511.93 Q1875.56 1511.93 1878.61 1516.54 Q1881.69 1521.12 1881.69 1529.87 Q1881.69 1538.6 1878.61 1543.21 Q1875.56 1547.79 1869.75 1547.79 Q1863.94 1547.79 1860.86 1543.21 Q1857.8 1538.6 1857.8 1529.87 Q1857.8 1521.12 1860.86 1516.54 Q1863.94 1511.93 1869.75 1511.93 Z\" fill=\"#000000\" fill-rule=\"evenodd\" fill-opacity=\"1\" /><path clip-path=\"url(#clip800)\" d=\"M 0 0 M2057.76 1543.18 L2074.08 1543.18 L2074.08 1547.12 L2052.14 1547.12 L2052.14 1543.18 Q2054.8 1540.43 2059.38 1535.8 Q2063.99 1531.15 2065.17 1529.81 Q2067.41 1527.28 2068.29 1525.55 Q2069.2 1523.79 2069.2 1522.1 Q2069.2 1519.34 2067.25 1517.61 Q2065.33 1515.87 2062.23 1515.87 Q2060.03 1515.87 2057.58 1516.63 Q2055.15 1517.4 2052.37 1518.95 L2052.37 1514.23 Q2055.19 1513.09 2057.65 1512.51 Q2060.1 1511.93 2062.14 1511.93 Q2067.51 1511.93 2070.7 1514.62 Q2073.9 1517.31 2073.9 1521.8 Q2073.9 1523.93 2073.09 1525.85 Q2072.3 1527.74 2070.19 1530.34 Q2069.61 1531.01 2066.51 1534.23 Q2063.41 1537.42 2057.76 1543.18 Z\" fill=\"#000000\" fill-rule=\"evenodd\" fill-opacity=\"1\" /><path clip-path=\"url(#clip800)\" d=\"M 0 0 M2083.9 1541.24 L2088.78 1541.24 L2088.78 1547.12 L2083.9 1547.12 L2083.9 1541.24 Z\" fill=\"#000000\" fill-rule=\"evenodd\" fill-opacity=\"1\" /><path clip-path=\"url(#clip800)\" d=\"M 0 0 M2102.99 1543.18 L2119.31 1543.18 L2119.31 1547.12 L2097.37 1547.12 L2097.37 1543.18 Q2100.03 1540.43 2104.61 1535.8 Q2109.22 1531.15 2110.4 1529.81 Q2112.65 1527.28 2113.53 1525.55 Q2114.43 1523.79 2114.43 1522.1 Q2114.43 1519.34 2112.48 1517.61 Q2110.56 1515.87 2107.46 1515.87 Q2105.26 1515.87 2102.81 1516.63 Q2100.38 1517.4 2097.6 1518.95 L2097.6 1514.23 Q2100.42 1513.09 2102.88 1512.51 Q2105.33 1511.93 2107.37 1511.93 Q2112.74 1511.93 2115.93 1514.62 Q2119.13 1517.31 2119.13 1521.8 Q2119.13 1523.93 2118.32 1525.85 Q2117.53 1527.74 2115.42 1530.34 Q2114.85 1531.01 2111.74 1534.23 Q2108.64 1537.42 2102.99 1543.18 Z\" fill=\"#000000\" fill-rule=\"evenodd\" fill-opacity=\"1\" /><path clip-path=\"url(#clip800)\" d=\"M 0 0 M2295.14 1543.18 L2311.46 1543.18 L2311.46 1547.12 L2289.52 1547.12 L2289.52 1543.18 Q2292.18 1540.43 2296.76 1535.8 Q2301.37 1531.15 2302.55 1529.81 Q2304.79 1527.28 2305.67 1525.55 Q2306.58 1523.79 2306.58 1522.1 Q2306.58 1519.34 2304.63 1517.61 Q2302.71 1515.87 2299.61 1515.87 Q2297.41 1515.87 2294.96 1516.63 Q2292.53 1517.4 2289.75 1518.95 L2289.75 1514.23 Q2292.57 1513.09 2295.03 1512.51 Q2297.48 1511.93 2299.52 1511.93 Q2304.89 1511.93 2308.08 1514.62 Q2311.28 1517.31 2311.28 1521.8 Q2311.28 1523.93 2310.46 1525.85 Q2309.68 1527.74 2307.57 1530.34 Q2306.99 1531.01 2303.89 1534.23 Q2300.79 1537.42 2295.14 1543.18 Z\" fill=\"#000000\" fill-rule=\"evenodd\" fill-opacity=\"1\" /><path clip-path=\"url(#clip800)\" d=\"M 0 0 M2321.28 1541.24 L2326.16 1541.24 L2326.16 1547.12 L2321.28 1547.12 L2321.28 1541.24 Z\" fill=\"#000000\" fill-rule=\"evenodd\" fill-opacity=\"1\" /><path clip-path=\"url(#clip800)\" d=\"M 0 0 M2349.19 1516.63 L2337.39 1535.08 L2349.19 1535.08 L2349.19 1516.63 M2347.96 1512.56 L2353.84 1512.56 L2353.84 1535.08 L2358.77 1535.08 L2358.77 1538.97 L2353.84 1538.97 L2353.84 1547.12 L2349.19 1547.12 L2349.19 1538.97 L2333.59 1538.97 L2333.59 1534.46 L2347.96 1512.56 Z\" fill=\"#000000\" fill-rule=\"evenodd\" fill-opacity=\"1\" /><polyline clip-path=\"url(#clip803)\" style=\"stroke:#000000; stroke-width:2; stroke-opacity:0.1; fill:none\" points=\"\n",
       "  1341.85,1486.45 2352.76,1486.45 \n",
       "  \"/>\n",
       "<polyline clip-path=\"url(#clip803)\" style=\"stroke:#000000; stroke-width:2; stroke-opacity:0.1; fill:none\" points=\"\n",
       "  1341.85,1126.65 2352.76,1126.65 \n",
       "  \"/>\n",
       "<polyline clip-path=\"url(#clip803)\" style=\"stroke:#000000; stroke-width:2; stroke-opacity:0.1; fill:none\" points=\"\n",
       "  1341.85,766.846 2352.76,766.846 \n",
       "  \"/>\n",
       "<polyline clip-path=\"url(#clip803)\" style=\"stroke:#000000; stroke-width:2; stroke-opacity:0.1; fill:none\" points=\"\n",
       "  1341.85,407.045 2352.76,407.045 \n",
       "  \"/>\n",
       "<polyline clip-path=\"url(#clip803)\" style=\"stroke:#000000; stroke-width:2; stroke-opacity:0.1; fill:none\" points=\"\n",
       "  1341.85,47.2441 2352.76,47.2441 \n",
       "  \"/>\n",
       "<polyline clip-path=\"url(#clip800)\" style=\"stroke:#000000; stroke-width:4; stroke-opacity:1; fill:none\" points=\"\n",
       "  1341.85,1486.45 1341.85,47.2441 \n",
       "  \"/>\n",
       "<polyline clip-path=\"url(#clip800)\" style=\"stroke:#000000; stroke-width:4; stroke-opacity:1; fill:none\" points=\"\n",
       "  1341.85,1486.45 1353.98,1486.45 \n",
       "  \"/>\n",
       "<polyline clip-path=\"url(#clip800)\" style=\"stroke:#000000; stroke-width:4; stroke-opacity:1; fill:none\" points=\"\n",
       "  1341.85,1126.65 1353.98,1126.65 \n",
       "  \"/>\n",
       "<polyline clip-path=\"url(#clip800)\" style=\"stroke:#000000; stroke-width:4; stroke-opacity:1; fill:none\" points=\"\n",
       "  1341.85,766.846 1353.98,766.846 \n",
       "  \"/>\n",
       "<polyline clip-path=\"url(#clip800)\" style=\"stroke:#000000; stroke-width:4; stroke-opacity:1; fill:none\" points=\"\n",
       "  1341.85,407.045 1353.98,407.045 \n",
       "  \"/>\n",
       "<polyline clip-path=\"url(#clip800)\" style=\"stroke:#000000; stroke-width:4; stroke-opacity:1; fill:none\" points=\"\n",
       "  1341.85,47.2441 1353.98,47.2441 \n",
       "  \"/>\n",
       "<path clip-path=\"url(#clip800)\" d=\"M 0 0 M1266.59 1473.24 L1254.79 1491.69 L1266.59 1491.69 L1266.59 1473.24 M1265.37 1469.17 L1271.25 1469.17 L1271.25 1491.69 L1276.18 1491.69 L1276.18 1495.58 L1271.25 1495.58 L1271.25 1503.73 L1266.59 1503.73 L1266.59 1495.58 L1250.99 1495.58 L1250.99 1491.07 L1265.37 1469.17 Z\" fill=\"#000000\" fill-rule=\"evenodd\" fill-opacity=\"1\" /><path clip-path=\"url(#clip800)\" d=\"M 0 0 M1293.91 1472.25 Q1290.3 1472.25 1288.47 1475.81 Q1286.66 1479.35 1286.66 1486.48 Q1286.66 1493.59 1288.47 1497.15 Q1290.3 1500.7 1293.91 1500.7 Q1297.54 1500.7 1299.35 1497.15 Q1301.18 1493.59 1301.18 1486.48 Q1301.18 1479.35 1299.35 1475.81 Q1297.54 1472.25 1293.91 1472.25 M1293.91 1468.54 Q1299.72 1468.54 1302.77 1473.15 Q1305.85 1477.73 1305.85 1486.48 Q1305.85 1495.21 1302.77 1499.82 Q1299.72 1504.4 1293.91 1504.4 Q1288.1 1504.4 1285.02 1499.82 Q1281.96 1495.21 1281.96 1486.48 Q1281.96 1477.73 1285.02 1473.15 Q1288.1 1468.54 1293.91 1468.54 Z\" fill=\"#000000\" fill-rule=\"evenodd\" fill-opacity=\"1\" /><path clip-path=\"url(#clip800)\" d=\"M 0 0 M1253.79 1109.37 L1272.15 1109.37 L1272.15 1113.3 L1258.08 1113.3 L1258.08 1121.77 Q1259.09 1121.43 1260.11 1121.27 Q1261.13 1121.08 1262.15 1121.08 Q1267.94 1121.08 1271.32 1124.25 Q1274.7 1127.42 1274.7 1132.84 Q1274.7 1138.42 1271.22 1141.52 Q1267.75 1144.6 1261.43 1144.6 Q1259.26 1144.6 1256.99 1144.23 Q1254.74 1143.86 1252.33 1143.12 L1252.33 1138.42 Q1254.42 1139.55 1256.64 1140.11 Q1258.86 1140.66 1261.34 1140.66 Q1265.34 1140.66 1267.68 1138.56 Q1270.02 1136.45 1270.02 1132.84 Q1270.02 1129.23 1267.68 1127.12 Q1265.34 1125.01 1261.34 1125.01 Q1259.46 1125.01 1257.59 1125.43 Q1255.74 1125.85 1253.79 1126.73 L1253.79 1109.37 Z\" fill=\"#000000\" fill-rule=\"evenodd\" fill-opacity=\"1\" /><path clip-path=\"url(#clip800)\" d=\"M 0 0 M1293.91 1112.45 Q1290.3 1112.45 1288.47 1116.01 Q1286.66 1119.55 1286.66 1126.68 Q1286.66 1133.79 1288.47 1137.35 Q1290.3 1140.89 1293.91 1140.89 Q1297.54 1140.89 1299.35 1137.35 Q1301.18 1133.79 1301.18 1126.68 Q1301.18 1119.55 1299.35 1116.01 Q1297.54 1112.45 1293.91 1112.45 M1293.91 1108.74 Q1299.72 1108.74 1302.77 1113.35 Q1305.85 1117.93 1305.85 1126.68 Q1305.85 1135.41 1302.77 1140.01 Q1299.72 1144.6 1293.91 1144.6 Q1288.1 1144.6 1285.02 1140.01 Q1281.96 1135.41 1281.96 1126.68 Q1281.96 1117.93 1285.02 1113.35 Q1288.1 1108.74 1293.91 1108.74 Z\" fill=\"#000000\" fill-rule=\"evenodd\" fill-opacity=\"1\" /><path clip-path=\"url(#clip800)\" d=\"M 0 0 M1264.33 764.983 Q1261.18 764.983 1259.33 767.135 Q1257.5 769.288 1257.5 773.038 Q1257.5 776.765 1259.33 778.941 Q1261.18 781.094 1264.33 781.094 Q1267.47 781.094 1269.3 778.941 Q1271.15 776.765 1271.15 773.038 Q1271.15 769.288 1269.3 767.135 Q1267.47 764.983 1264.33 764.983 M1273.61 750.33 L1273.61 754.589 Q1271.85 753.756 1270.04 753.316 Q1268.26 752.876 1266.5 752.876 Q1261.87 752.876 1259.42 756.001 Q1256.99 759.126 1256.64 765.446 Q1258.01 763.432 1260.07 762.367 Q1262.13 761.279 1264.6 761.279 Q1269.81 761.279 1272.82 764.45 Q1275.85 767.598 1275.85 773.038 Q1275.85 778.362 1272.7 781.58 Q1269.56 784.797 1264.33 784.797 Q1258.33 784.797 1255.16 780.214 Q1251.99 775.608 1251.99 766.881 Q1251.99 758.686 1255.88 753.825 Q1259.77 748.941 1266.32 748.941 Q1268.08 748.941 1269.86 749.288 Q1271.66 749.635 1273.61 750.33 Z\" fill=\"#000000\" fill-rule=\"evenodd\" fill-opacity=\"1\" /><path clip-path=\"url(#clip800)\" d=\"M 0 0 M1293.91 752.645 Q1290.3 752.645 1288.47 756.209 Q1286.66 759.751 1286.66 766.881 Q1286.66 773.987 1288.47 777.552 Q1290.3 781.094 1293.91 781.094 Q1297.54 781.094 1299.35 777.552 Q1301.18 773.987 1301.18 766.881 Q1301.18 759.751 1299.35 756.209 Q1297.54 752.645 1293.91 752.645 M1293.91 748.941 Q1299.72 748.941 1302.77 753.547 Q1305.85 758.131 1305.85 766.881 Q1305.85 775.608 1302.77 780.214 Q1299.72 784.797 1293.91 784.797 Q1288.1 784.797 1285.02 780.214 Q1281.96 775.608 1281.96 766.881 Q1281.96 758.131 1285.02 753.547 Q1288.1 748.941 1293.91 748.941 Z\" fill=\"#000000\" fill-rule=\"evenodd\" fill-opacity=\"1\" /><path clip-path=\"url(#clip800)\" d=\"M 0 0 M1252.57 389.765 L1274.79 389.765 L1274.79 391.756 L1262.24 424.325 L1257.36 424.325 L1269.16 393.7 L1252.57 393.7 L1252.57 389.765 Z\" fill=\"#000000\" fill-rule=\"evenodd\" fill-opacity=\"1\" /><path clip-path=\"url(#clip800)\" d=\"M 0 0 M1293.91 392.844 Q1290.3 392.844 1288.47 396.409 Q1286.66 399.95 1286.66 407.08 Q1286.66 414.186 1288.47 417.751 Q1290.3 421.293 1293.91 421.293 Q1297.54 421.293 1299.35 417.751 Q1301.18 414.186 1301.18 407.08 Q1301.18 399.95 1299.35 396.409 Q1297.54 392.844 1293.91 392.844 M1293.91 389.14 Q1299.72 389.14 1302.77 393.746 Q1305.85 398.33 1305.85 407.08 Q1305.85 415.807 1302.77 420.413 Q1299.72 424.996 1293.91 424.996 Q1288.1 424.996 1285.02 420.413 Q1281.96 415.807 1281.96 407.08 Q1281.96 398.33 1285.02 393.746 Q1288.1 389.14 1293.91 389.14 Z\" fill=\"#000000\" fill-rule=\"evenodd\" fill-opacity=\"1\" /><path clip-path=\"url(#clip800)\" d=\"M 0 0 M1263.75 48.1121 Q1260.41 48.1121 1258.49 49.8945 Q1256.59 51.6769 1256.59 54.8019 Q1256.59 57.9269 1258.49 59.7093 Q1260.41 61.4917 1263.75 61.4917 Q1267.08 61.4917 1269 59.7093 Q1270.92 57.9038 1270.92 54.8019 Q1270.92 51.6769 1269 49.8945 Q1267.1 48.1121 1263.75 48.1121 M1259.07 46.1214 Q1256.06 45.3807 1254.37 43.3205 Q1252.71 41.2603 1252.71 38.2974 Q1252.71 34.1539 1255.64 31.7465 Q1258.61 29.3391 1263.75 29.3391 Q1268.91 29.3391 1271.85 31.7465 Q1274.79 34.1539 1274.79 38.2974 Q1274.79 41.2603 1273.1 43.3205 Q1271.43 45.3807 1268.45 46.1214 Q1271.83 46.9084 1273.7 49.2001 Q1275.6 51.4918 1275.6 54.8019 Q1275.6 59.825 1272.52 62.5102 Q1269.46 65.1954 1263.75 65.1954 Q1258.03 65.1954 1254.95 62.5102 Q1251.89 59.825 1251.89 54.8019 Q1251.89 51.4918 1253.79 49.2001 Q1255.69 46.9084 1259.07 46.1214 M1257.36 38.7372 Q1257.36 41.4224 1259.02 42.927 Q1260.71 44.4316 1263.75 44.4316 Q1266.76 44.4316 1268.45 42.927 Q1270.16 41.4224 1270.16 38.7372 Q1270.16 36.052 1268.45 34.5474 Q1266.76 33.0428 1263.75 33.0428 Q1260.71 33.0428 1259.02 34.5474 Q1257.36 36.052 1257.36 38.7372 Z\" fill=\"#000000\" fill-rule=\"evenodd\" fill-opacity=\"1\" /><path clip-path=\"url(#clip800)\" d=\"M 0 0 M1293.91 33.0428 Q1290.3 33.0428 1288.47 36.6076 Q1286.66 40.1492 1286.66 47.2788 Q1286.66 54.3853 1288.47 57.9501 Q1290.3 61.4917 1293.91 61.4917 Q1297.54 61.4917 1299.35 57.9501 Q1301.18 54.3853 1301.18 47.2788 Q1301.18 40.1492 1299.35 36.6076 Q1297.54 33.0428 1293.91 33.0428 M1293.91 29.3391 Q1299.72 29.3391 1302.77 33.9456 Q1305.85 38.5289 1305.85 47.2788 Q1305.85 56.0056 1302.77 60.6121 Q1299.72 65.1954 1293.91 65.1954 Q1288.1 65.1954 1285.02 60.6121 Q1281.96 56.0056 1281.96 47.2788 Q1281.96 38.5289 1285.02 33.9456 Q1288.1 29.3391 1293.91 29.3391 Z\" fill=\"#000000\" fill-rule=\"evenodd\" fill-opacity=\"1\" /><path clip-path=\"url(#clip803)\" d=\"\n",
       "M1847.3 1306.55 L1608.88 1306.55 L2085.72 1306.55 L1847.3 1306.55 L1847.3 1198.61 L1847.3 1306.55  Z\n",
       "  \" fill=\"#009af9\" fill-rule=\"evenodd\" fill-opacity=\"1\"/>\n",
       "<polyline clip-path=\"url(#clip803)\" style=\"stroke:#000000; stroke-width:4; stroke-opacity:1; fill:none\" points=\"\n",
       "  1847.3,1306.55 1608.88,1306.55 2085.72,1306.55 1847.3,1306.55 1847.3,1198.61 1847.3,1306.55 \n",
       "  \"/>\n",
       "<path clip-path=\"url(#clip803)\" d=\"\n",
       "M2324.15 1198.61 L2324.15 1162.63 L1370.46 1162.63 L1370.46 1198.61 L2324.15 1198.61 L2324.15 1162.63 L2324.15 1198.61  Z\n",
       "  \" fill=\"#009af9\" fill-rule=\"evenodd\" fill-opacity=\"1\"/>\n",
       "<polyline clip-path=\"url(#clip803)\" style=\"stroke:#000000; stroke-width:4; stroke-opacity:1; fill:none\" points=\"\n",
       "  2324.15,1198.61 2324.15,1162.63 1370.46,1162.63 1370.46,1198.61 2324.15,1198.61 2324.15,1162.63 2324.15,1198.61 \n",
       "  \"/>\n",
       "<path clip-path=\"url(#clip803)\" d=\"\n",
       "M2324.15 1000.72 L1370.46 1000.72 L1370.46 1162.63 L2324.15 1162.63 L2324.15 1000.72 L1847.3 1000.72 L2324.15 1000.72  Z\n",
       "  \" fill=\"#009af9\" fill-rule=\"evenodd\" fill-opacity=\"1\"/>\n",
       "<polyline clip-path=\"url(#clip803)\" style=\"stroke:#000000; stroke-width:4; stroke-opacity:1; fill:none\" points=\"\n",
       "  2324.15,1000.72 1370.46,1000.72 1370.46,1162.63 2324.15,1162.63 2324.15,1000.72 1847.3,1000.72 2324.15,1000.72 \n",
       "  \"/>\n",
       "<path clip-path=\"url(#clip803)\" d=\"\n",
       "M1847.3 802.826 L1608.88 802.826 L2085.72 802.826 L1847.3 802.826 L1847.3 1000.72 L1847.3 802.826  Z\n",
       "  \" fill=\"#009af9\" fill-rule=\"evenodd\" fill-opacity=\"1\"/>\n",
       "<polyline clip-path=\"url(#clip803)\" style=\"stroke:#000000; stroke-width:4; stroke-opacity:1; fill:none\" points=\"\n",
       "  1847.3,802.826 1608.88,802.826 2085.72,802.826 1847.3,802.826 1847.3,1000.72 1847.3,802.826 \n",
       "  \"/>\n",
       "<circle clip-path=\"url(#clip803)\" cx=\"1847.3\" cy=\"443.025\" r=\"14\" fill=\"#009af9\" fill-rule=\"evenodd\" fill-opacity=\"1\" stroke=\"#000000\" stroke-opacity=\"1\" stroke-width=\"3.2\"/>\n",
       "<circle clip-path=\"url(#clip803)\" cx=\"1847.3\" cy=\"299.105\" r=\"14\" fill=\"#009af9\" fill-rule=\"evenodd\" fill-opacity=\"1\" stroke=\"#000000\" stroke-opacity=\"1\" stroke-width=\"3.2\"/>\n",
       "<circle clip-path=\"url(#clip803)\" cx=\"1847.3\" cy=\"479.005\" r=\"14\" fill=\"#009af9\" fill-rule=\"evenodd\" fill-opacity=\"1\" stroke=\"#000000\" stroke-opacity=\"1\" stroke-width=\"3.2\"/>\n",
       "<circle clip-path=\"url(#clip803)\" cx=\"1847.3\" cy=\"479.005\" r=\"14\" fill=\"#009af9\" fill-rule=\"evenodd\" fill-opacity=\"1\" stroke=\"#000000\" stroke-opacity=\"1\" stroke-width=\"3.2\"/>\n",
       "<circle clip-path=\"url(#clip803)\" cx=\"1847.3\" cy=\"586.946\" r=\"14\" fill=\"#009af9\" fill-rule=\"evenodd\" fill-opacity=\"1\" stroke=\"#000000\" stroke-opacity=\"1\" stroke-width=\"3.2\"/>\n",
       "<circle clip-path=\"url(#clip803)\" cx=\"1847.3\" cy=\"443.025\" r=\"14\" fill=\"#009af9\" fill-rule=\"evenodd\" fill-opacity=\"1\" stroke=\"#000000\" stroke-opacity=\"1\" stroke-width=\"3.2\"/>\n",
       "<polyline clip-path=\"url(#clip803)\" style=\"stroke:#009af9; stroke-width:0; stroke-opacity:1; fill:none\" points=\"\n",
       "  1847.3,1306.55 1608.88,1306.55 2085.72,1306.55 1847.3,1306.55 1847.3,1198.61 \n",
       "  \"/>\n",
       "<polyline clip-path=\"url(#clip803)\" style=\"stroke:#009af9; stroke-width:0; stroke-opacity:1; fill:none\" points=\"\n",
       "  2324.15,1198.61 2324.15,1162.63 1370.46,1162.63 1370.46,1198.61 2324.15,1198.61 2324.15,1162.63 \n",
       "  \"/>\n",
       "<polyline clip-path=\"url(#clip803)\" style=\"stroke:#009af9; stroke-width:0; stroke-opacity:1; fill:none\" points=\"\n",
       "  2324.15,1000.72 1370.46,1000.72 1370.46,1162.63 2324.15,1162.63 2324.15,1000.72 1847.3,1000.72 \n",
       "  \"/>\n",
       "<polyline clip-path=\"url(#clip803)\" style=\"stroke:#009af9; stroke-width:0; stroke-opacity:1; fill:none\" points=\"\n",
       "  1847.3,802.826 1608.88,802.826 2085.72,802.826 1847.3,802.826 1847.3,1000.72 \n",
       "  \"/>\n",
       "<path clip-path=\"url(#clip800)\" d=\"\n",
       "M2154.68 216.178 L2319.06 216.178 L2319.06 95.2176 L2154.68 95.2176  Z\n",
       "  \" fill=\"#ffffff\" fill-rule=\"evenodd\" fill-opacity=\"1\"/>\n",
       "<polyline clip-path=\"url(#clip800)\" style=\"stroke:#000000; stroke-width:4; stroke-opacity:1; fill:none\" points=\"\n",
       "  2154.68,216.178 2319.06,216.178 2319.06,95.2176 2154.68,95.2176 2154.68,216.178 \n",
       "  \"/>\n",
       "<path clip-path=\"url(#clip800)\" d=\"\n",
       "M2165.91 179.89 L2233.3 179.89 L2233.3 131.506 L2165.91 131.506 L2165.91 179.89  Z\n",
       "  \" fill=\"#009af9\" fill-rule=\"evenodd\" fill-opacity=\"1\"/>\n",
       "<polyline clip-path=\"url(#clip800)\" style=\"stroke:#000000; stroke-width:4; stroke-opacity:1; fill:none\" points=\"\n",
       "  2165.91,179.89 2233.3,179.89 2233.3,131.506 2165.91,131.506 2165.91,179.89 \n",
       "  \"/>\n",
       "<path clip-path=\"url(#clip800)\" d=\"M 0 0 M2258.38 175.385 Q2256.57 180.015 2254.86 181.427 Q2253.15 182.839 2250.28 182.839 L2246.87 182.839 L2246.87 179.274 L2249.37 179.274 Q2251.13 179.274 2252.1 178.44 Q2253.08 177.607 2254.26 174.505 L2255.02 172.561 L2244.53 147.052 L2249.05 147.052 L2257.15 167.329 L2265.25 147.052 L2269.77 147.052 L2258.38 175.385 Z\" fill=\"#000000\" fill-rule=\"evenodd\" fill-opacity=\"1\" /><path clip-path=\"url(#clip800)\" d=\"M 0 0 M2280.28 169.042 L2296.59 169.042 L2296.59 172.978 L2274.65 172.978 L2274.65 169.042 Q2277.31 166.288 2281.9 161.658 Q2286.5 157.005 2287.68 155.663 Q2289.93 153.14 2290.81 151.404 Q2291.71 149.644 2291.71 147.955 Q2291.71 145.2 2289.77 143.464 Q2287.84 141.728 2284.74 141.728 Q2282.54 141.728 2280.09 142.492 Q2277.66 143.255 2274.88 144.806 L2274.88 140.084 Q2277.71 138.95 2280.16 138.371 Q2282.61 137.793 2284.65 137.793 Q2290.02 137.793 2293.22 140.478 Q2296.41 143.163 2296.41 147.654 Q2296.41 149.783 2295.6 151.705 Q2294.81 153.603 2292.71 156.195 Q2292.13 156.867 2289.03 160.084 Q2285.92 163.279 2280.28 169.042 Z\" fill=\"#000000\" fill-rule=\"evenodd\" fill-opacity=\"1\" /></svg>\n"
      ]
     },
     "execution_count": 137,
     "metadata": {},
     "output_type": "execute_result"
    }
   ],
   "source": [
    "StatsPlots.plot(layout=(1,2))\n",
    "boxplot!(y[train],subplot=1,ylim=(40,80))\n",
    "boxplot!(y[test],subplot=2,ylim=(40,80))"
   ]
  },
  {
   "cell_type": "code",
   "execution_count": 138,
   "metadata": {},
   "outputs": [
    {
     "name": "stdout",
     "output_type": "stream",
     "text": [
      "length(train) = 152\n",
      "length(train) / length(y) = 0.7487684729064039\n",
      "length(test) = 51\n",
      "length(test) / length(y) = 0.2512315270935961\n"
     ]
    }
   ],
   "source": [
    "@show length(train)\n",
    "@show length(train)/length(y)\n",
    "@show length(test)\n",
    "@show length(test)/length(y);"
   ]
  },
  {
   "cell_type": "markdown",
   "metadata": {},
   "source": [
    "## Multiple Linear Regression Model\n",
    "This study uses six predictors, i.e., GPA semesters 1 to 6, with one response variable, i.e., student study period, so the regression model that will be used is\n",
    "\n",
    "\\begin{equation}\n",
    "y=f_\\beta (x)+\\varepsilon=\\beta_0+\\sum_{k=1}^6 \\beta_k x_k + \\varepsilon\n",
    "\\end{equation}\n",
    "\n",
    "where $y$ is the study period, $x_k$ is the student's GPA in the k-th semester, $\\beta_k$ is the coefficient of $x_k$, $\\beta_0$ is the intercept coefficient, and $f_\\beta (x)$ is the predicted value of $y$.\n"
   ]
  },
  {
   "cell_type": "markdown",
   "metadata": {},
   "source": [
    "### 1 Least-Square Regression Model\n",
    "Least-square regression is the most popular and commonly used. The \"best\" coefficient value in the least-square regression model is obtained by minimizing the average value of the squared loss or mean squared error (MSE) (Heath, 2002; Johnson & Faunt, 1992), given by\n",
    "\n",
    "\\begin{equation}\n",
    "{\\hat{\\beta}}_{ls}=\\arg{\\min\\limits_{\\beta}{\\frac{1}{N}\\sum_{i=1}^{N}\\left(f_\\beta\\left(x^{\\left(i\\right)}\\right)-y^{\\left(i\\right)}\\right)^2}}\n",
    "\\end{equation}\n",
    "\n",
    "where $N$ is the number of training data, ${\\hat{\\beta}}_{ls}$ is the approximate value of the coefficient $\\beta$ based on least-square regression, $y^{\\left(i\\right)}$ and $f_\\beta\\left(x^{\\left(i\\right)}\\right)$ are the actual and predicted values of the $i$-th student study period.\n",
    "\n",
    "The coefficients of the least-squares regression model can be found easily using a matrix formulation. Suppose there is a matrix $X$ containing a set of predictors and $\\beta$ is a vector containing the coefficients of each corresponding predictor, i.e.,\n",
    "\n",
    "$$X=\\left[1\\ \\ X_1\\ \\ X_2\\ \\ X_3\\ \\ X_4\\ \\ X_5\\ \\ X_6\\right],\\ \\ \\beta=\\left[\\beta_0\\ \\ \\beta_1\\ \\ \\beta_2\\ \\ \\beta_3\\ \\ \\beta_4\\ \\ \\beta_5\\ \\ \\beta_6\\right]^T $$\n",
    "\n",
    "where $X_k$ is a column vector containing student GPA in the $k$-th semester on the training data. If $Y$ is a column vector containing the response variable, i.e., the study period on the training data, then the coefficient value of $\\beta_{ls}$ (estimator for $\\beta$) is given by\n",
    "\n",
    "$${\\hat{\\beta}}_{ls}=\\left(X^TX\\right)^{-1}\\left(X^TY\\right)$$\n"
   ]
  },
  {
   "cell_type": "code",
   "execution_count": 139,
   "metadata": {},
   "outputs": [
    {
     "data": {
      "text/plain": [
       "LinearRegressor(\n",
       "    fit_intercept = true,\n",
       "    solver = nothing)\u001b[34m @139\u001b[39m"
      ]
     },
     "execution_count": 139,
     "metadata": {},
     "output_type": "execute_result"
    }
   ],
   "source": [
    "LinearRegressor = (@load LinearRegressor pkg=MLJLinearModels verbosity=0)()"
   ]
  },
  {
   "cell_type": "code",
   "execution_count": 140,
   "metadata": {
    "scrolled": true
   },
   "outputs": [
    {
     "data": {
      "text/plain": [
       "\u001b[34mMachine{LinearRegressor,…} @681\u001b[39m trained 0 times; caches data\n",
       "  args: \n",
       "    1:\t\u001b[34mSource @199\u001b[39m ⏎ `Table{AbstractVector{Continuous}}`\n",
       "    2:\t\u001b[34mSource @014\u001b[39m ⏎ `AbstractVector{Continuous}`\n"
      ]
     },
     "execution_count": 140,
     "metadata": {},
     "output_type": "execute_result"
    }
   ],
   "source": [
    "mach = machine(LinearRegressor, X, y)"
   ]
  },
  {
   "cell_type": "code",
   "execution_count": 141,
   "metadata": {},
   "outputs": [
    {
     "name": "stderr",
     "output_type": "stream",
     "text": [
      "┌ Info: Training \u001b[34mMachine{LinearRegressor,…} @681\u001b[39m.\n",
      "└ @ MLJBase C:\\Users\\LENOVO\\.julia\\packages\\MLJBase\\4yebN\\src\\machines.jl:342\n"
     ]
    },
    {
     "data": {
      "text/plain": [
       "\u001b[34mMachine{LinearRegressor,…} @681\u001b[39m trained 1 time; caches data\n",
       "  args: \n",
       "    1:\t\u001b[34mSource @199\u001b[39m ⏎ `Table{AbstractVector{Continuous}}`\n",
       "    2:\t\u001b[34mSource @014\u001b[39m ⏎ `AbstractVector{Continuous}`\n"
      ]
     },
     "execution_count": 141,
     "metadata": {},
     "output_type": "execute_result"
    }
   ],
   "source": [
    "fit!(mach, rows=train)"
   ]
  },
  {
   "cell_type": "code",
   "execution_count": 142,
   "metadata": {},
   "outputs": [
    {
     "name": "stdout",
     "output_type": "stream",
     "text": [
      "(coefs = [:X1 => -0.7174945318425506,\n",
      "          :X2 => -7.074078312417492,\n",
      "          :X3 => 12.521469166893025,\n",
      "          :X4 => 18.43592083067355,\n",
      "          :X5 => -20.424593411338254,\n",
      "          :X6 => -9.085871856025403],\n",
      " intercept = 71.86860501193111)"
     ]
    }
   ],
   "source": [
    "fitted_params(mach) |> pprint"
   ]
  },
  {
   "cell_type": "code",
   "execution_count": 143,
   "metadata": {},
   "outputs": [
    {
     "data": {
      "text/plain": [
       "7-element Vector{Float64}:\n",
       "  71.86860501193405\n",
       "  -0.7174945318420214\n",
       "  -7.074078312405618\n",
       "  12.521469166864335\n",
       "  18.43592083073122\n",
       " -20.424593411415117\n",
       "  -9.08587185597571"
      ]
     },
     "execution_count": 143,
     "metadata": {},
     "output_type": "execute_result"
    }
   ],
   "source": [
    "# matrix formulation\n",
    "P = [fill(1,length(train),1) Matrix(X)[train,:]]\n",
    "inv(P'P)*(P'y[train])"
   ]
  },
  {
   "cell_type": "code",
   "execution_count": 144,
   "metadata": {},
   "outputs": [],
   "source": [
    "ŷ = predict(mach, rows=test);"
   ]
  },
  {
   "cell_type": "code",
   "execution_count": 145,
   "metadata": {},
   "outputs": [
    {
     "data": {
      "text/plain": [
       "6.646609930562984"
      ]
     },
     "execution_count": 145,
     "metadata": {},
     "output_type": "execute_result"
    }
   ],
   "source": [
    "rms(ŷ,y[test])"
   ]
  },
  {
   "cell_type": "code",
   "execution_count": 146,
   "metadata": {},
   "outputs": [
    {
     "data": {
      "text/plain": [
       "0.08854556141523304"
      ]
     },
     "execution_count": 146,
     "metadata": {},
     "output_type": "execute_result"
    }
   ],
   "source": [
    "mape(ŷ,y[test])"
   ]
  },
  {
   "cell_type": "code",
   "execution_count": 147,
   "metadata": {
    "scrolled": true
   },
   "outputs": [
    {
     "data": {
      "text/plain": [
       "20.44677384127303"
      ]
     },
     "execution_count": 147,
     "metadata": {},
     "output_type": "execute_result"
    }
   ],
   "source": [
    "maximum(abs.(ŷ.-y[test]))"
   ]
  },
  {
   "cell_type": "markdown",
   "metadata": {},
   "source": [
    "### 2 Ridge Regression Model\n",
    "Ridge regression is a method for estimating the coefficients of a regression model with a scenario where each predictor is highly correlated (Jones, 1972). The \"best\" coefficient value for the ridge regression model is obtained by minimizing the mean squared error (MSE) added with $l_2$-regularization (S. Wang, 2019), given by\n",
    "\n",
    "$$\n",
    "{\\hat{\\beta}}_r=\\arg{\\min\\limits_\\beta{\\frac{1}{N}\\sum_{i=1}^{N}\\left(f_\\beta\\left(x^{\\left(i\\right)}\\right)-y^{\\left(i\\right)}\\right)^2}}+\\lambda\\lVert β\\rVert_2^2\n",
    "$$\n",
    "\n",
    "where ${\\hat{\\beta}}_r$ is the approximate value of the coefficient $\\beta$ based on ridge regression, and $\\lambda$ is the hyperparameter or tuning parameter of the model. Hyperparameters can be tuned during the training process using the cross-validation method (An et al., 2007).\n",
    "\n",
    "Similar to least squares, ridge regression can also be solved using a matrix formulation. However, ridge regression requires the hyperparameter value $\\lambda$ to be tuned. For any hyperparameter value $\\lambda$, the coefficient value $\\beta_r$ (estimator for $\\beta$) is given by\n",
    "\n",
    "$${\\hat{\\beta}}_r=\\left(X^TX+\\lambda I\\right)^{-1}\\left(X^TY\\right)$$\n",
    "\n",
    "where $I$ is the identity matrix, and $\\lambda>0$ is small.\n"
   ]
  },
  {
   "cell_type": "code",
   "execution_count": 148,
   "metadata": {
    "scrolled": false
   },
   "outputs": [
    {
     "data": {
      "text/plain": [
       "RidgeRegressor(\n",
       "    lambda = 1.0,\n",
       "    fit_intercept = true,\n",
       "    penalize_intercept = false,\n",
       "    solver = nothing)\u001b[34m @444\u001b[39m"
      ]
     },
     "execution_count": 148,
     "metadata": {},
     "output_type": "execute_result"
    }
   ],
   "source": [
    "RidgeRegressor = (@load RidgeRegressor pkg=MLJLinearModels verbosity=0)()"
   ]
  },
  {
   "cell_type": "code",
   "execution_count": 149,
   "metadata": {},
   "outputs": [
    {
     "data": {
      "text/plain": [
       "typename(MLJBase.NumericRange)(Float64, :lambda, ... )"
      ]
     },
     "execution_count": 149,
     "metadata": {},
     "output_type": "execute_result"
    }
   ],
   "source": [
    "r = range(RidgeRegressor, :lambda , lower=0, upper=0.2)"
   ]
  },
  {
   "cell_type": "code",
   "execution_count": 150,
   "metadata": {},
   "outputs": [
    {
     "data": {
      "text/plain": [
       "DeterministicTunedModel(\n",
       "    model = RidgeRegressor(\n",
       "            lambda = 1.0,\n",
       "            fit_intercept = true,\n",
       "            penalize_intercept = false,\n",
       "            solver = nothing),\n",
       "    tuning = Grid(\n",
       "            goal = nothing,\n",
       "            resolution = 51,\n",
       "            shuffle = false,\n",
       "            rng = Random._GLOBAL_RNG()),\n",
       "    resampling = CV(\n",
       "            nfolds = 10,\n",
       "            shuffle = false,\n",
       "            rng = Random._GLOBAL_RNG()),\n",
       "    measure = MeanAbsoluteProportionalError(\n",
       "            tol = 2.220446049250313e-16),\n",
       "    weights = nothing,\n",
       "    operation = MLJModelInterface.predict,\n",
       "    range = MLJBase.NumericRange{Float64, MLJBase.Bounded, Symbol}[\u001b[34mNumericRange{Float64,…} @026\u001b[39m],\n",
       "    selection_heuristic = MLJTuning.NaiveSelection(nothing),\n",
       "    train_best = true,\n",
       "    repeats = 1,\n",
       "    n = nothing,\n",
       "    acceleration = CPU1{Nothing}(nothing),\n",
       "    acceleration_resampling = CPU1{Nothing}(nothing),\n",
       "    check_measure = true,\n",
       "    cache = true)\u001b[34m @662\u001b[39m"
      ]
     },
     "execution_count": 150,
     "metadata": {},
     "output_type": "execute_result"
    }
   ],
   "source": [
    "tunned_ridge_model = TunedModel(model=RidgeRegressor, \n",
    "    tuning=Grid(resolution = 51,shuffle = false),\n",
    "    resampling=CV(nfolds = 10),\n",
    "    ranges=[r, ], \n",
    "    measure=mape)"
   ]
  },
  {
   "cell_type": "code",
   "execution_count": 151,
   "metadata": {},
   "outputs": [
    {
     "name": "stderr",
     "output_type": "stream",
     "text": [
      "┌ Info: Training \u001b[34mMachine{DeterministicTunedModel{Grid,…},…} @956\u001b[39m.\n",
      "└ @ MLJBase C:\\Users\\LENOVO\\.julia\\packages\\MLJBase\\4yebN\\src\\machines.jl:342\n",
      "┌ Info: Attempting to evaluate 51 models.\n",
      "└ @ MLJTuning C:\\Users\\LENOVO\\.julia\\packages\\MLJTuning\\9sSuR\\src\\tuned_models.jl:564\n",
      "\u001b[33mEvaluating over 51 metamodels: 100%[=========================] Time: 0:00:00\u001b[39m\n"
     ]
    },
    {
     "data": {
      "text/plain": [
       "\u001b[34mMachine{DeterministicTunedModel{Grid,…},…} @956\u001b[39m trained 1 time; caches data\n",
       "  args: \n",
       "    1:\t\u001b[34mSource @565\u001b[39m ⏎ `Table{AbstractVector{Continuous}}`\n",
       "    2:\t\u001b[34mSource @442\u001b[39m ⏎ `AbstractVector{Continuous}`\n"
      ]
     },
     "execution_count": 151,
     "metadata": {},
     "output_type": "execute_result"
    }
   ],
   "source": [
    "mach = machine(tunned_ridge_model, X, y)\n",
    "fit!(mach, rows=train)"
   ]
  },
  {
   "cell_type": "code",
   "execution_count": 152,
   "metadata": {},
   "outputs": [
    {
     "data": {
      "text/plain": [
       "RidgeRegressor(\n",
       "    lambda = 0.084,\n",
       "    fit_intercept = true,\n",
       "    penalize_intercept = false,\n",
       "    solver = nothing)\u001b[34m @050\u001b[39m"
      ]
     },
     "execution_count": 152,
     "metadata": {},
     "output_type": "execute_result"
    }
   ],
   "source": [
    "fitted_params(mach).best_model"
   ]
  },
  {
   "cell_type": "code",
   "execution_count": 153,
   "metadata": {
    "scrolled": true
   },
   "outputs": [
    {
     "name": "stdout",
     "output_type": "stream",
     "text": [
      "(coefs = [:X1 => 0.5545526453767222,\n",
      "          :X2 => -5.360959007261537,\n",
      "          :X3 => 10.502891662028114,\n",
      "          :X4 => 13.459309101503168,\n",
      "          :X5 => -11.275224352563361,\n",
      "          :X6 => -12.385149883354764],\n",
      " intercept = 65.29074484817389)"
     ]
    }
   ],
   "source": [
    "fitted_params(mach).best_fitted_params |> pprint"
   ]
  },
  {
   "cell_type": "code",
   "execution_count": 154,
   "metadata": {},
   "outputs": [
    {
     "data": {
      "text/plain": [
       "7-element Vector{Float64}:\n",
       "  67.81250065207587\n",
       "   0.01749814308459463\n",
       "  -6.011992029513749\n",
       "  11.262811477666219\n",
       "  15.151602495363932\n",
       " -14.051672734756721\n",
       " -11.582412492010917"
      ]
     },
     "execution_count": 154,
     "metadata": {},
     "output_type": "execute_result"
    }
   ],
   "source": [
    "# matrix formulation\n",
    "using LinearAlgebra\n",
    "λ = 0.048\n",
    "P = [fill(1,length(train),1) Matrix(X)[train,:]]\n",
    "inv(P'P+I(7)*λ)*(P'y[train])"
   ]
  },
  {
   "cell_type": "code",
   "execution_count": 155,
   "metadata": {},
   "outputs": [],
   "source": [
    "ŷ = predict(mach, rows=test);"
   ]
  },
  {
   "cell_type": "code",
   "execution_count": 156,
   "metadata": {},
   "outputs": [
    {
     "data": {
      "text/plain": [
       "6.454254269853943"
      ]
     },
     "execution_count": 156,
     "metadata": {},
     "output_type": "execute_result"
    }
   ],
   "source": [
    "rms(ŷ,y[test])"
   ]
  },
  {
   "cell_type": "code",
   "execution_count": 157,
   "metadata": {},
   "outputs": [
    {
     "data": {
      "text/plain": [
       "0.08521158336113369"
      ]
     },
     "execution_count": 157,
     "metadata": {},
     "output_type": "execute_result"
    }
   ],
   "source": [
    "mape(ŷ,y[test])"
   ]
  },
  {
   "cell_type": "code",
   "execution_count": 158,
   "metadata": {
    "scrolled": true
   },
   "outputs": [
    {
     "data": {
      "text/plain": [
       "21.336121627889895"
      ]
     },
     "execution_count": 158,
     "metadata": {},
     "output_type": "execute_result"
    }
   ],
   "source": [
    "maximum(abs.(ŷ.-y[test]))"
   ]
  },
  {
   "cell_type": "code",
   "execution_count": 159,
   "metadata": {},
   "outputs": [
    {
     "data": {
      "text/plain": [
       "100"
      ]
     },
     "execution_count": 159,
     "metadata": {},
     "output_type": "execute_result"
    }
   ],
   "source": [
    "ENV[\"LINES\"]=100"
   ]
  },
  {
   "cell_type": "code",
   "execution_count": 160,
   "metadata": {},
   "outputs": [
    {
     "data": {
      "text/plain": [
       "51×2 Matrix{Float64}:\n",
       " 0.0    0.0907633\n",
       " 0.004  0.0906475\n",
       " 0.008  0.0905454\n",
       " 0.012  0.0904609\n",
       " 0.016  0.090381\n",
       " 0.02   0.0903054\n",
       " 0.024  0.0902378\n",
       " 0.028  0.0901815\n",
       " 0.032  0.0901322\n",
       " 0.036  0.0900855\n",
       " 0.04   0.0900413\n",
       " 0.044  0.0899994\n",
       " 0.048  0.0899597\n",
       " 0.052  0.0899222\n",
       " 0.056  0.0898956\n",
       " 0.06   0.0898704\n",
       " 0.064  0.0898467\n",
       " 0.068  0.0898243\n",
       " 0.072  0.0898031\n",
       " 0.076  0.0897847\n",
       " 0.08   0.089772\n",
       " 0.084  0.0897693\n",
       " 0.088  0.089771\n",
       " 0.092  0.0897733\n",
       " 0.096  0.089776\n",
       " 0.1    0.0897793\n",
       " 0.104  0.089783\n",
       " 0.108  0.0897872\n",
       " 0.112  0.0897917\n",
       " 0.116  0.0898008\n",
       " 0.12   0.0898125\n",
       " 0.124  0.0898359\n",
       " 0.128  0.0898617\n",
       " 0.132  0.0898876\n",
       " 0.136  0.0899135\n",
       " 0.14   0.0899394\n",
       " 0.144  0.0899654\n",
       " 0.148  0.0899914\n",
       " 0.152  0.0900174\n",
       " 0.156  0.0900434\n",
       " 0.16   0.0900693\n",
       " 0.164  0.0900953\n",
       " 0.168  0.0901213\n",
       " 0.172  0.0901472\n",
       " 0.176  0.0901731\n",
       " 0.18   0.0901989\n",
       " 0.184  0.0902247\n",
       " 0.188  0.0902505\n",
       " 0.192  0.0902762\n",
       " 0.196  0.0903018\n",
       " 0.2    0.0903274"
      ]
     },
     "execution_count": 160,
     "metadata": {},
     "output_type": "execute_result"
    }
   ],
   "source": [
    "rep = report(mach);\n",
    "plt = rep.plotting;\n",
    "[Float64.(plt.parameter_values) plt.measurements]"
   ]
  },
  {
   "cell_type": "code",
   "execution_count": 161,
   "metadata": {},
   "outputs": [
    {
     "data": {
      "image/svg+xml": [
       "<?xml version=\"1.0\" encoding=\"utf-8\"?>\n",
       "<svg xmlns=\"http://www.w3.org/2000/svg\" xmlns:xlink=\"http://www.w3.org/1999/xlink\" width=\"600\" height=\"400\" viewBox=\"0 0 2400 1600\">\n",
       "<defs>\n",
       "  <clipPath id=\"clip840\">\n",
       "    <rect x=\"0\" y=\"0\" width=\"2400\" height=\"1600\"/>\n",
       "  </clipPath>\n",
       "</defs>\n",
       "<path clip-path=\"url(#clip840)\" d=\"\n",
       "M0 1600 L2400 1600 L2400 0 L0 0  Z\n",
       "  \" fill=\"#ffffff\" fill-rule=\"evenodd\" fill-opacity=\"1\"/>\n",
       "<defs>\n",
       "  <clipPath id=\"clip841\">\n",
       "    <rect x=\"480\" y=\"0\" width=\"1681\" height=\"1600\"/>\n",
       "  </clipPath>\n",
       "</defs>\n",
       "<path clip-path=\"url(#clip840)\" d=\"\n",
       "M310.352 1423.18 L2352.76 1423.18 L2352.76 123.472 L310.352 123.472  Z\n",
       "  \" fill=\"#ffffff\" fill-rule=\"evenodd\" fill-opacity=\"1\"/>\n",
       "<defs>\n",
       "  <clipPath id=\"clip842\">\n",
       "    <rect x=\"310\" y=\"123\" width=\"2043\" height=\"1301\"/>\n",
       "  </clipPath>\n",
       "</defs>\n",
       "<polyline clip-path=\"url(#clip842)\" style=\"stroke:#000000; stroke-width:2; stroke-opacity:0.1; fill:none\" points=\"\n",
       "  368.156,1423.18 368.156,123.472 \n",
       "  \"/>\n",
       "<polyline clip-path=\"url(#clip842)\" style=\"stroke:#000000; stroke-width:2; stroke-opacity:0.1; fill:none\" points=\"\n",
       "  849.855,1423.18 849.855,123.472 \n",
       "  \"/>\n",
       "<polyline clip-path=\"url(#clip842)\" style=\"stroke:#000000; stroke-width:2; stroke-opacity:0.1; fill:none\" points=\"\n",
       "  1331.55,1423.18 1331.55,123.472 \n",
       "  \"/>\n",
       "<polyline clip-path=\"url(#clip842)\" style=\"stroke:#000000; stroke-width:2; stroke-opacity:0.1; fill:none\" points=\"\n",
       "  1813.25,1423.18 1813.25,123.472 \n",
       "  \"/>\n",
       "<polyline clip-path=\"url(#clip842)\" style=\"stroke:#000000; stroke-width:2; stroke-opacity:0.1; fill:none\" points=\"\n",
       "  2294.95,1423.18 2294.95,123.472 \n",
       "  \"/>\n",
       "<polyline clip-path=\"url(#clip840)\" style=\"stroke:#000000; stroke-width:4; stroke-opacity:1; fill:none\" points=\"\n",
       "  310.352,1423.18 2352.76,1423.18 \n",
       "  \"/>\n",
       "<polyline clip-path=\"url(#clip840)\" style=\"stroke:#000000; stroke-width:4; stroke-opacity:1; fill:none\" points=\"\n",
       "  368.156,1423.18 368.156,1407.58 \n",
       "  \"/>\n",
       "<polyline clip-path=\"url(#clip840)\" style=\"stroke:#000000; stroke-width:4; stroke-opacity:1; fill:none\" points=\"\n",
       "  849.855,1423.18 849.855,1407.58 \n",
       "  \"/>\n",
       "<polyline clip-path=\"url(#clip840)\" style=\"stroke:#000000; stroke-width:4; stroke-opacity:1; fill:none\" points=\"\n",
       "  1331.55,1423.18 1331.55,1407.58 \n",
       "  \"/>\n",
       "<polyline clip-path=\"url(#clip840)\" style=\"stroke:#000000; stroke-width:4; stroke-opacity:1; fill:none\" points=\"\n",
       "  1813.25,1423.18 1813.25,1407.58 \n",
       "  \"/>\n",
       "<polyline clip-path=\"url(#clip840)\" style=\"stroke:#000000; stroke-width:4; stroke-opacity:1; fill:none\" points=\"\n",
       "  2294.95,1423.18 2294.95,1407.58 \n",
       "  \"/>\n",
       "<path clip-path=\"url(#clip840)\" d=\"M 0 0 M330.459 1452.37 Q326.848 1452.37 325.019 1455.94 Q323.214 1459.48 323.214 1466.61 Q323.214 1473.71 325.019 1477.28 Q326.848 1480.82 330.459 1480.82 Q334.093 1480.82 335.899 1477.28 Q337.728 1473.71 337.728 1466.61 Q337.728 1459.48 335.899 1455.94 Q334.093 1452.37 330.459 1452.37 M330.459 1448.67 Q336.269 1448.67 339.325 1453.27 Q342.404 1457.86 342.404 1466.61 Q342.404 1475.33 339.325 1479.94 Q336.269 1484.52 330.459 1484.52 Q324.649 1484.52 321.57 1479.94 Q318.515 1475.33 318.515 1466.61 Q318.515 1457.86 321.57 1453.27 Q324.649 1448.67 330.459 1448.67 Z\" fill=\"#000000\" fill-rule=\"evenodd\" fill-opacity=\"1\" /><path clip-path=\"url(#clip840)\" d=\"M 0 0 M350.621 1477.97 L355.505 1477.97 L355.505 1483.85 L350.621 1483.85 L350.621 1477.97 Z\" fill=\"#000000\" fill-rule=\"evenodd\" fill-opacity=\"1\" /><path clip-path=\"url(#clip840)\" d=\"M 0 0 M375.69 1452.37 Q372.079 1452.37 370.251 1455.94 Q368.445 1459.48 368.445 1466.61 Q368.445 1473.71 370.251 1477.28 Q372.079 1480.82 375.69 1480.82 Q379.325 1480.82 381.13 1477.28 Q382.959 1473.71 382.959 1466.61 Q382.959 1459.48 381.13 1455.94 Q379.325 1452.37 375.69 1452.37 M375.69 1448.67 Q381.501 1448.67 384.556 1453.27 Q387.635 1457.86 387.635 1466.61 Q387.635 1475.33 384.556 1479.94 Q381.501 1484.52 375.69 1484.52 Q369.88 1484.52 366.802 1479.94 Q363.746 1475.33 363.746 1466.61 Q363.746 1457.86 366.802 1453.27 Q369.88 1448.67 375.69 1448.67 Z\" fill=\"#000000\" fill-rule=\"evenodd\" fill-opacity=\"1\" /><path clip-path=\"url(#clip840)\" d=\"M 0 0 M405.852 1452.37 Q402.241 1452.37 400.413 1455.94 Q398.607 1459.48 398.607 1466.61 Q398.607 1473.71 400.413 1477.28 Q402.241 1480.82 405.852 1480.82 Q409.487 1480.82 411.292 1477.28 Q413.121 1473.71 413.121 1466.61 Q413.121 1459.48 411.292 1455.94 Q409.487 1452.37 405.852 1452.37 M405.852 1448.67 Q411.662 1448.67 414.718 1453.27 Q417.797 1457.86 417.797 1466.61 Q417.797 1475.33 414.718 1479.94 Q411.662 1484.52 405.852 1484.52 Q400.042 1484.52 396.963 1479.94 Q393.908 1475.33 393.908 1466.61 Q393.908 1457.86 396.963 1453.27 Q400.042 1448.67 405.852 1448.67 Z\" fill=\"#000000\" fill-rule=\"evenodd\" fill-opacity=\"1\" /><path clip-path=\"url(#clip840)\" d=\"M 0 0 M812.656 1452.37 Q809.045 1452.37 807.216 1455.94 Q805.411 1459.48 805.411 1466.61 Q805.411 1473.71 807.216 1477.28 Q809.045 1480.82 812.656 1480.82 Q816.29 1480.82 818.096 1477.28 Q819.924 1473.71 819.924 1466.61 Q819.924 1459.48 818.096 1455.94 Q816.29 1452.37 812.656 1452.37 M812.656 1448.67 Q818.466 1448.67 821.522 1453.27 Q824.6 1457.86 824.6 1466.61 Q824.6 1475.33 821.522 1479.94 Q818.466 1484.52 812.656 1484.52 Q806.846 1484.52 803.767 1479.94 Q800.712 1475.33 800.712 1466.61 Q800.712 1457.86 803.767 1453.27 Q806.846 1448.67 812.656 1448.67 Z\" fill=\"#000000\" fill-rule=\"evenodd\" fill-opacity=\"1\" /><path clip-path=\"url(#clip840)\" d=\"M 0 0 M832.818 1477.97 L837.702 1477.97 L837.702 1483.85 L832.818 1483.85 L832.818 1477.97 Z\" fill=\"#000000\" fill-rule=\"evenodd\" fill-opacity=\"1\" /><path clip-path=\"url(#clip840)\" d=\"M 0 0 M857.887 1452.37 Q854.276 1452.37 852.447 1455.94 Q850.642 1459.48 850.642 1466.61 Q850.642 1473.71 852.447 1477.28 Q854.276 1480.82 857.887 1480.82 Q861.521 1480.82 863.327 1477.28 Q865.156 1473.71 865.156 1466.61 Q865.156 1459.48 863.327 1455.94 Q861.521 1452.37 857.887 1452.37 M857.887 1448.67 Q863.697 1448.67 866.753 1453.27 Q869.832 1457.86 869.832 1466.61 Q869.832 1475.33 866.753 1479.94 Q863.697 1484.52 857.887 1484.52 Q852.077 1484.52 848.998 1479.94 Q845.943 1475.33 845.943 1466.61 Q845.943 1457.86 848.998 1453.27 Q852.077 1448.67 857.887 1448.67 Z\" fill=\"#000000\" fill-rule=\"evenodd\" fill-opacity=\"1\" /><path clip-path=\"url(#clip840)\" d=\"M 0 0 M878.095 1449.29 L896.452 1449.29 L896.452 1453.23 L882.378 1453.23 L882.378 1461.7 Q883.396 1461.35 884.415 1461.19 Q885.433 1461 886.452 1461 Q892.239 1461 895.618 1464.18 Q898.998 1467.35 898.998 1472.76 Q898.998 1478.34 895.526 1481.44 Q892.054 1484.52 885.734 1484.52 Q883.558 1484.52 881.29 1484.15 Q879.044 1483.78 876.637 1483.04 L876.637 1478.34 Q878.72 1479.48 880.943 1480.03 Q883.165 1480.59 885.642 1480.59 Q889.646 1480.59 891.984 1478.48 Q894.322 1476.38 894.322 1472.76 Q894.322 1469.15 891.984 1467.05 Q889.646 1464.94 885.642 1464.94 Q883.767 1464.94 881.892 1465.36 Q880.04 1465.77 878.095 1466.65 L878.095 1449.29 Z\" fill=\"#000000\" fill-rule=\"evenodd\" fill-opacity=\"1\" /><path clip-path=\"url(#clip840)\" d=\"M 0 0 M1293.86 1452.37 Q1290.25 1452.37 1288.42 1455.94 Q1286.61 1459.48 1286.61 1466.61 Q1286.61 1473.71 1288.42 1477.28 Q1290.25 1480.82 1293.86 1480.82 Q1297.49 1480.82 1299.3 1477.28 Q1301.13 1473.71 1301.13 1466.61 Q1301.13 1459.48 1299.3 1455.94 Q1297.49 1452.37 1293.86 1452.37 M1293.86 1448.67 Q1299.67 1448.67 1302.72 1453.27 Q1305.8 1457.86 1305.8 1466.61 Q1305.8 1475.33 1302.72 1479.94 Q1299.67 1484.52 1293.86 1484.52 Q1288.05 1484.52 1284.97 1479.94 Q1281.91 1475.33 1281.91 1466.61 Q1281.91 1457.86 1284.97 1453.27 Q1288.05 1448.67 1293.86 1448.67 Z\" fill=\"#000000\" fill-rule=\"evenodd\" fill-opacity=\"1\" /><path clip-path=\"url(#clip840)\" d=\"M 0 0 M1314.02 1477.97 L1318.9 1477.97 L1318.9 1483.85 L1314.02 1483.85 L1314.02 1477.97 Z\" fill=\"#000000\" fill-rule=\"evenodd\" fill-opacity=\"1\" /><path clip-path=\"url(#clip840)\" d=\"M 0 0 M1329.9 1479.92 L1337.54 1479.92 L1337.54 1453.55 L1329.23 1455.22 L1329.23 1450.96 L1337.49 1449.29 L1342.17 1449.29 L1342.17 1479.92 L1349.81 1479.92 L1349.81 1483.85 L1329.9 1483.85 L1329.9 1479.92 Z\" fill=\"#000000\" fill-rule=\"evenodd\" fill-opacity=\"1\" /><path clip-path=\"url(#clip840)\" d=\"M 0 0 M1369.25 1452.37 Q1365.64 1452.37 1363.81 1455.94 Q1362.01 1459.48 1362.01 1466.61 Q1362.01 1473.71 1363.81 1477.28 Q1365.64 1480.82 1369.25 1480.82 Q1372.88 1480.82 1374.69 1477.28 Q1376.52 1473.71 1376.52 1466.61 Q1376.52 1459.48 1374.69 1455.94 Q1372.88 1452.37 1369.25 1452.37 M1369.25 1448.67 Q1375.06 1448.67 1378.12 1453.27 Q1381.19 1457.86 1381.19 1466.61 Q1381.19 1475.33 1378.12 1479.94 Q1375.06 1484.52 1369.25 1484.52 Q1363.44 1484.52 1360.36 1479.94 Q1357.31 1475.33 1357.31 1466.61 Q1357.31 1457.86 1360.36 1453.27 Q1363.44 1448.67 1369.25 1448.67 Z\" fill=\"#000000\" fill-rule=\"evenodd\" fill-opacity=\"1\" /><path clip-path=\"url(#clip840)\" d=\"M 0 0 M1776.05 1452.37 Q1772.44 1452.37 1770.61 1455.94 Q1768.81 1459.48 1768.81 1466.61 Q1768.81 1473.71 1770.61 1477.28 Q1772.44 1480.82 1776.05 1480.82 Q1779.69 1480.82 1781.49 1477.28 Q1783.32 1473.71 1783.32 1466.61 Q1783.32 1459.48 1781.49 1455.94 Q1779.69 1452.37 1776.05 1452.37 M1776.05 1448.67 Q1781.86 1448.67 1784.92 1453.27 Q1788 1457.86 1788 1466.61 Q1788 1475.33 1784.92 1479.94 Q1781.86 1484.52 1776.05 1484.52 Q1770.24 1484.52 1767.17 1479.94 Q1764.11 1475.33 1764.11 1466.61 Q1764.11 1457.86 1767.17 1453.27 Q1770.24 1448.67 1776.05 1448.67 Z\" fill=\"#000000\" fill-rule=\"evenodd\" fill-opacity=\"1\" /><path clip-path=\"url(#clip840)\" d=\"M 0 0 M1796.22 1477.97 L1801.1 1477.97 L1801.1 1483.85 L1796.22 1483.85 L1796.22 1477.97 Z\" fill=\"#000000\" fill-rule=\"evenodd\" fill-opacity=\"1\" /><path clip-path=\"url(#clip840)\" d=\"M 0 0 M1812.1 1479.92 L1819.73 1479.92 L1819.73 1453.55 L1811.42 1455.22 L1811.42 1450.96 L1819.69 1449.29 L1824.36 1449.29 L1824.36 1479.92 L1832 1479.92 L1832 1483.85 L1812.1 1483.85 L1812.1 1479.92 Z\" fill=\"#000000\" fill-rule=\"evenodd\" fill-opacity=\"1\" /><path clip-path=\"url(#clip840)\" d=\"M 0 0 M1841.49 1449.29 L1859.85 1449.29 L1859.85 1453.23 L1845.78 1453.23 L1845.78 1461.7 Q1846.79 1461.35 1847.81 1461.19 Q1848.83 1461 1849.85 1461 Q1855.64 1461 1859.02 1464.18 Q1862.4 1467.35 1862.4 1472.76 Q1862.4 1478.34 1858.92 1481.44 Q1855.45 1484.52 1849.13 1484.52 Q1846.96 1484.52 1844.69 1484.15 Q1842.44 1483.78 1840.04 1483.04 L1840.04 1478.34 Q1842.12 1479.48 1844.34 1480.03 Q1846.56 1480.59 1849.04 1480.59 Q1853.04 1480.59 1855.38 1478.48 Q1857.72 1476.38 1857.72 1472.76 Q1857.72 1469.15 1855.38 1467.05 Q1853.04 1464.94 1849.04 1464.94 Q1847.16 1464.94 1845.29 1465.36 Q1843.44 1465.77 1841.49 1466.65 L1841.49 1449.29 Z\" fill=\"#000000\" fill-rule=\"evenodd\" fill-opacity=\"1\" /><path clip-path=\"url(#clip840)\" d=\"M 0 0 M2257.26 1452.37 Q2253.64 1452.37 2251.82 1455.94 Q2250.01 1459.48 2250.01 1466.61 Q2250.01 1473.71 2251.82 1477.28 Q2253.64 1480.82 2257.26 1480.82 Q2260.89 1480.82 2262.7 1477.28 Q2264.52 1473.71 2264.52 1466.61 Q2264.52 1459.48 2262.7 1455.94 Q2260.89 1452.37 2257.26 1452.37 M2257.26 1448.67 Q2263.07 1448.67 2266.12 1453.27 Q2269.2 1457.86 2269.2 1466.61 Q2269.2 1475.33 2266.12 1479.94 Q2263.07 1484.52 2257.26 1484.52 Q2251.45 1484.52 2248.37 1479.94 Q2245.31 1475.33 2245.31 1466.61 Q2245.31 1457.86 2248.37 1453.27 Q2251.45 1448.67 2257.26 1448.67 Z\" fill=\"#000000\" fill-rule=\"evenodd\" fill-opacity=\"1\" /><path clip-path=\"url(#clip840)\" d=\"M 0 0 M2277.42 1477.97 L2282.3 1477.97 L2282.3 1483.85 L2277.42 1483.85 L2277.42 1477.97 Z\" fill=\"#000000\" fill-rule=\"evenodd\" fill-opacity=\"1\" /><path clip-path=\"url(#clip840)\" d=\"M 0 0 M2296.51 1479.92 L2312.83 1479.92 L2312.83 1483.85 L2290.89 1483.85 L2290.89 1479.92 Q2293.55 1477.16 2298.13 1472.53 Q2302.74 1467.88 2303.92 1466.54 Q2306.17 1464.01 2307.05 1462.28 Q2307.95 1460.52 2307.95 1458.83 Q2307.95 1456.07 2306.01 1454.34 Q2304.08 1452.6 2300.98 1452.6 Q2298.78 1452.6 2296.33 1453.37 Q2293.9 1454.13 2291.12 1455.68 L2291.12 1450.96 Q2293.95 1449.82 2296.4 1449.25 Q2298.85 1448.67 2300.89 1448.67 Q2306.26 1448.67 2309.45 1451.35 Q2312.65 1454.04 2312.65 1458.53 Q2312.65 1460.66 2311.84 1462.58 Q2311.05 1464.48 2308.94 1467.07 Q2308.37 1467.74 2305.26 1470.96 Q2302.16 1474.15 2296.51 1479.92 Z\" fill=\"#000000\" fill-rule=\"evenodd\" fill-opacity=\"1\" /><path clip-path=\"url(#clip840)\" d=\"M 0 0 M2332.65 1452.37 Q2329.04 1452.37 2327.21 1455.94 Q2325.4 1459.48 2325.4 1466.61 Q2325.4 1473.71 2327.21 1477.28 Q2329.04 1480.82 2332.65 1480.82 Q2336.28 1480.82 2338.09 1477.28 Q2339.92 1473.71 2339.92 1466.61 Q2339.92 1459.48 2338.09 1455.94 Q2336.28 1452.37 2332.65 1452.37 M2332.65 1448.67 Q2338.46 1448.67 2341.51 1453.27 Q2344.59 1457.86 2344.59 1466.61 Q2344.59 1475.33 2341.51 1479.94 Q2338.46 1484.52 2332.65 1484.52 Q2326.84 1484.52 2323.76 1479.94 Q2320.7 1475.33 2320.7 1466.61 Q2320.7 1457.86 2323.76 1453.27 Q2326.84 1448.67 2332.65 1448.67 Z\" fill=\"#000000\" fill-rule=\"evenodd\" fill-opacity=\"1\" /><path clip-path=\"url(#clip840)\" d=\"M 0 0 M1059.18 1546.53 L1059.18 1568.04 L1053.32 1568.04 L1053.32 1546.72 Q1053.32 1541.66 1051.35 1539.14 Q1049.38 1536.63 1045.43 1536.63 Q1040.69 1536.63 1037.95 1539.65 Q1035.21 1542.68 1035.21 1547.9 L1035.21 1568.04 L1029.33 1568.04 L1029.33 1518.52 L1035.21 1518.52 L1035.21 1537.93 Q1037.32 1534.72 1040.15 1533.13 Q1043.01 1531.54 1046.74 1531.54 Q1052.88 1531.54 1056.03 1535.36 Q1059.18 1539.14 1059.18 1546.53 Z\" fill=\"#000000\" fill-rule=\"evenodd\" fill-opacity=\"1\" /><path clip-path=\"url(#clip840)\" d=\"M 0 0 M1085.69 1571.35 Q1083.21 1577.72 1080.86 1579.66 Q1078.5 1581.6 1074.55 1581.6 L1069.88 1581.6 L1069.88 1576.7 L1073.31 1576.7 Q1075.73 1576.7 1077.07 1575.56 Q1078.41 1574.41 1080.03 1570.14 L1081.08 1567.47 L1066.66 1532.4 L1072.87 1532.4 L1084.01 1560.28 L1095.15 1532.4 L1101.35 1532.4 L1085.69 1571.35 Z\" fill=\"#000000\" fill-rule=\"evenodd\" fill-opacity=\"1\" /><path clip-path=\"url(#clip840)\" d=\"M 0 0 M1115.1 1562.7 L1115.1 1581.6 L1109.22 1581.6 L1109.22 1532.4 L1115.1 1532.4 L1115.1 1537.81 Q1116.95 1534.62 1119.75 1533.1 Q1122.58 1531.54 1126.5 1531.54 Q1132.99 1531.54 1137.03 1536.69 Q1141.11 1541.85 1141.11 1550.25 Q1141.11 1558.65 1137.03 1563.81 Q1132.99 1568.97 1126.5 1568.97 Q1122.58 1568.97 1119.75 1567.44 Q1116.95 1565.88 1115.1 1562.7 M1135.03 1550.25 Q1135.03 1543.79 1132.36 1540.13 Q1129.71 1536.44 1125.07 1536.44 Q1120.42 1536.44 1117.75 1540.13 Q1115.1 1543.79 1115.1 1550.25 Q1115.1 1556.71 1117.75 1560.4 Q1120.42 1564.07 1125.07 1564.07 Q1129.71 1564.07 1132.36 1560.4 Q1135.03 1556.71 1135.03 1550.25 Z\" fill=\"#000000\" fill-rule=\"evenodd\" fill-opacity=\"1\" /><path clip-path=\"url(#clip840)\" d=\"M 0 0 M1181.31 1548.76 L1181.31 1551.62 L1154.38 1551.62 Q1154.76 1557.67 1158.01 1560.85 Q1161.29 1564 1167.11 1564 Q1170.49 1564 1173.64 1563.17 Q1176.82 1562.35 1179.94 1560.69 L1179.94 1566.23 Q1176.79 1567.57 1173.48 1568.27 Q1170.17 1568.97 1166.76 1568.97 Q1158.23 1568.97 1153.23 1564 Q1148.27 1559.04 1148.27 1550.57 Q1148.27 1541.82 1152.98 1536.69 Q1157.72 1531.54 1165.74 1531.54 Q1172.94 1531.54 1177.11 1536.18 Q1181.31 1540.8 1181.31 1548.76 M1175.45 1547.04 Q1175.39 1542.23 1172.75 1539.37 Q1170.14 1536.5 1165.81 1536.5 Q1160.91 1536.5 1157.95 1539.27 Q1155.02 1542.04 1154.57 1547.07 L1175.45 1547.04 Z\" fill=\"#000000\" fill-rule=\"evenodd\" fill-opacity=\"1\" /><path clip-path=\"url(#clip840)\" d=\"M 0 0 M1211.58 1537.87 Q1210.59 1537.3 1209.41 1537.04 Q1208.27 1536.76 1206.87 1536.76 Q1201.9 1536.76 1199.23 1540 Q1196.59 1543.22 1196.59 1549.27 L1196.59 1568.04 L1190.7 1568.04 L1190.7 1532.4 L1196.59 1532.4 L1196.59 1537.93 Q1198.43 1534.69 1201.39 1533.13 Q1204.35 1531.54 1208.58 1531.54 Q1209.19 1531.54 1209.92 1531.63 Q1210.65 1531.7 1211.54 1531.85 L1211.58 1537.87 Z\" fill=\"#000000\" fill-rule=\"evenodd\" fill-opacity=\"1\" /><path clip-path=\"url(#clip840)\" d=\"M 0 0 M1223.38 1562.7 L1223.38 1581.6 L1217.5 1581.6 L1217.5 1532.4 L1223.38 1532.4 L1223.38 1537.81 Q1225.23 1534.62 1228.03 1533.1 Q1230.86 1531.54 1234.78 1531.54 Q1241.27 1531.54 1245.31 1536.69 Q1249.39 1541.85 1249.39 1550.25 Q1249.39 1558.65 1245.31 1563.81 Q1241.27 1568.97 1234.78 1568.97 Q1230.86 1568.97 1228.03 1567.44 Q1225.23 1565.88 1223.38 1562.7 M1243.31 1550.25 Q1243.31 1543.79 1240.64 1540.13 Q1237.99 1536.44 1233.35 1536.44 Q1228.7 1536.44 1226.03 1540.13 Q1223.38 1543.79 1223.38 1550.25 Q1223.38 1556.71 1226.03 1560.4 Q1228.7 1564.07 1233.35 1564.07 Q1237.99 1564.07 1240.64 1560.4 Q1243.31 1556.71 1243.31 1550.25 Z\" fill=\"#000000\" fill-rule=\"evenodd\" fill-opacity=\"1\" /><path clip-path=\"url(#clip840)\" d=\"M 0 0 M1275.3 1550.12 Q1268.2 1550.12 1265.46 1551.75 Q1262.72 1553.37 1262.72 1557.29 Q1262.72 1560.4 1264.76 1562.25 Q1266.83 1564.07 1270.36 1564.07 Q1275.23 1564.07 1278.16 1560.63 Q1281.12 1557.16 1281.12 1551.43 L1281.12 1550.12 L1275.3 1550.12 M1286.98 1547.71 L1286.98 1568.04 L1281.12 1568.04 L1281.12 1562.63 Q1279.12 1565.88 1276.12 1567.44 Q1273.13 1568.97 1268.8 1568.97 Q1263.33 1568.97 1260.08 1565.91 Q1256.87 1562.82 1256.87 1557.67 Q1256.87 1551.65 1260.88 1548.6 Q1264.92 1545.54 1272.91 1545.54 L1281.12 1545.54 L1281.12 1544.97 Q1281.12 1540.93 1278.45 1538.73 Q1275.81 1536.5 1271 1536.5 Q1267.94 1536.5 1265.05 1537.23 Q1262.15 1537.97 1259.48 1539.43 L1259.48 1534.02 Q1262.69 1532.78 1265.72 1532.17 Q1268.74 1531.54 1271.6 1531.54 Q1279.34 1531.54 1283.16 1535.55 Q1286.98 1539.56 1286.98 1547.71 Z\" fill=\"#000000\" fill-rule=\"evenodd\" fill-opacity=\"1\" /><path clip-path=\"url(#clip840)\" d=\"M 0 0 M1319.7 1537.87 Q1318.71 1537.3 1317.53 1537.04 Q1316.39 1536.76 1314.99 1536.76 Q1310.02 1536.76 1307.35 1540 Q1304.71 1543.22 1304.71 1549.27 L1304.71 1568.04 L1298.82 1568.04 L1298.82 1532.4 L1304.71 1532.4 L1304.71 1537.93 Q1306.55 1534.69 1309.51 1533.13 Q1312.47 1531.54 1316.71 1531.54 Q1317.31 1531.54 1318.04 1531.63 Q1318.77 1531.7 1319.67 1531.85 L1319.7 1537.87 Z\" fill=\"#000000\" fill-rule=\"evenodd\" fill-opacity=\"1\" /><path clip-path=\"url(#clip840)\" d=\"M 0 0 M1342.04 1550.12 Q1334.94 1550.12 1332.21 1551.75 Q1329.47 1553.37 1329.47 1557.29 Q1329.47 1560.4 1331.51 1562.25 Q1333.58 1564.07 1337.11 1564.07 Q1341.98 1564.07 1344.91 1560.63 Q1347.87 1557.16 1347.87 1551.43 L1347.87 1550.12 L1342.04 1550.12 M1353.72 1547.71 L1353.72 1568.04 L1347.87 1568.04 L1347.87 1562.63 Q1345.86 1565.88 1342.87 1567.44 Q1339.88 1568.97 1335.55 1568.97 Q1330.07 1568.97 1326.83 1565.91 Q1323.61 1562.82 1323.61 1557.67 Q1323.61 1551.65 1327.62 1548.6 Q1331.67 1545.54 1339.65 1545.54 L1347.87 1545.54 L1347.87 1544.97 Q1347.87 1540.93 1345.19 1538.73 Q1342.55 1536.5 1337.74 1536.5 Q1334.69 1536.5 1331.79 1537.23 Q1328.9 1537.97 1326.22 1539.43 L1326.22 1534.02 Q1329.44 1532.78 1332.46 1532.17 Q1335.48 1531.54 1338.35 1531.54 Q1346.08 1531.54 1349.9 1535.55 Q1353.72 1539.56 1353.72 1547.71 Z\" fill=\"#000000\" fill-rule=\"evenodd\" fill-opacity=\"1\" /><path clip-path=\"url(#clip840)\" d=\"M 0 0 M1393.54 1539.24 Q1395.74 1535.29 1398.79 1533.41 Q1401.85 1531.54 1405.98 1531.54 Q1411.55 1531.54 1414.58 1535.45 Q1417.6 1539.33 1417.6 1546.53 L1417.6 1568.04 L1411.71 1568.04 L1411.71 1546.72 Q1411.71 1541.59 1409.9 1539.11 Q1408.09 1536.63 1404.36 1536.63 Q1399.81 1536.63 1397.17 1539.65 Q1394.53 1542.68 1394.53 1547.9 L1394.53 1568.04 L1388.64 1568.04 L1388.64 1546.72 Q1388.64 1541.56 1386.82 1539.11 Q1385.01 1536.63 1381.22 1536.63 Q1376.73 1536.63 1374.09 1539.68 Q1371.45 1542.71 1371.45 1547.9 L1371.45 1568.04 L1365.56 1568.04 L1365.56 1532.4 L1371.45 1532.4 L1371.45 1537.93 Q1373.46 1534.66 1376.26 1533.1 Q1379.06 1531.54 1382.91 1531.54 Q1386.79 1531.54 1389.5 1533.51 Q1392.23 1535.48 1393.54 1539.24 Z\" fill=\"#000000\" fill-rule=\"evenodd\" fill-opacity=\"1\" /><path clip-path=\"url(#clip840)\" d=\"M 0 0 M1459.78 1548.76 L1459.78 1551.62 L1432.85 1551.62 Q1433.23 1557.67 1436.48 1560.85 Q1439.75 1564 1445.58 1564 Q1448.95 1564 1452.1 1563.17 Q1455.29 1562.35 1458.41 1560.69 L1458.41 1566.23 Q1455.26 1567.57 1451.95 1568.27 Q1448.64 1568.97 1445.23 1568.97 Q1436.7 1568.97 1431.7 1564 Q1426.74 1559.04 1426.74 1550.57 Q1426.74 1541.82 1431.45 1536.69 Q1436.19 1531.54 1444.21 1531.54 Q1451.4 1531.54 1455.57 1536.18 Q1459.78 1540.8 1459.78 1548.76 M1453.92 1547.04 Q1453.86 1542.23 1451.21 1539.37 Q1448.6 1536.5 1444.27 1536.5 Q1439.37 1536.5 1436.41 1539.27 Q1433.48 1542.04 1433.04 1547.07 L1453.92 1547.04 Z\" fill=\"#000000\" fill-rule=\"evenodd\" fill-opacity=\"1\" /><path clip-path=\"url(#clip840)\" d=\"M 0 0 M1475.18 1522.27 L1475.18 1532.4 L1487.24 1532.4 L1487.24 1536.95 L1475.18 1536.95 L1475.18 1556.3 Q1475.18 1560.66 1476.36 1561.9 Q1477.57 1563.14 1481.23 1563.14 L1487.24 1563.14 L1487.24 1568.04 L1481.23 1568.04 Q1474.45 1568.04 1471.87 1565.53 Q1469.29 1562.98 1469.29 1556.3 L1469.29 1536.95 L1465 1536.95 L1465 1532.4 L1469.29 1532.4 L1469.29 1522.27 L1475.18 1522.27 Z\" fill=\"#000000\" fill-rule=\"evenodd\" fill-opacity=\"1\" /><path clip-path=\"url(#clip840)\" d=\"M 0 0 M1525.44 1548.76 L1525.44 1551.62 L1498.51 1551.62 Q1498.89 1557.67 1502.14 1560.85 Q1505.42 1564 1511.24 1564 Q1514.62 1564 1517.77 1563.17 Q1520.95 1562.35 1524.07 1560.69 L1524.07 1566.23 Q1520.92 1567.57 1517.61 1568.27 Q1514.3 1568.97 1510.89 1568.97 Q1502.36 1568.97 1497.36 1564 Q1492.4 1559.04 1492.4 1550.57 Q1492.4 1541.82 1497.11 1536.69 Q1501.85 1531.54 1509.87 1531.54 Q1517.07 1531.54 1521.24 1536.18 Q1525.44 1540.8 1525.44 1548.76 M1519.58 1547.04 Q1519.52 1542.23 1516.88 1539.37 Q1514.27 1536.5 1509.94 1536.5 Q1505.04 1536.5 1502.08 1539.27 Q1499.15 1542.04 1498.7 1547.07 L1519.58 1547.04 Z\" fill=\"#000000\" fill-rule=\"evenodd\" fill-opacity=\"1\" /><path clip-path=\"url(#clip840)\" d=\"M 0 0 M1555.71 1537.87 Q1554.72 1537.3 1553.54 1537.04 Q1552.4 1536.76 1551 1536.76 Q1546.03 1536.76 1543.36 1540 Q1540.72 1543.22 1540.72 1549.27 L1540.72 1568.04 L1534.83 1568.04 L1534.83 1532.4 L1540.72 1532.4 L1540.72 1537.93 Q1542.56 1534.69 1545.52 1533.13 Q1548.48 1531.54 1552.71 1531.54 Q1553.32 1531.54 1554.05 1531.63 Q1554.78 1531.7 1555.67 1531.85 L1555.71 1537.87 Z\" fill=\"#000000\" fill-rule=\"evenodd\" fill-opacity=\"1\" /><path clip-path=\"url(#clip840)\" d=\"M 0 0 M1563.35 1559.96 L1570.06 1559.96 L1570.06 1565.43 L1564.84 1575.62 L1560.74 1575.62 L1563.35 1565.43 L1563.35 1559.96 Z\" fill=\"#000000\" fill-rule=\"evenodd\" fill-opacity=\"1\" /><path clip-path=\"url(#clip840)\" d=\"M 0 0 M1617.33 1524.09 L1633.78 1568.04 L1627.58 1568.04 L1617.58 1541.69 L1605.3 1568.04 L1599.09 1568.04 L1614.72 1533.86 L1612.36 1527.56 Q1610.87 1523.55 1607.46 1523.55 L1604.4 1523.55 L1604.4 1518.52 L1608.13 1518.58 Q1615.32 1518.68 1617.33 1524.09 Z\" fill=\"#000000\" fill-rule=\"evenodd\" fill-opacity=\"1\" /><polyline clip-path=\"url(#clip842)\" style=\"stroke:#000000; stroke-width:2; stroke-opacity:0.1; fill:none\" points=\"\n",
       "  310.352,1348.47 2352.76,1348.47 \n",
       "  \"/>\n",
       "<polyline clip-path=\"url(#clip842)\" style=\"stroke:#000000; stroke-width:2; stroke-opacity:0.1; fill:none\" points=\"\n",
       "  310.352,1101.77 2352.76,1101.77 \n",
       "  \"/>\n",
       "<polyline clip-path=\"url(#clip842)\" style=\"stroke:#000000; stroke-width:2; stroke-opacity:0.1; fill:none\" points=\"\n",
       "  310.352,855.064 2352.76,855.064 \n",
       "  \"/>\n",
       "<polyline clip-path=\"url(#clip842)\" style=\"stroke:#000000; stroke-width:2; stroke-opacity:0.1; fill:none\" points=\"\n",
       "  310.352,608.36 2352.76,608.36 \n",
       "  \"/>\n",
       "<polyline clip-path=\"url(#clip842)\" style=\"stroke:#000000; stroke-width:2; stroke-opacity:0.1; fill:none\" points=\"\n",
       "  310.352,361.655 2352.76,361.655 \n",
       "  \"/>\n",
       "<polyline clip-path=\"url(#clip840)\" style=\"stroke:#000000; stroke-width:4; stroke-opacity:1; fill:none\" points=\"\n",
       "  310.352,1423.18 310.352,123.472 \n",
       "  \"/>\n",
       "<polyline clip-path=\"url(#clip840)\" style=\"stroke:#000000; stroke-width:4; stroke-opacity:1; fill:none\" points=\"\n",
       "  310.352,1348.47 334.861,1348.47 \n",
       "  \"/>\n",
       "<polyline clip-path=\"url(#clip840)\" style=\"stroke:#000000; stroke-width:4; stroke-opacity:1; fill:none\" points=\"\n",
       "  310.352,1101.77 334.861,1101.77 \n",
       "  \"/>\n",
       "<polyline clip-path=\"url(#clip840)\" style=\"stroke:#000000; stroke-width:4; stroke-opacity:1; fill:none\" points=\"\n",
       "  310.352,855.064 334.861,855.064 \n",
       "  \"/>\n",
       "<polyline clip-path=\"url(#clip840)\" style=\"stroke:#000000; stroke-width:4; stroke-opacity:1; fill:none\" points=\"\n",
       "  310.352,608.36 334.861,608.36 \n",
       "  \"/>\n",
       "<polyline clip-path=\"url(#clip840)\" style=\"stroke:#000000; stroke-width:4; stroke-opacity:1; fill:none\" points=\"\n",
       "  310.352,361.655 334.861,361.655 \n",
       "  \"/>\n",
       "<path clip-path=\"url(#clip840)\" d=\"M 0 0 M126.783 1334.27 Q123.172 1334.27 121.343 1337.84 Q119.538 1341.38 119.538 1348.51 Q119.538 1355.61 121.343 1359.18 Q123.172 1362.72 126.783 1362.72 Q130.417 1362.72 132.223 1359.18 Q134.052 1355.61 134.052 1348.51 Q134.052 1341.38 132.223 1337.84 Q130.417 1334.27 126.783 1334.27 M126.783 1330.57 Q132.593 1330.57 135.649 1335.17 Q138.728 1339.76 138.728 1348.51 Q138.728 1357.23 135.649 1361.84 Q132.593 1366.42 126.783 1366.42 Q120.973 1366.42 117.894 1361.84 Q114.839 1357.23 114.839 1348.51 Q114.839 1339.76 117.894 1335.17 Q120.973 1330.57 126.783 1330.57 Z\" fill=\"#000000\" fill-rule=\"evenodd\" fill-opacity=\"1\" /><path clip-path=\"url(#clip840)\" d=\"M 0 0 M146.945 1359.87 L151.829 1359.87 L151.829 1365.75 L146.945 1365.75 L146.945 1359.87 Z\" fill=\"#000000\" fill-rule=\"evenodd\" fill-opacity=\"1\" /><path clip-path=\"url(#clip840)\" d=\"M 0 0 M172.014 1334.27 Q168.403 1334.27 166.575 1337.84 Q164.769 1341.38 164.769 1348.51 Q164.769 1355.61 166.575 1359.18 Q168.403 1362.72 172.014 1362.72 Q175.649 1362.72 177.454 1359.18 Q179.283 1355.61 179.283 1348.51 Q179.283 1341.38 177.454 1337.84 Q175.649 1334.27 172.014 1334.27 M172.014 1330.57 Q177.825 1330.57 180.88 1335.17 Q183.959 1339.76 183.959 1348.51 Q183.959 1357.23 180.88 1361.84 Q177.825 1366.42 172.014 1366.42 Q166.204 1366.42 163.126 1361.84 Q160.07 1357.23 160.07 1348.51 Q160.07 1339.76 163.126 1335.17 Q166.204 1330.57 172.014 1330.57 Z\" fill=\"#000000\" fill-rule=\"evenodd\" fill-opacity=\"1\" /><path clip-path=\"url(#clip840)\" d=\"M 0 0 M202.176 1349.34 Q198.843 1349.34 196.922 1351.12 Q195.024 1352.91 195.024 1356.03 Q195.024 1359.16 196.922 1360.94 Q198.843 1362.72 202.176 1362.72 Q205.51 1362.72 207.431 1360.94 Q209.352 1359.13 209.352 1356.03 Q209.352 1352.91 207.431 1351.12 Q205.533 1349.34 202.176 1349.34 M197.5 1347.35 Q194.491 1346.61 192.801 1344.55 Q191.135 1342.49 191.135 1339.53 Q191.135 1335.38 194.075 1332.98 Q197.037 1330.57 202.176 1330.57 Q207.338 1330.57 210.278 1332.98 Q213.218 1335.38 213.218 1339.53 Q213.218 1342.49 211.528 1344.55 Q209.861 1346.61 206.875 1347.35 Q210.255 1348.14 212.13 1350.43 Q214.028 1352.72 214.028 1356.03 Q214.028 1361.05 210.949 1363.74 Q207.894 1366.42 202.176 1366.42 Q196.459 1366.42 193.38 1363.74 Q190.325 1361.05 190.325 1356.03 Q190.325 1352.72 192.223 1350.43 Q194.121 1348.14 197.5 1347.35 M195.787 1339.97 Q195.787 1342.65 197.454 1344.16 Q199.144 1345.66 202.176 1345.66 Q205.186 1345.66 206.875 1344.16 Q208.588 1342.65 208.588 1339.97 Q208.588 1337.28 206.875 1335.78 Q205.186 1334.27 202.176 1334.27 Q199.144 1334.27 197.454 1335.78 Q195.787 1337.28 195.787 1339.97 Z\" fill=\"#000000\" fill-rule=\"evenodd\" fill-opacity=\"1\" /><path clip-path=\"url(#clip840)\" d=\"M 0 0 M222.477 1365.04 L222.477 1360.78 Q224.236 1361.61 226.042 1362.05 Q227.848 1362.49 229.584 1362.49 Q234.213 1362.49 236.644 1359.39 Q239.097 1356.26 239.445 1349.92 Q238.102 1351.91 236.042 1352.98 Q233.982 1354.04 231.482 1354.04 Q226.297 1354.04 223.264 1350.92 Q220.255 1347.77 220.255 1342.33 Q220.255 1337 223.403 1333.79 Q226.551 1330.57 231.783 1330.57 Q237.778 1330.57 240.926 1335.17 Q244.097 1339.76 244.097 1348.51 Q244.097 1356.68 240.209 1361.56 Q236.343 1366.42 229.792 1366.42 Q228.033 1366.42 226.227 1366.08 Q224.422 1365.73 222.477 1365.04 M231.783 1350.38 Q234.931 1350.38 236.76 1348.23 Q238.611 1346.08 238.611 1342.33 Q238.611 1338.6 236.76 1336.45 Q234.931 1334.27 231.783 1334.27 Q228.635 1334.27 226.783 1336.45 Q224.954 1338.6 224.954 1342.33 Q224.954 1346.08 226.783 1348.23 Q228.635 1350.38 231.783 1350.38 Z\" fill=\"#000000\" fill-rule=\"evenodd\" fill-opacity=\"1\" /><path clip-path=\"url(#clip840)\" d=\"M 0 0 M262.5 1349.34 Q259.167 1349.34 257.246 1351.12 Q255.347 1352.91 255.347 1356.03 Q255.347 1359.16 257.246 1360.94 Q259.167 1362.72 262.5 1362.72 Q265.833 1362.72 267.755 1360.94 Q269.676 1359.13 269.676 1356.03 Q269.676 1352.91 267.755 1351.12 Q265.857 1349.34 262.5 1349.34 M257.824 1347.35 Q254.815 1346.61 253.125 1344.55 Q251.458 1342.49 251.458 1339.53 Q251.458 1335.38 254.398 1332.98 Q257.361 1330.57 262.5 1330.57 Q267.662 1330.57 270.602 1332.98 Q273.542 1335.38 273.542 1339.53 Q273.542 1342.49 271.852 1344.55 Q270.185 1346.61 267.199 1347.35 Q270.579 1348.14 272.454 1350.43 Q274.352 1352.72 274.352 1356.03 Q274.352 1361.05 271.273 1363.74 Q268.218 1366.42 262.5 1366.42 Q256.783 1366.42 253.704 1363.74 Q250.648 1361.05 250.648 1356.03 Q250.648 1352.72 252.546 1350.43 Q254.445 1348.14 257.824 1347.35 M256.111 1339.97 Q256.111 1342.65 257.778 1344.16 Q259.468 1345.66 262.5 1345.66 Q265.509 1345.66 267.199 1344.16 Q268.912 1342.65 268.912 1339.97 Q268.912 1337.28 267.199 1335.78 Q265.509 1334.27 262.5 1334.27 Q259.468 1334.27 257.778 1335.78 Q256.111 1337.28 256.111 1339.97 Z\" fill=\"#000000\" fill-rule=\"evenodd\" fill-opacity=\"1\" /><path clip-path=\"url(#clip840)\" d=\"M 0 0 M126.691 1087.57 Q123.08 1087.57 121.251 1091.13 Q119.445 1094.67 119.445 1101.8 Q119.445 1108.91 121.251 1112.47 Q123.08 1116.02 126.691 1116.02 Q130.325 1116.02 132.13 1112.47 Q133.959 1108.91 133.959 1101.8 Q133.959 1094.67 132.13 1091.13 Q130.325 1087.57 126.691 1087.57 M126.691 1083.86 Q132.501 1083.86 135.556 1088.47 Q138.635 1093.05 138.635 1101.8 Q138.635 1110.53 135.556 1115.14 Q132.501 1119.72 126.691 1119.72 Q120.88 1119.72 117.802 1115.14 Q114.746 1110.53 114.746 1101.8 Q114.746 1093.05 117.802 1088.47 Q120.88 1083.86 126.691 1083.86 Z\" fill=\"#000000\" fill-rule=\"evenodd\" fill-opacity=\"1\" /><path clip-path=\"url(#clip840)\" d=\"M 0 0 M146.853 1113.17 L151.737 1113.17 L151.737 1119.05 L146.853 1119.05 L146.853 1113.17 Z\" fill=\"#000000\" fill-rule=\"evenodd\" fill-opacity=\"1\" /><path clip-path=\"url(#clip840)\" d=\"M 0 0 M171.922 1087.57 Q168.311 1087.57 166.482 1091.13 Q164.677 1094.67 164.677 1101.8 Q164.677 1108.91 166.482 1112.47 Q168.311 1116.02 171.922 1116.02 Q175.556 1116.02 177.362 1112.47 Q179.19 1108.91 179.19 1101.8 Q179.19 1094.67 177.362 1091.13 Q175.556 1087.57 171.922 1087.57 M171.922 1083.86 Q177.732 1083.86 180.788 1088.47 Q183.866 1093.05 183.866 1101.8 Q183.866 1110.53 180.788 1115.14 Q177.732 1119.72 171.922 1119.72 Q166.112 1119.72 163.033 1115.14 Q159.978 1110.53 159.978 1101.8 Q159.978 1093.05 163.033 1088.47 Q166.112 1083.86 171.922 1083.86 Z\" fill=\"#000000\" fill-rule=\"evenodd\" fill-opacity=\"1\" /><path clip-path=\"url(#clip840)\" d=\"M 0 0 M192.223 1118.33 L192.223 1114.07 Q193.982 1114.91 195.787 1115.35 Q197.593 1115.79 199.329 1115.79 Q203.959 1115.79 206.389 1112.68 Q208.843 1109.56 209.19 1103.22 Q207.848 1105.21 205.787 1106.27 Q203.727 1107.34 201.227 1107.34 Q196.042 1107.34 193.01 1104.21 Q190 1101.06 190 1095.62 Q190 1090.3 193.149 1087.08 Q196.297 1083.86 201.528 1083.86 Q207.524 1083.86 210.672 1088.47 Q213.843 1093.05 213.843 1101.8 Q213.843 1109.97 209.954 1114.86 Q206.088 1119.72 199.537 1119.72 Q197.778 1119.72 195.973 1119.37 Q194.167 1119.03 192.223 1118.33 M201.528 1103.68 Q204.676 1103.68 206.505 1101.53 Q208.357 1099.37 208.357 1095.62 Q208.357 1091.9 206.505 1089.74 Q204.676 1087.57 201.528 1087.57 Q198.38 1087.57 196.528 1089.74 Q194.7 1091.9 194.7 1095.62 Q194.7 1099.37 196.528 1101.53 Q198.38 1103.68 201.528 1103.68 Z\" fill=\"#000000\" fill-rule=\"evenodd\" fill-opacity=\"1\" /><path clip-path=\"url(#clip840)\" d=\"M 0 0 M232.246 1087.57 Q228.635 1087.57 226.806 1091.13 Q225 1094.67 225 1101.8 Q225 1108.91 226.806 1112.47 Q228.635 1116.02 232.246 1116.02 Q235.88 1116.02 237.685 1112.47 Q239.514 1108.91 239.514 1101.8 Q239.514 1094.67 237.685 1091.13 Q235.88 1087.57 232.246 1087.57 M232.246 1083.86 Q238.056 1083.86 241.111 1088.47 Q244.19 1093.05 244.19 1101.8 Q244.19 1110.53 241.111 1115.14 Q238.056 1119.72 232.246 1119.72 Q226.435 1119.72 223.357 1115.14 Q220.301 1110.53 220.301 1101.8 Q220.301 1093.05 223.357 1088.47 Q226.435 1083.86 232.246 1083.86 Z\" fill=\"#000000\" fill-rule=\"evenodd\" fill-opacity=\"1\" /><path clip-path=\"url(#clip840)\" d=\"M 0 0 M262.408 1087.57 Q258.796 1087.57 256.968 1091.13 Q255.162 1094.67 255.162 1101.8 Q255.162 1108.91 256.968 1112.47 Q258.796 1116.02 262.408 1116.02 Q266.042 1116.02 267.847 1112.47 Q269.676 1108.91 269.676 1101.8 Q269.676 1094.67 267.847 1091.13 Q266.042 1087.57 262.408 1087.57 M262.408 1083.86 Q268.218 1083.86 271.273 1088.47 Q274.352 1093.05 274.352 1101.8 Q274.352 1110.53 271.273 1115.14 Q268.218 1119.72 262.408 1119.72 Q256.597 1119.72 253.519 1115.14 Q250.463 1110.53 250.463 1101.8 Q250.463 1093.05 253.519 1088.47 Q256.597 1083.86 262.408 1083.86 Z\" fill=\"#000000\" fill-rule=\"evenodd\" fill-opacity=\"1\" /><path clip-path=\"url(#clip840)\" d=\"M 0 0 M128.288 840.863 Q124.677 840.863 122.848 844.428 Q121.043 847.97 121.043 855.099 Q121.043 862.206 122.848 865.77 Q124.677 869.312 128.288 869.312 Q131.922 869.312 133.728 865.77 Q135.556 862.206 135.556 855.099 Q135.556 847.97 133.728 844.428 Q131.922 840.863 128.288 840.863 M128.288 837.159 Q134.098 837.159 137.154 841.766 Q140.232 846.349 140.232 855.099 Q140.232 863.826 137.154 868.432 Q134.098 873.016 128.288 873.016 Q122.478 873.016 119.399 868.432 Q116.343 863.826 116.343 855.099 Q116.343 846.349 119.399 841.766 Q122.478 837.159 128.288 837.159 Z\" fill=\"#000000\" fill-rule=\"evenodd\" fill-opacity=\"1\" /><path clip-path=\"url(#clip840)\" d=\"M 0 0 M148.45 866.465 L153.334 866.465 L153.334 872.344 L148.45 872.344 L148.45 866.465 Z\" fill=\"#000000\" fill-rule=\"evenodd\" fill-opacity=\"1\" /><path clip-path=\"url(#clip840)\" d=\"M 0 0 M173.519 840.863 Q169.908 840.863 168.079 844.428 Q166.274 847.97 166.274 855.099 Q166.274 862.206 168.079 865.77 Q169.908 869.312 173.519 869.312 Q177.153 869.312 178.959 865.77 Q180.788 862.206 180.788 855.099 Q180.788 847.97 178.959 844.428 Q177.153 840.863 173.519 840.863 M173.519 837.159 Q179.329 837.159 182.385 841.766 Q185.463 846.349 185.463 855.099 Q185.463 863.826 182.385 868.432 Q179.329 873.016 173.519 873.016 Q167.709 873.016 164.63 868.432 Q161.575 863.826 161.575 855.099 Q161.575 846.349 164.63 841.766 Q167.709 837.159 173.519 837.159 Z\" fill=\"#000000\" fill-rule=\"evenodd\" fill-opacity=\"1\" /><path clip-path=\"url(#clip840)\" d=\"M 0 0 M193.82 871.627 L193.82 867.368 Q195.579 868.201 197.385 868.641 Q199.19 869.081 200.926 869.081 Q205.556 869.081 207.987 865.979 Q210.44 862.854 210.787 856.511 Q209.445 858.502 207.385 859.567 Q205.324 860.632 202.824 860.632 Q197.639 860.632 194.607 857.507 Q191.598 854.358 191.598 848.919 Q191.598 843.595 194.746 840.377 Q197.894 837.159 203.125 837.159 Q209.121 837.159 212.269 841.766 Q215.44 846.349 215.44 855.099 Q215.44 863.27 211.551 868.155 Q207.686 873.016 201.135 873.016 Q199.375 873.016 197.57 872.669 Q195.764 872.321 193.82 871.627 M203.125 856.974 Q206.274 856.974 208.102 854.821 Q209.954 852.669 209.954 848.919 Q209.954 845.192 208.102 843.039 Q206.274 840.863 203.125 840.863 Q199.977 840.863 198.125 843.039 Q196.297 845.192 196.297 848.919 Q196.297 852.669 198.125 854.821 Q199.977 856.974 203.125 856.974 Z\" fill=\"#000000\" fill-rule=\"evenodd\" fill-opacity=\"1\" /><path clip-path=\"url(#clip840)\" d=\"M 0 0 M233.843 840.863 Q230.232 840.863 228.403 844.428 Q226.598 847.97 226.598 855.099 Q226.598 862.206 228.403 865.77 Q230.232 869.312 233.843 869.312 Q237.477 869.312 239.283 865.77 Q241.111 862.206 241.111 855.099 Q241.111 847.97 239.283 844.428 Q237.477 840.863 233.843 840.863 M233.843 837.159 Q239.653 837.159 242.709 841.766 Q245.787 846.349 245.787 855.099 Q245.787 863.826 242.709 868.432 Q239.653 873.016 233.843 873.016 Q228.033 873.016 224.954 868.432 Q221.898 863.826 221.898 855.099 Q221.898 846.349 224.954 841.766 Q228.033 837.159 233.843 837.159 Z\" fill=\"#000000\" fill-rule=\"evenodd\" fill-opacity=\"1\" /><path clip-path=\"url(#clip840)\" d=\"M 0 0 M258.033 868.409 L274.352 868.409 L274.352 872.344 L252.408 872.344 L252.408 868.409 Q255.07 865.655 259.653 861.025 Q264.259 856.372 265.44 855.03 Q267.685 852.507 268.565 850.77 Q269.468 849.011 269.468 847.321 Q269.468 844.567 267.523 842.831 Q265.602 841.095 262.5 841.095 Q260.301 841.095 257.847 841.858 Q255.417 842.622 252.639 844.173 L252.639 839.451 Q255.463 838.317 257.917 837.738 Q260.37 837.159 262.408 837.159 Q267.778 837.159 270.972 839.845 Q274.167 842.53 274.167 847.02 Q274.167 849.15 273.357 851.071 Q272.569 852.97 270.463 855.562 Q269.884 856.233 266.782 859.451 Q263.681 862.645 258.033 868.409 Z\" fill=\"#000000\" fill-rule=\"evenodd\" fill-opacity=\"1\" /><path clip-path=\"url(#clip840)\" d=\"M 0 0 M126.205 594.159 Q122.593 594.159 120.765 597.723 Q118.959 601.265 118.959 608.395 Q118.959 615.501 120.765 619.066 Q122.593 622.608 126.205 622.608 Q129.839 622.608 131.644 619.066 Q133.473 615.501 133.473 608.395 Q133.473 601.265 131.644 597.723 Q129.839 594.159 126.205 594.159 M126.205 590.455 Q132.015 590.455 135.07 595.061 Q138.149 599.645 138.149 608.395 Q138.149 617.121 135.07 621.728 Q132.015 626.311 126.205 626.311 Q120.394 626.311 117.316 621.728 Q114.26 617.121 114.26 608.395 Q114.26 599.645 117.316 595.061 Q120.394 590.455 126.205 590.455 Z\" fill=\"#000000\" fill-rule=\"evenodd\" fill-opacity=\"1\" /><path clip-path=\"url(#clip840)\" d=\"M 0 0 M146.366 619.76 L151.251 619.76 L151.251 625.64 L146.366 625.64 L146.366 619.76 Z\" fill=\"#000000\" fill-rule=\"evenodd\" fill-opacity=\"1\" /><path clip-path=\"url(#clip840)\" d=\"M 0 0 M171.436 594.159 Q167.825 594.159 165.996 597.723 Q164.19 601.265 164.19 608.395 Q164.19 615.501 165.996 619.066 Q167.825 622.608 171.436 622.608 Q175.07 622.608 176.876 619.066 Q178.704 615.501 178.704 608.395 Q178.704 601.265 176.876 597.723 Q175.07 594.159 171.436 594.159 M171.436 590.455 Q177.246 590.455 180.301 595.061 Q183.38 599.645 183.38 608.395 Q183.38 617.121 180.301 621.728 Q177.246 626.311 171.436 626.311 Q165.626 626.311 162.547 621.728 Q159.491 617.121 159.491 608.395 Q159.491 599.645 162.547 595.061 Q165.626 590.455 171.436 590.455 Z\" fill=\"#000000\" fill-rule=\"evenodd\" fill-opacity=\"1\" /><path clip-path=\"url(#clip840)\" d=\"M 0 0 M191.737 624.922 L191.737 620.663 Q193.496 621.496 195.301 621.936 Q197.107 622.376 198.843 622.376 Q203.473 622.376 205.903 619.274 Q208.357 616.149 208.704 609.807 Q207.362 611.797 205.301 612.862 Q203.241 613.927 200.741 613.927 Q195.556 613.927 192.524 610.802 Q189.514 607.654 189.514 602.214 Q189.514 596.89 192.663 593.673 Q195.811 590.455 201.042 590.455 Q207.037 590.455 210.186 595.061 Q213.357 599.645 213.357 608.395 Q213.357 616.566 209.468 621.45 Q205.602 626.311 199.051 626.311 Q197.292 626.311 195.487 625.964 Q193.681 625.617 191.737 624.922 M201.042 610.27 Q204.19 610.27 206.019 608.117 Q207.871 605.964 207.871 602.214 Q207.871 598.487 206.019 596.335 Q204.19 594.159 201.042 594.159 Q197.894 594.159 196.042 596.335 Q194.213 598.487 194.213 602.214 Q194.213 605.964 196.042 608.117 Q197.894 610.27 201.042 610.27 Z\" fill=\"#000000\" fill-rule=\"evenodd\" fill-opacity=\"1\" /><path clip-path=\"url(#clip840)\" d=\"M 0 0 M231.76 594.159 Q228.148 594.159 226.32 597.723 Q224.514 601.265 224.514 608.395 Q224.514 615.501 226.32 619.066 Q228.148 622.608 231.76 622.608 Q235.394 622.608 237.199 619.066 Q239.028 615.501 239.028 608.395 Q239.028 601.265 237.199 597.723 Q235.394 594.159 231.76 594.159 M231.76 590.455 Q237.57 590.455 240.625 595.061 Q243.704 599.645 243.704 608.395 Q243.704 617.121 240.625 621.728 Q237.57 626.311 231.76 626.311 Q225.949 626.311 222.871 621.728 Q219.815 617.121 219.815 608.395 Q219.815 599.645 222.871 595.061 Q225.949 590.455 231.76 590.455 Z\" fill=\"#000000\" fill-rule=\"evenodd\" fill-opacity=\"1\" /><path clip-path=\"url(#clip840)\" d=\"M 0 0 M264.769 595.154 L252.963 613.603 L264.769 613.603 L264.769 595.154 M263.542 591.08 L269.421 591.08 L269.421 613.603 L274.352 613.603 L274.352 617.492 L269.421 617.492 L269.421 625.64 L264.769 625.64 L264.769 617.492 L249.167 617.492 L249.167 612.978 L263.542 591.08 Z\" fill=\"#000000\" fill-rule=\"evenodd\" fill-opacity=\"1\" /><path clip-path=\"url(#clip840)\" d=\"M 0 0 M126.529 347.454 Q122.918 347.454 121.089 351.019 Q119.283 354.561 119.283 361.69 Q119.283 368.797 121.089 372.361 Q122.918 375.903 126.529 375.903 Q130.163 375.903 131.968 372.361 Q133.797 368.797 133.797 361.69 Q133.797 354.561 131.968 351.019 Q130.163 347.454 126.529 347.454 M126.529 343.75 Q132.339 343.75 135.394 348.357 Q138.473 352.94 138.473 361.69 Q138.473 370.417 135.394 375.023 Q132.339 379.607 126.529 379.607 Q120.718 379.607 117.64 375.023 Q114.584 370.417 114.584 361.69 Q114.584 352.94 117.64 348.357 Q120.718 343.75 126.529 343.75 Z\" fill=\"#000000\" fill-rule=\"evenodd\" fill-opacity=\"1\" /><path clip-path=\"url(#clip840)\" d=\"M 0 0 M146.691 373.056 L151.575 373.056 L151.575 378.935 L146.691 378.935 L146.691 373.056 Z\" fill=\"#000000\" fill-rule=\"evenodd\" fill-opacity=\"1\" /><path clip-path=\"url(#clip840)\" d=\"M 0 0 M171.76 347.454 Q168.149 347.454 166.32 351.019 Q164.515 354.561 164.515 361.69 Q164.515 368.797 166.32 372.361 Q168.149 375.903 171.76 375.903 Q175.394 375.903 177.2 372.361 Q179.028 368.797 179.028 361.69 Q179.028 354.561 177.2 351.019 Q175.394 347.454 171.76 347.454 M171.76 343.75 Q177.57 343.75 180.626 348.357 Q183.704 352.94 183.704 361.69 Q183.704 370.417 180.626 375.023 Q177.57 379.607 171.76 379.607 Q165.95 379.607 162.871 375.023 Q159.815 370.417 159.815 361.69 Q159.815 352.94 162.871 348.357 Q165.95 343.75 171.76 343.75 Z\" fill=\"#000000\" fill-rule=\"evenodd\" fill-opacity=\"1\" /><path clip-path=\"url(#clip840)\" d=\"M 0 0 M192.061 378.218 L192.061 373.959 Q193.82 374.792 195.625 375.232 Q197.431 375.672 199.167 375.672 Q203.797 375.672 206.227 372.57 Q208.681 369.445 209.028 363.102 Q207.686 365.093 205.625 366.158 Q203.565 367.223 201.065 367.223 Q195.88 367.223 192.848 364.098 Q189.838 360.949 189.838 355.51 Q189.838 350.186 192.987 346.968 Q196.135 343.75 201.366 343.75 Q207.362 343.75 210.51 348.357 Q213.681 352.94 213.681 361.69 Q213.681 369.861 209.792 374.746 Q205.926 379.607 199.375 379.607 Q197.616 379.607 195.811 379.26 Q194.005 378.912 192.061 378.218 M201.366 363.565 Q204.514 363.565 206.343 361.412 Q208.195 359.26 208.195 355.51 Q208.195 351.783 206.343 349.63 Q204.514 347.454 201.366 347.454 Q198.218 347.454 196.366 349.63 Q194.538 351.783 194.538 355.51 Q194.538 359.26 196.366 361.412 Q198.218 363.565 201.366 363.565 Z\" fill=\"#000000\" fill-rule=\"evenodd\" fill-opacity=\"1\" /><path clip-path=\"url(#clip840)\" d=\"M 0 0 M232.084 347.454 Q228.473 347.454 226.644 351.019 Q224.838 354.561 224.838 361.69 Q224.838 368.797 226.644 372.361 Q228.473 375.903 232.084 375.903 Q235.718 375.903 237.523 372.361 Q239.352 368.797 239.352 361.69 Q239.352 354.561 237.523 351.019 Q235.718 347.454 232.084 347.454 M232.084 343.75 Q237.894 343.75 240.949 348.357 Q244.028 352.94 244.028 361.69 Q244.028 370.417 240.949 375.023 Q237.894 379.607 232.084 379.607 Q226.273 379.607 223.195 375.023 Q220.139 370.417 220.139 361.69 Q220.139 352.94 223.195 348.357 Q226.273 343.75 232.084 343.75 Z\" fill=\"#000000\" fill-rule=\"evenodd\" fill-opacity=\"1\" /><path clip-path=\"url(#clip840)\" d=\"M 0 0 M262.824 359.792 Q259.676 359.792 257.824 361.945 Q255.996 364.098 255.996 367.848 Q255.996 371.574 257.824 373.75 Q259.676 375.903 262.824 375.903 Q265.972 375.903 267.801 373.75 Q269.653 371.574 269.653 367.848 Q269.653 364.098 267.801 361.945 Q265.972 359.792 262.824 359.792 M272.107 345.139 L272.107 349.399 Q270.347 348.565 268.542 348.125 Q266.759 347.686 265 347.686 Q260.37 347.686 257.917 350.811 Q255.486 353.936 255.139 360.255 Q256.505 358.241 258.565 357.176 Q260.625 356.088 263.102 356.088 Q268.31 356.088 271.32 359.26 Q274.352 362.408 274.352 367.848 Q274.352 373.172 271.204 376.389 Q268.056 379.607 262.824 379.607 Q256.829 379.607 253.658 375.023 Q250.486 370.417 250.486 361.69 Q250.486 353.496 254.375 348.635 Q258.264 343.75 264.815 343.75 Q266.574 343.75 268.357 344.098 Q270.162 344.445 272.107 345.139 Z\" fill=\"#000000\" fill-rule=\"evenodd\" fill-opacity=\"1\" /><path clip-path=\"url(#clip840)\" d=\"M 0 0 M16.4842 858.706 L16.4842 849.126 L48.8219 836.999 L16.4842 824.809 L16.4842 815.228 L64.0042 815.228 L64.0042 821.498 L22.277 821.498 L54.8694 833.752 L54.8694 840.214 L22.277 852.468 L64.0042 852.468 L64.0042 858.706 L16.4842 858.706 Z\" fill=\"#000000\" fill-rule=\"evenodd\" fill-opacity=\"1\" /><path clip-path=\"url(#clip840)\" d=\"M 0 0 M22.818 786.583 L46.4666 795.304 L46.4666 777.83 L22.818 786.583 M16.4842 790.211 L16.4842 782.922 L64.0042 764.812 L64.0042 771.496 L51.8138 775.825 L51.8138 797.245 L64.0042 801.574 L64.0042 808.353 L16.4842 790.211 Z\" fill=\"#000000\" fill-rule=\"evenodd\" fill-opacity=\"1\" /><path clip-path=\"url(#clip840)\" d=\"M 0 0 M21.7677 751.444 L39.6235 751.444 L39.6235 743.359 Q39.6235 738.872 37.3 736.421 Q34.9765 733.97 30.6797 733.97 Q26.4147 733.97 24.0912 736.421 Q21.7677 738.872 21.7677 743.359 L21.7677 751.444 M16.4842 757.873 L16.4842 743.359 Q16.4842 735.37 20.1126 731.296 Q23.7092 727.191 30.6797 727.191 Q37.7138 727.191 41.3104 731.296 Q44.907 735.37 44.907 743.359 L44.907 751.444 L64.0042 751.444 L64.0042 757.873 L16.4842 757.873 Z\" fill=\"#000000\" fill-rule=\"evenodd\" fill-opacity=\"1\" /><path clip-path=\"url(#clip840)\" d=\"M 0 0 M16.4842 718.565 L16.4842 688.519 L21.895 688.519 L21.895 712.136 L35.9632 712.136 L35.9632 689.506 L41.3741 689.506 L41.3741 712.136 L58.5933 712.136 L58.5933 687.946 L64.0042 687.946 L64.0042 718.565 L16.4842 718.565 Z\" fill=\"#000000\" fill-rule=\"evenodd\" fill-opacity=\"1\" /><path clip-path=\"url(#clip840)\" d=\"M 0 0 M1319.46 49.7694 Q1310.43 49.7694 1306.94 51.8354 Q1303.46 53.9013 1303.46 58.8839 Q1303.46 62.8538 1306.05 65.2034 Q1308.69 67.5124 1313.18 67.5124 Q1319.38 67.5124 1323.11 63.1374 Q1326.88 58.7219 1326.88 51.4303 L1326.88 49.7694 L1319.46 49.7694 M1334.33 46.6907 L1334.33 72.576 L1326.88 72.576 L1326.88 65.6895 Q1324.32 69.8214 1320.52 71.8063 Q1316.71 73.7508 1311.2 73.7508 Q1304.23 73.7508 1300.1 69.8619 Q1296.01 65.9325 1296.01 59.3701 Q1296.01 51.7138 1301.11 47.825 Q1306.26 43.9361 1316.42 43.9361 L1326.88 43.9361 L1326.88 43.2069 Q1326.88 38.0623 1323.47 35.2672 Q1320.11 32.4315 1313.99 32.4315 Q1310.1 32.4315 1306.42 33.3632 Q1302.73 34.295 1299.33 36.1584 L1299.33 29.2718 Q1303.42 27.692 1307.27 26.9223 Q1311.12 26.1121 1314.76 26.1121 Q1324.61 26.1121 1329.47 31.2163 Q1334.33 36.3204 1334.33 46.6907 Z\" fill=\"#000000\" fill-rule=\"evenodd\" fill-opacity=\"1\" /><path clip-path=\"url(#clip840)\" d=\"M 0 0 M1348.51 9.62495 L1354.99 9.62495 Q1361.06 19.1851 1364.06 28.3401 Q1367.1 37.4952 1367.1 46.5287 Q1367.1 55.6027 1364.06 64.7983 Q1361.06 73.9938 1354.99 83.5134 L1348.51 83.5134 Q1353.89 74.2369 1356.53 65.0818 Q1359.2 55.8863 1359.2 46.5287 Q1359.2 37.1711 1356.53 28.0566 Q1353.89 18.942 1348.51 9.62495 Z\" fill=\"#000000\" fill-rule=\"evenodd\" fill-opacity=\"1\" /><circle clip-path=\"url(#clip842)\" cx=\"368.156\" cy=\"160.256\" r=\"14\" fill=\"#009af9\" fill-rule=\"evenodd\" fill-opacity=\"1\" stroke=\"#000000\" stroke-opacity=\"1\" stroke-width=\"3.2\"/>\n",
       "<circle clip-path=\"url(#clip842)\" cx=\"406.692\" cy=\"303.095\" r=\"14\" fill=\"#009af9\" fill-rule=\"evenodd\" fill-opacity=\"1\" stroke=\"#000000\" stroke-opacity=\"1\" stroke-width=\"3.2\"/>\n",
       "<circle clip-path=\"url(#clip842)\" cx=\"445.228\" cy=\"428.968\" r=\"14\" fill=\"#009af9\" fill-rule=\"evenodd\" fill-opacity=\"1\" stroke=\"#000000\" stroke-opacity=\"1\" stroke-width=\"3.2\"/>\n",
       "<circle clip-path=\"url(#clip842)\" cx=\"483.764\" cy=\"533.288\" r=\"14\" fill=\"#009af9\" fill-rule=\"evenodd\" fill-opacity=\"1\" stroke=\"#000000\" stroke-opacity=\"1\" stroke-width=\"3.2\"/>\n",
       "<circle clip-path=\"url(#clip842)\" cx=\"522.299\" cy=\"631.834\" r=\"14\" fill=\"#009af9\" fill-rule=\"evenodd\" fill-opacity=\"1\" stroke=\"#000000\" stroke-opacity=\"1\" stroke-width=\"3.2\"/>\n",
       "<circle clip-path=\"url(#clip842)\" cx=\"560.835\" cy=\"725.096\" r=\"14\" fill=\"#009af9\" fill-rule=\"evenodd\" fill-opacity=\"1\" stroke=\"#000000\" stroke-opacity=\"1\" stroke-width=\"3.2\"/>\n",
       "<circle clip-path=\"url(#clip842)\" cx=\"599.371\" cy=\"808.461\" r=\"14\" fill=\"#009af9\" fill-rule=\"evenodd\" fill-opacity=\"1\" stroke=\"#000000\" stroke-opacity=\"1\" stroke-width=\"3.2\"/>\n",
       "<circle clip-path=\"url(#clip842)\" cx=\"637.907\" cy=\"877.873\" r=\"14\" fill=\"#009af9\" fill-rule=\"evenodd\" fill-opacity=\"1\" stroke=\"#000000\" stroke-opacity=\"1\" stroke-width=\"3.2\"/>\n",
       "<circle clip-path=\"url(#clip842)\" cx=\"676.443\" cy=\"938.752\" r=\"14\" fill=\"#009af9\" fill-rule=\"evenodd\" fill-opacity=\"1\" stroke=\"#000000\" stroke-opacity=\"1\" stroke-width=\"3.2\"/>\n",
       "<circle clip-path=\"url(#clip842)\" cx=\"714.979\" cy=\"996.321\" r=\"14\" fill=\"#009af9\" fill-rule=\"evenodd\" fill-opacity=\"1\" stroke=\"#000000\" stroke-opacity=\"1\" stroke-width=\"3.2\"/>\n",
       "<circle clip-path=\"url(#clip842)\" cx=\"753.515\" cy=\"1050.82\" r=\"14\" fill=\"#009af9\" fill-rule=\"evenodd\" fill-opacity=\"1\" stroke=\"#000000\" stroke-opacity=\"1\" stroke-width=\"3.2\"/>\n",
       "<circle clip-path=\"url(#clip842)\" cx=\"792.051\" cy=\"1102.48\" r=\"14\" fill=\"#009af9\" fill-rule=\"evenodd\" fill-opacity=\"1\" stroke=\"#000000\" stroke-opacity=\"1\" stroke-width=\"3.2\"/>\n",
       "<circle clip-path=\"url(#clip842)\" cx=\"830.587\" cy=\"1151.49\" r=\"14\" fill=\"#009af9\" fill-rule=\"evenodd\" fill-opacity=\"1\" stroke=\"#000000\" stroke-opacity=\"1\" stroke-width=\"3.2\"/>\n",
       "<circle clip-path=\"url(#clip842)\" cx=\"869.123\" cy=\"1197.77\" r=\"14\" fill=\"#009af9\" fill-rule=\"evenodd\" fill-opacity=\"1\" stroke=\"#000000\" stroke-opacity=\"1\" stroke-width=\"3.2\"/>\n",
       "<circle clip-path=\"url(#clip842)\" cx=\"907.659\" cy=\"1230.59\" r=\"14\" fill=\"#009af9\" fill-rule=\"evenodd\" fill-opacity=\"1\" stroke=\"#000000\" stroke-opacity=\"1\" stroke-width=\"3.2\"/>\n",
       "<circle clip-path=\"url(#clip842)\" cx=\"946.195\" cy=\"1261.58\" r=\"14\" fill=\"#009af9\" fill-rule=\"evenodd\" fill-opacity=\"1\" stroke=\"#000000\" stroke-opacity=\"1\" stroke-width=\"3.2\"/>\n",
       "<circle clip-path=\"url(#clip842)\" cx=\"984.731\" cy=\"1290.86\" r=\"14\" fill=\"#009af9\" fill-rule=\"evenodd\" fill-opacity=\"1\" stroke=\"#000000\" stroke-opacity=\"1\" stroke-width=\"3.2\"/>\n",
       "<circle clip-path=\"url(#clip842)\" cx=\"1023.27\" cy=\"1318.53\" r=\"14\" fill=\"#009af9\" fill-rule=\"evenodd\" fill-opacity=\"1\" stroke=\"#000000\" stroke-opacity=\"1\" stroke-width=\"3.2\"/>\n",
       "<circle clip-path=\"url(#clip842)\" cx=\"1061.8\" cy=\"1344.7\" r=\"14\" fill=\"#009af9\" fill-rule=\"evenodd\" fill-opacity=\"1\" stroke=\"#000000\" stroke-opacity=\"1\" stroke-width=\"3.2\"/>\n",
       "<circle clip-path=\"url(#clip842)\" cx=\"1100.34\" cy=\"1367.37\" r=\"14\" fill=\"#009af9\" fill-rule=\"evenodd\" fill-opacity=\"1\" stroke=\"#000000\" stroke-opacity=\"1\" stroke-width=\"3.2\"/>\n",
       "<circle clip-path=\"url(#clip842)\" cx=\"1138.87\" cy=\"1382.98\" r=\"14\" fill=\"#009af9\" fill-rule=\"evenodd\" fill-opacity=\"1\" stroke=\"#000000\" stroke-opacity=\"1\" stroke-width=\"3.2\"/>\n",
       "<circle clip-path=\"url(#clip842)\" cx=\"1177.41\" cy=\"1386.4\" r=\"14\" fill=\"#009af9\" fill-rule=\"evenodd\" fill-opacity=\"1\" stroke=\"#000000\" stroke-opacity=\"1\" stroke-width=\"3.2\"/>\n",
       "<circle clip-path=\"url(#clip842)\" cx=\"1215.95\" cy=\"1384.27\" r=\"14\" fill=\"#009af9\" fill-rule=\"evenodd\" fill-opacity=\"1\" stroke=\"#000000\" stroke-opacity=\"1\" stroke-width=\"3.2\"/>\n",
       "<circle clip-path=\"url(#clip842)\" cx=\"1254.48\" cy=\"1381.46\" r=\"14\" fill=\"#009af9\" fill-rule=\"evenodd\" fill-opacity=\"1\" stroke=\"#000000\" stroke-opacity=\"1\" stroke-width=\"3.2\"/>\n",
       "<circle clip-path=\"url(#clip842)\" cx=\"1293.02\" cy=\"1378.03\" r=\"14\" fill=\"#009af9\" fill-rule=\"evenodd\" fill-opacity=\"1\" stroke=\"#000000\" stroke-opacity=\"1\" stroke-width=\"3.2\"/>\n",
       "<circle clip-path=\"url(#clip842)\" cx=\"1331.55\" cy=\"1373.99\" r=\"14\" fill=\"#009af9\" fill-rule=\"evenodd\" fill-opacity=\"1\" stroke=\"#000000\" stroke-opacity=\"1\" stroke-width=\"3.2\"/>\n",
       "<circle clip-path=\"url(#clip842)\" cx=\"1370.09\" cy=\"1369.41\" r=\"14\" fill=\"#009af9\" fill-rule=\"evenodd\" fill-opacity=\"1\" stroke=\"#000000\" stroke-opacity=\"1\" stroke-width=\"3.2\"/>\n",
       "<circle clip-path=\"url(#clip842)\" cx=\"1408.63\" cy=\"1364.29\" r=\"14\" fill=\"#009af9\" fill-rule=\"evenodd\" fill-opacity=\"1\" stroke=\"#000000\" stroke-opacity=\"1\" stroke-width=\"3.2\"/>\n",
       "<circle clip-path=\"url(#clip842)\" cx=\"1447.16\" cy=\"1358.69\" r=\"14\" fill=\"#009af9\" fill-rule=\"evenodd\" fill-opacity=\"1\" stroke=\"#000000\" stroke-opacity=\"1\" stroke-width=\"3.2\"/>\n",
       "<circle clip-path=\"url(#clip842)\" cx=\"1485.7\" cy=\"1347.44\" r=\"14\" fill=\"#009af9\" fill-rule=\"evenodd\" fill-opacity=\"1\" stroke=\"#000000\" stroke-opacity=\"1\" stroke-width=\"3.2\"/>\n",
       "<circle clip-path=\"url(#clip842)\" cx=\"1524.23\" cy=\"1333.05\" r=\"14\" fill=\"#009af9\" fill-rule=\"evenodd\" fill-opacity=\"1\" stroke=\"#000000\" stroke-opacity=\"1\" stroke-width=\"3.2\"/>\n",
       "<circle clip-path=\"url(#clip842)\" cx=\"1562.77\" cy=\"1304.15\" r=\"14\" fill=\"#009af9\" fill-rule=\"evenodd\" fill-opacity=\"1\" stroke=\"#000000\" stroke-opacity=\"1\" stroke-width=\"3.2\"/>\n",
       "<circle clip-path=\"url(#clip842)\" cx=\"1601.31\" cy=\"1272.33\" r=\"14\" fill=\"#009af9\" fill-rule=\"evenodd\" fill-opacity=\"1\" stroke=\"#000000\" stroke-opacity=\"1\" stroke-width=\"3.2\"/>\n",
       "<circle clip-path=\"url(#clip842)\" cx=\"1639.84\" cy=\"1240.44\" r=\"14\" fill=\"#009af9\" fill-rule=\"evenodd\" fill-opacity=\"1\" stroke=\"#000000\" stroke-opacity=\"1\" stroke-width=\"3.2\"/>\n",
       "<circle clip-path=\"url(#clip842)\" cx=\"1678.38\" cy=\"1208.48\" r=\"14\" fill=\"#009af9\" fill-rule=\"evenodd\" fill-opacity=\"1\" stroke=\"#000000\" stroke-opacity=\"1\" stroke-width=\"3.2\"/>\n",
       "<circle clip-path=\"url(#clip842)\" cx=\"1716.91\" cy=\"1176.49\" r=\"14\" fill=\"#009af9\" fill-rule=\"evenodd\" fill-opacity=\"1\" stroke=\"#000000\" stroke-opacity=\"1\" stroke-width=\"3.2\"/>\n",
       "<circle clip-path=\"url(#clip842)\" cx=\"1755.45\" cy=\"1144.46\" r=\"14\" fill=\"#009af9\" fill-rule=\"evenodd\" fill-opacity=\"1\" stroke=\"#000000\" stroke-opacity=\"1\" stroke-width=\"3.2\"/>\n",
       "<circle clip-path=\"url(#clip842)\" cx=\"1793.98\" cy=\"1112.41\" r=\"14\" fill=\"#009af9\" fill-rule=\"evenodd\" fill-opacity=\"1\" stroke=\"#000000\" stroke-opacity=\"1\" stroke-width=\"3.2\"/>\n",
       "<circle clip-path=\"url(#clip842)\" cx=\"1832.52\" cy=\"1080.35\" r=\"14\" fill=\"#009af9\" fill-rule=\"evenodd\" fill-opacity=\"1\" stroke=\"#000000\" stroke-opacity=\"1\" stroke-width=\"3.2\"/>\n",
       "<circle clip-path=\"url(#clip842)\" cx=\"1871.06\" cy=\"1048.29\" r=\"14\" fill=\"#009af9\" fill-rule=\"evenodd\" fill-opacity=\"1\" stroke=\"#000000\" stroke-opacity=\"1\" stroke-width=\"3.2\"/>\n",
       "<circle clip-path=\"url(#clip842)\" cx=\"1909.59\" cy=\"1016.24\" r=\"14\" fill=\"#009af9\" fill-rule=\"evenodd\" fill-opacity=\"1\" stroke=\"#000000\" stroke-opacity=\"1\" stroke-width=\"3.2\"/>\n",
       "<circle clip-path=\"url(#clip842)\" cx=\"1948.13\" cy=\"984.204\" r=\"14\" fill=\"#009af9\" fill-rule=\"evenodd\" fill-opacity=\"1\" stroke=\"#000000\" stroke-opacity=\"1\" stroke-width=\"3.2\"/>\n",
       "<circle clip-path=\"url(#clip842)\" cx=\"1986.66\" cy=\"952.2\" r=\"14\" fill=\"#009af9\" fill-rule=\"evenodd\" fill-opacity=\"1\" stroke=\"#000000\" stroke-opacity=\"1\" stroke-width=\"3.2\"/>\n",
       "<circle clip-path=\"url(#clip842)\" cx=\"2025.2\" cy=\"920.23\" r=\"14\" fill=\"#009af9\" fill-rule=\"evenodd\" fill-opacity=\"1\" stroke=\"#000000\" stroke-opacity=\"1\" stroke-width=\"3.2\"/>\n",
       "<circle clip-path=\"url(#clip842)\" cx=\"2063.74\" cy=\"888.302\" r=\"14\" fill=\"#009af9\" fill-rule=\"evenodd\" fill-opacity=\"1\" stroke=\"#000000\" stroke-opacity=\"1\" stroke-width=\"3.2\"/>\n",
       "<circle clip-path=\"url(#clip842)\" cx=\"2102.27\" cy=\"856.422\" r=\"14\" fill=\"#009af9\" fill-rule=\"evenodd\" fill-opacity=\"1\" stroke=\"#000000\" stroke-opacity=\"1\" stroke-width=\"3.2\"/>\n",
       "<circle clip-path=\"url(#clip842)\" cx=\"2140.81\" cy=\"824.597\" r=\"14\" fill=\"#009af9\" fill-rule=\"evenodd\" fill-opacity=\"1\" stroke=\"#000000\" stroke-opacity=\"1\" stroke-width=\"3.2\"/>\n",
       "<circle clip-path=\"url(#clip842)\" cx=\"2179.34\" cy=\"792.831\" r=\"14\" fill=\"#009af9\" fill-rule=\"evenodd\" fill-opacity=\"1\" stroke=\"#000000\" stroke-opacity=\"1\" stroke-width=\"3.2\"/>\n",
       "<circle clip-path=\"url(#clip842)\" cx=\"2217.88\" cy=\"761.131\" r=\"14\" fill=\"#009af9\" fill-rule=\"evenodd\" fill-opacity=\"1\" stroke=\"#000000\" stroke-opacity=\"1\" stroke-width=\"3.2\"/>\n",
       "<circle clip-path=\"url(#clip842)\" cx=\"2256.42\" cy=\"729.502\" r=\"14\" fill=\"#009af9\" fill-rule=\"evenodd\" fill-opacity=\"1\" stroke=\"#000000\" stroke-opacity=\"1\" stroke-width=\"3.2\"/>\n",
       "<circle clip-path=\"url(#clip842)\" cx=\"2294.95\" cy=\"697.948\" r=\"14\" fill=\"#009af9\" fill-rule=\"evenodd\" fill-opacity=\"1\" stroke=\"#000000\" stroke-opacity=\"1\" stroke-width=\"3.2\"/>\n",
       "</svg>\n"
      ]
     },
     "execution_count": 161,
     "metadata": {},
     "output_type": "execute_result"
    }
   ],
   "source": [
    "rep = report(mach);\n",
    "plt = rep.plotting;\n",
    "scatter(Float64.(plt.parameter_values), plt.measurements,\n",
    "    label = :none)\n",
    "xlabel!(\"hyperparameter, λ\")\n",
    "ylabel!(\"MAPE\")\n",
    "title!(\"a)\")"
   ]
  },
  {
   "cell_type": "markdown",
   "metadata": {},
   "source": [
    "### 3 Huber Regression Model\n",
    "Huber regression is one robust regression, a type of regression model that is not sensitive to data outliers (Z. Wang et al., 2017). The \"best\" coefficient value for the Huber regression model is obtained by minimizing the average value of the Huber loss (Huber, 1964), given by\n",
    "\n",
    "$${\\hat{\\beta}}_h=\\arg{\\min\\limits_\\beta{\\frac{1}{N}\\sum_{i=1}^{N}\\ell\\left(f_\\beta\\left(x^{\\left(i\\right)}\\right)-y^{\\left(i\\right)}\\right)}}$$\n",
    "\n",
    "where\n",
    "\n",
    "$$\\ell\\left(r\\right)=\n",
    "\\begin{cases}\n",
    "\\dfrac{1}{2}r^2,& r<\\delta\\\\\n",
    "\\delta\\left(|r|-\\dfrac{1}{2}\\delta\\right),& r\\ge\\delta\n",
    "\\end{cases}$$\n",
    "\n",
    "where ${\\hat{\\beta}}_h$ is the approximate value of the coefficient $\\beta$ based on Huber regression. The function $\\ell\\left(r\\right)$ is called a Huber loss or smooth absolute loss function, while $\\delta$ is a hyperparameter of this model.\n",
    "\n",
    "Huber regression, also called robust regression with Huber loss, is a regression type that is not sensitive to data outliers. Although not sensitive to outliers, Huber regression does not ignore the effect of data outliers. Huber regression only assigns a lower weight to the outlier. Huber regression will optimize the square loss when the absolute value of the residual between the actual and predicted values is less than a bound $\\delta$, which is called the hyperparameter. Meanwhile, the absolute loss will be optimized if the residual value is greater than the hyperparameter value.\n",
    "\n",
    "In contrast to least squares and ridge regression, the estimation of the Huber regression's coefficients cannot use a matrix formulation. One method used for Huber regression or other robust regression is M-estimation. The letter of M in M-estimation stands for \"_maximum likelihood type_\". Using MLJ packages, Huber regression coefficients can be estimated easily and quickly."
   ]
  },
  {
   "cell_type": "code",
   "execution_count": 162,
   "metadata": {
    "scrolled": false
   },
   "outputs": [
    {
     "data": {
      "text/plain": [
       "HuberRegressor(\n",
       "    delta = 0.5,\n",
       "    lambda = 0.0,\n",
       "    gamma = 0.0,\n",
       "    penalty = :none,\n",
       "    fit_intercept = true,\n",
       "    penalize_intercept = false,\n",
       "    solver = nothing)\u001b[34m @743\u001b[39m"
      ]
     },
     "execution_count": 162,
     "metadata": {},
     "output_type": "execute_result"
    }
   ],
   "source": [
    "HuberRegressor = (@load HuberRegressor pkg=MLJLinearModels verbosity=0)(\n",
    "    lambda=0.0, penalty=:none)"
   ]
  },
  {
   "cell_type": "code",
   "execution_count": 163,
   "metadata": {},
   "outputs": [
    {
     "data": {
      "text/plain": [
       "typename(MLJBase.NumericRange)(Float64, :delta, ... )"
      ]
     },
     "execution_count": 163,
     "metadata": {},
     "output_type": "execute_result"
    }
   ],
   "source": [
    "r = range(HuberRegressor, :delta , lower=0, upper=1)"
   ]
  },
  {
   "cell_type": "code",
   "execution_count": 164,
   "metadata": {},
   "outputs": [],
   "source": [
    "tunned_huber_model = TunedModel(model=HuberRegressor, \n",
    "    tuning=Grid(resolution = 51,shuffle = false),\n",
    "    resampling=CV(nfolds = 10),\n",
    "    ranges=[r, ], \n",
    "    measure=mape);"
   ]
  },
  {
   "cell_type": "code",
   "execution_count": 165,
   "metadata": {},
   "outputs": [
    {
     "name": "stderr",
     "output_type": "stream",
     "text": [
      "┌ Info: Training \u001b[34mMachine{DeterministicTunedModel{Grid,…},…} @116\u001b[39m.\n",
      "└ @ MLJBase C:\\Users\\LENOVO\\.julia\\packages\\MLJBase\\4yebN\\src\\machines.jl:342\n",
      "┌ Info: Attempting to evaluate 51 models.\n",
      "└ @ MLJTuning C:\\Users\\LENOVO\\.julia\\packages\\MLJTuning\\9sSuR\\src\\tuned_models.jl:564\n",
      "\u001b[33mEvaluating over 51 metamodels: 100%[=========================] Time: 0:00:03\u001b[39m\n"
     ]
    },
    {
     "data": {
      "text/plain": [
       "\u001b[34mMachine{DeterministicTunedModel{Grid,…},…} @116\u001b[39m trained 1 time; caches data\n",
       "  args: \n",
       "    1:\t\u001b[34mSource @394\u001b[39m ⏎ `Table{AbstractVector{Continuous}}`\n",
       "    2:\t\u001b[34mSource @735\u001b[39m ⏎ `AbstractVector{Continuous}`\n"
      ]
     },
     "execution_count": 165,
     "metadata": {},
     "output_type": "execute_result"
    }
   ],
   "source": [
    "mach = machine(tunned_huber_model, X, y)\n",
    "fit!(mach, rows=train)"
   ]
  },
  {
   "cell_type": "code",
   "execution_count": 166,
   "metadata": {},
   "outputs": [
    {
     "data": {
      "text/plain": [
       "HuberRegressor(\n",
       "    delta = 0.5,\n",
       "    lambda = 0.0,\n",
       "    gamma = 0.0,\n",
       "    penalty = :none,\n",
       "    fit_intercept = true,\n",
       "    penalize_intercept = false,\n",
       "    solver = nothing)\u001b[34m @863\u001b[39m"
      ]
     },
     "execution_count": 166,
     "metadata": {},
     "output_type": "execute_result"
    }
   ],
   "source": [
    "fitted_params(mach).best_model"
   ]
  },
  {
   "cell_type": "code",
   "execution_count": 167,
   "metadata": {
    "scrolled": true
   },
   "outputs": [
    {
     "name": "stdout",
     "output_type": "stream",
     "text": [
      "(coefs = [:X1 => 0.7273324063894198,\n",
      "          :X2 => -6.174301144205878,\n",
      "          :X3 => 9.444728271852547,\n",
      "          :X4 => -4.371612196275405,\n",
      "          :X5 => 4.2189163368192935,\n",
      "          :X6 => -9.56433366925777],\n",
      " intercept = 68.00628376438438)"
     ]
    }
   ],
   "source": [
    "fitted_params(mach).best_fitted_params |> pprint"
   ]
  },
  {
   "cell_type": "code",
   "execution_count": 168,
   "metadata": {},
   "outputs": [],
   "source": [
    "ŷ = predict(mach, rows=test);"
   ]
  },
  {
   "cell_type": "code",
   "execution_count": 169,
   "metadata": {},
   "outputs": [
    {
     "data": {
      "text/plain": [
       "6.854664907243711"
      ]
     },
     "execution_count": 169,
     "metadata": {},
     "output_type": "execute_result"
    }
   ],
   "source": [
    "rms(ŷ,y[test])"
   ]
  },
  {
   "cell_type": "code",
   "execution_count": 170,
   "metadata": {},
   "outputs": [
    {
     "data": {
      "text/plain": [
       "0.06904317209456445"
      ]
     },
     "execution_count": 170,
     "metadata": {},
     "output_type": "execute_result"
    }
   ],
   "source": [
    "mape(ŷ,y[test])"
   ]
  },
  {
   "cell_type": "code",
   "execution_count": 171,
   "metadata": {
    "scrolled": true
   },
   "outputs": [
    {
     "data": {
      "text/plain": [
       "22.804814599973966"
      ]
     },
     "execution_count": 171,
     "metadata": {},
     "output_type": "execute_result"
    }
   ],
   "source": [
    "maximum(abs.(ŷ.-y[test]))"
   ]
  },
  {
   "cell_type": "code",
   "execution_count": 172,
   "metadata": {},
   "outputs": [
    {
     "data": {
      "text/plain": [
       "51×2 Matrix{Float64}:\n",
       " 0.0   1.0\n",
       " 0.02  0.0785886\n",
       " 0.04  0.0786008\n",
       " 0.06  0.0785804\n",
       " 0.08  0.0785524\n",
       " 0.1   0.0785325\n",
       " 0.12  0.0784908\n",
       " 0.14  0.0784333\n",
       " 0.16  0.0783814\n",
       " 0.18  0.0783367\n",
       " 0.2   0.0783131\n",
       " 0.22  0.0783019\n",
       " 0.24  0.0782902\n",
       " 0.26  0.0782759\n",
       " 0.28  0.0782587\n",
       " 0.3   0.0782435\n",
       " 0.32  0.0782311\n",
       " 0.34  0.0782138\n",
       " 0.36  0.078207\n",
       " 0.38  0.0782034\n",
       " 0.4   0.0782014\n",
       " 0.42  0.0781967\n",
       " 0.44  0.0781912\n",
       " 0.46  0.0781894\n",
       " 0.48  0.0781841\n",
       " 0.5   0.0781829\n",
       " 0.52  0.0781897\n",
       " 0.54  0.0782018\n",
       " 0.56  0.0782188\n",
       " 0.58  0.0782287\n",
       " 0.6   0.0782367\n",
       " 0.62  0.078248\n",
       " 0.64  0.0782618\n",
       " 0.66  0.0782718\n",
       " 0.68  0.0782804\n",
       " 0.7   0.0782926\n",
       " 0.72  0.078308\n",
       " 0.74  0.0783286\n",
       " 0.76  0.0783519\n",
       " 0.78  0.078382\n",
       " 0.8   0.0784159\n",
       " 0.82  0.0784507\n",
       " 0.84  0.0784929\n",
       " 0.86  0.0785356\n",
       " 0.88  0.0785783\n",
       " 0.9   0.0786231\n",
       " 0.92  0.0786703\n",
       " 0.94  0.0787167\n",
       " 0.96  0.0787635\n",
       " 0.98  0.0788071\n",
       " 1.0   0.0788504"
      ]
     },
     "execution_count": 172,
     "metadata": {},
     "output_type": "execute_result"
    }
   ],
   "source": [
    "rep = report(mach);\n",
    "plt = rep.plotting;\n",
    "[Float64.(plt.parameter_values) plt.measurements]"
   ]
  },
  {
   "cell_type": "code",
   "execution_count": 173,
   "metadata": {},
   "outputs": [
    {
     "data": {
      "image/svg+xml": [
       "<?xml version=\"1.0\" encoding=\"utf-8\"?>\n",
       "<svg xmlns=\"http://www.w3.org/2000/svg\" xmlns:xlink=\"http://www.w3.org/1999/xlink\" width=\"600\" height=\"400\" viewBox=\"0 0 2400 1600\">\n",
       "<defs>\n",
       "  <clipPath id=\"clip880\">\n",
       "    <rect x=\"0\" y=\"0\" width=\"2400\" height=\"1600\"/>\n",
       "  </clipPath>\n",
       "</defs>\n",
       "<path clip-path=\"url(#clip880)\" d=\"\n",
       "M0 1600 L2400 1600 L2400 0 L0 0  Z\n",
       "  \" fill=\"#ffffff\" fill-rule=\"evenodd\" fill-opacity=\"1\"/>\n",
       "<defs>\n",
       "  <clipPath id=\"clip881\">\n",
       "    <rect x=\"480\" y=\"0\" width=\"1681\" height=\"1600\"/>\n",
       "  </clipPath>\n",
       "</defs>\n",
       "<path clip-path=\"url(#clip880)\" d=\"\n",
       "M310.352 1423.18 L2352.76 1423.18 L2352.76 123.472 L310.352 123.472  Z\n",
       "  \" fill=\"#ffffff\" fill-rule=\"evenodd\" fill-opacity=\"1\"/>\n",
       "<defs>\n",
       "  <clipPath id=\"clip882\">\n",
       "    <rect x=\"310\" y=\"123\" width=\"2043\" height=\"1301\"/>\n",
       "  </clipPath>\n",
       "</defs>\n",
       "<polyline clip-path=\"url(#clip882)\" style=\"stroke:#000000; stroke-width:2; stroke-opacity:0.1; fill:none\" points=\"\n",
       "  328.833,1423.18 328.833,123.472 \n",
       "  \"/>\n",
       "<polyline clip-path=\"url(#clip882)\" style=\"stroke:#000000; stroke-width:2; stroke-opacity:0.1; fill:none\" points=\"\n",
       "  820.363,1423.18 820.363,123.472 \n",
       "  \"/>\n",
       "<polyline clip-path=\"url(#clip882)\" style=\"stroke:#000000; stroke-width:2; stroke-opacity:0.1; fill:none\" points=\"\n",
       "  1311.89,1423.18 1311.89,123.472 \n",
       "  \"/>\n",
       "<polyline clip-path=\"url(#clip882)\" style=\"stroke:#000000; stroke-width:2; stroke-opacity:0.1; fill:none\" points=\"\n",
       "  1803.42,1423.18 1803.42,123.472 \n",
       "  \"/>\n",
       "<polyline clip-path=\"url(#clip882)\" style=\"stroke:#000000; stroke-width:2; stroke-opacity:0.1; fill:none\" points=\"\n",
       "  2294.95,1423.18 2294.95,123.472 \n",
       "  \"/>\n",
       "<polyline clip-path=\"url(#clip880)\" style=\"stroke:#000000; stroke-width:4; stroke-opacity:1; fill:none\" points=\"\n",
       "  310.352,1423.18 2352.76,1423.18 \n",
       "  \"/>\n",
       "<polyline clip-path=\"url(#clip880)\" style=\"stroke:#000000; stroke-width:4; stroke-opacity:1; fill:none\" points=\"\n",
       "  328.833,1423.18 328.833,1407.58 \n",
       "  \"/>\n",
       "<polyline clip-path=\"url(#clip880)\" style=\"stroke:#000000; stroke-width:4; stroke-opacity:1; fill:none\" points=\"\n",
       "  820.363,1423.18 820.363,1407.58 \n",
       "  \"/>\n",
       "<polyline clip-path=\"url(#clip880)\" style=\"stroke:#000000; stroke-width:4; stroke-opacity:1; fill:none\" points=\"\n",
       "  1311.89,1423.18 1311.89,1407.58 \n",
       "  \"/>\n",
       "<polyline clip-path=\"url(#clip880)\" style=\"stroke:#000000; stroke-width:4; stroke-opacity:1; fill:none\" points=\"\n",
       "  1803.42,1423.18 1803.42,1407.58 \n",
       "  \"/>\n",
       "<polyline clip-path=\"url(#clip880)\" style=\"stroke:#000000; stroke-width:4; stroke-opacity:1; fill:none\" points=\"\n",
       "  2294.95,1423.18 2294.95,1407.58 \n",
       "  \"/>\n",
       "<path clip-path=\"url(#clip880)\" d=\"M 0 0 M291.137 1452.37 Q287.526 1452.37 285.697 1455.94 Q283.892 1459.48 283.892 1466.61 Q283.892 1473.71 285.697 1477.28 Q287.526 1480.82 291.137 1480.82 Q294.771 1480.82 296.577 1477.28 Q298.405 1473.71 298.405 1466.61 Q298.405 1459.48 296.577 1455.94 Q294.771 1452.37 291.137 1452.37 M291.137 1448.67 Q296.947 1448.67 300.003 1453.27 Q303.081 1457.86 303.081 1466.61 Q303.081 1475.33 300.003 1479.94 Q296.947 1484.52 291.137 1484.52 Q285.327 1484.52 282.248 1479.94 Q279.192 1475.33 279.192 1466.61 Q279.192 1457.86 282.248 1453.27 Q285.327 1448.67 291.137 1448.67 Z\" fill=\"#000000\" fill-rule=\"evenodd\" fill-opacity=\"1\" /><path clip-path=\"url(#clip880)\" d=\"M 0 0 M311.299 1477.97 L316.183 1477.97 L316.183 1483.85 L311.299 1483.85 L311.299 1477.97 Z\" fill=\"#000000\" fill-rule=\"evenodd\" fill-opacity=\"1\" /><path clip-path=\"url(#clip880)\" d=\"M 0 0 M336.368 1452.37 Q332.757 1452.37 330.928 1455.94 Q329.123 1459.48 329.123 1466.61 Q329.123 1473.71 330.928 1477.28 Q332.757 1480.82 336.368 1480.82 Q340.002 1480.82 341.808 1477.28 Q343.637 1473.71 343.637 1466.61 Q343.637 1459.48 341.808 1455.94 Q340.002 1452.37 336.368 1452.37 M336.368 1448.67 Q342.178 1448.67 345.234 1453.27 Q348.312 1457.86 348.312 1466.61 Q348.312 1475.33 345.234 1479.94 Q342.178 1484.52 336.368 1484.52 Q330.558 1484.52 327.479 1479.94 Q324.424 1475.33 324.424 1466.61 Q324.424 1457.86 327.479 1453.27 Q330.558 1448.67 336.368 1448.67 Z\" fill=\"#000000\" fill-rule=\"evenodd\" fill-opacity=\"1\" /><path clip-path=\"url(#clip880)\" d=\"M 0 0 M366.53 1452.37 Q362.919 1452.37 361.09 1455.94 Q359.285 1459.48 359.285 1466.61 Q359.285 1473.71 361.09 1477.28 Q362.919 1480.82 366.53 1480.82 Q370.164 1480.82 371.97 1477.28 Q373.798 1473.71 373.798 1466.61 Q373.798 1459.48 371.97 1455.94 Q370.164 1452.37 366.53 1452.37 M366.53 1448.67 Q372.34 1448.67 375.396 1453.27 Q378.474 1457.86 378.474 1466.61 Q378.474 1475.33 375.396 1479.94 Q372.34 1484.52 366.53 1484.52 Q360.72 1484.52 357.641 1479.94 Q354.586 1475.33 354.586 1466.61 Q354.586 1457.86 357.641 1453.27 Q360.72 1448.67 366.53 1448.67 Z\" fill=\"#000000\" fill-rule=\"evenodd\" fill-opacity=\"1\" /><path clip-path=\"url(#clip880)\" d=\"M 0 0 M783.164 1452.37 Q779.553 1452.37 777.724 1455.94 Q775.919 1459.48 775.919 1466.61 Q775.919 1473.71 777.724 1477.28 Q779.553 1480.82 783.164 1480.82 Q786.798 1480.82 788.604 1477.28 Q790.433 1473.71 790.433 1466.61 Q790.433 1459.48 788.604 1455.94 Q786.798 1452.37 783.164 1452.37 M783.164 1448.67 Q788.974 1448.67 792.03 1453.27 Q795.109 1457.86 795.109 1466.61 Q795.109 1475.33 792.03 1479.94 Q788.974 1484.52 783.164 1484.52 Q777.354 1484.52 774.275 1479.94 Q771.22 1475.33 771.22 1466.61 Q771.22 1457.86 774.275 1453.27 Q777.354 1448.67 783.164 1448.67 Z\" fill=\"#000000\" fill-rule=\"evenodd\" fill-opacity=\"1\" /><path clip-path=\"url(#clip880)\" d=\"M 0 0 M803.326 1477.97 L808.21 1477.97 L808.21 1483.85 L803.326 1483.85 L803.326 1477.97 Z\" fill=\"#000000\" fill-rule=\"evenodd\" fill-opacity=\"1\" /><path clip-path=\"url(#clip880)\" d=\"M 0 0 M822.423 1479.92 L838.743 1479.92 L838.743 1483.85 L816.798 1483.85 L816.798 1479.92 Q819.46 1477.16 824.044 1472.53 Q828.65 1467.88 829.831 1466.54 Q832.076 1464.01 832.956 1462.28 Q833.858 1460.52 833.858 1458.83 Q833.858 1456.07 831.914 1454.34 Q829.993 1452.6 826.891 1452.6 Q824.692 1452.6 822.238 1453.37 Q819.808 1454.13 817.03 1455.68 L817.03 1450.96 Q819.854 1449.82 822.307 1449.25 Q824.761 1448.67 826.798 1448.67 Q832.169 1448.67 835.363 1451.35 Q838.557 1454.04 838.557 1458.53 Q838.557 1460.66 837.747 1462.58 Q836.96 1464.48 834.854 1467.07 Q834.275 1467.74 831.173 1470.96 Q828.071 1474.15 822.423 1479.92 Z\" fill=\"#000000\" fill-rule=\"evenodd\" fill-opacity=\"1\" /><path clip-path=\"url(#clip880)\" d=\"M 0 0 M848.604 1449.29 L866.96 1449.29 L866.96 1453.23 L852.886 1453.23 L852.886 1461.7 Q853.905 1461.35 854.923 1461.19 Q855.942 1461 856.96 1461 Q862.747 1461 866.127 1464.18 Q869.506 1467.35 869.506 1472.76 Q869.506 1478.34 866.034 1481.44 Q862.562 1484.52 856.242 1484.52 Q854.067 1484.52 851.798 1484.15 Q849.553 1483.78 847.145 1483.04 L847.145 1478.34 Q849.229 1479.48 851.451 1480.03 Q853.673 1480.59 856.15 1480.59 Q860.155 1480.59 862.492 1478.48 Q864.83 1476.38 864.83 1472.76 Q864.83 1469.15 862.492 1467.05 Q860.155 1464.94 856.15 1464.94 Q854.275 1464.94 852.4 1465.36 Q850.548 1465.77 848.604 1466.65 L848.604 1449.29 Z\" fill=\"#000000\" fill-rule=\"evenodd\" fill-opacity=\"1\" /><path clip-path=\"url(#clip880)\" d=\"M 0 0 M1274.2 1452.37 Q1270.59 1452.37 1268.76 1455.94 Q1266.95 1459.48 1266.95 1466.61 Q1266.95 1473.71 1268.76 1477.28 Q1270.59 1480.82 1274.2 1480.82 Q1277.83 1480.82 1279.64 1477.28 Q1281.46 1473.71 1281.46 1466.61 Q1281.46 1459.48 1279.64 1455.94 Q1277.83 1452.37 1274.2 1452.37 M1274.2 1448.67 Q1280.01 1448.67 1283.06 1453.27 Q1286.14 1457.86 1286.14 1466.61 Q1286.14 1475.33 1283.06 1479.94 Q1280.01 1484.52 1274.2 1484.52 Q1268.39 1484.52 1265.31 1479.94 Q1262.25 1475.33 1262.25 1466.61 Q1262.25 1457.86 1265.31 1453.27 Q1268.39 1448.67 1274.2 1448.67 Z\" fill=\"#000000\" fill-rule=\"evenodd\" fill-opacity=\"1\" /><path clip-path=\"url(#clip880)\" d=\"M 0 0 M1294.36 1477.97 L1299.24 1477.97 L1299.24 1483.85 L1294.36 1483.85 L1294.36 1477.97 Z\" fill=\"#000000\" fill-rule=\"evenodd\" fill-opacity=\"1\" /><path clip-path=\"url(#clip880)\" d=\"M 0 0 M1309.47 1449.29 L1327.83 1449.29 L1327.83 1453.23 L1313.76 1453.23 L1313.76 1461.7 Q1314.77 1461.35 1315.79 1461.19 Q1316.81 1461 1317.83 1461 Q1323.62 1461 1327 1464.18 Q1330.38 1467.35 1330.38 1472.76 Q1330.38 1478.34 1326.9 1481.44 Q1323.43 1484.52 1317.11 1484.52 Q1314.94 1484.52 1312.67 1484.15 Q1310.42 1483.78 1308.02 1483.04 L1308.02 1478.34 Q1310.1 1479.48 1312.32 1480.03 Q1314.54 1480.59 1317.02 1480.59 Q1321.02 1480.59 1323.36 1478.48 Q1325.7 1476.38 1325.7 1472.76 Q1325.7 1469.15 1323.36 1467.05 Q1321.02 1464.94 1317.02 1464.94 Q1315.15 1464.94 1313.27 1465.36 Q1311.42 1465.77 1309.47 1466.65 L1309.47 1449.29 Z\" fill=\"#000000\" fill-rule=\"evenodd\" fill-opacity=\"1\" /><path clip-path=\"url(#clip880)\" d=\"M 0 0 M1349.59 1452.37 Q1345.98 1452.37 1344.15 1455.94 Q1342.34 1459.48 1342.34 1466.61 Q1342.34 1473.71 1344.15 1477.28 Q1345.98 1480.82 1349.59 1480.82 Q1353.22 1480.82 1355.03 1477.28 Q1356.86 1473.71 1356.86 1466.61 Q1356.86 1459.48 1355.03 1455.94 Q1353.22 1452.37 1349.59 1452.37 M1349.59 1448.67 Q1355.4 1448.67 1358.45 1453.27 Q1361.53 1457.86 1361.53 1466.61 Q1361.53 1475.33 1358.45 1479.94 Q1355.4 1484.52 1349.59 1484.52 Q1343.78 1484.52 1340.7 1479.94 Q1337.64 1475.33 1337.64 1466.61 Q1337.64 1457.86 1340.7 1453.27 Q1343.78 1448.67 1349.59 1448.67 Z\" fill=\"#000000\" fill-rule=\"evenodd\" fill-opacity=\"1\" /><path clip-path=\"url(#clip880)\" d=\"M 0 0 M1766.22 1452.37 Q1762.61 1452.37 1760.78 1455.94 Q1758.98 1459.48 1758.98 1466.61 Q1758.98 1473.71 1760.78 1477.28 Q1762.61 1480.82 1766.22 1480.82 Q1769.86 1480.82 1771.66 1477.28 Q1773.49 1473.71 1773.49 1466.61 Q1773.49 1459.48 1771.66 1455.94 Q1769.86 1452.37 1766.22 1452.37 M1766.22 1448.67 Q1772.03 1448.67 1775.09 1453.27 Q1778.17 1457.86 1778.17 1466.61 Q1778.17 1475.33 1775.09 1479.94 Q1772.03 1484.52 1766.22 1484.52 Q1760.41 1484.52 1757.33 1479.94 Q1754.28 1475.33 1754.28 1466.61 Q1754.28 1457.86 1757.33 1453.27 Q1760.41 1448.67 1766.22 1448.67 Z\" fill=\"#000000\" fill-rule=\"evenodd\" fill-opacity=\"1\" /><path clip-path=\"url(#clip880)\" d=\"M 0 0 M1786.39 1477.97 L1791.27 1477.97 L1791.27 1483.85 L1786.39 1483.85 L1786.39 1477.97 Z\" fill=\"#000000\" fill-rule=\"evenodd\" fill-opacity=\"1\" /><path clip-path=\"url(#clip880)\" d=\"M 0 0 M1800.27 1449.29 L1822.5 1449.29 L1822.5 1451.28 L1809.95 1483.85 L1805.07 1483.85 L1816.87 1453.23 L1800.27 1453.23 L1800.27 1449.29 Z\" fill=\"#000000\" fill-rule=\"evenodd\" fill-opacity=\"1\" /><path clip-path=\"url(#clip880)\" d=\"M 0 0 M1831.66 1449.29 L1850.02 1449.29 L1850.02 1453.23 L1835.95 1453.23 L1835.95 1461.7 Q1836.96 1461.35 1837.98 1461.19 Q1839 1461 1840.02 1461 Q1845.81 1461 1849.19 1464.18 Q1852.57 1467.35 1852.57 1472.76 Q1852.57 1478.34 1849.09 1481.44 Q1845.62 1484.52 1839.3 1484.52 Q1837.13 1484.52 1834.86 1484.15 Q1832.61 1483.78 1830.2 1483.04 L1830.2 1478.34 Q1832.29 1479.48 1834.51 1480.03 Q1836.73 1480.59 1839.21 1480.59 Q1843.21 1480.59 1845.55 1478.48 Q1847.89 1476.38 1847.89 1472.76 Q1847.89 1469.15 1845.55 1467.05 Q1843.21 1464.94 1839.21 1464.94 Q1837.33 1464.94 1835.46 1465.36 Q1833.61 1465.77 1831.66 1466.65 L1831.66 1449.29 Z\" fill=\"#000000\" fill-rule=\"evenodd\" fill-opacity=\"1\" /><path clip-path=\"url(#clip880)\" d=\"M 0 0 M2247.02 1479.92 L2254.66 1479.92 L2254.66 1453.55 L2246.35 1455.22 L2246.35 1450.96 L2254.62 1449.29 L2259.29 1449.29 L2259.29 1479.92 L2266.93 1479.92 L2266.93 1483.85 L2247.02 1483.85 L2247.02 1479.92 Z\" fill=\"#000000\" fill-rule=\"evenodd\" fill-opacity=\"1\" /><path clip-path=\"url(#clip880)\" d=\"M 0 0 M2276.38 1477.97 L2281.26 1477.97 L2281.26 1483.85 L2276.38 1483.85 L2276.38 1477.97 Z\" fill=\"#000000\" fill-rule=\"evenodd\" fill-opacity=\"1\" /><path clip-path=\"url(#clip880)\" d=\"M 0 0 M2301.45 1452.37 Q2297.83 1452.37 2296.01 1455.94 Q2294.2 1459.48 2294.2 1466.61 Q2294.2 1473.71 2296.01 1477.28 Q2297.83 1480.82 2301.45 1480.82 Q2305.08 1480.82 2306.88 1477.28 Q2308.71 1473.71 2308.71 1466.61 Q2308.71 1459.48 2306.88 1455.94 Q2305.08 1452.37 2301.45 1452.37 M2301.45 1448.67 Q2307.26 1448.67 2310.31 1453.27 Q2313.39 1457.86 2313.39 1466.61 Q2313.39 1475.33 2310.31 1479.94 Q2307.26 1484.52 2301.45 1484.52 Q2295.63 1484.52 2292.56 1479.94 Q2289.5 1475.33 2289.5 1466.61 Q2289.5 1457.86 2292.56 1453.27 Q2295.63 1448.67 2301.45 1448.67 Z\" fill=\"#000000\" fill-rule=\"evenodd\" fill-opacity=\"1\" /><path clip-path=\"url(#clip880)\" d=\"M 0 0 M2331.61 1452.37 Q2328 1452.37 2326.17 1455.94 Q2324.36 1459.48 2324.36 1466.61 Q2324.36 1473.71 2326.17 1477.28 Q2328 1480.82 2331.61 1480.82 Q2335.24 1480.82 2337.05 1477.28 Q2338.88 1473.71 2338.88 1466.61 Q2338.88 1459.48 2337.05 1455.94 Q2335.24 1452.37 2331.61 1452.37 M2331.61 1448.67 Q2337.42 1448.67 2340.47 1453.27 Q2343.55 1457.86 2343.55 1466.61 Q2343.55 1475.33 2340.47 1479.94 Q2337.42 1484.52 2331.61 1484.52 Q2325.8 1484.52 2322.72 1479.94 Q2319.66 1475.33 2319.66 1466.61 Q2319.66 1457.86 2322.72 1453.27 Q2325.8 1448.67 2331.61 1448.67 Z\" fill=\"#000000\" fill-rule=\"evenodd\" fill-opacity=\"1\" /><path clip-path=\"url(#clip880)\" d=\"M 0 0 M1059.34 1546.53 L1059.34 1568.04 L1053.48 1568.04 L1053.48 1546.72 Q1053.48 1541.66 1051.51 1539.14 Q1049.54 1536.63 1045.59 1536.63 Q1040.85 1536.63 1038.11 1539.65 Q1035.37 1542.68 1035.37 1547.9 L1035.37 1568.04 L1029.49 1568.04 L1029.49 1518.52 L1035.37 1518.52 L1035.37 1537.93 Q1037.47 1534.72 1040.31 1533.13 Q1043.17 1531.54 1046.9 1531.54 Q1053.04 1531.54 1056.19 1535.36 Q1059.34 1539.14 1059.34 1546.53 Z\" fill=\"#000000\" fill-rule=\"evenodd\" fill-opacity=\"1\" /><path clip-path=\"url(#clip880)\" d=\"M 0 0 M1085.85 1571.35 Q1083.37 1577.72 1081.02 1579.66 Q1078.66 1581.6 1074.71 1581.6 L1070.03 1581.6 L1070.03 1576.7 L1073.47 1576.7 Q1075.89 1576.7 1077.23 1575.56 Q1078.56 1574.41 1080.19 1570.14 L1081.24 1567.47 L1066.82 1532.4 L1073.03 1532.4 L1084.17 1560.28 L1095.31 1532.4 L1101.51 1532.4 L1085.85 1571.35 Z\" fill=\"#000000\" fill-rule=\"evenodd\" fill-opacity=\"1\" /><path clip-path=\"url(#clip880)\" d=\"M 0 0 M1115.26 1562.7 L1115.26 1581.6 L1109.37 1581.6 L1109.37 1532.4 L1115.26 1532.4 L1115.26 1537.81 Q1117.11 1534.62 1119.91 1533.1 Q1122.74 1531.54 1126.66 1531.54 Q1133.15 1531.54 1137.19 1536.69 Q1141.27 1541.85 1141.27 1550.25 Q1141.27 1558.65 1137.19 1563.81 Q1133.15 1568.97 1126.66 1568.97 Q1122.74 1568.97 1119.91 1567.44 Q1117.11 1565.88 1115.26 1562.7 M1135.19 1550.25 Q1135.19 1543.79 1132.51 1540.13 Q1129.87 1536.44 1125.23 1536.44 Q1120.58 1536.44 1117.9 1540.13 Q1115.26 1543.79 1115.26 1550.25 Q1115.26 1556.71 1117.9 1560.4 Q1120.58 1564.07 1125.23 1564.07 Q1129.87 1564.07 1132.51 1560.4 Q1135.19 1556.71 1135.19 1550.25 Z\" fill=\"#000000\" fill-rule=\"evenodd\" fill-opacity=\"1\" /><path clip-path=\"url(#clip880)\" d=\"M 0 0 M1181.47 1548.76 L1181.47 1551.62 L1154.54 1551.62 Q1154.92 1557.67 1158.17 1560.85 Q1161.45 1564 1167.27 1564 Q1170.64 1564 1173.8 1563.17 Q1176.98 1562.35 1180.1 1560.69 L1180.1 1566.23 Q1176.95 1567.57 1173.64 1568.27 Q1170.33 1568.97 1166.92 1568.97 Q1158.39 1568.97 1153.39 1564 Q1148.43 1559.04 1148.43 1550.57 Q1148.43 1541.82 1153.14 1536.69 Q1157.88 1531.54 1165.9 1531.54 Q1173.1 1531.54 1177.27 1536.18 Q1181.47 1540.8 1181.47 1548.76 M1175.61 1547.04 Q1175.55 1542.23 1172.9 1539.37 Q1170.29 1536.5 1165.97 1536.5 Q1161.06 1536.5 1158.1 1539.27 Q1155.18 1542.04 1154.73 1547.07 L1175.61 1547.04 Z\" fill=\"#000000\" fill-rule=\"evenodd\" fill-opacity=\"1\" /><path clip-path=\"url(#clip880)\" d=\"M 0 0 M1211.74 1537.87 Q1210.75 1537.3 1209.57 1537.04 Q1208.43 1536.76 1207.02 1536.76 Q1202.06 1536.76 1199.39 1540 Q1196.74 1543.22 1196.74 1549.27 L1196.74 1568.04 L1190.86 1568.04 L1190.86 1532.4 L1196.74 1532.4 L1196.74 1537.93 Q1198.59 1534.69 1201.55 1533.13 Q1204.51 1531.54 1208.74 1531.54 Q1209.35 1531.54 1210.08 1531.63 Q1210.81 1531.7 1211.7 1531.85 L1211.74 1537.87 Z\" fill=\"#000000\" fill-rule=\"evenodd\" fill-opacity=\"1\" /><path clip-path=\"url(#clip880)\" d=\"M 0 0 M1223.54 1562.7 L1223.54 1581.6 L1217.66 1581.6 L1217.66 1532.4 L1223.54 1532.4 L1223.54 1537.81 Q1225.39 1534.62 1228.19 1533.1 Q1231.02 1531.54 1234.94 1531.54 Q1241.43 1531.54 1245.47 1536.69 Q1249.55 1541.85 1249.55 1550.25 Q1249.55 1558.65 1245.47 1563.81 Q1241.43 1568.97 1234.94 1568.97 Q1231.02 1568.97 1228.19 1567.44 Q1225.39 1565.88 1223.54 1562.7 M1243.47 1550.25 Q1243.47 1543.79 1240.79 1540.13 Q1238.15 1536.44 1233.51 1536.44 Q1228.86 1536.44 1226.19 1540.13 Q1223.54 1543.79 1223.54 1550.25 Q1223.54 1556.71 1226.19 1560.4 Q1228.86 1564.07 1233.51 1564.07 Q1238.15 1564.07 1240.79 1560.4 Q1243.47 1556.71 1243.47 1550.25 Z\" fill=\"#000000\" fill-rule=\"evenodd\" fill-opacity=\"1\" /><path clip-path=\"url(#clip880)\" d=\"M 0 0 M1275.46 1550.12 Q1268.36 1550.12 1265.62 1551.75 Q1262.88 1553.37 1262.88 1557.29 Q1262.88 1560.4 1264.92 1562.25 Q1266.99 1564.07 1270.52 1564.07 Q1275.39 1564.07 1278.32 1560.63 Q1281.28 1557.16 1281.28 1551.43 L1281.28 1550.12 L1275.46 1550.12 M1287.14 1547.71 L1287.14 1568.04 L1281.28 1568.04 L1281.28 1562.63 Q1279.28 1565.88 1276.28 1567.44 Q1273.29 1568.97 1268.96 1568.97 Q1263.49 1568.97 1260.24 1565.91 Q1257.03 1562.82 1257.03 1557.67 Q1257.03 1551.65 1261.04 1548.6 Q1265.08 1545.54 1273.07 1545.54 L1281.28 1545.54 L1281.28 1544.97 Q1281.28 1540.93 1278.61 1538.73 Q1275.97 1536.5 1271.16 1536.5 Q1268.1 1536.5 1265.21 1537.23 Q1262.31 1537.97 1259.64 1539.43 L1259.64 1534.02 Q1262.85 1532.78 1265.88 1532.17 Q1268.9 1531.54 1271.76 1531.54 Q1279.5 1531.54 1283.32 1535.55 Q1287.14 1539.56 1287.14 1547.71 Z\" fill=\"#000000\" fill-rule=\"evenodd\" fill-opacity=\"1\" /><path clip-path=\"url(#clip880)\" d=\"M 0 0 M1319.86 1537.87 Q1318.87 1537.3 1317.69 1537.04 Q1316.55 1536.76 1315.15 1536.76 Q1310.18 1536.76 1307.51 1540 Q1304.87 1543.22 1304.87 1549.27 L1304.87 1568.04 L1298.98 1568.04 L1298.98 1532.4 L1304.87 1532.4 L1304.87 1537.93 Q1306.71 1534.69 1309.67 1533.13 Q1312.63 1531.54 1316.87 1531.54 Q1317.47 1531.54 1318.2 1531.63 Q1318.93 1531.7 1319.83 1531.85 L1319.86 1537.87 Z\" fill=\"#000000\" fill-rule=\"evenodd\" fill-opacity=\"1\" /><path clip-path=\"url(#clip880)\" d=\"M 0 0 M1342.2 1550.12 Q1335.1 1550.12 1332.37 1551.75 Q1329.63 1553.37 1329.63 1557.29 Q1329.63 1560.4 1331.67 1562.25 Q1333.73 1564.07 1337.27 1564.07 Q1342.14 1564.07 1345.07 1560.63 Q1348.03 1557.16 1348.03 1551.43 L1348.03 1550.12 L1342.2 1550.12 M1353.88 1547.71 L1353.88 1568.04 L1348.03 1568.04 L1348.03 1562.63 Q1346.02 1565.88 1343.03 1567.44 Q1340.04 1568.97 1335.71 1568.97 Q1330.23 1568.97 1326.99 1565.91 Q1323.77 1562.82 1323.77 1557.67 Q1323.77 1551.65 1327.78 1548.6 Q1331.82 1545.54 1339.81 1545.54 L1348.03 1545.54 L1348.03 1544.97 Q1348.03 1540.93 1345.35 1538.73 Q1342.71 1536.5 1337.9 1536.5 Q1334.85 1536.5 1331.95 1537.23 Q1329.06 1537.97 1326.38 1539.43 L1326.38 1534.02 Q1329.6 1532.78 1332.62 1532.17 Q1335.64 1531.54 1338.51 1531.54 Q1346.24 1531.54 1350.06 1535.55 Q1353.88 1539.56 1353.88 1547.71 Z\" fill=\"#000000\" fill-rule=\"evenodd\" fill-opacity=\"1\" /><path clip-path=\"url(#clip880)\" d=\"M 0 0 M1393.7 1539.24 Q1395.9 1535.29 1398.95 1533.41 Q1402.01 1531.54 1406.14 1531.54 Q1411.71 1531.54 1414.74 1535.45 Q1417.76 1539.33 1417.76 1546.53 L1417.76 1568.04 L1411.87 1568.04 L1411.87 1546.72 Q1411.87 1541.59 1410.06 1539.11 Q1408.24 1536.63 1404.52 1536.63 Q1399.97 1536.63 1397.33 1539.65 Q1394.69 1542.68 1394.69 1547.9 L1394.69 1568.04 L1388.8 1568.04 L1388.8 1546.72 Q1388.8 1541.56 1386.98 1539.11 Q1385.17 1536.63 1381.38 1536.63 Q1376.89 1536.63 1374.25 1539.68 Q1371.61 1542.71 1371.61 1547.9 L1371.61 1568.04 L1365.72 1568.04 L1365.72 1532.4 L1371.61 1532.4 L1371.61 1537.93 Q1373.62 1534.66 1376.42 1533.1 Q1379.22 1531.54 1383.07 1531.54 Q1386.95 1531.54 1389.66 1533.51 Q1392.39 1535.48 1393.7 1539.24 Z\" fill=\"#000000\" fill-rule=\"evenodd\" fill-opacity=\"1\" /><path clip-path=\"url(#clip880)\" d=\"M 0 0 M1459.93 1548.76 L1459.93 1551.62 L1433.01 1551.62 Q1433.39 1557.67 1436.64 1560.85 Q1439.91 1564 1445.74 1564 Q1449.11 1564 1452.26 1563.17 Q1455.45 1562.35 1458.57 1560.69 L1458.57 1566.23 Q1455.41 1567.57 1452.1 1568.27 Q1448.79 1568.97 1445.39 1568.97 Q1436.86 1568.97 1431.86 1564 Q1426.9 1559.04 1426.9 1550.57 Q1426.9 1541.82 1431.61 1536.69 Q1436.35 1531.54 1444.37 1531.54 Q1451.56 1531.54 1455.73 1536.18 Q1459.93 1540.8 1459.93 1548.76 M1454.08 1547.04 Q1454.01 1542.23 1451.37 1539.37 Q1448.76 1536.5 1444.43 1536.5 Q1439.53 1536.5 1436.57 1539.27 Q1433.64 1542.04 1433.2 1547.07 L1454.08 1547.04 Z\" fill=\"#000000\" fill-rule=\"evenodd\" fill-opacity=\"1\" /><path clip-path=\"url(#clip880)\" d=\"M 0 0 M1475.34 1522.27 L1475.34 1532.4 L1487.4 1532.4 L1487.4 1536.95 L1475.34 1536.95 L1475.34 1556.3 Q1475.34 1560.66 1476.52 1561.9 Q1477.73 1563.14 1481.39 1563.14 L1487.4 1563.14 L1487.4 1568.04 L1481.39 1568.04 Q1474.61 1568.04 1472.03 1565.53 Q1469.45 1562.98 1469.45 1556.3 L1469.45 1536.95 L1465.15 1536.95 L1465.15 1532.4 L1469.45 1532.4 L1469.45 1522.27 L1475.34 1522.27 Z\" fill=\"#000000\" fill-rule=\"evenodd\" fill-opacity=\"1\" /><path clip-path=\"url(#clip880)\" d=\"M 0 0 M1525.6 1548.76 L1525.6 1551.62 L1498.67 1551.62 Q1499.05 1557.67 1502.3 1560.85 Q1505.58 1564 1511.4 1564 Q1514.77 1564 1517.93 1563.17 Q1521.11 1562.35 1524.23 1560.69 L1524.23 1566.23 Q1521.08 1567.57 1517.77 1568.27 Q1514.46 1568.97 1511.05 1568.97 Q1502.52 1568.97 1497.52 1564 Q1492.56 1559.04 1492.56 1550.57 Q1492.56 1541.82 1497.27 1536.69 Q1502.01 1531.54 1510.03 1531.54 Q1517.23 1531.54 1521.4 1536.18 Q1525.6 1540.8 1525.6 1548.76 M1519.74 1547.04 Q1519.68 1542.23 1517.03 1539.37 Q1514.42 1536.5 1510.1 1536.5 Q1505.19 1536.5 1502.23 1539.27 Q1499.31 1542.04 1498.86 1547.07 L1519.74 1547.04 Z\" fill=\"#000000\" fill-rule=\"evenodd\" fill-opacity=\"1\" /><path clip-path=\"url(#clip880)\" d=\"M 0 0 M1555.87 1537.87 Q1554.88 1537.3 1553.7 1537.04 Q1552.56 1536.76 1551.15 1536.76 Q1546.19 1536.76 1543.52 1540 Q1540.87 1543.22 1540.87 1549.27 L1540.87 1568.04 L1534.99 1568.04 L1534.99 1532.4 L1540.87 1532.4 L1540.87 1537.93 Q1542.72 1534.69 1545.68 1533.13 Q1548.64 1531.54 1552.87 1531.54 Q1553.48 1531.54 1554.21 1531.63 Q1554.94 1531.7 1555.83 1531.85 L1555.87 1537.87 Z\" fill=\"#000000\" fill-rule=\"evenodd\" fill-opacity=\"1\" /><path clip-path=\"url(#clip880)\" d=\"M 0 0 M1563.5 1559.96 L1570.22 1559.96 L1570.22 1565.43 L1565 1575.62 L1560.89 1575.62 L1563.5 1565.43 L1563.5 1559.96 Z\" fill=\"#000000\" fill-rule=\"evenodd\" fill-opacity=\"1\" /><path clip-path=\"url(#clip880)\" d=\"M 0 0 M1629.26 1526.76 Q1626.02 1524.53 1618.41 1524.53 Q1610.36 1524.53 1610.36 1528.26 Q1610.36 1531.19 1618.76 1532.71 Q1625.38 1533.89 1629.1 1537.46 Q1633.62 1541.75 1633.62 1550.57 Q1633.62 1559 1629.26 1563.97 Q1624.9 1568.97 1617.26 1568.97 Q1609.66 1568.97 1605.26 1563.97 Q1600.9 1559 1600.9 1550.25 Q1600.9 1543.76 1605.26 1538.51 Q1606.95 1536.47 1609.34 1535.32 Q1604.37 1532.81 1604.37 1528.32 Q1604.37 1519.66 1618.41 1519.66 Q1625.44 1519.66 1629.26 1521.89 L1629.26 1526.76 M1613.73 1536.92 Q1611.57 1537.84 1609.81 1540.16 Q1607.08 1543.76 1607.08 1550.25 Q1607.08 1556.71 1609.78 1560.34 Q1612.52 1564 1617.26 1564 Q1621.94 1564 1624.68 1560.31 Q1627.42 1556.62 1627.42 1550.57 Q1627.42 1544.24 1624.52 1541.18 Q1621.43 1537.9 1617.42 1537.55 Q1615.38 1537.36 1613.73 1536.92 Z\" fill=\"#000000\" fill-rule=\"evenodd\" fill-opacity=\"1\" /><polyline clip-path=\"url(#clip882)\" style=\"stroke:#000000; stroke-width:2; stroke-opacity:0.1; fill:none\" points=\"\n",
       "  310.352,1354.98 2352.76,1354.98 \n",
       "  \"/>\n",
       "<polyline clip-path=\"url(#clip882)\" style=\"stroke:#000000; stroke-width:2; stroke-opacity:0.1; fill:none\" points=\"\n",
       "  310.352,1171.29 2352.76,1171.29 \n",
       "  \"/>\n",
       "<polyline clip-path=\"url(#clip882)\" style=\"stroke:#000000; stroke-width:2; stroke-opacity:0.1; fill:none\" points=\"\n",
       "  310.352,987.593 2352.76,987.593 \n",
       "  \"/>\n",
       "<polyline clip-path=\"url(#clip882)\" style=\"stroke:#000000; stroke-width:2; stroke-opacity:0.1; fill:none\" points=\"\n",
       "  310.352,803.897 2352.76,803.897 \n",
       "  \"/>\n",
       "<polyline clip-path=\"url(#clip882)\" style=\"stroke:#000000; stroke-width:2; stroke-opacity:0.1; fill:none\" points=\"\n",
       "  310.352,620.201 2352.76,620.201 \n",
       "  \"/>\n",
       "<polyline clip-path=\"url(#clip882)\" style=\"stroke:#000000; stroke-width:2; stroke-opacity:0.1; fill:none\" points=\"\n",
       "  310.352,436.506 2352.76,436.506 \n",
       "  \"/>\n",
       "<polyline clip-path=\"url(#clip882)\" style=\"stroke:#000000; stroke-width:2; stroke-opacity:0.1; fill:none\" points=\"\n",
       "  310.352,252.81 2352.76,252.81 \n",
       "  \"/>\n",
       "<polyline clip-path=\"url(#clip880)\" style=\"stroke:#000000; stroke-width:4; stroke-opacity:1; fill:none\" points=\"\n",
       "  310.352,1423.18 310.352,123.472 \n",
       "  \"/>\n",
       "<polyline clip-path=\"url(#clip880)\" style=\"stroke:#000000; stroke-width:4; stroke-opacity:1; fill:none\" points=\"\n",
       "  310.352,1354.98 334.861,1354.98 \n",
       "  \"/>\n",
       "<polyline clip-path=\"url(#clip880)\" style=\"stroke:#000000; stroke-width:4; stroke-opacity:1; fill:none\" points=\"\n",
       "  310.352,1171.29 334.861,1171.29 \n",
       "  \"/>\n",
       "<polyline clip-path=\"url(#clip880)\" style=\"stroke:#000000; stroke-width:4; stroke-opacity:1; fill:none\" points=\"\n",
       "  310.352,987.593 334.861,987.593 \n",
       "  \"/>\n",
       "<polyline clip-path=\"url(#clip880)\" style=\"stroke:#000000; stroke-width:4; stroke-opacity:1; fill:none\" points=\"\n",
       "  310.352,803.897 334.861,803.897 \n",
       "  \"/>\n",
       "<polyline clip-path=\"url(#clip880)\" style=\"stroke:#000000; stroke-width:4; stroke-opacity:1; fill:none\" points=\"\n",
       "  310.352,620.201 334.861,620.201 \n",
       "  \"/>\n",
       "<polyline clip-path=\"url(#clip880)\" style=\"stroke:#000000; stroke-width:4; stroke-opacity:1; fill:none\" points=\"\n",
       "  310.352,436.506 334.861,436.506 \n",
       "  \"/>\n",
       "<polyline clip-path=\"url(#clip880)\" style=\"stroke:#000000; stroke-width:4; stroke-opacity:1; fill:none\" points=\"\n",
       "  310.352,252.81 334.861,252.81 \n",
       "  \"/>\n",
       "<path clip-path=\"url(#clip880)\" d=\"M 0 0 M128.288 1340.78 Q124.677 1340.78 122.848 1344.35 Q121.043 1347.89 121.043 1355.02 Q121.043 1362.13 122.848 1365.69 Q124.677 1369.23 128.288 1369.23 Q131.922 1369.23 133.728 1365.69 Q135.556 1362.13 135.556 1355.02 Q135.556 1347.89 133.728 1344.35 Q131.922 1340.78 128.288 1340.78 M128.288 1337.08 Q134.098 1337.08 137.154 1341.69 Q140.232 1346.27 140.232 1355.02 Q140.232 1363.75 137.154 1368.35 Q134.098 1372.94 128.288 1372.94 Q122.478 1372.94 119.399 1368.35 Q116.343 1363.75 116.343 1355.02 Q116.343 1346.27 119.399 1341.69 Q122.478 1337.08 128.288 1337.08 Z\" fill=\"#000000\" fill-rule=\"evenodd\" fill-opacity=\"1\" /><path clip-path=\"url(#clip880)\" d=\"M 0 0 M148.45 1366.39 L153.334 1366.39 L153.334 1372.26 L148.45 1372.26 L148.45 1366.39 Z\" fill=\"#000000\" fill-rule=\"evenodd\" fill-opacity=\"1\" /><path clip-path=\"url(#clip880)\" d=\"M 0 0 M173.519 1340.78 Q169.908 1340.78 168.079 1344.35 Q166.274 1347.89 166.274 1355.02 Q166.274 1362.13 168.079 1365.69 Q169.908 1369.23 173.519 1369.23 Q177.153 1369.23 178.959 1365.69 Q180.788 1362.13 180.788 1355.02 Q180.788 1347.89 178.959 1344.35 Q177.153 1340.78 173.519 1340.78 M173.519 1337.08 Q179.329 1337.08 182.385 1341.69 Q185.463 1346.27 185.463 1355.02 Q185.463 1363.75 182.385 1368.35 Q179.329 1372.94 173.519 1372.94 Q167.709 1372.94 164.63 1368.35 Q161.575 1363.75 161.575 1355.02 Q161.575 1346.27 164.63 1341.69 Q167.709 1337.08 173.519 1337.08 Z\" fill=\"#000000\" fill-rule=\"evenodd\" fill-opacity=\"1\" /><path clip-path=\"url(#clip880)\" d=\"M 0 0 M192.5 1337.7 L214.723 1337.7 L214.723 1339.7 L202.176 1372.26 L197.292 1372.26 L209.098 1341.64 L192.5 1341.64 L192.5 1337.7 Z\" fill=\"#000000\" fill-rule=\"evenodd\" fill-opacity=\"1\" /><path clip-path=\"url(#clip880)\" d=\"M 0 0 M233.843 1355.85 Q230.51 1355.85 228.588 1357.64 Q226.69 1359.42 226.69 1362.54 Q226.69 1365.67 228.588 1367.45 Q230.51 1369.23 233.843 1369.23 Q237.176 1369.23 239.097 1367.45 Q241.019 1365.64 241.019 1362.54 Q241.019 1359.42 239.097 1357.64 Q237.199 1355.85 233.843 1355.85 M229.167 1353.86 Q226.158 1353.12 224.468 1351.06 Q222.801 1349 222.801 1346.04 Q222.801 1341.89 225.741 1339.49 Q228.704 1337.08 233.843 1337.08 Q239.005 1337.08 241.945 1339.49 Q244.884 1341.89 244.884 1346.04 Q244.884 1349 243.195 1351.06 Q241.528 1353.12 238.542 1353.86 Q241.922 1354.65 243.797 1356.94 Q245.695 1359.23 245.695 1362.54 Q245.695 1367.57 242.616 1370.25 Q239.56 1372.94 233.843 1372.94 Q228.125 1372.94 225.047 1370.25 Q221.991 1367.57 221.991 1362.54 Q221.991 1359.23 223.889 1356.94 Q225.787 1354.65 229.167 1353.86 M227.454 1346.48 Q227.454 1349.16 229.121 1350.67 Q230.81 1352.17 233.843 1352.17 Q236.852 1352.17 238.542 1350.67 Q240.255 1349.16 240.255 1346.48 Q240.255 1343.79 238.542 1342.29 Q236.852 1340.78 233.843 1340.78 Q230.81 1340.78 229.121 1342.29 Q227.454 1343.79 227.454 1346.48 Z\" fill=\"#000000\" fill-rule=\"evenodd\" fill-opacity=\"1\" /><path clip-path=\"url(#clip880)\" d=\"M 0 0 M258.033 1368.33 L274.352 1368.33 L274.352 1372.26 L252.408 1372.26 L252.408 1368.33 Q255.07 1365.58 259.653 1360.95 Q264.259 1356.29 265.44 1354.95 Q267.685 1352.43 268.565 1350.69 Q269.468 1348.93 269.468 1347.24 Q269.468 1344.49 267.523 1342.75 Q265.602 1341.02 262.5 1341.02 Q260.301 1341.02 257.847 1341.78 Q255.417 1342.54 252.639 1344.09 L252.639 1339.37 Q255.463 1338.24 257.917 1337.66 Q260.37 1337.08 262.408 1337.08 Q267.778 1337.08 270.972 1339.77 Q274.167 1342.45 274.167 1346.94 Q274.167 1349.07 273.357 1350.99 Q272.569 1352.89 270.463 1355.48 Q269.884 1356.15 266.782 1359.37 Q263.681 1362.57 258.033 1368.33 Z\" fill=\"#000000\" fill-rule=\"evenodd\" fill-opacity=\"1\" /><path clip-path=\"url(#clip880)\" d=\"M 0 0 M127.339 1157.09 Q123.728 1157.09 121.899 1160.65 Q120.093 1164.19 120.093 1171.32 Q120.093 1178.43 121.899 1182 Q123.728 1185.54 127.339 1185.54 Q130.973 1185.54 132.779 1182 Q134.607 1178.43 134.607 1171.32 Q134.607 1164.19 132.779 1160.65 Q130.973 1157.09 127.339 1157.09 M127.339 1153.38 Q133.149 1153.38 136.204 1157.99 Q139.283 1162.57 139.283 1171.32 Q139.283 1180.05 136.204 1184.66 Q133.149 1189.24 127.339 1189.24 Q121.529 1189.24 118.45 1184.66 Q115.394 1180.05 115.394 1171.32 Q115.394 1162.57 118.45 1157.99 Q121.529 1153.38 127.339 1153.38 Z\" fill=\"#000000\" fill-rule=\"evenodd\" fill-opacity=\"1\" /><path clip-path=\"url(#clip880)\" d=\"M 0 0 M147.501 1182.69 L152.385 1182.69 L152.385 1188.57 L147.501 1188.57 L147.501 1182.69 Z\" fill=\"#000000\" fill-rule=\"evenodd\" fill-opacity=\"1\" /><path clip-path=\"url(#clip880)\" d=\"M 0 0 M172.57 1157.09 Q168.959 1157.09 167.13 1160.65 Q165.325 1164.19 165.325 1171.32 Q165.325 1178.43 167.13 1182 Q168.959 1185.54 172.57 1185.54 Q176.204 1185.54 178.01 1182 Q179.839 1178.43 179.839 1171.32 Q179.839 1164.19 178.01 1160.65 Q176.204 1157.09 172.57 1157.09 M172.57 1153.38 Q178.38 1153.38 181.436 1157.99 Q184.514 1162.57 184.514 1171.32 Q184.514 1180.05 181.436 1184.66 Q178.38 1189.24 172.57 1189.24 Q166.76 1189.24 163.681 1184.66 Q160.626 1180.05 160.626 1171.32 Q160.626 1162.57 163.681 1157.99 Q166.76 1153.38 172.57 1153.38 Z\" fill=\"#000000\" fill-rule=\"evenodd\" fill-opacity=\"1\" /><path clip-path=\"url(#clip880)\" d=\"M 0 0 M191.551 1154.01 L213.774 1154.01 L213.774 1156 L201.227 1188.57 L196.343 1188.57 L208.149 1157.94 L191.551 1157.94 L191.551 1154.01 Z\" fill=\"#000000\" fill-rule=\"evenodd\" fill-opacity=\"1\" /><path clip-path=\"url(#clip880)\" d=\"M 0 0 M232.894 1172.16 Q229.56 1172.16 227.639 1173.94 Q225.741 1175.72 225.741 1178.85 Q225.741 1181.97 227.639 1183.75 Q229.56 1185.54 232.894 1185.54 Q236.227 1185.54 238.148 1183.75 Q240.07 1181.95 240.07 1178.85 Q240.07 1175.72 238.148 1173.94 Q236.25 1172.16 232.894 1172.16 M228.218 1170.17 Q225.209 1169.43 223.519 1167.37 Q221.852 1165.31 221.852 1162.34 Q221.852 1158.2 224.792 1155.79 Q227.755 1153.38 232.894 1153.38 Q238.056 1153.38 240.996 1155.79 Q243.935 1158.2 243.935 1162.34 Q243.935 1165.31 242.246 1167.37 Q240.579 1169.43 237.593 1170.17 Q240.972 1170.95 242.847 1173.25 Q244.746 1175.54 244.746 1178.85 Q244.746 1183.87 241.667 1186.56 Q238.611 1189.24 232.894 1189.24 Q227.176 1189.24 224.098 1186.56 Q221.042 1183.87 221.042 1178.85 Q221.042 1175.54 222.94 1173.25 Q224.838 1170.95 228.218 1170.17 M226.505 1162.78 Q226.505 1165.47 228.172 1166.97 Q229.861 1168.48 232.894 1168.48 Q235.903 1168.48 237.593 1166.97 Q239.306 1165.47 239.306 1162.78 Q239.306 1160.1 237.593 1158.59 Q235.903 1157.09 232.894 1157.09 Q229.861 1157.09 228.172 1158.59 Q226.505 1160.1 226.505 1162.78 Z\" fill=\"#000000\" fill-rule=\"evenodd\" fill-opacity=\"1\" /><path clip-path=\"url(#clip880)\" d=\"M 0 0 M267.222 1169.93 Q270.579 1170.65 272.454 1172.92 Q274.352 1175.19 274.352 1178.52 Q274.352 1183.64 270.833 1186.44 Q267.315 1189.24 260.833 1189.24 Q258.658 1189.24 256.343 1188.8 Q254.051 1188.38 251.597 1187.53 L251.597 1183.01 Q253.542 1184.15 255.857 1184.73 Q258.171 1185.31 260.695 1185.31 Q265.093 1185.31 267.384 1183.57 Q269.699 1181.83 269.699 1178.52 Q269.699 1175.47 267.546 1173.75 Q265.417 1172.02 261.597 1172.02 L257.57 1172.02 L257.57 1168.18 L261.783 1168.18 Q265.232 1168.18 267.06 1166.81 Q268.889 1165.42 268.889 1162.83 Q268.889 1160.17 266.991 1158.75 Q265.116 1157.32 261.597 1157.32 Q259.676 1157.32 257.477 1157.74 Q255.278 1158.15 252.639 1159.03 L252.639 1154.87 Q255.301 1154.12 257.616 1153.75 Q259.954 1153.38 262.014 1153.38 Q267.338 1153.38 270.44 1155.81 Q273.542 1158.22 273.542 1162.34 Q273.542 1165.21 271.898 1167.2 Q270.255 1169.17 267.222 1169.93 Z\" fill=\"#000000\" fill-rule=\"evenodd\" fill-opacity=\"1\" /><path clip-path=\"url(#clip880)\" d=\"M 0 0 M126.205 973.392 Q122.593 973.392 120.765 976.957 Q118.959 980.498 118.959 987.628 Q118.959 994.734 120.765 998.299 Q122.593 1001.84 126.205 1001.84 Q129.839 1001.84 131.644 998.299 Q133.473 994.734 133.473 987.628 Q133.473 980.498 131.644 976.957 Q129.839 973.392 126.205 973.392 M126.205 969.688 Q132.015 969.688 135.07 974.295 Q138.149 978.878 138.149 987.628 Q138.149 996.355 135.07 1000.96 Q132.015 1005.54 126.205 1005.54 Q120.394 1005.54 117.316 1000.96 Q114.26 996.355 114.26 987.628 Q114.26 978.878 117.316 974.295 Q120.394 969.688 126.205 969.688 Z\" fill=\"#000000\" fill-rule=\"evenodd\" fill-opacity=\"1\" /><path clip-path=\"url(#clip880)\" d=\"M 0 0 M146.366 998.994 L151.251 998.994 L151.251 1004.87 L146.366 1004.87 L146.366 998.994 Z\" fill=\"#000000\" fill-rule=\"evenodd\" fill-opacity=\"1\" /><path clip-path=\"url(#clip880)\" d=\"M 0 0 M171.436 973.392 Q167.825 973.392 165.996 976.957 Q164.19 980.498 164.19 987.628 Q164.19 994.734 165.996 998.299 Q167.825 1001.84 171.436 1001.84 Q175.07 1001.84 176.876 998.299 Q178.704 994.734 178.704 987.628 Q178.704 980.498 176.876 976.957 Q175.07 973.392 171.436 973.392 M171.436 969.688 Q177.246 969.688 180.301 974.295 Q183.38 978.878 183.38 987.628 Q183.38 996.355 180.301 1000.96 Q177.246 1005.54 171.436 1005.54 Q165.626 1005.54 162.547 1000.96 Q159.491 996.355 159.491 987.628 Q159.491 978.878 162.547 974.295 Q165.626 969.688 171.436 969.688 Z\" fill=\"#000000\" fill-rule=\"evenodd\" fill-opacity=\"1\" /><path clip-path=\"url(#clip880)\" d=\"M 0 0 M190.417 970.313 L212.639 970.313 L212.639 972.304 L200.093 1004.87 L195.209 1004.87 L207.014 974.248 L190.417 974.248 L190.417 970.313 Z\" fill=\"#000000\" fill-rule=\"evenodd\" fill-opacity=\"1\" /><path clip-path=\"url(#clip880)\" d=\"M 0 0 M231.76 988.461 Q228.426 988.461 226.505 990.244 Q224.607 992.026 224.607 995.151 Q224.607 998.276 226.505 1000.06 Q228.426 1001.84 231.76 1001.84 Q235.093 1001.84 237.014 1000.06 Q238.935 998.253 238.935 995.151 Q238.935 992.026 237.014 990.244 Q235.116 988.461 231.76 988.461 M227.084 986.47 Q224.074 985.73 222.385 983.67 Q220.718 981.609 220.718 978.646 Q220.718 974.503 223.658 972.096 Q226.621 969.688 231.76 969.688 Q236.922 969.688 239.861 972.096 Q242.801 974.503 242.801 978.646 Q242.801 981.609 241.111 983.67 Q239.445 985.73 236.459 986.47 Q239.838 987.258 241.713 989.549 Q243.611 991.841 243.611 995.151 Q243.611 1000.17 240.533 1002.86 Q237.477 1005.54 231.76 1005.54 Q226.042 1005.54 222.963 1002.86 Q219.908 1000.17 219.908 995.151 Q219.908 991.841 221.806 989.549 Q223.704 987.258 227.084 986.47 M225.371 979.086 Q225.371 981.771 227.037 983.276 Q228.727 984.781 231.76 984.781 Q234.769 984.781 236.459 983.276 Q238.172 981.771 238.172 979.086 Q238.172 976.401 236.459 974.896 Q234.769 973.392 231.76 973.392 Q228.727 973.392 227.037 974.896 Q225.371 976.401 225.371 979.086 Z\" fill=\"#000000\" fill-rule=\"evenodd\" fill-opacity=\"1\" /><path clip-path=\"url(#clip880)\" d=\"M 0 0 M264.769 974.387 L252.963 992.836 L264.769 992.836 L264.769 974.387 M263.542 970.313 L269.421 970.313 L269.421 992.836 L274.352 992.836 L274.352 996.725 L269.421 996.725 L269.421 1004.87 L264.769 1004.87 L264.769 996.725 L249.167 996.725 L249.167 992.211 L263.542 970.313 Z\" fill=\"#000000\" fill-rule=\"evenodd\" fill-opacity=\"1\" /><path clip-path=\"url(#clip880)\" d=\"M 0 0 M127.686 789.696 Q124.075 789.696 122.246 793.261 Q120.441 796.802 120.441 803.932 Q120.441 811.038 122.246 814.603 Q124.075 818.145 127.686 818.145 Q131.32 818.145 133.126 814.603 Q134.954 811.038 134.954 803.932 Q134.954 796.802 133.126 793.261 Q131.32 789.696 127.686 789.696 M127.686 785.992 Q133.496 785.992 136.552 790.599 Q139.63 795.182 139.63 803.932 Q139.63 812.659 136.552 817.265 Q133.496 821.849 127.686 821.849 Q121.876 821.849 118.797 817.265 Q115.742 812.659 115.742 803.932 Q115.742 795.182 118.797 790.599 Q121.876 785.992 127.686 785.992 Z\" fill=\"#000000\" fill-rule=\"evenodd\" fill-opacity=\"1\" /><path clip-path=\"url(#clip880)\" d=\"M 0 0 M147.848 815.298 L152.732 815.298 L152.732 821.177 L147.848 821.177 L147.848 815.298 Z\" fill=\"#000000\" fill-rule=\"evenodd\" fill-opacity=\"1\" /><path clip-path=\"url(#clip880)\" d=\"M 0 0 M172.917 789.696 Q169.306 789.696 167.477 793.261 Q165.672 796.802 165.672 803.932 Q165.672 811.038 167.477 814.603 Q169.306 818.145 172.917 818.145 Q176.551 818.145 178.357 814.603 Q180.186 811.038 180.186 803.932 Q180.186 796.802 178.357 793.261 Q176.551 789.696 172.917 789.696 M172.917 785.992 Q178.727 785.992 181.783 790.599 Q184.862 795.182 184.862 803.932 Q184.862 812.659 181.783 817.265 Q178.727 821.849 172.917 821.849 Q167.107 821.849 164.028 817.265 Q160.973 812.659 160.973 803.932 Q160.973 795.182 164.028 790.599 Q167.107 785.992 172.917 785.992 Z\" fill=\"#000000\" fill-rule=\"evenodd\" fill-opacity=\"1\" /><path clip-path=\"url(#clip880)\" d=\"M 0 0 M191.899 786.617 L214.121 786.617 L214.121 788.608 L201.575 821.177 L196.69 821.177 L208.496 790.552 L191.899 790.552 L191.899 786.617 Z\" fill=\"#000000\" fill-rule=\"evenodd\" fill-opacity=\"1\" /><path clip-path=\"url(#clip880)\" d=\"M 0 0 M233.241 804.765 Q229.908 804.765 227.986 806.548 Q226.088 808.33 226.088 811.455 Q226.088 814.58 227.986 816.362 Q229.908 818.145 233.241 818.145 Q236.574 818.145 238.496 816.362 Q240.417 814.557 240.417 811.455 Q240.417 808.33 238.496 806.548 Q236.597 804.765 233.241 804.765 M228.565 802.775 Q225.556 802.034 223.866 799.974 Q222.199 797.914 222.199 794.951 Q222.199 790.807 225.139 788.4 Q228.102 785.992 233.241 785.992 Q238.403 785.992 241.343 788.4 Q244.283 790.807 244.283 794.951 Q244.283 797.914 242.593 799.974 Q240.926 802.034 237.94 802.775 Q241.32 803.562 243.195 805.853 Q245.093 808.145 245.093 811.455 Q245.093 816.478 242.014 819.163 Q238.959 821.849 233.241 821.849 Q227.523 821.849 224.445 819.163 Q221.389 816.478 221.389 811.455 Q221.389 808.145 223.287 805.853 Q225.185 803.562 228.565 802.775 M226.852 795.39 Q226.852 798.076 228.519 799.58 Q230.209 801.085 233.241 801.085 Q236.25 801.085 237.94 799.58 Q239.653 798.076 239.653 795.39 Q239.653 792.705 237.94 791.201 Q236.25 789.696 233.241 789.696 Q230.209 789.696 228.519 791.201 Q226.852 792.705 226.852 795.39 Z\" fill=\"#000000\" fill-rule=\"evenodd\" fill-opacity=\"1\" /><path clip-path=\"url(#clip880)\" d=\"M 0 0 M253.449 786.617 L271.806 786.617 L271.806 790.552 L257.732 790.552 L257.732 799.025 Q258.75 798.677 259.769 798.515 Q260.787 798.33 261.806 798.33 Q267.593 798.33 270.972 801.501 Q274.352 804.673 274.352 810.089 Q274.352 815.668 270.88 818.77 Q267.407 821.849 261.088 821.849 Q258.912 821.849 256.644 821.478 Q254.398 821.108 251.991 820.367 L251.991 815.668 Q254.074 816.802 256.296 817.358 Q258.519 817.913 260.995 817.913 Q265 817.913 267.338 815.807 Q269.676 813.7 269.676 810.089 Q269.676 806.478 267.338 804.372 Q265 802.265 260.995 802.265 Q259.12 802.265 257.246 802.682 Q255.394 803.099 253.449 803.978 L253.449 786.617 Z\" fill=\"#000000\" fill-rule=\"evenodd\" fill-opacity=\"1\" /><path clip-path=\"url(#clip880)\" d=\"M 0 0 M126.529 606 Q122.918 606 121.089 609.565 Q119.283 613.107 119.283 620.236 Q119.283 627.343 121.089 630.907 Q122.918 634.449 126.529 634.449 Q130.163 634.449 131.968 630.907 Q133.797 627.343 133.797 620.236 Q133.797 613.107 131.968 609.565 Q130.163 606 126.529 606 M126.529 602.296 Q132.339 602.296 135.394 606.903 Q138.473 611.486 138.473 620.236 Q138.473 628.963 135.394 633.569 Q132.339 638.153 126.529 638.153 Q120.718 638.153 117.64 633.569 Q114.584 628.963 114.584 620.236 Q114.584 611.486 117.64 606.903 Q120.718 602.296 126.529 602.296 Z\" fill=\"#000000\" fill-rule=\"evenodd\" fill-opacity=\"1\" /><path clip-path=\"url(#clip880)\" d=\"M 0 0 M146.691 631.602 L151.575 631.602 L151.575 637.481 L146.691 637.481 L146.691 631.602 Z\" fill=\"#000000\" fill-rule=\"evenodd\" fill-opacity=\"1\" /><path clip-path=\"url(#clip880)\" d=\"M 0 0 M171.76 606 Q168.149 606 166.32 609.565 Q164.515 613.107 164.515 620.236 Q164.515 627.343 166.32 630.907 Q168.149 634.449 171.76 634.449 Q175.394 634.449 177.2 630.907 Q179.028 627.343 179.028 620.236 Q179.028 613.107 177.2 609.565 Q175.394 606 171.76 606 M171.76 602.296 Q177.57 602.296 180.626 606.903 Q183.704 611.486 183.704 620.236 Q183.704 628.963 180.626 633.569 Q177.57 638.153 171.76 638.153 Q165.95 638.153 162.871 633.569 Q159.815 628.963 159.815 620.236 Q159.815 611.486 162.871 606.903 Q165.95 602.296 171.76 602.296 Z\" fill=\"#000000\" fill-rule=\"evenodd\" fill-opacity=\"1\" /><path clip-path=\"url(#clip880)\" d=\"M 0 0 M190.741 602.921 L212.963 602.921 L212.963 604.912 L200.417 637.481 L195.533 637.481 L207.338 606.857 L190.741 606.857 L190.741 602.921 Z\" fill=\"#000000\" fill-rule=\"evenodd\" fill-opacity=\"1\" /><path clip-path=\"url(#clip880)\" d=\"M 0 0 M232.084 621.069 Q228.75 621.069 226.829 622.852 Q224.931 624.634 224.931 627.759 Q224.931 630.884 226.829 632.667 Q228.75 634.449 232.084 634.449 Q235.417 634.449 237.338 632.667 Q239.259 630.861 239.259 627.759 Q239.259 624.634 237.338 622.852 Q235.44 621.069 232.084 621.069 M227.408 619.079 Q224.398 618.338 222.709 616.278 Q221.042 614.218 221.042 611.255 Q221.042 607.111 223.982 604.704 Q226.945 602.296 232.084 602.296 Q237.246 602.296 240.185 604.704 Q243.125 607.111 243.125 611.255 Q243.125 614.218 241.435 616.278 Q239.769 618.338 236.783 619.079 Q240.162 619.866 242.037 622.157 Q243.935 624.449 243.935 627.759 Q243.935 632.782 240.857 635.468 Q237.801 638.153 232.084 638.153 Q226.366 638.153 223.287 635.468 Q220.232 632.782 220.232 627.759 Q220.232 624.449 222.13 622.157 Q224.028 619.866 227.408 619.079 M225.695 611.694 Q225.695 614.38 227.361 615.884 Q229.051 617.389 232.084 617.389 Q235.093 617.389 236.783 615.884 Q238.496 614.38 238.496 611.694 Q238.496 609.009 236.783 607.505 Q235.093 606 232.084 606 Q229.051 606 227.361 607.505 Q225.695 609.009 225.695 611.694 Z\" fill=\"#000000\" fill-rule=\"evenodd\" fill-opacity=\"1\" /><path clip-path=\"url(#clip880)\" d=\"M 0 0 M262.824 618.338 Q259.676 618.338 257.824 620.491 Q255.996 622.644 255.996 626.393 Q255.996 630.12 257.824 632.296 Q259.676 634.449 262.824 634.449 Q265.972 634.449 267.801 632.296 Q269.653 630.12 269.653 626.393 Q269.653 622.644 267.801 620.491 Q265.972 618.338 262.824 618.338 M272.107 603.685 L272.107 607.945 Q270.347 607.111 268.542 606.671 Q266.759 606.232 265 606.232 Q260.37 606.232 257.917 609.357 Q255.486 612.482 255.139 618.801 Q256.505 616.787 258.565 615.722 Q260.625 614.634 263.102 614.634 Q268.31 614.634 271.32 617.806 Q274.352 620.954 274.352 626.393 Q274.352 631.718 271.204 634.935 Q268.056 638.153 262.824 638.153 Q256.829 638.153 253.658 633.569 Q250.486 628.963 250.486 620.236 Q250.486 612.042 254.375 607.181 Q258.264 602.296 264.815 602.296 Q266.574 602.296 268.357 602.644 Q270.162 602.991 272.107 603.685 Z\" fill=\"#000000\" fill-rule=\"evenodd\" fill-opacity=\"1\" /><path clip-path=\"url(#clip880)\" d=\"M 0 0 M127.593 422.304 Q123.982 422.304 122.154 425.869 Q120.348 429.411 120.348 436.54 Q120.348 443.647 122.154 447.211 Q123.982 450.753 127.593 450.753 Q131.228 450.753 133.033 447.211 Q134.862 443.647 134.862 436.54 Q134.862 429.411 133.033 425.869 Q131.228 422.304 127.593 422.304 M127.593 418.601 Q133.404 418.601 136.459 423.207 Q139.538 427.79 139.538 436.54 Q139.538 445.267 136.459 449.874 Q133.404 454.457 127.593 454.457 Q121.783 454.457 118.705 449.874 Q115.649 445.267 115.649 436.54 Q115.649 427.79 118.705 423.207 Q121.783 418.601 127.593 418.601 Z\" fill=\"#000000\" fill-rule=\"evenodd\" fill-opacity=\"1\" /><path clip-path=\"url(#clip880)\" d=\"M 0 0 M147.755 447.906 L152.64 447.906 L152.64 453.786 L147.755 453.786 L147.755 447.906 Z\" fill=\"#000000\" fill-rule=\"evenodd\" fill-opacity=\"1\" /><path clip-path=\"url(#clip880)\" d=\"M 0 0 M172.825 422.304 Q169.214 422.304 167.385 425.869 Q165.579 429.411 165.579 436.54 Q165.579 443.647 167.385 447.211 Q169.214 450.753 172.825 450.753 Q176.459 450.753 178.264 447.211 Q180.093 443.647 180.093 436.54 Q180.093 429.411 178.264 425.869 Q176.459 422.304 172.825 422.304 M172.825 418.601 Q178.635 418.601 181.69 423.207 Q184.769 427.79 184.769 436.54 Q184.769 445.267 181.69 449.874 Q178.635 454.457 172.825 454.457 Q167.015 454.457 163.936 449.874 Q160.88 445.267 160.88 436.54 Q160.88 427.79 163.936 423.207 Q167.015 418.601 172.825 418.601 Z\" fill=\"#000000\" fill-rule=\"evenodd\" fill-opacity=\"1\" /><path clip-path=\"url(#clip880)\" d=\"M 0 0 M191.806 419.226 L214.028 419.226 L214.028 421.216 L201.482 453.786 L196.598 453.786 L208.403 423.161 L191.806 423.161 L191.806 419.226 Z\" fill=\"#000000\" fill-rule=\"evenodd\" fill-opacity=\"1\" /><path clip-path=\"url(#clip880)\" d=\"M 0 0 M233.148 437.374 Q229.815 437.374 227.894 439.156 Q225.996 440.938 225.996 444.063 Q225.996 447.188 227.894 448.971 Q229.815 450.753 233.148 450.753 Q236.482 450.753 238.403 448.971 Q240.324 447.165 240.324 444.063 Q240.324 440.938 238.403 439.156 Q236.505 437.374 233.148 437.374 M228.473 435.383 Q225.463 434.642 223.773 432.582 Q222.107 430.522 222.107 427.559 Q222.107 423.415 225.047 421.008 Q228.01 418.601 233.148 418.601 Q238.31 418.601 241.25 421.008 Q244.19 423.415 244.19 427.559 Q244.19 430.522 242.5 432.582 Q240.834 434.642 237.847 435.383 Q241.227 436.17 243.102 438.462 Q245 440.753 245 444.063 Q245 449.086 241.922 451.772 Q238.866 454.457 233.148 454.457 Q227.431 454.457 224.352 451.772 Q221.297 449.086 221.297 444.063 Q221.297 440.753 223.195 438.462 Q225.093 436.17 228.473 435.383 M226.76 427.999 Q226.76 430.684 228.426 432.188 Q230.116 433.693 233.148 433.693 Q236.158 433.693 237.847 432.188 Q239.56 430.684 239.56 427.999 Q239.56 425.313 237.847 423.809 Q236.158 422.304 233.148 422.304 Q230.116 422.304 228.426 423.809 Q226.76 425.313 226.76 427.999 Z\" fill=\"#000000\" fill-rule=\"evenodd\" fill-opacity=\"1\" /><path clip-path=\"url(#clip880)\" d=\"M 0 0 M252.13 419.226 L274.352 419.226 L274.352 421.216 L261.806 453.786 L256.921 453.786 L268.727 423.161 L252.13 423.161 L252.13 419.226 Z\" fill=\"#000000\" fill-rule=\"evenodd\" fill-opacity=\"1\" /><path clip-path=\"url(#clip880)\" d=\"M 0 0 M126.783 238.608 Q123.172 238.608 121.343 242.173 Q119.538 245.715 119.538 252.844 Q119.538 259.951 121.343 263.516 Q123.172 267.057 126.783 267.057 Q130.417 267.057 132.223 263.516 Q134.052 259.951 134.052 252.844 Q134.052 245.715 132.223 242.173 Q130.417 238.608 126.783 238.608 M126.783 234.905 Q132.593 234.905 135.649 239.511 Q138.728 244.094 138.728 252.844 Q138.728 261.571 135.649 266.178 Q132.593 270.761 126.783 270.761 Q120.973 270.761 117.894 266.178 Q114.839 261.571 114.839 252.844 Q114.839 244.094 117.894 239.511 Q120.973 234.905 126.783 234.905 Z\" fill=\"#000000\" fill-rule=\"evenodd\" fill-opacity=\"1\" /><path clip-path=\"url(#clip880)\" d=\"M 0 0 M146.945 264.21 L151.829 264.21 L151.829 270.09 L146.945 270.09 L146.945 264.21 Z\" fill=\"#000000\" fill-rule=\"evenodd\" fill-opacity=\"1\" /><path clip-path=\"url(#clip880)\" d=\"M 0 0 M172.014 238.608 Q168.403 238.608 166.575 242.173 Q164.769 245.715 164.769 252.844 Q164.769 259.951 166.575 263.516 Q168.403 267.057 172.014 267.057 Q175.649 267.057 177.454 263.516 Q179.283 259.951 179.283 252.844 Q179.283 245.715 177.454 242.173 Q175.649 238.608 172.014 238.608 M172.014 234.905 Q177.825 234.905 180.88 239.511 Q183.959 244.094 183.959 252.844 Q183.959 261.571 180.88 266.178 Q177.825 270.761 172.014 270.761 Q166.204 270.761 163.126 266.178 Q160.07 261.571 160.07 252.844 Q160.07 244.094 163.126 239.511 Q166.204 234.905 172.014 234.905 Z\" fill=\"#000000\" fill-rule=\"evenodd\" fill-opacity=\"1\" /><path clip-path=\"url(#clip880)\" d=\"M 0 0 M190.996 235.53 L213.218 235.53 L213.218 237.52 L200.672 270.09 L195.787 270.09 L207.593 239.465 L190.996 239.465 L190.996 235.53 Z\" fill=\"#000000\" fill-rule=\"evenodd\" fill-opacity=\"1\" /><path clip-path=\"url(#clip880)\" d=\"M 0 0 M232.338 253.678 Q229.005 253.678 227.084 255.46 Q225.185 257.242 225.185 260.367 Q225.185 263.492 227.084 265.275 Q229.005 267.057 232.338 267.057 Q235.672 267.057 237.593 265.275 Q239.514 263.469 239.514 260.367 Q239.514 257.242 237.593 255.46 Q235.695 253.678 232.338 253.678 M227.662 251.687 Q224.653 250.946 222.963 248.886 Q221.297 246.826 221.297 243.863 Q221.297 239.719 224.236 237.312 Q227.199 234.905 232.338 234.905 Q237.5 234.905 240.44 237.312 Q243.38 239.719 243.38 243.863 Q243.38 246.826 241.69 248.886 Q240.023 250.946 237.037 251.687 Q240.417 252.474 242.292 254.766 Q244.19 257.057 244.19 260.367 Q244.19 265.391 241.111 268.076 Q238.056 270.761 232.338 270.761 Q226.621 270.761 223.542 268.076 Q220.486 265.391 220.486 260.367 Q220.486 257.057 222.385 254.766 Q224.283 252.474 227.662 251.687 M225.949 244.303 Q225.949 246.988 227.616 248.493 Q229.306 249.997 232.338 249.997 Q235.347 249.997 237.037 248.493 Q238.75 246.988 238.75 244.303 Q238.75 241.618 237.037 240.113 Q235.347 238.608 232.338 238.608 Q229.306 238.608 227.616 240.113 Q225.949 241.618 225.949 244.303 Z\" fill=\"#000000\" fill-rule=\"evenodd\" fill-opacity=\"1\" /><path clip-path=\"url(#clip880)\" d=\"M 0 0 M262.5 253.678 Q259.167 253.678 257.246 255.46 Q255.347 257.242 255.347 260.367 Q255.347 263.492 257.246 265.275 Q259.167 267.057 262.5 267.057 Q265.833 267.057 267.755 265.275 Q269.676 263.469 269.676 260.367 Q269.676 257.242 267.755 255.46 Q265.857 253.678 262.5 253.678 M257.824 251.687 Q254.815 250.946 253.125 248.886 Q251.458 246.826 251.458 243.863 Q251.458 239.719 254.398 237.312 Q257.361 234.905 262.5 234.905 Q267.662 234.905 270.602 237.312 Q273.542 239.719 273.542 243.863 Q273.542 246.826 271.852 248.886 Q270.185 250.946 267.199 251.687 Q270.579 252.474 272.454 254.766 Q274.352 257.057 274.352 260.367 Q274.352 265.391 271.273 268.076 Q268.218 270.761 262.5 270.761 Q256.783 270.761 253.704 268.076 Q250.648 265.391 250.648 260.367 Q250.648 257.057 252.546 254.766 Q254.445 252.474 257.824 251.687 M256.111 244.303 Q256.111 246.988 257.778 248.493 Q259.468 249.997 262.5 249.997 Q265.509 249.997 267.199 248.493 Q268.912 246.988 268.912 244.303 Q268.912 241.618 267.199 240.113 Q265.509 238.608 262.5 238.608 Q259.468 238.608 257.778 240.113 Q256.111 241.618 256.111 244.303 Z\" fill=\"#000000\" fill-rule=\"evenodd\" fill-opacity=\"1\" /><path clip-path=\"url(#clip880)\" d=\"M 0 0 M16.4842 858.706 L16.4842 849.126 L48.8219 836.999 L16.4842 824.809 L16.4842 815.228 L64.0042 815.228 L64.0042 821.498 L22.277 821.498 L54.8694 833.752 L54.8694 840.214 L22.277 852.468 L64.0042 852.468 L64.0042 858.706 L16.4842 858.706 Z\" fill=\"#000000\" fill-rule=\"evenodd\" fill-opacity=\"1\" /><path clip-path=\"url(#clip880)\" d=\"M 0 0 M22.818 786.583 L46.4666 795.304 L46.4666 777.83 L22.818 786.583 M16.4842 790.211 L16.4842 782.922 L64.0042 764.812 L64.0042 771.496 L51.8138 775.825 L51.8138 797.245 L64.0042 801.574 L64.0042 808.353 L16.4842 790.211 Z\" fill=\"#000000\" fill-rule=\"evenodd\" fill-opacity=\"1\" /><path clip-path=\"url(#clip880)\" d=\"M 0 0 M21.7677 751.444 L39.6235 751.444 L39.6235 743.359 Q39.6235 738.872 37.3 736.421 Q34.9765 733.97 30.6797 733.97 Q26.4147 733.97 24.0912 736.421 Q21.7677 738.872 21.7677 743.359 L21.7677 751.444 M16.4842 757.873 L16.4842 743.359 Q16.4842 735.37 20.1126 731.296 Q23.7092 727.191 30.6797 727.191 Q37.7138 727.191 41.3104 731.296 Q44.907 735.37 44.907 743.359 L44.907 751.444 L64.0042 751.444 L64.0042 757.873 L16.4842 757.873 Z\" fill=\"#000000\" fill-rule=\"evenodd\" fill-opacity=\"1\" /><path clip-path=\"url(#clip880)\" d=\"M 0 0 M16.4842 718.565 L16.4842 688.519 L21.895 688.519 L21.895 712.136 L35.9632 712.136 L35.9632 689.506 L41.3741 689.506 L41.3741 712.136 L58.5933 712.136 L58.5933 687.946 L64.0042 687.946 L64.0042 718.565 L16.4842 718.565 Z\" fill=\"#000000\" fill-rule=\"evenodd\" fill-opacity=\"1\" /><path clip-path=\"url(#clip880)\" d=\"M 0 0 M1329.22 49.9314 Q1329.22 41.7081 1325.82 37.0496 Q1322.46 32.3505 1316.55 32.3505 Q1310.63 32.3505 1307.23 37.0496 Q1303.87 41.7081 1303.87 49.9314 Q1303.87 58.1548 1307.23 62.8538 Q1310.63 67.5124 1316.55 67.5124 Q1322.46 67.5124 1325.82 62.8538 Q1329.22 58.1548 1329.22 49.9314 M1303.87 34.0924 Q1306.22 30.0415 1309.78 28.0971 Q1313.39 26.1121 1318.37 26.1121 Q1326.63 26.1121 1331.78 32.6746 Q1336.96 39.2371 1336.96 49.9314 Q1336.96 60.6258 1331.78 67.1883 Q1326.63 73.7508 1318.37 73.7508 Q1313.39 73.7508 1309.78 71.8063 Q1306.22 69.8214 1303.87 65.7705 L1303.87 72.576 L1296.37 72.576 L1296.37 9.54393 L1303.87 9.54393 L1303.87 34.0924 Z\" fill=\"#000000\" fill-rule=\"evenodd\" fill-opacity=\"1\" /><path clip-path=\"url(#clip880)\" d=\"M 0 0 M1348.14 9.62495 L1354.62 9.62495 Q1360.7 19.1851 1363.7 28.3401 Q1366.74 37.4952 1366.74 46.5287 Q1366.74 55.6027 1363.7 64.7983 Q1360.7 73.9938 1354.62 83.5134 L1348.14 83.5134 Q1353.53 74.2369 1356.16 65.0818 Q1358.84 55.8863 1358.84 46.5287 Q1358.84 37.1711 1356.16 28.0566 Q1353.53 18.942 1348.14 9.62495 Z\" fill=\"#000000\" fill-rule=\"evenodd\" fill-opacity=\"1\" /><circle clip-path=\"url(#clip882)\" cx=\"368.156\" cy=\"641.157\" r=\"14\" fill=\"#009af9\" fill-rule=\"evenodd\" fill-opacity=\"1\" stroke=\"#000000\" stroke-opacity=\"1\" stroke-width=\"3.2\"/>\n",
       "<circle clip-path=\"url(#clip882)\" cx=\"407.478\" cy=\"618.808\" r=\"14\" fill=\"#009af9\" fill-rule=\"evenodd\" fill-opacity=\"1\" stroke=\"#000000\" stroke-opacity=\"1\" stroke-width=\"3.2\"/>\n",
       "<circle clip-path=\"url(#clip882)\" cx=\"446.801\" cy=\"656.2\" r=\"14\" fill=\"#009af9\" fill-rule=\"evenodd\" fill-opacity=\"1\" stroke=\"#000000\" stroke-opacity=\"1\" stroke-width=\"3.2\"/>\n",
       "<circle clip-path=\"url(#clip882)\" cx=\"486.123\" cy=\"707.68\" r=\"14\" fill=\"#009af9\" fill-rule=\"evenodd\" fill-opacity=\"1\" stroke=\"#000000\" stroke-opacity=\"1\" stroke-width=\"3.2\"/>\n",
       "<circle clip-path=\"url(#clip882)\" cx=\"525.445\" cy=\"744.247\" r=\"14\" fill=\"#009af9\" fill-rule=\"evenodd\" fill-opacity=\"1\" stroke=\"#000000\" stroke-opacity=\"1\" stroke-width=\"3.2\"/>\n",
       "<circle clip-path=\"url(#clip882)\" cx=\"564.768\" cy=\"820.833\" r=\"14\" fill=\"#009af9\" fill-rule=\"evenodd\" fill-opacity=\"1\" stroke=\"#000000\" stroke-opacity=\"1\" stroke-width=\"3.2\"/>\n",
       "<circle clip-path=\"url(#clip882)\" cx=\"604.09\" cy=\"926.401\" r=\"14\" fill=\"#009af9\" fill-rule=\"evenodd\" fill-opacity=\"1\" stroke=\"#000000\" stroke-opacity=\"1\" stroke-width=\"3.2\"/>\n",
       "<circle clip-path=\"url(#clip882)\" cx=\"643.412\" cy=\"1021.74\" r=\"14\" fill=\"#009af9\" fill-rule=\"evenodd\" fill-opacity=\"1\" stroke=\"#000000\" stroke-opacity=\"1\" stroke-width=\"3.2\"/>\n",
       "<circle clip-path=\"url(#clip882)\" cx=\"682.735\" cy=\"1103.94\" r=\"14\" fill=\"#009af9\" fill-rule=\"evenodd\" fill-opacity=\"1\" stroke=\"#000000\" stroke-opacity=\"1\" stroke-width=\"3.2\"/>\n",
       "<circle clip-path=\"url(#clip882)\" cx=\"722.057\" cy=\"1147.23\" r=\"14\" fill=\"#009af9\" fill-rule=\"evenodd\" fill-opacity=\"1\" stroke=\"#000000\" stroke-opacity=\"1\" stroke-width=\"3.2\"/>\n",
       "<circle clip-path=\"url(#clip882)\" cx=\"761.38\" cy=\"1167.73\" r=\"14\" fill=\"#009af9\" fill-rule=\"evenodd\" fill-opacity=\"1\" stroke=\"#000000\" stroke-opacity=\"1\" stroke-width=\"3.2\"/>\n",
       "<circle clip-path=\"url(#clip882)\" cx=\"800.702\" cy=\"1189.26\" r=\"14\" fill=\"#009af9\" fill-rule=\"evenodd\" fill-opacity=\"1\" stroke=\"#000000\" stroke-opacity=\"1\" stroke-width=\"3.2\"/>\n",
       "<circle clip-path=\"url(#clip882)\" cx=\"840.024\" cy=\"1215.48\" r=\"14\" fill=\"#009af9\" fill-rule=\"evenodd\" fill-opacity=\"1\" stroke=\"#000000\" stroke-opacity=\"1\" stroke-width=\"3.2\"/>\n",
       "<circle clip-path=\"url(#clip882)\" cx=\"879.347\" cy=\"1247.09\" r=\"14\" fill=\"#009af9\" fill-rule=\"evenodd\" fill-opacity=\"1\" stroke=\"#000000\" stroke-opacity=\"1\" stroke-width=\"3.2\"/>\n",
       "<circle clip-path=\"url(#clip882)\" cx=\"918.669\" cy=\"1275.04\" r=\"14\" fill=\"#009af9\" fill-rule=\"evenodd\" fill-opacity=\"1\" stroke=\"#000000\" stroke-opacity=\"1\" stroke-width=\"3.2\"/>\n",
       "<circle clip-path=\"url(#clip882)\" cx=\"957.991\" cy=\"1297.82\" r=\"14\" fill=\"#009af9\" fill-rule=\"evenodd\" fill-opacity=\"1\" stroke=\"#000000\" stroke-opacity=\"1\" stroke-width=\"3.2\"/>\n",
       "<circle clip-path=\"url(#clip882)\" cx=\"997.314\" cy=\"1329.7\" r=\"14\" fill=\"#009af9\" fill-rule=\"evenodd\" fill-opacity=\"1\" stroke=\"#000000\" stroke-opacity=\"1\" stroke-width=\"3.2\"/>\n",
       "<circle clip-path=\"url(#clip882)\" cx=\"1036.64\" cy=\"1342.19\" r=\"14\" fill=\"#009af9\" fill-rule=\"evenodd\" fill-opacity=\"1\" stroke=\"#000000\" stroke-opacity=\"1\" stroke-width=\"3.2\"/>\n",
       "<circle clip-path=\"url(#clip882)\" cx=\"1075.96\" cy=\"1348.76\" r=\"14\" fill=\"#009af9\" fill-rule=\"evenodd\" fill-opacity=\"1\" stroke=\"#000000\" stroke-opacity=\"1\" stroke-width=\"3.2\"/>\n",
       "<circle clip-path=\"url(#clip882)\" cx=\"1115.28\" cy=\"1352.43\" r=\"14\" fill=\"#009af9\" fill-rule=\"evenodd\" fill-opacity=\"1\" stroke=\"#000000\" stroke-opacity=\"1\" stroke-width=\"3.2\"/>\n",
       "<circle clip-path=\"url(#clip882)\" cx=\"1154.6\" cy=\"1361.06\" r=\"14\" fill=\"#009af9\" fill-rule=\"evenodd\" fill-opacity=\"1\" stroke=\"#000000\" stroke-opacity=\"1\" stroke-width=\"3.2\"/>\n",
       "<circle clip-path=\"url(#clip882)\" cx=\"1193.93\" cy=\"1371.23\" r=\"14\" fill=\"#009af9\" fill-rule=\"evenodd\" fill-opacity=\"1\" stroke=\"#000000\" stroke-opacity=\"1\" stroke-width=\"3.2\"/>\n",
       "<circle clip-path=\"url(#clip882)\" cx=\"1233.25\" cy=\"1374.5\" r=\"14\" fill=\"#009af9\" fill-rule=\"evenodd\" fill-opacity=\"1\" stroke=\"#000000\" stroke-opacity=\"1\" stroke-width=\"3.2\"/>\n",
       "<circle clip-path=\"url(#clip882)\" cx=\"1272.57\" cy=\"1384.18\" r=\"14\" fill=\"#009af9\" fill-rule=\"evenodd\" fill-opacity=\"1\" stroke=\"#000000\" stroke-opacity=\"1\" stroke-width=\"3.2\"/>\n",
       "<circle clip-path=\"url(#clip882)\" cx=\"1311.89\" cy=\"1386.4\" r=\"14\" fill=\"#009af9\" fill-rule=\"evenodd\" fill-opacity=\"1\" stroke=\"#000000\" stroke-opacity=\"1\" stroke-width=\"3.2\"/>\n",
       "<circle clip-path=\"url(#clip882)\" cx=\"1351.22\" cy=\"1373.96\" r=\"14\" fill=\"#009af9\" fill-rule=\"evenodd\" fill-opacity=\"1\" stroke=\"#000000\" stroke-opacity=\"1\" stroke-width=\"3.2\"/>\n",
       "<circle clip-path=\"url(#clip882)\" cx=\"1390.54\" cy=\"1351.65\" r=\"14\" fill=\"#009af9\" fill-rule=\"evenodd\" fill-opacity=\"1\" stroke=\"#000000\" stroke-opacity=\"1\" stroke-width=\"3.2\"/>\n",
       "<circle clip-path=\"url(#clip882)\" cx=\"1429.86\" cy=\"1320.42\" r=\"14\" fill=\"#009af9\" fill-rule=\"evenodd\" fill-opacity=\"1\" stroke=\"#000000\" stroke-opacity=\"1\" stroke-width=\"3.2\"/>\n",
       "<circle clip-path=\"url(#clip882)\" cx=\"1469.18\" cy=\"1302.28\" r=\"14\" fill=\"#009af9\" fill-rule=\"evenodd\" fill-opacity=\"1\" stroke=\"#000000\" stroke-opacity=\"1\" stroke-width=\"3.2\"/>\n",
       "<circle clip-path=\"url(#clip882)\" cx=\"1508.5\" cy=\"1287.49\" r=\"14\" fill=\"#009af9\" fill-rule=\"evenodd\" fill-opacity=\"1\" stroke=\"#000000\" stroke-opacity=\"1\" stroke-width=\"3.2\"/>\n",
       "<circle clip-path=\"url(#clip882)\" cx=\"1547.83\" cy=\"1266.81\" r=\"14\" fill=\"#009af9\" fill-rule=\"evenodd\" fill-opacity=\"1\" stroke=\"#000000\" stroke-opacity=\"1\" stroke-width=\"3.2\"/>\n",
       "<circle clip-path=\"url(#clip882)\" cx=\"1587.15\" cy=\"1241.42\" r=\"14\" fill=\"#009af9\" fill-rule=\"evenodd\" fill-opacity=\"1\" stroke=\"#000000\" stroke-opacity=\"1\" stroke-width=\"3.2\"/>\n",
       "<circle clip-path=\"url(#clip882)\" cx=\"1626.47\" cy=\"1223\" r=\"14\" fill=\"#009af9\" fill-rule=\"evenodd\" fill-opacity=\"1\" stroke=\"#000000\" stroke-opacity=\"1\" stroke-width=\"3.2\"/>\n",
       "<circle clip-path=\"url(#clip882)\" cx=\"1665.79\" cy=\"1207.28\" r=\"14\" fill=\"#009af9\" fill-rule=\"evenodd\" fill-opacity=\"1\" stroke=\"#000000\" stroke-opacity=\"1\" stroke-width=\"3.2\"/>\n",
       "<circle clip-path=\"url(#clip882)\" cx=\"1705.12\" cy=\"1184.83\" r=\"14\" fill=\"#009af9\" fill-rule=\"evenodd\" fill-opacity=\"1\" stroke=\"#000000\" stroke-opacity=\"1\" stroke-width=\"3.2\"/>\n",
       "<circle clip-path=\"url(#clip882)\" cx=\"1744.44\" cy=\"1156.58\" r=\"14\" fill=\"#009af9\" fill-rule=\"evenodd\" fill-opacity=\"1\" stroke=\"#000000\" stroke-opacity=\"1\" stroke-width=\"3.2\"/>\n",
       "<circle clip-path=\"url(#clip882)\" cx=\"1783.76\" cy=\"1118.74\" r=\"14\" fill=\"#009af9\" fill-rule=\"evenodd\" fill-opacity=\"1\" stroke=\"#000000\" stroke-opacity=\"1\" stroke-width=\"3.2\"/>\n",
       "<circle clip-path=\"url(#clip882)\" cx=\"1823.08\" cy=\"1075.96\" r=\"14\" fill=\"#009af9\" fill-rule=\"evenodd\" fill-opacity=\"1\" stroke=\"#000000\" stroke-opacity=\"1\" stroke-width=\"3.2\"/>\n",
       "<circle clip-path=\"url(#clip882)\" cx=\"1862.41\" cy=\"1020.69\" r=\"14\" fill=\"#009af9\" fill-rule=\"evenodd\" fill-opacity=\"1\" stroke=\"#000000\" stroke-opacity=\"1\" stroke-width=\"3.2\"/>\n",
       "<circle clip-path=\"url(#clip882)\" cx=\"1901.73\" cy=\"958.386\" r=\"14\" fill=\"#009af9\" fill-rule=\"evenodd\" fill-opacity=\"1\" stroke=\"#000000\" stroke-opacity=\"1\" stroke-width=\"3.2\"/>\n",
       "<circle clip-path=\"url(#clip882)\" cx=\"1941.05\" cy=\"894.459\" r=\"14\" fill=\"#009af9\" fill-rule=\"evenodd\" fill-opacity=\"1\" stroke=\"#000000\" stroke-opacity=\"1\" stroke-width=\"3.2\"/>\n",
       "<circle clip-path=\"url(#clip882)\" cx=\"1980.37\" cy=\"816.954\" r=\"14\" fill=\"#009af9\" fill-rule=\"evenodd\" fill-opacity=\"1\" stroke=\"#000000\" stroke-opacity=\"1\" stroke-width=\"3.2\"/>\n",
       "<circle clip-path=\"url(#clip882)\" cx=\"2019.7\" cy=\"738.524\" r=\"14\" fill=\"#009af9\" fill-rule=\"evenodd\" fill-opacity=\"1\" stroke=\"#000000\" stroke-opacity=\"1\" stroke-width=\"3.2\"/>\n",
       "<circle clip-path=\"url(#clip882)\" cx=\"2059.02\" cy=\"660.01\" r=\"14\" fill=\"#009af9\" fill-rule=\"evenodd\" fill-opacity=\"1\" stroke=\"#000000\" stroke-opacity=\"1\" stroke-width=\"3.2\"/>\n",
       "<circle clip-path=\"url(#clip882)\" cx=\"2098.34\" cy=\"577.682\" r=\"14\" fill=\"#009af9\" fill-rule=\"evenodd\" fill-opacity=\"1\" stroke=\"#000000\" stroke-opacity=\"1\" stroke-width=\"3.2\"/>\n",
       "<circle clip-path=\"url(#clip882)\" cx=\"2137.66\" cy=\"491.088\" r=\"14\" fill=\"#009af9\" fill-rule=\"evenodd\" fill-opacity=\"1\" stroke=\"#000000\" stroke-opacity=\"1\" stroke-width=\"3.2\"/>\n",
       "<circle clip-path=\"url(#clip882)\" cx=\"2176.98\" cy=\"405.835\" r=\"14\" fill=\"#009af9\" fill-rule=\"evenodd\" fill-opacity=\"1\" stroke=\"#000000\" stroke-opacity=\"1\" stroke-width=\"3.2\"/>\n",
       "<circle clip-path=\"url(#clip882)\" cx=\"2216.31\" cy=\"319.81\" r=\"14\" fill=\"#009af9\" fill-rule=\"evenodd\" fill-opacity=\"1\" stroke=\"#000000\" stroke-opacity=\"1\" stroke-width=\"3.2\"/>\n",
       "<circle clip-path=\"url(#clip882)\" cx=\"2255.63\" cy=\"239.713\" r=\"14\" fill=\"#009af9\" fill-rule=\"evenodd\" fill-opacity=\"1\" stroke=\"#000000\" stroke-opacity=\"1\" stroke-width=\"3.2\"/>\n",
       "<circle clip-path=\"url(#clip882)\" cx=\"2294.95\" cy=\"160.256\" r=\"14\" fill=\"#009af9\" fill-rule=\"evenodd\" fill-opacity=\"1\" stroke=\"#000000\" stroke-opacity=\"1\" stroke-width=\"3.2\"/>\n",
       "</svg>\n"
      ]
     },
     "execution_count": 173,
     "metadata": {},
     "output_type": "execute_result"
    }
   ],
   "source": [
    "rep = report(mach);\n",
    "plt = rep.plotting;\n",
    "scatter(Float64.(plt.parameter_values)[2:end], plt.measurements[2:end],\n",
    "    label = :none)\n",
    "xlabel!(\"hyperparameter, δ\")\n",
    "ylabel!(\"MAPE\")\n",
    "title!(\"b)\")"
   ]
  },
  {
   "cell_type": "markdown",
   "metadata": {},
   "source": [
    "### 4 Quantile Regression\n",
    "Quantile regression is an extension of the least-square regression used when least-square conditions or assumptions are not met (Koenker & Bassett, 1978). In contrast to least-square, which estimates the conditional mean, quantile regression estimates the conditional median or other quantile values of the response variable across values of the predictor variables (Davino et al., 2022). \n",
    "\n",
    "The \"best\" coefficient value for the quantile regression model is obtained by minimizing the average pinball loss ($P_\\delta$) a.k.a. linear loss, given by\n",
    "\n",
    "$$\n",
    "{\\hat{\\beta}}_q=\\arg{\\min\\limits_\\beta{\\frac{1}{N}\\sum_{i=1}^{N}{P_\\delta\\left(f_\\beta\\left(x^{\\left(i\\right)}\\right)-y^{\\left(i\\right)}\\right)}}}\n",
    "$$\n",
    "\n",
    "where\n",
    "\n",
    "$$\n",
    "P_\\delta\\left(r\\right)=\n",
    "\\begin{cases}\n",
    "\\delta r,& r>0\\\\\n",
    "(1-\\delta)r,& r\\le0\n",
    "\\end{cases}\n",
    "$$\n",
    "\n",
    "where ${\\hat{\\beta}}_q$ is the approximate value of the coefficient $\\beta$ based on quantile regression. The value of $\\delta$ is the hyperparameter of this model, referred to as the quantile. If $\\delta$ is equal to 0.5, then quantile regression estimates the conditional median of $y$ across values of $x$. \n"
   ]
  },
  {
   "cell_type": "code",
   "execution_count": 174,
   "metadata": {},
   "outputs": [
    {
     "data": {
      "text/plain": [
       "QuantileRegressor(\n",
       "    delta = 0.5,\n",
       "    lambda = 1.0,\n",
       "    gamma = 0.0,\n",
       "    penalty = :none,\n",
       "    fit_intercept = true,\n",
       "    penalize_intercept = false,\n",
       "    solver = nothing)\u001b[34m @261\u001b[39m"
      ]
     },
     "execution_count": 174,
     "metadata": {},
     "output_type": "execute_result"
    }
   ],
   "source": [
    "QuantileRegressor = (@load QuantileRegressor verbosity=0)(penalty =:none)"
   ]
  },
  {
   "cell_type": "code",
   "execution_count": 175,
   "metadata": {},
   "outputs": [
    {
     "data": {
      "text/plain": [
       "typename(MLJBase.NumericRange)(Float64, :delta, ... )"
      ]
     },
     "execution_count": 175,
     "metadata": {},
     "output_type": "execute_result"
    }
   ],
   "source": [
    "r = range(QuantileRegressor, :delta , lower=0, upper=1)"
   ]
  },
  {
   "cell_type": "code",
   "execution_count": 176,
   "metadata": {},
   "outputs": [],
   "source": [
    "tunned_quantile_model = TunedModel(model=QuantileRegressor, \n",
    "    tuning=Grid(resolution = 51,shuffle = false),\n",
    "    resampling=CV(nfolds = 10),\n",
    "    ranges=[r, ], \n",
    "    measure=mape);"
   ]
  },
  {
   "cell_type": "code",
   "execution_count": 177,
   "metadata": {},
   "outputs": [
    {
     "name": "stderr",
     "output_type": "stream",
     "text": [
      "┌ Info: Training \u001b[34mMachine{DeterministicTunedModel{Grid,…},…} @747\u001b[39m.\n",
      "└ @ MLJBase C:\\Users\\LENOVO\\.julia\\packages\\MLJBase\\4yebN\\src\\machines.jl:342\n",
      "┌ Info: Attempting to evaluate 51 models.\n",
      "└ @ MLJTuning C:\\Users\\LENOVO\\.julia\\packages\\MLJTuning\\9sSuR\\src\\tuned_models.jl:564\n",
      "\u001b[33mEvaluating over 51 metamodels: 100%[=========================] Time: 0:00:07\u001b[39m\n"
     ]
    },
    {
     "data": {
      "text/plain": [
       "\u001b[34mMachine{DeterministicTunedModel{Grid,…},…} @747\u001b[39m trained 1 time; caches data\n",
       "  args: \n",
       "    1:\t\u001b[34mSource @137\u001b[39m ⏎ `Table{AbstractVector{Continuous}}`\n",
       "    2:\t\u001b[34mSource @280\u001b[39m ⏎ `AbstractVector{Continuous}`\n"
      ]
     },
     "execution_count": 177,
     "metadata": {},
     "output_type": "execute_result"
    }
   ],
   "source": [
    "mach = machine(tunned_quantile_model, X, y)\n",
    "fit!(mach, rows=train)"
   ]
  },
  {
   "cell_type": "code",
   "execution_count": 178,
   "metadata": {},
   "outputs": [
    {
     "data": {
      "text/plain": [
       "QuantileRegressor(\n",
       "    delta = 0.58,\n",
       "    lambda = 1.0,\n",
       "    gamma = 0.0,\n",
       "    penalty = :none,\n",
       "    fit_intercept = true,\n",
       "    penalize_intercept = false,\n",
       "    solver = nothing)\u001b[34m @386\u001b[39m"
      ]
     },
     "execution_count": 178,
     "metadata": {},
     "output_type": "execute_result"
    }
   ],
   "source": [
    "fitted_params(mach).best_model"
   ]
  },
  {
   "cell_type": "code",
   "execution_count": 179,
   "metadata": {
    "scrolled": true
   },
   "outputs": [
    {
     "name": "stdout",
     "output_type": "stream",
     "text": [
      "(coefs = [:X1 => -0.5523576718904972,\n",
      "          :X2 => -5.133703409743876,\n",
      "          :X3 => 8.238466220625098,\n",
      "          :X4 => -1.9609670085329274,\n",
      "          :X5 => 4.271738865653784,\n",
      "          :X6 => -10.464053946184618],\n",
      " intercept = 67.13303402414503)"
     ]
    }
   ],
   "source": [
    "fitted_params(mach).best_fitted_params |> pprint"
   ]
  },
  {
   "cell_type": "code",
   "execution_count": 180,
   "metadata": {},
   "outputs": [],
   "source": [
    "ŷ = predict(mach, rows=test);"
   ]
  },
  {
   "cell_type": "code",
   "execution_count": 181,
   "metadata": {},
   "outputs": [
    {
     "data": {
      "text/plain": [
       "7.143998003325961"
      ]
     },
     "execution_count": 181,
     "metadata": {},
     "output_type": "execute_result"
    }
   ],
   "source": [
    "rms(ŷ,y[test])"
   ]
  },
  {
   "cell_type": "code",
   "execution_count": 182,
   "metadata": {},
   "outputs": [
    {
     "data": {
      "text/plain": [
       "0.07086787365681008"
      ]
     },
     "execution_count": 182,
     "metadata": {},
     "output_type": "execute_result"
    }
   ],
   "source": [
    "mape(ŷ,y[test])"
   ]
  },
  {
   "cell_type": "code",
   "execution_count": 183,
   "metadata": {
    "scrolled": true
   },
   "outputs": [
    {
     "data": {
      "text/plain": [
       "23.649153103489517"
      ]
     },
     "execution_count": 183,
     "metadata": {},
     "output_type": "execute_result"
    }
   ],
   "source": [
    "maximum(abs.(ŷ.-y[test]))"
   ]
  },
  {
   "cell_type": "code",
   "execution_count": 184,
   "metadata": {},
   "outputs": [
    {
     "data": {
      "text/plain": [
       "51×2 Matrix{Float64}:\n",
       " 0.0   182.604\n",
       " 0.02    0.40743\n",
       " 0.04    0.339865\n",
       " 0.06    0.268159\n",
       " 0.08    0.206979\n",
       " 0.1     0.180569\n",
       " 0.12    0.160137\n",
       " 0.14    0.154677\n",
       " 0.16    0.147721\n",
       " 0.18    0.139701\n",
       " 0.2     0.128844\n",
       " 0.22    0.119649\n",
       " 0.24    0.110921\n",
       " 0.26    0.105233\n",
       " 0.28    0.101926\n",
       " 0.3     0.0978964\n",
       " 0.32    0.0951288\n",
       " 0.34    0.092697\n",
       " 0.36    0.0903545\n",
       " 0.38    0.0882409\n",
       " 0.4     0.085495\n",
       " 0.42    0.0835518\n",
       " 0.44    0.0818036\n",
       " 0.46    0.0810279\n",
       " 0.48    0.0798298\n",
       " 0.5     0.0783934\n",
       " 0.52    0.0771902\n",
       " 0.54    0.0770728\n",
       " 0.56    0.0770534\n",
       " 0.58    0.0766142\n",
       " 0.6     0.0769565\n",
       " 0.62    0.077379\n",
       " 0.64    0.0780633\n",
       " 0.66    0.0789437\n",
       " 0.68    0.0798571\n",
       " 0.7     0.0807002\n",
       " 0.72    0.0810056\n",
       " 0.74    0.0821736\n",
       " 0.76    0.0837002\n",
       " 0.78    0.0850566\n",
       " 0.8     0.0868306\n",
       " 0.82    0.0876972\n",
       " 0.84    0.0901466\n",
       " 0.86    0.0905072\n",
       " 0.88    0.0949529\n",
       " 0.9     0.1011\n",
       " 0.92    0.104204\n",
       " 0.94    0.109305\n",
       " 0.96    0.116153\n",
       " 0.98    0.13617\n",
       " 1.0     1.0"
      ]
     },
     "execution_count": 184,
     "metadata": {},
     "output_type": "execute_result"
    }
   ],
   "source": [
    "rep = report(mach);\n",
    "plt = rep.plotting;\n",
    "[Float64.(plt.parameter_values) plt.measurements]"
   ]
  },
  {
   "cell_type": "code",
   "execution_count": 185,
   "metadata": {},
   "outputs": [
    {
     "data": {
      "image/svg+xml": [
       "<?xml version=\"1.0\" encoding=\"utf-8\"?>\n",
       "<svg xmlns=\"http://www.w3.org/2000/svg\" xmlns:xlink=\"http://www.w3.org/1999/xlink\" width=\"600\" height=\"400\" viewBox=\"0 0 2400 1600\">\n",
       "<defs>\n",
       "  <clipPath id=\"clip920\">\n",
       "    <rect x=\"0\" y=\"0\" width=\"2400\" height=\"1600\"/>\n",
       "  </clipPath>\n",
       "</defs>\n",
       "<path clip-path=\"url(#clip920)\" d=\"\n",
       "M0 1600 L2400 1600 L2400 0 L0 0  Z\n",
       "  \" fill=\"#ffffff\" fill-rule=\"evenodd\" fill-opacity=\"1\"/>\n",
       "<defs>\n",
       "  <clipPath id=\"clip921\">\n",
       "    <rect x=\"480\" y=\"0\" width=\"1681\" height=\"1600\"/>\n",
       "  </clipPath>\n",
       "</defs>\n",
       "<path clip-path=\"url(#clip920)\" d=\"\n",
       "M219.866 1423.18 L2352.76 1423.18 L2352.76 123.472 L219.866 123.472  Z\n",
       "  \" fill=\"#ffffff\" fill-rule=\"evenodd\" fill-opacity=\"1\"/>\n",
       "<defs>\n",
       "  <clipPath id=\"clip922\">\n",
       "    <rect x=\"219\" y=\"123\" width=\"2134\" height=\"1301\"/>\n",
       "  </clipPath>\n",
       "</defs>\n",
       "<polyline clip-path=\"url(#clip922)\" style=\"stroke:#000000; stroke-width:2; stroke-opacity:0.1; fill:none\" points=\"\n",
       "  238.311,1423.18 238.311,123.472 \n",
       "  \"/>\n",
       "<polyline clip-path=\"url(#clip922)\" style=\"stroke:#000000; stroke-width:2; stroke-opacity:0.1; fill:none\" points=\"\n",
       "  762.311,1423.18 762.311,123.472 \n",
       "  \"/>\n",
       "<polyline clip-path=\"url(#clip922)\" style=\"stroke:#000000; stroke-width:2; stroke-opacity:0.1; fill:none\" points=\"\n",
       "  1286.31,1423.18 1286.31,123.472 \n",
       "  \"/>\n",
       "<polyline clip-path=\"url(#clip922)\" style=\"stroke:#000000; stroke-width:2; stroke-opacity:0.1; fill:none\" points=\"\n",
       "  1810.31,1423.18 1810.31,123.472 \n",
       "  \"/>\n",
       "<polyline clip-path=\"url(#clip922)\" style=\"stroke:#000000; stroke-width:2; stroke-opacity:0.1; fill:none\" points=\"\n",
       "  2334.31,1423.18 2334.31,123.472 \n",
       "  \"/>\n",
       "<polyline clip-path=\"url(#clip920)\" style=\"stroke:#000000; stroke-width:4; stroke-opacity:1; fill:none\" points=\"\n",
       "  219.866,1423.18 2352.76,1423.18 \n",
       "  \"/>\n",
       "<polyline clip-path=\"url(#clip920)\" style=\"stroke:#000000; stroke-width:4; stroke-opacity:1; fill:none\" points=\"\n",
       "  238.311,1423.18 238.311,1407.58 \n",
       "  \"/>\n",
       "<polyline clip-path=\"url(#clip920)\" style=\"stroke:#000000; stroke-width:4; stroke-opacity:1; fill:none\" points=\"\n",
       "  762.311,1423.18 762.311,1407.58 \n",
       "  \"/>\n",
       "<polyline clip-path=\"url(#clip920)\" style=\"stroke:#000000; stroke-width:4; stroke-opacity:1; fill:none\" points=\"\n",
       "  1286.31,1423.18 1286.31,1407.58 \n",
       "  \"/>\n",
       "<polyline clip-path=\"url(#clip920)\" style=\"stroke:#000000; stroke-width:4; stroke-opacity:1; fill:none\" points=\"\n",
       "  1810.31,1423.18 1810.31,1407.58 \n",
       "  \"/>\n",
       "<polyline clip-path=\"url(#clip920)\" style=\"stroke:#000000; stroke-width:4; stroke-opacity:1; fill:none\" points=\"\n",
       "  2334.31,1423.18 2334.31,1407.58 \n",
       "  \"/>\n",
       "<path clip-path=\"url(#clip920)\" d=\"M 0 0 M200.615 1452.37 Q197.003 1452.37 195.175 1455.94 Q193.369 1459.48 193.369 1466.61 Q193.369 1473.71 195.175 1477.28 Q197.003 1480.82 200.615 1480.82 Q204.249 1480.82 206.054 1477.28 Q207.883 1473.71 207.883 1466.61 Q207.883 1459.48 206.054 1455.94 Q204.249 1452.37 200.615 1452.37 M200.615 1448.67 Q206.425 1448.67 209.48 1453.27 Q212.559 1457.86 212.559 1466.61 Q212.559 1475.33 209.48 1479.94 Q206.425 1484.52 200.615 1484.52 Q194.804 1484.52 191.726 1479.94 Q188.67 1475.33 188.67 1466.61 Q188.67 1457.86 191.726 1453.27 Q194.804 1448.67 200.615 1448.67 Z\" fill=\"#000000\" fill-rule=\"evenodd\" fill-opacity=\"1\" /><path clip-path=\"url(#clip920)\" d=\"M 0 0 M220.776 1477.97 L225.661 1477.97 L225.661 1483.85 L220.776 1483.85 L220.776 1477.97 Z\" fill=\"#000000\" fill-rule=\"evenodd\" fill-opacity=\"1\" /><path clip-path=\"url(#clip920)\" d=\"M 0 0 M245.846 1452.37 Q242.235 1452.37 240.406 1455.94 Q238.6 1459.48 238.6 1466.61 Q238.6 1473.71 240.406 1477.28 Q242.235 1480.82 245.846 1480.82 Q249.48 1480.82 251.286 1477.28 Q253.114 1473.71 253.114 1466.61 Q253.114 1459.48 251.286 1455.94 Q249.48 1452.37 245.846 1452.37 M245.846 1448.67 Q251.656 1448.67 254.711 1453.27 Q257.79 1457.86 257.79 1466.61 Q257.79 1475.33 254.711 1479.94 Q251.656 1484.52 245.846 1484.52 Q240.036 1484.52 236.957 1479.94 Q233.901 1475.33 233.901 1466.61 Q233.901 1457.86 236.957 1453.27 Q240.036 1448.67 245.846 1448.67 Z\" fill=\"#000000\" fill-rule=\"evenodd\" fill-opacity=\"1\" /><path clip-path=\"url(#clip920)\" d=\"M 0 0 M276.008 1452.37 Q272.397 1452.37 270.568 1455.94 Q268.762 1459.48 268.762 1466.61 Q268.762 1473.71 270.568 1477.28 Q272.397 1480.82 276.008 1480.82 Q279.642 1480.82 281.447 1477.28 Q283.276 1473.71 283.276 1466.61 Q283.276 1459.48 281.447 1455.94 Q279.642 1452.37 276.008 1452.37 M276.008 1448.67 Q281.818 1448.67 284.873 1453.27 Q287.952 1457.86 287.952 1466.61 Q287.952 1475.33 284.873 1479.94 Q281.818 1484.52 276.008 1484.52 Q270.197 1484.52 267.119 1479.94 Q264.063 1475.33 264.063 1466.61 Q264.063 1457.86 267.119 1453.27 Q270.197 1448.67 276.008 1448.67 Z\" fill=\"#000000\" fill-rule=\"evenodd\" fill-opacity=\"1\" /><path clip-path=\"url(#clip920)\" d=\"M 0 0 M725.112 1452.37 Q721.501 1452.37 719.672 1455.94 Q717.867 1459.48 717.867 1466.61 Q717.867 1473.71 719.672 1477.28 Q721.501 1480.82 725.112 1480.82 Q728.746 1480.82 730.552 1477.28 Q732.381 1473.71 732.381 1466.61 Q732.381 1459.48 730.552 1455.94 Q728.746 1452.37 725.112 1452.37 M725.112 1448.67 Q730.922 1448.67 733.978 1453.27 Q737.057 1457.86 737.057 1466.61 Q737.057 1475.33 733.978 1479.94 Q730.922 1484.52 725.112 1484.52 Q719.302 1484.52 716.223 1479.94 Q713.168 1475.33 713.168 1466.61 Q713.168 1457.86 716.223 1453.27 Q719.302 1448.67 725.112 1448.67 Z\" fill=\"#000000\" fill-rule=\"evenodd\" fill-opacity=\"1\" /><path clip-path=\"url(#clip920)\" d=\"M 0 0 M745.274 1477.97 L750.158 1477.97 L750.158 1483.85 L745.274 1483.85 L745.274 1477.97 Z\" fill=\"#000000\" fill-rule=\"evenodd\" fill-opacity=\"1\" /><path clip-path=\"url(#clip920)\" d=\"M 0 0 M764.371 1479.92 L780.691 1479.92 L780.691 1483.85 L758.746 1483.85 L758.746 1479.92 Q761.408 1477.16 765.992 1472.53 Q770.598 1467.88 771.779 1466.54 Q774.024 1464.01 774.904 1462.28 Q775.806 1460.52 775.806 1458.83 Q775.806 1456.07 773.862 1454.34 Q771.941 1452.6 768.839 1452.6 Q766.64 1452.6 764.186 1453.37 Q761.756 1454.13 758.978 1455.68 L758.978 1450.96 Q761.802 1449.82 764.256 1449.25 Q766.709 1448.67 768.746 1448.67 Q774.117 1448.67 777.311 1451.35 Q780.505 1454.04 780.505 1458.53 Q780.505 1460.66 779.695 1462.58 Q778.908 1464.48 776.802 1467.07 Q776.223 1467.74 773.121 1470.96 Q770.019 1474.15 764.371 1479.92 Z\" fill=\"#000000\" fill-rule=\"evenodd\" fill-opacity=\"1\" /><path clip-path=\"url(#clip920)\" d=\"M 0 0 M790.552 1449.29 L808.908 1449.29 L808.908 1453.23 L794.834 1453.23 L794.834 1461.7 Q795.853 1461.35 796.871 1461.19 Q797.89 1461 798.908 1461 Q804.695 1461 808.075 1464.18 Q811.454 1467.35 811.454 1472.76 Q811.454 1478.34 807.982 1481.44 Q804.51 1484.52 798.191 1484.52 Q796.015 1484.52 793.746 1484.15 Q791.501 1483.78 789.093 1483.04 L789.093 1478.34 Q791.177 1479.48 793.399 1480.03 Q795.621 1480.59 798.098 1480.59 Q802.103 1480.59 804.44 1478.48 Q806.778 1476.38 806.778 1472.76 Q806.778 1469.15 804.44 1467.05 Q802.103 1464.94 798.098 1464.94 Q796.223 1464.94 794.348 1465.36 Q792.496 1465.77 790.552 1466.65 L790.552 1449.29 Z\" fill=\"#000000\" fill-rule=\"evenodd\" fill-opacity=\"1\" /><path clip-path=\"url(#clip920)\" d=\"M 0 0 M1248.61 1452.37 Q1245 1452.37 1243.17 1455.94 Q1241.37 1459.48 1241.37 1466.61 Q1241.37 1473.71 1243.17 1477.28 Q1245 1480.82 1248.61 1480.82 Q1252.25 1480.82 1254.05 1477.28 Q1255.88 1473.71 1255.88 1466.61 Q1255.88 1459.48 1254.05 1455.94 Q1252.25 1452.37 1248.61 1452.37 M1248.61 1448.67 Q1254.42 1448.67 1257.48 1453.27 Q1260.56 1457.86 1260.56 1466.61 Q1260.56 1475.33 1257.48 1479.94 Q1254.42 1484.52 1248.61 1484.52 Q1242.8 1484.52 1239.73 1479.94 Q1236.67 1475.33 1236.67 1466.61 Q1236.67 1457.86 1239.73 1453.27 Q1242.8 1448.67 1248.61 1448.67 Z\" fill=\"#000000\" fill-rule=\"evenodd\" fill-opacity=\"1\" /><path clip-path=\"url(#clip920)\" d=\"M 0 0 M1268.78 1477.97 L1273.66 1477.97 L1273.66 1483.85 L1268.78 1483.85 L1268.78 1477.97 Z\" fill=\"#000000\" fill-rule=\"evenodd\" fill-opacity=\"1\" /><path clip-path=\"url(#clip920)\" d=\"M 0 0 M1283.89 1449.29 L1302.25 1449.29 L1302.25 1453.23 L1288.17 1453.23 L1288.17 1461.7 Q1289.19 1461.35 1290.21 1461.19 Q1291.23 1461 1292.25 1461 Q1298.04 1461 1301.42 1464.18 Q1304.79 1467.35 1304.79 1472.76 Q1304.79 1478.34 1301.32 1481.44 Q1297.85 1484.52 1291.53 1484.52 Q1289.36 1484.52 1287.09 1484.15 Q1284.84 1483.78 1282.43 1483.04 L1282.43 1478.34 Q1284.52 1479.48 1286.74 1480.03 Q1288.96 1480.59 1291.44 1480.59 Q1295.44 1480.59 1297.78 1478.48 Q1300.12 1476.38 1300.12 1472.76 Q1300.12 1469.15 1297.78 1467.05 Q1295.44 1464.94 1291.44 1464.94 Q1289.56 1464.94 1287.69 1465.36 Q1285.84 1465.77 1283.89 1466.65 L1283.89 1449.29 Z\" fill=\"#000000\" fill-rule=\"evenodd\" fill-opacity=\"1\" /><path clip-path=\"url(#clip920)\" d=\"M 0 0 M1324.01 1452.37 Q1320.4 1452.37 1318.57 1455.94 Q1316.76 1459.48 1316.76 1466.61 Q1316.76 1473.71 1318.57 1477.28 Q1320.4 1480.82 1324.01 1480.82 Q1327.64 1480.82 1329.45 1477.28 Q1331.28 1473.71 1331.28 1466.61 Q1331.28 1459.48 1329.45 1455.94 Q1327.64 1452.37 1324.01 1452.37 M1324.01 1448.67 Q1329.82 1448.67 1332.87 1453.27 Q1335.95 1457.86 1335.95 1466.61 Q1335.95 1475.33 1332.87 1479.94 Q1329.82 1484.52 1324.01 1484.52 Q1318.2 1484.52 1315.12 1479.94 Q1312.06 1475.33 1312.06 1466.61 Q1312.06 1457.86 1315.12 1453.27 Q1318.2 1448.67 1324.01 1448.67 Z\" fill=\"#000000\" fill-rule=\"evenodd\" fill-opacity=\"1\" /><path clip-path=\"url(#clip920)\" d=\"M 0 0 M1773.11 1452.37 Q1769.5 1452.37 1767.67 1455.94 Q1765.87 1459.48 1765.87 1466.61 Q1765.87 1473.71 1767.67 1477.28 Q1769.5 1480.82 1773.11 1480.82 Q1776.75 1480.82 1778.55 1477.28 Q1780.38 1473.71 1780.38 1466.61 Q1780.38 1459.48 1778.55 1455.94 Q1776.75 1452.37 1773.11 1452.37 M1773.11 1448.67 Q1778.92 1448.67 1781.98 1453.27 Q1785.06 1457.86 1785.06 1466.61 Q1785.06 1475.33 1781.98 1479.94 Q1778.92 1484.52 1773.11 1484.52 Q1767.3 1484.52 1764.22 1479.94 Q1761.17 1475.33 1761.17 1466.61 Q1761.17 1457.86 1764.22 1453.27 Q1767.3 1448.67 1773.11 1448.67 Z\" fill=\"#000000\" fill-rule=\"evenodd\" fill-opacity=\"1\" /><path clip-path=\"url(#clip920)\" d=\"M 0 0 M1793.27 1477.97 L1798.16 1477.97 L1798.16 1483.85 L1793.27 1483.85 L1793.27 1477.97 Z\" fill=\"#000000\" fill-rule=\"evenodd\" fill-opacity=\"1\" /><path clip-path=\"url(#clip920)\" d=\"M 0 0 M1807.16 1449.29 L1829.39 1449.29 L1829.39 1451.28 L1816.84 1483.85 L1811.95 1483.85 L1823.76 1453.23 L1807.16 1453.23 L1807.16 1449.29 Z\" fill=\"#000000\" fill-rule=\"evenodd\" fill-opacity=\"1\" /><path clip-path=\"url(#clip920)\" d=\"M 0 0 M1838.55 1449.29 L1856.91 1449.29 L1856.91 1453.23 L1842.83 1453.23 L1842.83 1461.7 Q1843.85 1461.35 1844.87 1461.19 Q1845.89 1461 1846.91 1461 Q1852.7 1461 1856.07 1464.18 Q1859.45 1467.35 1859.45 1472.76 Q1859.45 1478.34 1855.98 1481.44 Q1852.51 1484.52 1846.19 1484.52 Q1844.01 1484.52 1841.75 1484.15 Q1839.5 1483.78 1837.09 1483.04 L1837.09 1478.34 Q1839.18 1479.48 1841.4 1480.03 Q1843.62 1480.59 1846.1 1480.59 Q1850.1 1480.59 1852.44 1478.48 Q1854.78 1476.38 1854.78 1472.76 Q1854.78 1469.15 1852.44 1467.05 Q1850.1 1464.94 1846.1 1464.94 Q1844.22 1464.94 1842.35 1465.36 Q1840.5 1465.77 1838.55 1466.65 L1838.55 1449.29 Z\" fill=\"#000000\" fill-rule=\"evenodd\" fill-opacity=\"1\" /><path clip-path=\"url(#clip920)\" d=\"M 0 0 M2286.38 1479.92 L2294.02 1479.92 L2294.02 1453.55 L2285.71 1455.22 L2285.71 1450.96 L2293.98 1449.29 L2298.65 1449.29 L2298.65 1479.92 L2306.29 1479.92 L2306.29 1483.85 L2286.38 1483.85 L2286.38 1479.92 Z\" fill=\"#000000\" fill-rule=\"evenodd\" fill-opacity=\"1\" /><path clip-path=\"url(#clip920)\" d=\"M 0 0 M2315.73 1477.97 L2320.62 1477.97 L2320.62 1483.85 L2315.73 1483.85 L2315.73 1477.97 Z\" fill=\"#000000\" fill-rule=\"evenodd\" fill-opacity=\"1\" /><path clip-path=\"url(#clip920)\" d=\"M 0 0 M2340.8 1452.37 Q2337.19 1452.37 2335.36 1455.94 Q2333.56 1459.48 2333.56 1466.61 Q2333.56 1473.71 2335.36 1477.28 Q2337.19 1480.82 2340.8 1480.82 Q2344.44 1480.82 2346.24 1477.28 Q2348.07 1473.71 2348.07 1466.61 Q2348.07 1459.48 2346.24 1455.94 Q2344.44 1452.37 2340.8 1452.37 M2340.8 1448.67 Q2346.61 1448.67 2349.67 1453.27 Q2352.75 1457.86 2352.75 1466.61 Q2352.75 1475.33 2349.67 1479.94 Q2346.61 1484.52 2340.8 1484.52 Q2334.99 1484.52 2331.92 1479.94 Q2328.86 1475.33 2328.86 1466.61 Q2328.86 1457.86 2331.92 1453.27 Q2334.99 1448.67 2340.8 1448.67 Z\" fill=\"#000000\" fill-rule=\"evenodd\" fill-opacity=\"1\" /><path clip-path=\"url(#clip920)\" d=\"M 0 0 M2370.97 1452.37 Q2367.35 1452.37 2365.53 1455.94 Q2363.72 1459.48 2363.72 1466.61 Q2363.72 1473.71 2365.53 1477.28 Q2367.35 1480.82 2370.97 1480.82 Q2374.6 1480.82 2376.41 1477.28 Q2378.23 1473.71 2378.23 1466.61 Q2378.23 1459.48 2376.41 1455.94 Q2374.6 1452.37 2370.97 1452.37 M2370.97 1448.67 Q2376.78 1448.67 2379.83 1453.27 Q2382.91 1457.86 2382.91 1466.61 Q2382.91 1475.33 2379.83 1479.94 Q2376.78 1484.52 2370.97 1484.52 Q2365.16 1484.52 2362.08 1479.94 Q2359.02 1475.33 2359.02 1466.61 Q2359.02 1457.86 2362.08 1453.27 Q2365.16 1448.67 2370.97 1448.67 Z\" fill=\"#000000\" fill-rule=\"evenodd\" fill-opacity=\"1\" /><path clip-path=\"url(#clip920)\" d=\"M 0 0 M1014.1 1546.53 L1014.1 1568.04 L1008.24 1568.04 L1008.24 1546.72 Q1008.24 1541.66 1006.27 1539.14 Q1004.29 1536.63 1000.35 1536.63 Q995.605 1536.63 992.868 1539.65 Q990.131 1542.68 990.131 1547.9 L990.131 1568.04 L984.242 1568.04 L984.242 1518.52 L990.131 1518.52 L990.131 1537.93 Q992.231 1534.72 995.064 1533.13 Q997.929 1531.54 1001.65 1531.54 Q1007.8 1531.54 1010.95 1535.36 Q1014.1 1539.14 1014.1 1546.53 Z\" fill=\"#000000\" fill-rule=\"evenodd\" fill-opacity=\"1\" /><path clip-path=\"url(#clip920)\" d=\"M 0 0 M1040.61 1571.35 Q1038.13 1577.72 1035.77 1579.66 Q1033.42 1581.6 1029.47 1581.6 L1024.79 1581.6 L1024.79 1576.7 L1028.23 1576.7 Q1030.65 1576.7 1031.99 1575.56 Q1033.32 1574.41 1034.95 1570.14 L1036 1567.47 L1021.58 1532.4 L1027.78 1532.4 L1038.92 1560.28 L1050.06 1532.4 L1056.27 1532.4 L1040.61 1571.35 Z\" fill=\"#000000\" fill-rule=\"evenodd\" fill-opacity=\"1\" /><path clip-path=\"url(#clip920)\" d=\"M 0 0 M1070.02 1562.7 L1070.02 1581.6 L1064.13 1581.6 L1064.13 1532.4 L1070.02 1532.4 L1070.02 1537.81 Q1071.87 1534.62 1074.67 1533.1 Q1077.5 1531.54 1081.41 1531.54 Q1087.91 1531.54 1091.95 1536.69 Q1096.02 1541.85 1096.02 1550.25 Q1096.02 1558.65 1091.95 1563.81 Q1087.91 1568.97 1081.41 1568.97 Q1077.5 1568.97 1074.67 1567.44 Q1071.87 1565.88 1070.02 1562.7 M1089.94 1550.25 Q1089.94 1543.79 1087.27 1540.13 Q1084.63 1536.44 1079.98 1536.44 Q1075.34 1536.44 1072.66 1540.13 Q1070.02 1543.79 1070.02 1550.25 Q1070.02 1556.71 1072.66 1560.4 Q1075.34 1564.07 1079.98 1564.07 Q1084.63 1564.07 1087.27 1560.4 Q1089.94 1556.71 1089.94 1550.25 Z\" fill=\"#000000\" fill-rule=\"evenodd\" fill-opacity=\"1\" /><path clip-path=\"url(#clip920)\" d=\"M 0 0 M1136.22 1548.76 L1136.22 1551.62 L1109.3 1551.62 Q1109.68 1557.67 1112.93 1560.85 Q1116.2 1564 1122.03 1564 Q1125.4 1564 1128.55 1563.17 Q1131.74 1562.35 1134.86 1560.69 L1134.86 1566.23 Q1131.7 1567.57 1128.39 1568.27 Q1125.08 1568.97 1121.68 1568.97 Q1113.15 1568.97 1108.15 1564 Q1103.19 1559.04 1103.19 1550.57 Q1103.19 1541.82 1107.9 1536.69 Q1112.64 1531.54 1120.66 1531.54 Q1127.85 1531.54 1132.02 1536.18 Q1136.22 1540.8 1136.22 1548.76 M1130.37 1547.04 Q1130.3 1542.23 1127.66 1539.37 Q1125.05 1536.5 1120.72 1536.5 Q1115.82 1536.5 1112.86 1539.27 Q1109.93 1542.04 1109.49 1547.07 L1130.37 1547.04 Z\" fill=\"#000000\" fill-rule=\"evenodd\" fill-opacity=\"1\" /><path clip-path=\"url(#clip920)\" d=\"M 0 0 M1166.49 1537.87 Q1165.51 1537.3 1164.33 1537.04 Q1163.18 1536.76 1161.78 1536.76 Q1156.82 1536.76 1154.14 1540 Q1151.5 1543.22 1151.5 1549.27 L1151.5 1568.04 L1145.61 1568.04 L1145.61 1532.4 L1151.5 1532.4 L1151.5 1537.93 Q1153.35 1534.69 1156.31 1533.13 Q1159.27 1531.54 1163.5 1531.54 Q1164.11 1531.54 1164.84 1531.63 Q1165.57 1531.7 1166.46 1531.85 L1166.49 1537.87 Z\" fill=\"#000000\" fill-rule=\"evenodd\" fill-opacity=\"1\" /><path clip-path=\"url(#clip920)\" d=\"M 0 0 M1178.3 1562.7 L1178.3 1581.6 L1172.41 1581.6 L1172.41 1532.4 L1178.3 1532.4 L1178.3 1537.81 Q1180.15 1534.62 1182.95 1533.1 Q1185.78 1531.54 1189.7 1531.54 Q1196.19 1531.54 1200.23 1536.69 Q1204.3 1541.85 1204.3 1550.25 Q1204.3 1558.65 1200.23 1563.81 Q1196.19 1568.97 1189.7 1568.97 Q1185.78 1568.97 1182.95 1567.44 Q1180.15 1565.88 1178.3 1562.7 M1198.23 1550.25 Q1198.23 1543.79 1195.55 1540.13 Q1192.91 1536.44 1188.26 1536.44 Q1183.62 1536.44 1180.94 1540.13 Q1178.3 1543.79 1178.3 1550.25 Q1178.3 1556.71 1180.94 1560.4 Q1183.62 1564.07 1188.26 1564.07 Q1192.91 1564.07 1195.55 1560.4 Q1198.23 1556.71 1198.23 1550.25 Z\" fill=\"#000000\" fill-rule=\"evenodd\" fill-opacity=\"1\" /><path clip-path=\"url(#clip920)\" d=\"M 0 0 M1230.21 1550.12 Q1223.12 1550.12 1220.38 1551.75 Q1217.64 1553.37 1217.64 1557.29 Q1217.64 1560.4 1219.68 1562.25 Q1221.75 1564.07 1225.28 1564.07 Q1230.15 1564.07 1233.08 1560.63 Q1236.04 1557.16 1236.04 1551.43 L1236.04 1550.12 L1230.21 1550.12 M1241.89 1547.71 L1241.89 1568.04 L1236.04 1568.04 L1236.04 1562.63 Q1234.03 1565.88 1231.04 1567.44 Q1228.05 1568.97 1223.72 1568.97 Q1218.25 1568.97 1215 1565.91 Q1211.78 1562.82 1211.78 1557.67 Q1211.78 1551.65 1215.79 1548.6 Q1219.84 1545.54 1227.83 1545.54 L1236.04 1545.54 L1236.04 1544.97 Q1236.04 1540.93 1233.36 1538.73 Q1230.72 1536.5 1225.92 1536.5 Q1222.86 1536.5 1219.96 1537.23 Q1217.07 1537.97 1214.39 1539.43 L1214.39 1534.02 Q1217.61 1532.78 1220.63 1532.17 Q1223.66 1531.54 1226.52 1531.54 Q1234.26 1531.54 1238.07 1535.55 Q1241.89 1539.56 1241.89 1547.71 Z\" fill=\"#000000\" fill-rule=\"evenodd\" fill-opacity=\"1\" /><path clip-path=\"url(#clip920)\" d=\"M 0 0 M1274.61 1537.87 Q1273.63 1537.3 1272.45 1537.04 Q1271.3 1536.76 1269.9 1536.76 Q1264.94 1536.76 1262.26 1540 Q1259.62 1543.22 1259.62 1549.27 L1259.62 1568.04 L1253.73 1568.04 L1253.73 1532.4 L1259.62 1532.4 L1259.62 1537.93 Q1261.47 1534.69 1264.43 1533.13 Q1267.39 1531.54 1271.62 1531.54 Q1272.23 1531.54 1272.96 1531.63 Q1273.69 1531.7 1274.58 1531.85 L1274.61 1537.87 Z\" fill=\"#000000\" fill-rule=\"evenodd\" fill-opacity=\"1\" /><path clip-path=\"url(#clip920)\" d=\"M 0 0 M1296.96 1550.12 Q1289.86 1550.12 1287.12 1551.75 Q1284.39 1553.37 1284.39 1557.29 Q1284.39 1560.4 1286.42 1562.25 Q1288.49 1564.07 1292.02 1564.07 Q1296.89 1564.07 1299.82 1560.63 Q1302.78 1557.16 1302.78 1551.43 L1302.78 1550.12 L1296.96 1550.12 M1308.64 1547.71 L1308.64 1568.04 L1302.78 1568.04 L1302.78 1562.63 Q1300.78 1565.88 1297.79 1567.44 Q1294.79 1568.97 1290.46 1568.97 Q1284.99 1568.97 1281.74 1565.91 Q1278.53 1562.82 1278.53 1557.67 Q1278.53 1551.65 1282.54 1548.6 Q1286.58 1545.54 1294.57 1545.54 L1302.78 1545.54 L1302.78 1544.97 Q1302.78 1540.93 1300.11 1538.73 Q1297.47 1536.5 1292.66 1536.5 Q1289.61 1536.5 1286.71 1537.23 Q1283.81 1537.97 1281.14 1539.43 L1281.14 1534.02 Q1284.35 1532.78 1287.38 1532.17 Q1290.4 1531.54 1293.27 1531.54 Q1301 1531.54 1304.82 1535.55 Q1308.64 1539.56 1308.64 1547.71 Z\" fill=\"#000000\" fill-rule=\"evenodd\" fill-opacity=\"1\" /><path clip-path=\"url(#clip920)\" d=\"M 0 0 M1348.46 1539.24 Q1350.65 1535.29 1353.71 1533.41 Q1356.76 1531.54 1360.9 1531.54 Q1366.47 1531.54 1369.49 1535.45 Q1372.52 1539.33 1372.52 1546.53 L1372.52 1568.04 L1366.63 1568.04 L1366.63 1546.72 Q1366.63 1541.59 1364.82 1539.11 Q1363 1536.63 1359.28 1536.63 Q1354.73 1536.63 1352.08 1539.65 Q1349.44 1542.68 1349.44 1547.9 L1349.44 1568.04 L1343.55 1568.04 L1343.55 1546.72 Q1343.55 1541.56 1341.74 1539.11 Q1339.93 1536.63 1336.14 1536.63 Q1331.65 1536.63 1329.01 1539.68 Q1326.37 1542.71 1326.37 1547.9 L1326.37 1568.04 L1320.48 1568.04 L1320.48 1532.4 L1326.37 1532.4 L1326.37 1537.93 Q1328.37 1534.66 1331.17 1533.1 Q1333.97 1531.54 1337.83 1531.54 Q1341.71 1531.54 1344.41 1533.51 Q1347.15 1535.48 1348.46 1539.24 Z\" fill=\"#000000\" fill-rule=\"evenodd\" fill-opacity=\"1\" /><path clip-path=\"url(#clip920)\" d=\"M 0 0 M1414.69 1548.76 L1414.69 1551.62 L1387.76 1551.62 Q1388.15 1557.67 1391.39 1560.85 Q1394.67 1564 1400.5 1564 Q1403.87 1564 1407.02 1563.17 Q1410.2 1562.35 1413.32 1560.69 L1413.32 1566.23 Q1410.17 1567.57 1406.86 1568.27 Q1403.55 1568.97 1400.15 1568.97 Q1391.62 1568.97 1386.62 1564 Q1381.65 1559.04 1381.65 1550.57 Q1381.65 1541.82 1386.36 1536.69 Q1391.11 1531.54 1399.13 1531.54 Q1406.32 1531.54 1410.49 1536.18 Q1414.69 1540.8 1414.69 1548.76 M1408.84 1547.04 Q1408.77 1542.23 1406.13 1539.37 Q1403.52 1536.5 1399.19 1536.5 Q1394.29 1536.5 1391.33 1539.27 Q1388.4 1542.04 1387.96 1547.07 L1408.84 1547.04 Z\" fill=\"#000000\" fill-rule=\"evenodd\" fill-opacity=\"1\" /><path clip-path=\"url(#clip920)\" d=\"M 0 0 M1430.1 1522.27 L1430.1 1532.4 L1442.16 1532.4 L1442.16 1536.95 L1430.1 1536.95 L1430.1 1556.3 Q1430.1 1560.66 1431.27 1561.9 Q1432.48 1563.14 1436.14 1563.14 L1442.16 1563.14 L1442.16 1568.04 L1436.14 1568.04 Q1429.36 1568.04 1426.79 1565.53 Q1424.21 1562.98 1424.21 1556.3 L1424.21 1536.95 L1419.91 1536.95 L1419.91 1532.4 L1424.21 1532.4 L1424.21 1522.27 L1430.1 1522.27 Z\" fill=\"#000000\" fill-rule=\"evenodd\" fill-opacity=\"1\" /><path clip-path=\"url(#clip920)\" d=\"M 0 0 M1480.35 1548.76 L1480.35 1551.62 L1453.43 1551.62 Q1453.81 1557.67 1457.06 1560.85 Q1460.33 1564 1466.16 1564 Q1469.53 1564 1472.68 1563.17 Q1475.87 1562.35 1478.99 1560.69 L1478.99 1566.23 Q1475.83 1567.57 1472.52 1568.27 Q1469.21 1568.97 1465.81 1568.97 Q1457.28 1568.97 1452.28 1564 Q1447.32 1559.04 1447.32 1550.57 Q1447.32 1541.82 1452.03 1536.69 Q1456.77 1531.54 1464.79 1531.54 Q1471.98 1531.54 1476.15 1536.18 Q1480.35 1540.8 1480.35 1548.76 M1474.5 1547.04 Q1474.43 1542.23 1471.79 1539.37 Q1469.18 1536.5 1464.85 1536.5 Q1459.95 1536.5 1456.99 1539.27 Q1454.06 1542.04 1453.62 1547.07 L1474.5 1547.04 Z\" fill=\"#000000\" fill-rule=\"evenodd\" fill-opacity=\"1\" /><path clip-path=\"url(#clip920)\" d=\"M 0 0 M1510.62 1537.87 Q1509.64 1537.3 1508.46 1537.04 Q1507.31 1536.76 1505.91 1536.76 Q1500.95 1536.76 1498.27 1540 Q1495.63 1543.22 1495.63 1549.27 L1495.63 1568.04 L1489.74 1568.04 L1489.74 1532.4 L1495.63 1532.4 L1495.63 1537.93 Q1497.48 1534.69 1500.44 1533.13 Q1503.4 1531.54 1507.63 1531.54 Q1508.24 1531.54 1508.97 1531.63 Q1509.7 1531.7 1510.59 1531.85 L1510.62 1537.87 Z\" fill=\"#000000\" fill-rule=\"evenodd\" fill-opacity=\"1\" /><path clip-path=\"url(#clip920)\" d=\"M 0 0 M1518.26 1559.96 L1524.98 1559.96 L1524.98 1565.43 L1519.76 1575.62 L1515.65 1575.62 L1518.26 1565.43 L1518.26 1559.96 Z\" fill=\"#000000\" fill-rule=\"evenodd\" fill-opacity=\"1\" /><path clip-path=\"url(#clip920)\" d=\"M 0 0 M1584.02 1526.76 Q1580.77 1524.53 1573.17 1524.53 Q1565.11 1524.53 1565.11 1528.26 Q1565.11 1531.19 1573.52 1532.71 Q1580.14 1533.89 1583.86 1537.46 Q1588.38 1541.75 1588.38 1550.57 Q1588.38 1559 1584.02 1563.97 Q1579.66 1568.97 1572.02 1568.97 Q1564.41 1568.97 1560.02 1563.97 Q1555.66 1559 1555.66 1550.25 Q1555.66 1543.76 1560.02 1538.51 Q1561.71 1536.47 1564.09 1535.32 Q1559.13 1532.81 1559.13 1528.32 Q1559.13 1519.66 1573.17 1519.66 Q1580.2 1519.66 1584.02 1521.89 L1584.02 1526.76 M1568.49 1536.92 Q1566.32 1537.84 1564.57 1540.16 Q1561.83 1543.76 1561.83 1550.25 Q1561.83 1556.71 1564.54 1560.34 Q1567.28 1564 1572.02 1564 Q1576.7 1564 1579.44 1560.31 Q1582.17 1556.62 1582.17 1550.57 Q1582.17 1544.24 1579.28 1541.18 Q1576.19 1537.9 1572.18 1537.55 Q1570.14 1537.36 1568.49 1536.92 Z\" fill=\"#000000\" fill-rule=\"evenodd\" fill-opacity=\"1\" /><polyline clip-path=\"url(#clip922)\" style=\"stroke:#000000; stroke-width:2; stroke-opacity:0.1; fill:none\" points=\"\n",
       "  219.866,1299.72 2352.76,1299.72 \n",
       "  \"/>\n",
       "<polyline clip-path=\"url(#clip922)\" style=\"stroke:#000000; stroke-width:2; stroke-opacity:0.1; fill:none\" points=\"\n",
       "  219.866,929.078 2352.76,929.078 \n",
       "  \"/>\n",
       "<polyline clip-path=\"url(#clip922)\" style=\"stroke:#000000; stroke-width:2; stroke-opacity:0.1; fill:none\" points=\"\n",
       "  219.866,558.437 2352.76,558.437 \n",
       "  \"/>\n",
       "<polyline clip-path=\"url(#clip922)\" style=\"stroke:#000000; stroke-width:2; stroke-opacity:0.1; fill:none\" points=\"\n",
       "  219.866,187.796 2352.76,187.796 \n",
       "  \"/>\n",
       "<polyline clip-path=\"url(#clip920)\" style=\"stroke:#000000; stroke-width:4; stroke-opacity:1; fill:none\" points=\"\n",
       "  219.866,1423.18 219.866,123.472 \n",
       "  \"/>\n",
       "<polyline clip-path=\"url(#clip920)\" style=\"stroke:#000000; stroke-width:4; stroke-opacity:1; fill:none\" points=\"\n",
       "  219.866,1299.72 245.461,1299.72 \n",
       "  \"/>\n",
       "<polyline clip-path=\"url(#clip920)\" style=\"stroke:#000000; stroke-width:4; stroke-opacity:1; fill:none\" points=\"\n",
       "  219.866,929.078 245.461,929.078 \n",
       "  \"/>\n",
       "<polyline clip-path=\"url(#clip920)\" style=\"stroke:#000000; stroke-width:4; stroke-opacity:1; fill:none\" points=\"\n",
       "  219.866,558.437 245.461,558.437 \n",
       "  \"/>\n",
       "<polyline clip-path=\"url(#clip920)\" style=\"stroke:#000000; stroke-width:4; stroke-opacity:1; fill:none\" points=\"\n",
       "  219.866,187.796 245.461,187.796 \n",
       "  \"/>\n",
       "<path clip-path=\"url(#clip920)\" d=\"M 0 0 M127.917 1285.52 Q124.306 1285.52 122.478 1289.08 Q120.672 1292.62 120.672 1299.75 Q120.672 1306.86 122.478 1310.42 Q124.306 1313.97 127.917 1313.97 Q131.552 1313.97 133.357 1310.42 Q135.186 1306.86 135.186 1299.75 Q135.186 1292.62 133.357 1289.08 Q131.552 1285.52 127.917 1285.52 M127.917 1281.81 Q133.728 1281.81 136.783 1286.42 Q139.862 1291 139.862 1299.75 Q139.862 1308.48 136.783 1313.09 Q133.728 1317.67 127.917 1317.67 Q122.107 1317.67 119.029 1313.09 Q115.973 1308.48 115.973 1299.75 Q115.973 1291 119.029 1286.42 Q122.107 1281.81 127.917 1281.81 Z\" fill=\"#000000\" fill-rule=\"evenodd\" fill-opacity=\"1\" /><path clip-path=\"url(#clip920)\" d=\"M 0 0 M148.079 1311.12 L152.964 1311.12 L152.964 1317 L148.079 1317 L148.079 1311.12 Z\" fill=\"#000000\" fill-rule=\"evenodd\" fill-opacity=\"1\" /><path clip-path=\"url(#clip920)\" d=\"M 0 0 M163.959 1313.06 L171.598 1313.06 L171.598 1286.7 L163.288 1288.36 L163.288 1284.11 L171.552 1282.44 L176.227 1282.44 L176.227 1313.06 L183.866 1313.06 L183.866 1317 L163.959 1317 L163.959 1313.06 Z\" fill=\"#000000\" fill-rule=\"evenodd\" fill-opacity=\"1\" /><path clip-path=\"url(#clip920)\" d=\"M 0 0 M128.288 914.877 Q124.677 914.877 122.848 918.441 Q121.043 921.983 121.043 929.113 Q121.043 936.219 122.848 939.784 Q124.677 943.325 128.288 943.325 Q131.922 943.325 133.728 939.784 Q135.556 936.219 135.556 929.113 Q135.556 921.983 133.728 918.441 Q131.922 914.877 128.288 914.877 M128.288 911.173 Q134.098 911.173 137.154 915.779 Q140.232 920.363 140.232 929.113 Q140.232 937.839 137.154 942.446 Q134.098 947.029 128.288 947.029 Q122.478 947.029 119.399 942.446 Q116.343 937.839 116.343 929.113 Q116.343 920.363 119.399 915.779 Q122.478 911.173 128.288 911.173 Z\" fill=\"#000000\" fill-rule=\"evenodd\" fill-opacity=\"1\" /><path clip-path=\"url(#clip920)\" d=\"M 0 0 M148.45 940.478 L153.334 940.478 L153.334 946.358 L148.45 946.358 L148.45 940.478 Z\" fill=\"#000000\" fill-rule=\"evenodd\" fill-opacity=\"1\" /><path clip-path=\"url(#clip920)\" d=\"M 0 0 M167.547 942.423 L183.866 942.423 L183.866 946.358 L161.922 946.358 L161.922 942.423 Q164.584 939.668 169.167 935.038 Q173.774 930.386 174.954 929.043 Q177.2 926.52 178.079 924.784 Q178.982 923.025 178.982 921.335 Q178.982 918.58 177.038 916.844 Q175.116 915.108 172.014 915.108 Q169.815 915.108 167.362 915.872 Q164.931 916.636 162.153 918.187 L162.153 913.464 Q164.977 912.33 167.431 911.752 Q169.885 911.173 171.922 911.173 Q177.292 911.173 180.487 913.858 Q183.681 916.543 183.681 921.034 Q183.681 923.164 182.871 925.085 Q182.084 926.983 179.977 929.576 Q179.399 930.247 176.297 933.464 Q173.195 936.659 167.547 942.423 Z\" fill=\"#000000\" fill-rule=\"evenodd\" fill-opacity=\"1\" /><path clip-path=\"url(#clip920)\" d=\"M 0 0 M127.339 544.236 Q123.728 544.236 121.899 547.801 Q120.093 551.342 120.093 558.472 Q120.093 565.578 121.899 569.143 Q123.728 572.685 127.339 572.685 Q130.973 572.685 132.779 569.143 Q134.607 565.578 134.607 558.472 Q134.607 551.342 132.779 547.801 Q130.973 544.236 127.339 544.236 M127.339 540.532 Q133.149 540.532 136.204 545.139 Q139.283 549.722 139.283 558.472 Q139.283 567.199 136.204 571.805 Q133.149 576.388 127.339 576.388 Q121.529 576.388 118.45 571.805 Q115.394 567.199 115.394 558.472 Q115.394 549.722 118.45 545.139 Q121.529 540.532 127.339 540.532 Z\" fill=\"#000000\" fill-rule=\"evenodd\" fill-opacity=\"1\" /><path clip-path=\"url(#clip920)\" d=\"M 0 0 M147.501 569.838 L152.385 569.838 L152.385 575.717 L147.501 575.717 L147.501 569.838 Z\" fill=\"#000000\" fill-rule=\"evenodd\" fill-opacity=\"1\" /><path clip-path=\"url(#clip920)\" d=\"M 0 0 M176.737 557.083 Q180.093 557.801 181.968 560.069 Q183.866 562.338 183.866 565.671 Q183.866 570.787 180.348 573.588 Q176.829 576.388 170.348 576.388 Q168.172 576.388 165.857 575.949 Q163.565 575.532 161.112 574.675 L161.112 570.162 Q163.056 571.296 165.371 571.875 Q167.686 572.453 170.209 572.453 Q174.607 572.453 176.899 570.717 Q179.214 568.981 179.214 565.671 Q179.214 562.615 177.061 560.902 Q174.931 559.166 171.112 559.166 L167.084 559.166 L167.084 555.324 L171.297 555.324 Q174.746 555.324 176.575 553.958 Q178.403 552.569 178.403 549.977 Q178.403 547.315 176.505 545.902 Q174.63 544.467 171.112 544.467 Q169.19 544.467 166.991 544.884 Q164.792 545.301 162.153 546.18 L162.153 542.014 Q164.815 541.273 167.13 540.903 Q169.468 540.532 171.528 540.532 Q176.852 540.532 179.954 542.963 Q183.056 545.37 183.056 549.49 Q183.056 552.361 181.413 554.352 Q179.769 556.319 176.737 557.083 Z\" fill=\"#000000\" fill-rule=\"evenodd\" fill-opacity=\"1\" /><path clip-path=\"url(#clip920)\" d=\"M 0 0 M126.205 173.595 Q122.593 173.595 120.765 177.16 Q118.959 180.702 118.959 187.831 Q118.959 194.938 120.765 198.502 Q122.593 202.044 126.205 202.044 Q129.839 202.044 131.644 198.502 Q133.473 194.938 133.473 187.831 Q133.473 180.702 131.644 177.16 Q129.839 173.595 126.205 173.595 M126.205 169.891 Q132.015 169.891 135.07 174.498 Q138.149 179.081 138.149 187.831 Q138.149 196.558 135.07 201.164 Q132.015 205.748 126.205 205.748 Q120.394 205.748 117.316 201.164 Q114.26 196.558 114.26 187.831 Q114.26 179.081 117.316 174.498 Q120.394 169.891 126.205 169.891 Z\" fill=\"#000000\" fill-rule=\"evenodd\" fill-opacity=\"1\" /><path clip-path=\"url(#clip920)\" d=\"M 0 0 M146.366 199.197 L151.251 199.197 L151.251 205.076 L146.366 205.076 L146.366 199.197 Z\" fill=\"#000000\" fill-rule=\"evenodd\" fill-opacity=\"1\" /><path clip-path=\"url(#clip920)\" d=\"M 0 0 M174.283 174.591 L162.477 193.039 L174.283 193.039 L174.283 174.591 M173.056 170.516 L178.936 170.516 L178.936 193.039 L183.866 193.039 L183.866 196.928 L178.936 196.928 L178.936 205.076 L174.283 205.076 L174.283 196.928 L158.681 196.928 L158.681 192.414 L173.056 170.516 Z\" fill=\"#000000\" fill-rule=\"evenodd\" fill-opacity=\"1\" /><path clip-path=\"url(#clip920)\" d=\"M 0 0 M16.4842 858.706 L16.4842 849.126 L48.8219 836.999 L16.4842 824.809 L16.4842 815.228 L64.0042 815.228 L64.0042 821.498 L22.277 821.498 L54.8694 833.752 L54.8694 840.214 L22.277 852.468 L64.0042 852.468 L64.0042 858.706 L16.4842 858.706 Z\" fill=\"#000000\" fill-rule=\"evenodd\" fill-opacity=\"1\" /><path clip-path=\"url(#clip920)\" d=\"M 0 0 M22.818 786.583 L46.4666 795.304 L46.4666 777.83 L22.818 786.583 M16.4842 790.211 L16.4842 782.922 L64.0042 764.812 L64.0042 771.496 L51.8138 775.825 L51.8138 797.245 L64.0042 801.574 L64.0042 808.353 L16.4842 790.211 Z\" fill=\"#000000\" fill-rule=\"evenodd\" fill-opacity=\"1\" /><path clip-path=\"url(#clip920)\" d=\"M 0 0 M21.7677 751.444 L39.6235 751.444 L39.6235 743.359 Q39.6235 738.872 37.3 736.421 Q34.9765 733.97 30.6797 733.97 Q26.4147 733.97 24.0912 736.421 Q21.7677 738.872 21.7677 743.359 L21.7677 751.444 M16.4842 757.873 L16.4842 743.359 Q16.4842 735.37 20.1126 731.296 Q23.7092 727.191 30.6797 727.191 Q37.7138 727.191 41.3104 731.296 Q44.907 735.37 44.907 743.359 L44.907 751.444 L64.0042 751.444 L64.0042 757.873 L16.4842 757.873 Z\" fill=\"#000000\" fill-rule=\"evenodd\" fill-opacity=\"1\" /><path clip-path=\"url(#clip920)\" d=\"M 0 0 M16.4842 718.565 L16.4842 688.519 L21.895 688.519 L21.895 712.136 L35.9632 712.136 L35.9632 689.506 L41.3741 689.506 L41.3741 712.136 L58.5933 712.136 L58.5933 687.946 L64.0042 687.946 L64.0042 718.565 L16.4842 718.565 Z\" fill=\"#000000\" fill-rule=\"evenodd\" fill-opacity=\"1\" /><path clip-path=\"url(#clip920)\" d=\"M 0 0 M1289.07 28.9478 L1289.07 35.9153 Q1285.91 34.1734 1282.71 33.3227 Q1279.55 32.4315 1276.31 32.4315 Q1269.05 32.4315 1265.04 37.0496 Q1261.03 41.6271 1261.03 49.9314 Q1261.03 58.2358 1265.04 62.8538 Q1269.05 67.4314 1276.31 67.4314 Q1279.55 67.4314 1282.71 66.5807 Q1285.91 65.6895 1289.07 63.9476 L1289.07 70.8341 Q1285.95 72.2924 1282.58 73.0216 Q1279.26 73.7508 1275.5 73.7508 Q1265.25 73.7508 1259.21 67.3098 Q1253.17 60.8689 1253.17 49.9314 Q1253.17 38.832 1259.25 32.472 Q1265.37 26.1121 1275.98 26.1121 Q1279.42 26.1121 1282.71 26.8413 Q1285.99 27.5299 1289.07 28.9478 Z\" fill=\"#000000\" fill-rule=\"evenodd\" fill-opacity=\"1\" /><path clip-path=\"url(#clip920)\" d=\"M 0 0 M1300.85 9.62495 L1307.34 9.62495 Q1313.41 19.1851 1316.41 28.3401 Q1319.45 37.4952 1319.45 46.5287 Q1319.45 55.6027 1316.41 64.7983 Q1313.41 73.9938 1307.34 83.5134 L1300.85 83.5134 Q1306.24 74.2369 1308.87 65.0818 Q1311.55 55.8863 1311.55 46.5287 Q1311.55 37.1711 1308.87 28.0566 Q1306.24 18.942 1300.85 9.62495 Z\" fill=\"#000000\" fill-rule=\"evenodd\" fill-opacity=\"1\" /><circle clip-path=\"url(#clip922)\" cx=\"280.231\" cy=\"160.256\" r=\"14\" fill=\"#009af9\" fill-rule=\"evenodd\" fill-opacity=\"1\" stroke=\"#000000\" stroke-opacity=\"1\" stroke-width=\"3.2\"/>\n",
       "<circle clip-path=\"url(#clip922)\" cx=\"322.151\" cy=\"410.682\" r=\"14\" fill=\"#009af9\" fill-rule=\"evenodd\" fill-opacity=\"1\" stroke=\"#000000\" stroke-opacity=\"1\" stroke-width=\"3.2\"/>\n",
       "<circle clip-path=\"url(#clip922)\" cx=\"364.071\" cy=\"676.453\" r=\"14\" fill=\"#009af9\" fill-rule=\"evenodd\" fill-opacity=\"1\" stroke=\"#000000\" stroke-opacity=\"1\" stroke-width=\"3.2\"/>\n",
       "<circle clip-path=\"url(#clip922)\" cx=\"405.991\" cy=\"903.212\" r=\"14\" fill=\"#009af9\" fill-rule=\"evenodd\" fill-opacity=\"1\" stroke=\"#000000\" stroke-opacity=\"1\" stroke-width=\"3.2\"/>\n",
       "<circle clip-path=\"url(#clip922)\" cx=\"447.911\" cy=\"1001.1\" r=\"14\" fill=\"#009af9\" fill-rule=\"evenodd\" fill-opacity=\"1\" stroke=\"#000000\" stroke-opacity=\"1\" stroke-width=\"3.2\"/>\n",
       "<circle clip-path=\"url(#clip922)\" cx=\"489.831\" cy=\"1076.82\" r=\"14\" fill=\"#009af9\" fill-rule=\"evenodd\" fill-opacity=\"1\" stroke=\"#000000\" stroke-opacity=\"1\" stroke-width=\"3.2\"/>\n",
       "<circle clip-path=\"url(#clip922)\" cx=\"531.751\" cy=\"1097.06\" r=\"14\" fill=\"#009af9\" fill-rule=\"evenodd\" fill-opacity=\"1\" stroke=\"#000000\" stroke-opacity=\"1\" stroke-width=\"3.2\"/>\n",
       "<circle clip-path=\"url(#clip922)\" cx=\"573.671\" cy=\"1122.85\" r=\"14\" fill=\"#009af9\" fill-rule=\"evenodd\" fill-opacity=\"1\" stroke=\"#000000\" stroke-opacity=\"1\" stroke-width=\"3.2\"/>\n",
       "<circle clip-path=\"url(#clip922)\" cx=\"615.591\" cy=\"1152.57\" r=\"14\" fill=\"#009af9\" fill-rule=\"evenodd\" fill-opacity=\"1\" stroke=\"#000000\" stroke-opacity=\"1\" stroke-width=\"3.2\"/>\n",
       "<circle clip-path=\"url(#clip922)\" cx=\"657.511\" cy=\"1192.81\" r=\"14\" fill=\"#009af9\" fill-rule=\"evenodd\" fill-opacity=\"1\" stroke=\"#000000\" stroke-opacity=\"1\" stroke-width=\"3.2\"/>\n",
       "<circle clip-path=\"url(#clip922)\" cx=\"699.431\" cy=\"1226.89\" r=\"14\" fill=\"#009af9\" fill-rule=\"evenodd\" fill-opacity=\"1\" stroke=\"#000000\" stroke-opacity=\"1\" stroke-width=\"3.2\"/>\n",
       "<circle clip-path=\"url(#clip922)\" cx=\"741.351\" cy=\"1259.24\" r=\"14\" fill=\"#009af9\" fill-rule=\"evenodd\" fill-opacity=\"1\" stroke=\"#000000\" stroke-opacity=\"1\" stroke-width=\"3.2\"/>\n",
       "<circle clip-path=\"url(#clip922)\" cx=\"783.271\" cy=\"1280.32\" r=\"14\" fill=\"#009af9\" fill-rule=\"evenodd\" fill-opacity=\"1\" stroke=\"#000000\" stroke-opacity=\"1\" stroke-width=\"3.2\"/>\n",
       "<circle clip-path=\"url(#clip922)\" cx=\"825.191\" cy=\"1292.58\" r=\"14\" fill=\"#009af9\" fill-rule=\"evenodd\" fill-opacity=\"1\" stroke=\"#000000\" stroke-opacity=\"1\" stroke-width=\"3.2\"/>\n",
       "<circle clip-path=\"url(#clip922)\" cx=\"867.111\" cy=\"1307.52\" r=\"14\" fill=\"#009af9\" fill-rule=\"evenodd\" fill-opacity=\"1\" stroke=\"#000000\" stroke-opacity=\"1\" stroke-width=\"3.2\"/>\n",
       "<circle clip-path=\"url(#clip922)\" cx=\"909.031\" cy=\"1317.77\" r=\"14\" fill=\"#009af9\" fill-rule=\"evenodd\" fill-opacity=\"1\" stroke=\"#000000\" stroke-opacity=\"1\" stroke-width=\"3.2\"/>\n",
       "<circle clip-path=\"url(#clip922)\" cx=\"950.951\" cy=\"1326.79\" r=\"14\" fill=\"#009af9\" fill-rule=\"evenodd\" fill-opacity=\"1\" stroke=\"#000000\" stroke-opacity=\"1\" stroke-width=\"3.2\"/>\n",
       "<circle clip-path=\"url(#clip922)\" cx=\"992.871\" cy=\"1335.47\" r=\"14\" fill=\"#009af9\" fill-rule=\"evenodd\" fill-opacity=\"1\" stroke=\"#000000\" stroke-opacity=\"1\" stroke-width=\"3.2\"/>\n",
       "<circle clip-path=\"url(#clip922)\" cx=\"1034.79\" cy=\"1343.3\" r=\"14\" fill=\"#009af9\" fill-rule=\"evenodd\" fill-opacity=\"1\" stroke=\"#000000\" stroke-opacity=\"1\" stroke-width=\"3.2\"/>\n",
       "<circle clip-path=\"url(#clip922)\" cx=\"1076.71\" cy=\"1353.48\" r=\"14\" fill=\"#009af9\" fill-rule=\"evenodd\" fill-opacity=\"1\" stroke=\"#000000\" stroke-opacity=\"1\" stroke-width=\"3.2\"/>\n",
       "<circle clip-path=\"url(#clip922)\" cx=\"1118.63\" cy=\"1360.68\" r=\"14\" fill=\"#009af9\" fill-rule=\"evenodd\" fill-opacity=\"1\" stroke=\"#000000\" stroke-opacity=\"1\" stroke-width=\"3.2\"/>\n",
       "<circle clip-path=\"url(#clip922)\" cx=\"1160.55\" cy=\"1367.16\" r=\"14\" fill=\"#009af9\" fill-rule=\"evenodd\" fill-opacity=\"1\" stroke=\"#000000\" stroke-opacity=\"1\" stroke-width=\"3.2\"/>\n",
       "<circle clip-path=\"url(#clip922)\" cx=\"1202.47\" cy=\"1370.04\" r=\"14\" fill=\"#009af9\" fill-rule=\"evenodd\" fill-opacity=\"1\" stroke=\"#000000\" stroke-opacity=\"1\" stroke-width=\"3.2\"/>\n",
       "<circle clip-path=\"url(#clip922)\" cx=\"1244.39\" cy=\"1374.48\" r=\"14\" fill=\"#009af9\" fill-rule=\"evenodd\" fill-opacity=\"1\" stroke=\"#000000\" stroke-opacity=\"1\" stroke-width=\"3.2\"/>\n",
       "<circle clip-path=\"url(#clip922)\" cx=\"1286.31\" cy=\"1379.8\" r=\"14\" fill=\"#009af9\" fill-rule=\"evenodd\" fill-opacity=\"1\" stroke=\"#000000\" stroke-opacity=\"1\" stroke-width=\"3.2\"/>\n",
       "<circle clip-path=\"url(#clip922)\" cx=\"1328.23\" cy=\"1384.26\" r=\"14\" fill=\"#009af9\" fill-rule=\"evenodd\" fill-opacity=\"1\" stroke=\"#000000\" stroke-opacity=\"1\" stroke-width=\"3.2\"/>\n",
       "<circle clip-path=\"url(#clip922)\" cx=\"1370.15\" cy=\"1384.7\" r=\"14\" fill=\"#009af9\" fill-rule=\"evenodd\" fill-opacity=\"1\" stroke=\"#000000\" stroke-opacity=\"1\" stroke-width=\"3.2\"/>\n",
       "<circle clip-path=\"url(#clip922)\" cx=\"1412.07\" cy=\"1384.77\" r=\"14\" fill=\"#009af9\" fill-rule=\"evenodd\" fill-opacity=\"1\" stroke=\"#000000\" stroke-opacity=\"1\" stroke-width=\"3.2\"/>\n",
       "<circle clip-path=\"url(#clip922)\" cx=\"1453.99\" cy=\"1386.4\" r=\"14\" fill=\"#009af9\" fill-rule=\"evenodd\" fill-opacity=\"1\" stroke=\"#000000\" stroke-opacity=\"1\" stroke-width=\"3.2\"/>\n",
       "<circle clip-path=\"url(#clip922)\" cx=\"1495.91\" cy=\"1385.13\" r=\"14\" fill=\"#009af9\" fill-rule=\"evenodd\" fill-opacity=\"1\" stroke=\"#000000\" stroke-opacity=\"1\" stroke-width=\"3.2\"/>\n",
       "<circle clip-path=\"url(#clip922)\" cx=\"1537.83\" cy=\"1383.56\" r=\"14\" fill=\"#009af9\" fill-rule=\"evenodd\" fill-opacity=\"1\" stroke=\"#000000\" stroke-opacity=\"1\" stroke-width=\"3.2\"/>\n",
       "<circle clip-path=\"url(#clip922)\" cx=\"1579.75\" cy=\"1381.02\" r=\"14\" fill=\"#009af9\" fill-rule=\"evenodd\" fill-opacity=\"1\" stroke=\"#000000\" stroke-opacity=\"1\" stroke-width=\"3.2\"/>\n",
       "<circle clip-path=\"url(#clip922)\" cx=\"1621.67\" cy=\"1377.76\" r=\"14\" fill=\"#009af9\" fill-rule=\"evenodd\" fill-opacity=\"1\" stroke=\"#000000\" stroke-opacity=\"1\" stroke-width=\"3.2\"/>\n",
       "<circle clip-path=\"url(#clip922)\" cx=\"1663.59\" cy=\"1374.38\" r=\"14\" fill=\"#009af9\" fill-rule=\"evenodd\" fill-opacity=\"1\" stroke=\"#000000\" stroke-opacity=\"1\" stroke-width=\"3.2\"/>\n",
       "<circle clip-path=\"url(#clip922)\" cx=\"1705.51\" cy=\"1371.25\" r=\"14\" fill=\"#009af9\" fill-rule=\"evenodd\" fill-opacity=\"1\" stroke=\"#000000\" stroke-opacity=\"1\" stroke-width=\"3.2\"/>\n",
       "<circle clip-path=\"url(#clip922)\" cx=\"1747.43\" cy=\"1370.12\" r=\"14\" fill=\"#009af9\" fill-rule=\"evenodd\" fill-opacity=\"1\" stroke=\"#000000\" stroke-opacity=\"1\" stroke-width=\"3.2\"/>\n",
       "<circle clip-path=\"url(#clip922)\" cx=\"1789.35\" cy=\"1365.79\" r=\"14\" fill=\"#009af9\" fill-rule=\"evenodd\" fill-opacity=\"1\" stroke=\"#000000\" stroke-opacity=\"1\" stroke-width=\"3.2\"/>\n",
       "<circle clip-path=\"url(#clip922)\" cx=\"1831.27\" cy=\"1360.13\" r=\"14\" fill=\"#009af9\" fill-rule=\"evenodd\" fill-opacity=\"1\" stroke=\"#000000\" stroke-opacity=\"1\" stroke-width=\"3.2\"/>\n",
       "<circle clip-path=\"url(#clip922)\" cx=\"1873.19\" cy=\"1355.1\" r=\"14\" fill=\"#009af9\" fill-rule=\"evenodd\" fill-opacity=\"1\" stroke=\"#000000\" stroke-opacity=\"1\" stroke-width=\"3.2\"/>\n",
       "<circle clip-path=\"url(#clip922)\" cx=\"1915.11\" cy=\"1348.53\" r=\"14\" fill=\"#009af9\" fill-rule=\"evenodd\" fill-opacity=\"1\" stroke=\"#000000\" stroke-opacity=\"1\" stroke-width=\"3.2\"/>\n",
       "<circle clip-path=\"url(#clip922)\" cx=\"1957.03\" cy=\"1345.32\" r=\"14\" fill=\"#009af9\" fill-rule=\"evenodd\" fill-opacity=\"1\" stroke=\"#000000\" stroke-opacity=\"1\" stroke-width=\"3.2\"/>\n",
       "<circle clip-path=\"url(#clip922)\" cx=\"1998.95\" cy=\"1336.24\" r=\"14\" fill=\"#009af9\" fill-rule=\"evenodd\" fill-opacity=\"1\" stroke=\"#000000\" stroke-opacity=\"1\" stroke-width=\"3.2\"/>\n",
       "<circle clip-path=\"url(#clip922)\" cx=\"2040.87\" cy=\"1334.9\" r=\"14\" fill=\"#009af9\" fill-rule=\"evenodd\" fill-opacity=\"1\" stroke=\"#000000\" stroke-opacity=\"1\" stroke-width=\"3.2\"/>\n",
       "<circle clip-path=\"url(#clip922)\" cx=\"2082.79\" cy=\"1318.43\" r=\"14\" fill=\"#009af9\" fill-rule=\"evenodd\" fill-opacity=\"1\" stroke=\"#000000\" stroke-opacity=\"1\" stroke-width=\"3.2\"/>\n",
       "<circle clip-path=\"url(#clip922)\" cx=\"2124.71\" cy=\"1295.64\" r=\"14\" fill=\"#009af9\" fill-rule=\"evenodd\" fill-opacity=\"1\" stroke=\"#000000\" stroke-opacity=\"1\" stroke-width=\"3.2\"/>\n",
       "<circle clip-path=\"url(#clip922)\" cx=\"2166.63\" cy=\"1284.14\" r=\"14\" fill=\"#009af9\" fill-rule=\"evenodd\" fill-opacity=\"1\" stroke=\"#000000\" stroke-opacity=\"1\" stroke-width=\"3.2\"/>\n",
       "<circle clip-path=\"url(#clip922)\" cx=\"2208.55\" cy=\"1265.23\" r=\"14\" fill=\"#009af9\" fill-rule=\"evenodd\" fill-opacity=\"1\" stroke=\"#000000\" stroke-opacity=\"1\" stroke-width=\"3.2\"/>\n",
       "<circle clip-path=\"url(#clip922)\" cx=\"2250.47\" cy=\"1239.85\" r=\"14\" fill=\"#009af9\" fill-rule=\"evenodd\" fill-opacity=\"1\" stroke=\"#000000\" stroke-opacity=\"1\" stroke-width=\"3.2\"/>\n",
       "<circle clip-path=\"url(#clip922)\" cx=\"2292.39\" cy=\"1165.66\" r=\"14\" fill=\"#009af9\" fill-rule=\"evenodd\" fill-opacity=\"1\" stroke=\"#000000\" stroke-opacity=\"1\" stroke-width=\"3.2\"/>\n",
       "</svg>\n"
      ]
     },
     "execution_count": 185,
     "metadata": {},
     "output_type": "execute_result"
    }
   ],
   "source": [
    "rep = report(mach);\n",
    "plt = rep.plotting;\n",
    "scatter(Float64.(plt.parameter_values)[2:end-1], plt.measurements[2:end-1],\n",
    "    label = :none)\n",
    "xlabel!(\"hyperparameter, δ\")\n",
    "ylabel!(\"MAPE\")\n",
    "title!(\"c)\")"
   ]
  },
  {
   "cell_type": "markdown",
   "metadata": {},
   "source": [
    "### 5 Quantile Regression Model with $l_2$-Regularization\n",
    "The last regression model used is the quantile regression model with $l_2$-regularization. The \"best\" coefficient value for this regression model is obtained by minimizing the linear loss added with $l_2$-regularization, given by\n",
    "$$\n",
    "{\\hat{\\beta}}_{ql}=\\arg{\\min\\limits_\\beta{\\frac{1}{N}\\sum_{i=1}^{N}{P_\\delta\\left(f_\\beta\\left(x^{\\left(i\\right)}\\right)-y^{\\left(i\\right)}\\right)}}}+\\lambda\\lVertβ\\rVert_2^2\n",
    "$$\n",
    "where ${\\hat{\\beta}}_{ql}$ is the approximate value of the coefficient $\\beta$ based on quantile regression with $l_2$-regularization. The value of $\\delta$ used is the value obtained in the quantile regression in the previous model. Thus, the hyperparameter that needs to be tuned in this regression model is $\\lambda$, which is the coefficient of $l_2$-regularization.\n"
   ]
  },
  {
   "cell_type": "code",
   "execution_count": 120,
   "metadata": {},
   "outputs": [
    {
     "data": {
      "text/plain": [
       "QuantileRegressor(\n",
       "    delta = 0.56,\n",
       "    lambda = 1.0,\n",
       "    gamma = 0.0,\n",
       "    penalty = :l2,\n",
       "    fit_intercept = true,\n",
       "    penalize_intercept = false,\n",
       "    solver = nothing)\u001b[34m @628\u001b[39m"
      ]
     },
     "execution_count": 120,
     "metadata": {},
     "output_type": "execute_result"
    }
   ],
   "source": [
    "QuantileRegressor = (@load QuantileRegressor verbosity=0)(delta = 0.56, penalty =:l2)"
   ]
  },
  {
   "cell_type": "code",
   "execution_count": 121,
   "metadata": {},
   "outputs": [
    {
     "data": {
      "text/plain": [
       "typename(MLJBase.NumericRange)(Float64, :lambda, ... )"
      ]
     },
     "execution_count": 121,
     "metadata": {},
     "output_type": "execute_result"
    }
   ],
   "source": [
    "r = range(QuantileRegressor, :lambda , lower=0.5, upper=1)"
   ]
  },
  {
   "cell_type": "code",
   "execution_count": 122,
   "metadata": {},
   "outputs": [],
   "source": [
    "tunned_quantile_model = TunedModel(model=QuantileRegressor, \n",
    "    tuning=Grid(resolution = 51,shuffle = false),\n",
    "    resampling=CV(nfolds = 10),\n",
    "    ranges=[r, ], \n",
    "    measure=mape);"
   ]
  },
  {
   "cell_type": "code",
   "execution_count": 123,
   "metadata": {},
   "outputs": [
    {
     "name": "stderr",
     "output_type": "stream",
     "text": [
      "┌ Info: Training \u001b[34mMachine{DeterministicTunedModel{Grid,…},…} @842\u001b[39m.\n",
      "└ @ MLJBase C:\\Users\\LENOVO\\.julia\\packages\\MLJBase\\4yebN\\src\\machines.jl:342\n",
      "┌ Info: Attempting to evaluate 51 models.\n",
      "└ @ MLJTuning C:\\Users\\LENOVO\\.julia\\packages\\MLJTuning\\9sSuR\\src\\tuned_models.jl:564\n",
      "\u001b[33mEvaluating over 51 metamodels: 100%[=========================] Time: 0:00:13\u001b[39m\n"
     ]
    },
    {
     "data": {
      "text/plain": [
       "\u001b[34mMachine{DeterministicTunedModel{Grid,…},…} @842\u001b[39m trained 1 time; caches data\n",
       "  args: \n",
       "    1:\t\u001b[34mSource @111\u001b[39m ⏎ `Table{AbstractVector{Continuous}}`\n",
       "    2:\t\u001b[34mSource @735\u001b[39m ⏎ `AbstractVector{Continuous}`\n"
      ]
     },
     "execution_count": 123,
     "metadata": {},
     "output_type": "execute_result"
    }
   ],
   "source": [
    "mach = machine(tunned_quantile_model, X, y)\n",
    "fit!(mach, rows=train)"
   ]
  },
  {
   "cell_type": "code",
   "execution_count": 124,
   "metadata": {},
   "outputs": [
    {
     "data": {
      "text/plain": [
       "QuantileRegressor(\n",
       "    delta = 0.56,\n",
       "    lambda = 0.57,\n",
       "    gamma = 0.0,\n",
       "    penalty = :l2,\n",
       "    fit_intercept = true,\n",
       "    penalize_intercept = false,\n",
       "    solver = nothing)\u001b[34m @483\u001b[39m"
      ]
     },
     "execution_count": 124,
     "metadata": {},
     "output_type": "execute_result"
    }
   ],
   "source": [
    "fitted_params(mach).best_model"
   ]
  },
  {
   "cell_type": "code",
   "execution_count": 125,
   "metadata": {
    "scrolled": true
   },
   "outputs": [
    {
     "name": "stdout",
     "output_type": "stream",
     "text": [
      "(coefs = [:X1 => 0.03924261666725351,\n",
      "          :X2 => -0.5021557212176755,\n",
      "          :X3 => 0.6165230047228178,\n",
      "          :X4 => -0.9654198619992472,\n",
      "          :X5 => -1.1003986493814037,\n",
      "          :X6 => -2.4811755357729397],\n",
      " intercept = 63.38018059527416)"
     ]
    }
   ],
   "source": [
    "fitted_params(mach).best_fitted_params |> pprint"
   ]
  },
  {
   "cell_type": "code",
   "execution_count": 126,
   "metadata": {},
   "outputs": [],
   "source": [
    "ŷ = predict(mach, rows=test);"
   ]
  },
  {
   "cell_type": "code",
   "execution_count": 127,
   "metadata": {},
   "outputs": [
    {
     "data": {
      "text/plain": [
       "7.386219338931326"
      ]
     },
     "execution_count": 127,
     "metadata": {},
     "output_type": "execute_result"
    }
   ],
   "source": [
    "rms(ŷ,y[test])"
   ]
  },
  {
   "cell_type": "code",
   "execution_count": 128,
   "metadata": {},
   "outputs": [
    {
     "data": {
      "text/plain": [
       "0.07083650516212496"
      ]
     },
     "execution_count": 128,
     "metadata": {},
     "output_type": "execute_result"
    }
   ],
   "source": [
    "mape(ŷ,y[test])"
   ]
  },
  {
   "cell_type": "code",
   "execution_count": 129,
   "metadata": {
    "scrolled": false
   },
   "outputs": [
    {
     "data": {
      "text/plain": [
       "28.203661723698332"
      ]
     },
     "execution_count": 129,
     "metadata": {},
     "output_type": "execute_result"
    }
   ],
   "source": [
    "maximum(abs.(ŷ.-y[test]))"
   ]
  },
  {
   "cell_type": "code",
   "execution_count": 130,
   "metadata": {},
   "outputs": [
    {
     "data": {
      "text/plain": [
       "51×2 Matrix{Float64}:\n",
       " 0.5   0.0736358\n",
       " 0.51  0.0736184\n",
       " 0.52  0.0736101\n",
       " 0.53  0.0735876\n",
       " 0.54  0.0735797\n",
       " 0.55  0.0735747\n",
       " 0.56  0.0735659\n",
       " 0.57  0.0735651\n",
       " 0.58  0.0735662\n",
       " 0.59  0.073569\n",
       " 0.6   0.0735692\n",
       " 0.61  0.0735706\n",
       " 0.62  0.0735692\n",
       " 0.63  0.0735722\n",
       " 0.64  0.0735726\n",
       " 0.65  0.0735792\n",
       " 0.66  0.0735766\n",
       " 0.67  0.0735766\n",
       " 0.68  0.0735909\n",
       " 0.69  0.0735782\n",
       " 0.7   0.0735908\n",
       " 0.71  0.0735933\n",
       " 0.72  0.0735963\n",
       " 0.73  0.0735971\n",
       " 0.74  0.0735835\n",
       " 0.75  0.0736014\n",
       " 0.76  0.0736033\n",
       " 0.77  0.0736096\n",
       " 0.78  0.0736056\n",
       " 0.79  0.0736182\n",
       " 0.8   0.0736262\n",
       " 0.81  0.0736331\n",
       " 0.82  0.0736295\n",
       " 0.83  0.0736331\n",
       " 0.84  0.0736394\n",
       " 0.85  0.0736315\n",
       " 0.86  0.0736346\n",
       " 0.87  0.0736278\n",
       " 0.88  0.0736276\n",
       " 0.89  0.0736348\n",
       " 0.9   0.0736376\n",
       " 0.91  0.0736382\n",
       " 0.92  0.0736422\n",
       " 0.93  0.0736407\n",
       " 0.94  0.0736392\n",
       " 0.95  0.0736443\n",
       " 0.96  0.0736467\n",
       " 0.97  0.0736459\n",
       " 0.98  0.0736438\n",
       " 0.99  0.073639\n",
       " 1.0   0.0736482"
      ]
     },
     "execution_count": 130,
     "metadata": {},
     "output_type": "execute_result"
    }
   ],
   "source": [
    "rep = report(mach);\n",
    "plt = rep.plotting;\n",
    "[Float64.(plt.parameter_values) plt.measurements]"
   ]
  },
  {
   "cell_type": "code",
   "execution_count": 131,
   "metadata": {},
   "outputs": [
    {
     "data": {
      "image/svg+xml": [
       "<?xml version=\"1.0\" encoding=\"utf-8\"?>\n",
       "<svg xmlns=\"http://www.w3.org/2000/svg\" xmlns:xlink=\"http://www.w3.org/1999/xlink\" width=\"600\" height=\"400\" viewBox=\"0 0 2400 1600\">\n",
       "<defs>\n",
       "  <clipPath id=\"clip760\">\n",
       "    <rect x=\"0\" y=\"0\" width=\"2400\" height=\"1600\"/>\n",
       "  </clipPath>\n",
       "</defs>\n",
       "<path clip-path=\"url(#clip760)\" d=\"\n",
       "M0 1600 L2400 1600 L2400 0 L0 0  Z\n",
       "  \" fill=\"#ffffff\" fill-rule=\"evenodd\" fill-opacity=\"1\"/>\n",
       "<defs>\n",
       "  <clipPath id=\"clip761\">\n",
       "    <rect x=\"480\" y=\"0\" width=\"1681\" height=\"1600\"/>\n",
       "  </clipPath>\n",
       "</defs>\n",
       "<path clip-path=\"url(#clip760)\" d=\"\n",
       "M457.991 1423.18 L2352.76 1423.18 L2352.76 123.472 L457.991 123.472  Z\n",
       "  \" fill=\"#ffffff\" fill-rule=\"evenodd\" fill-opacity=\"1\"/>\n",
       "<defs>\n",
       "  <clipPath id=\"clip762\">\n",
       "    <rect x=\"457\" y=\"123\" width=\"1896\" height=\"1301\"/>\n",
       "  </clipPath>\n",
       "</defs>\n",
       "<polyline clip-path=\"url(#clip762)\" style=\"stroke:#000000; stroke-width:2; stroke-opacity:0.1; fill:none\" points=\"\n",
       "  474.377,1423.18 474.377,123.472 \n",
       "  \"/>\n",
       "<polyline clip-path=\"url(#clip762)\" style=\"stroke:#000000; stroke-width:2; stroke-opacity:0.1; fill:none\" points=\"\n",
       "  846.776,1423.18 846.776,123.472 \n",
       "  \"/>\n",
       "<polyline clip-path=\"url(#clip762)\" style=\"stroke:#000000; stroke-width:2; stroke-opacity:0.1; fill:none\" points=\"\n",
       "  1219.17,1423.18 1219.17,123.472 \n",
       "  \"/>\n",
       "<polyline clip-path=\"url(#clip762)\" style=\"stroke:#000000; stroke-width:2; stroke-opacity:0.1; fill:none\" points=\"\n",
       "  1591.57,1423.18 1591.57,123.472 \n",
       "  \"/>\n",
       "<polyline clip-path=\"url(#clip762)\" style=\"stroke:#000000; stroke-width:2; stroke-opacity:0.1; fill:none\" points=\"\n",
       "  1963.97,1423.18 1963.97,123.472 \n",
       "  \"/>\n",
       "<polyline clip-path=\"url(#clip762)\" style=\"stroke:#000000; stroke-width:2; stroke-opacity:0.1; fill:none\" points=\"\n",
       "  2336.37,1423.18 2336.37,123.472 \n",
       "  \"/>\n",
       "<polyline clip-path=\"url(#clip760)\" style=\"stroke:#000000; stroke-width:4; stroke-opacity:1; fill:none\" points=\"\n",
       "  457.991,1423.18 2352.76,1423.18 \n",
       "  \"/>\n",
       "<polyline clip-path=\"url(#clip760)\" style=\"stroke:#000000; stroke-width:4; stroke-opacity:1; fill:none\" points=\"\n",
       "  474.377,1423.18 474.377,1407.58 \n",
       "  \"/>\n",
       "<polyline clip-path=\"url(#clip760)\" style=\"stroke:#000000; stroke-width:4; stroke-opacity:1; fill:none\" points=\"\n",
       "  846.776,1423.18 846.776,1407.58 \n",
       "  \"/>\n",
       "<polyline clip-path=\"url(#clip760)\" style=\"stroke:#000000; stroke-width:4; stroke-opacity:1; fill:none\" points=\"\n",
       "  1219.17,1423.18 1219.17,1407.58 \n",
       "  \"/>\n",
       "<polyline clip-path=\"url(#clip760)\" style=\"stroke:#000000; stroke-width:4; stroke-opacity:1; fill:none\" points=\"\n",
       "  1591.57,1423.18 1591.57,1407.58 \n",
       "  \"/>\n",
       "<polyline clip-path=\"url(#clip760)\" style=\"stroke:#000000; stroke-width:4; stroke-opacity:1; fill:none\" points=\"\n",
       "  1963.97,1423.18 1963.97,1407.58 \n",
       "  \"/>\n",
       "<polyline clip-path=\"url(#clip760)\" style=\"stroke:#000000; stroke-width:4; stroke-opacity:1; fill:none\" points=\"\n",
       "  2336.37,1423.18 2336.37,1407.58 \n",
       "  \"/>\n",
       "<path clip-path=\"url(#clip760)\" d=\"M 0 0 M452.259 1452.37 Q448.648 1452.37 446.819 1455.94 Q445.014 1459.48 445.014 1466.61 Q445.014 1473.71 446.819 1477.28 Q448.648 1480.82 452.259 1480.82 Q455.893 1480.82 457.699 1477.28 Q459.528 1473.71 459.528 1466.61 Q459.528 1459.48 457.699 1455.94 Q455.893 1452.37 452.259 1452.37 M452.259 1448.67 Q458.069 1448.67 461.125 1453.27 Q464.203 1457.86 464.203 1466.61 Q464.203 1475.33 461.125 1479.94 Q458.069 1484.52 452.259 1484.52 Q446.449 1484.52 443.37 1479.94 Q440.315 1475.33 440.315 1466.61 Q440.315 1457.86 443.37 1453.27 Q446.449 1448.67 452.259 1448.67 Z\" fill=\"#000000\" fill-rule=\"evenodd\" fill-opacity=\"1\" /><path clip-path=\"url(#clip760)\" d=\"M 0 0 M472.421 1477.97 L477.305 1477.97 L477.305 1483.85 L472.421 1483.85 L472.421 1477.97 Z\" fill=\"#000000\" fill-rule=\"evenodd\" fill-opacity=\"1\" /><path clip-path=\"url(#clip760)\" d=\"M 0 0 M487.537 1449.29 L505.893 1449.29 L505.893 1453.23 L491.819 1453.23 L491.819 1461.7 Q492.838 1461.35 493.856 1461.19 Q494.875 1461 495.893 1461 Q501.68 1461 505.06 1464.18 Q508.439 1467.35 508.439 1472.76 Q508.439 1478.34 504.967 1481.44 Q501.495 1484.52 495.175 1484.52 Q493 1484.52 490.731 1484.15 Q488.486 1483.78 486.078 1483.04 L486.078 1478.34 Q488.162 1479.48 490.384 1480.03 Q492.606 1480.59 495.083 1480.59 Q499.087 1480.59 501.425 1478.48 Q503.763 1476.38 503.763 1472.76 Q503.763 1469.15 501.425 1467.05 Q499.087 1464.94 495.083 1464.94 Q493.208 1464.94 491.333 1465.36 Q489.481 1465.77 487.537 1466.65 L487.537 1449.29 Z\" fill=\"#000000\" fill-rule=\"evenodd\" fill-opacity=\"1\" /><path clip-path=\"url(#clip760)\" d=\"M 0 0 M824.079 1452.37 Q820.468 1452.37 818.639 1455.94 Q816.834 1459.48 816.834 1466.61 Q816.834 1473.71 818.639 1477.28 Q820.468 1480.82 824.079 1480.82 Q827.713 1480.82 829.519 1477.28 Q831.347 1473.71 831.347 1466.61 Q831.347 1459.48 829.519 1455.94 Q827.713 1452.37 824.079 1452.37 M824.079 1448.67 Q829.889 1448.67 832.945 1453.27 Q836.023 1457.86 836.023 1466.61 Q836.023 1475.33 832.945 1479.94 Q829.889 1484.52 824.079 1484.52 Q818.269 1484.52 815.19 1479.94 Q812.135 1475.33 812.135 1466.61 Q812.135 1457.86 815.19 1453.27 Q818.269 1448.67 824.079 1448.67 Z\" fill=\"#000000\" fill-rule=\"evenodd\" fill-opacity=\"1\" /><path clip-path=\"url(#clip760)\" d=\"M 0 0 M844.241 1477.97 L849.125 1477.97 L849.125 1483.85 L844.241 1483.85 L844.241 1477.97 Z\" fill=\"#000000\" fill-rule=\"evenodd\" fill-opacity=\"1\" /><path clip-path=\"url(#clip760)\" d=\"M 0 0 M869.889 1464.71 Q866.741 1464.71 864.889 1466.86 Q863.06 1469.01 863.06 1472.76 Q863.06 1476.49 864.889 1478.67 Q866.741 1480.82 869.889 1480.82 Q873.037 1480.82 874.866 1478.67 Q876.718 1476.49 876.718 1472.76 Q876.718 1469.01 874.866 1466.86 Q873.037 1464.71 869.889 1464.71 M879.171 1450.06 L879.171 1454.31 Q877.412 1453.48 875.607 1453.04 Q873.824 1452.6 872.065 1452.6 Q867.435 1452.6 864.982 1455.73 Q862.551 1458.85 862.204 1465.17 Q863.57 1463.16 865.63 1462.09 Q867.69 1461 870.167 1461 Q875.375 1461 878.384 1464.18 Q881.417 1467.32 881.417 1472.76 Q881.417 1478.09 878.269 1481.31 Q875.12 1484.52 869.889 1484.52 Q863.894 1484.52 860.722 1479.94 Q857.551 1475.33 857.551 1466.61 Q857.551 1458.41 861.44 1453.55 Q865.329 1448.67 871.88 1448.67 Q873.639 1448.67 875.421 1449.01 Q877.227 1449.36 879.171 1450.06 Z\" fill=\"#000000\" fill-rule=\"evenodd\" fill-opacity=\"1\" /><path clip-path=\"url(#clip760)\" d=\"M 0 0 M1197.01 1452.37 Q1193.4 1452.37 1191.57 1455.94 Q1189.76 1459.48 1189.76 1466.61 Q1189.76 1473.71 1191.57 1477.28 Q1193.4 1480.82 1197.01 1480.82 Q1200.64 1480.82 1202.45 1477.28 Q1204.28 1473.71 1204.28 1466.61 Q1204.28 1459.48 1202.45 1455.94 Q1200.64 1452.37 1197.01 1452.37 M1197.01 1448.67 Q1202.82 1448.67 1205.88 1453.27 Q1208.95 1457.86 1208.95 1466.61 Q1208.95 1475.33 1205.88 1479.94 Q1202.82 1484.52 1197.01 1484.52 Q1191.2 1484.52 1188.12 1479.94 Q1185.07 1475.33 1185.07 1466.61 Q1185.07 1457.86 1188.12 1453.27 Q1191.2 1448.67 1197.01 1448.67 Z\" fill=\"#000000\" fill-rule=\"evenodd\" fill-opacity=\"1\" /><path clip-path=\"url(#clip760)\" d=\"M 0 0 M1217.17 1477.97 L1222.06 1477.97 L1222.06 1483.85 L1217.17 1483.85 L1217.17 1477.97 Z\" fill=\"#000000\" fill-rule=\"evenodd\" fill-opacity=\"1\" /><path clip-path=\"url(#clip760)\" d=\"M 0 0 M1231.06 1449.29 L1253.28 1449.29 L1253.28 1451.28 L1240.74 1483.85 L1235.85 1483.85 L1247.66 1453.23 L1231.06 1453.23 L1231.06 1449.29 Z\" fill=\"#000000\" fill-rule=\"evenodd\" fill-opacity=\"1\" /><path clip-path=\"url(#clip760)\" d=\"M 0 0 M1569 1452.37 Q1565.39 1452.37 1563.56 1455.94 Q1561.76 1459.48 1561.76 1466.61 Q1561.76 1473.71 1563.56 1477.28 Q1565.39 1480.82 1569 1480.82 Q1572.64 1480.82 1574.44 1477.28 Q1576.27 1473.71 1576.27 1466.61 Q1576.27 1459.48 1574.44 1455.94 Q1572.64 1452.37 1569 1452.37 M1569 1448.67 Q1574.81 1448.67 1577.87 1453.27 Q1580.95 1457.86 1580.95 1466.61 Q1580.95 1475.33 1577.87 1479.94 Q1574.81 1484.52 1569 1484.52 Q1563.19 1484.52 1560.11 1479.94 Q1557.06 1475.33 1557.06 1466.61 Q1557.06 1457.86 1560.11 1453.27 Q1563.19 1448.67 1569 1448.67 Z\" fill=\"#000000\" fill-rule=\"evenodd\" fill-opacity=\"1\" /><path clip-path=\"url(#clip760)\" d=\"M 0 0 M1589.17 1477.97 L1594.05 1477.97 L1594.05 1483.85 L1589.17 1483.85 L1589.17 1477.97 Z\" fill=\"#000000\" fill-rule=\"evenodd\" fill-opacity=\"1\" /><path clip-path=\"url(#clip760)\" d=\"M 0 0 M1614.23 1467.44 Q1610.9 1467.44 1608.98 1469.22 Q1607.08 1471 1607.08 1474.13 Q1607.08 1477.25 1608.98 1479.04 Q1610.9 1480.82 1614.23 1480.82 Q1617.57 1480.82 1619.49 1479.04 Q1621.41 1477.23 1621.41 1474.13 Q1621.41 1471 1619.49 1469.22 Q1617.59 1467.44 1614.23 1467.44 M1609.56 1465.45 Q1606.55 1464.71 1604.86 1462.65 Q1603.19 1460.59 1603.19 1457.63 Q1603.19 1453.48 1606.13 1451.07 Q1609.1 1448.67 1614.23 1448.67 Q1619.4 1448.67 1622.34 1451.07 Q1625.28 1453.48 1625.28 1457.63 Q1625.28 1460.59 1623.59 1462.65 Q1621.92 1464.71 1618.93 1465.45 Q1622.31 1466.24 1624.19 1468.53 Q1626.09 1470.82 1626.09 1474.13 Q1626.09 1479.15 1623.01 1481.84 Q1619.95 1484.52 1614.23 1484.52 Q1608.52 1484.52 1605.44 1481.84 Q1602.38 1479.15 1602.38 1474.13 Q1602.38 1470.82 1604.28 1468.53 Q1606.18 1466.24 1609.56 1465.45 M1607.85 1458.06 Q1607.85 1460.75 1609.51 1462.25 Q1611.2 1463.76 1614.23 1463.76 Q1617.24 1463.76 1618.93 1462.25 Q1620.65 1460.75 1620.65 1458.06 Q1620.65 1455.38 1618.93 1453.88 Q1617.24 1452.37 1614.23 1452.37 Q1611.2 1452.37 1609.51 1453.88 Q1607.85 1455.38 1607.85 1458.06 Z\" fill=\"#000000\" fill-rule=\"evenodd\" fill-opacity=\"1\" /><path clip-path=\"url(#clip760)\" d=\"M 0 0 M1941.45 1452.37 Q1937.84 1452.37 1936.01 1455.94 Q1934.2 1459.48 1934.2 1466.61 Q1934.2 1473.71 1936.01 1477.28 Q1937.84 1480.82 1941.45 1480.82 Q1945.08 1480.82 1946.89 1477.28 Q1948.72 1473.71 1948.72 1466.61 Q1948.72 1459.48 1946.89 1455.94 Q1945.08 1452.37 1941.45 1452.37 M1941.45 1448.67 Q1947.26 1448.67 1950.31 1453.27 Q1953.39 1457.86 1953.39 1466.61 Q1953.39 1475.33 1950.31 1479.94 Q1947.26 1484.52 1941.45 1484.52 Q1935.64 1484.52 1932.56 1479.94 Q1929.5 1475.33 1929.5 1466.61 Q1929.5 1457.86 1932.56 1453.27 Q1935.64 1448.67 1941.45 1448.67 Z\" fill=\"#000000\" fill-rule=\"evenodd\" fill-opacity=\"1\" /><path clip-path=\"url(#clip760)\" d=\"M 0 0 M1961.61 1477.97 L1966.49 1477.97 L1966.49 1483.85 L1961.61 1483.85 L1961.61 1477.97 Z\" fill=\"#000000\" fill-rule=\"evenodd\" fill-opacity=\"1\" /><path clip-path=\"url(#clip760)\" d=\"M 0 0 M1976.82 1483.13 L1976.82 1478.88 Q1978.58 1479.71 1980.38 1480.15 Q1982.19 1480.59 1983.93 1480.59 Q1988.55 1480.59 1990.99 1477.49 Q1993.44 1474.36 1993.79 1468.02 Q1992.44 1470.01 1990.38 1471.07 Q1988.32 1472.14 1985.82 1472.14 Q1980.64 1472.14 1977.61 1469.01 Q1974.6 1465.87 1974.6 1460.43 Q1974.6 1455.1 1977.74 1451.88 Q1980.89 1448.67 1986.12 1448.67 Q1992.12 1448.67 1995.27 1453.27 Q1998.44 1457.86 1998.44 1466.61 Q1998.44 1474.78 1994.55 1479.66 Q1990.68 1484.52 1984.13 1484.52 Q1982.37 1484.52 1980.57 1484.18 Q1978.76 1483.83 1976.82 1483.13 M1986.12 1468.48 Q1989.27 1468.48 1991.1 1466.33 Q1992.95 1464.18 1992.95 1460.43 Q1992.95 1456.7 1991.1 1454.55 Q1989.27 1452.37 1986.12 1452.37 Q1982.98 1452.37 1981.12 1454.55 Q1979.3 1456.7 1979.3 1460.43 Q1979.3 1464.18 1981.12 1466.33 Q1982.98 1468.48 1986.12 1468.48 Z\" fill=\"#000000\" fill-rule=\"evenodd\" fill-opacity=\"1\" /><path clip-path=\"url(#clip760)\" d=\"M 0 0 M2303.52 1479.92 L2311.16 1479.92 L2311.16 1453.55 L2302.85 1455.22 L2302.85 1450.96 L2311.12 1449.29 L2315.79 1449.29 L2315.79 1479.92 L2323.43 1479.92 L2323.43 1483.85 L2303.52 1483.85 L2303.52 1479.92 Z\" fill=\"#000000\" fill-rule=\"evenodd\" fill-opacity=\"1\" /><path clip-path=\"url(#clip760)\" d=\"M 0 0 M2332.88 1477.97 L2337.76 1477.97 L2337.76 1483.85 L2332.88 1483.85 L2332.88 1477.97 Z\" fill=\"#000000\" fill-rule=\"evenodd\" fill-opacity=\"1\" /><path clip-path=\"url(#clip760)\" d=\"M 0 0 M2357.94 1452.37 Q2354.33 1452.37 2352.5 1455.94 Q2350.7 1459.48 2350.7 1466.61 Q2350.7 1473.71 2352.5 1477.28 Q2354.33 1480.82 2357.94 1480.82 Q2361.58 1480.82 2363.38 1477.28 Q2365.21 1473.71 2365.21 1466.61 Q2365.21 1459.48 2363.38 1455.94 Q2361.58 1452.37 2357.94 1452.37 M2357.94 1448.67 Q2363.75 1448.67 2366.81 1453.27 Q2369.89 1457.86 2369.89 1466.61 Q2369.89 1475.33 2366.81 1479.94 Q2363.75 1484.52 2357.94 1484.52 Q2352.13 1484.52 2349.06 1479.94 Q2346 1475.33 2346 1466.61 Q2346 1457.86 2349.06 1453.27 Q2352.13 1448.67 2357.94 1448.67 Z\" fill=\"#000000\" fill-rule=\"evenodd\" fill-opacity=\"1\" /><path clip-path=\"url(#clip760)\" d=\"M 0 0 M1133 1546.53 L1133 1568.04 L1127.14 1568.04 L1127.14 1546.72 Q1127.14 1541.66 1125.17 1539.14 Q1123.2 1536.63 1119.25 1536.63 Q1114.51 1536.63 1111.77 1539.65 Q1109.03 1542.68 1109.03 1547.9 L1109.03 1568.04 L1103.15 1568.04 L1103.15 1518.52 L1109.03 1518.52 L1109.03 1537.93 Q1111.13 1534.72 1113.97 1533.13 Q1116.83 1531.54 1120.56 1531.54 Q1126.7 1531.54 1129.85 1535.36 Q1133 1539.14 1133 1546.53 Z\" fill=\"#000000\" fill-rule=\"evenodd\" fill-opacity=\"1\" /><path clip-path=\"url(#clip760)\" d=\"M 0 0 M1159.51 1571.35 Q1157.03 1577.72 1154.68 1579.66 Q1152.32 1581.6 1148.37 1581.6 L1143.7 1581.6 L1143.7 1576.7 L1147.13 1576.7 Q1149.55 1576.7 1150.89 1575.56 Q1152.23 1574.41 1153.85 1570.14 L1154.9 1567.47 L1140.48 1532.4 L1146.69 1532.4 L1157.83 1560.28 L1168.97 1532.4 L1175.17 1532.4 L1159.51 1571.35 Z\" fill=\"#000000\" fill-rule=\"evenodd\" fill-opacity=\"1\" /><path clip-path=\"url(#clip760)\" d=\"M 0 0 M1188.92 1562.7 L1188.92 1581.6 L1183.04 1581.6 L1183.04 1532.4 L1188.92 1532.4 L1188.92 1537.81 Q1190.77 1534.62 1193.57 1533.1 Q1196.4 1531.54 1200.32 1531.54 Q1206.81 1531.54 1210.85 1536.69 Q1214.93 1541.85 1214.93 1550.25 Q1214.93 1558.65 1210.85 1563.81 Q1206.81 1568.97 1200.32 1568.97 Q1196.4 1568.97 1193.57 1567.44 Q1190.77 1565.88 1188.92 1562.7 M1208.85 1550.25 Q1208.85 1543.79 1206.17 1540.13 Q1203.53 1536.44 1198.89 1536.44 Q1194.24 1536.44 1191.57 1540.13 Q1188.92 1543.79 1188.92 1550.25 Q1188.92 1556.71 1191.57 1560.4 Q1194.24 1564.07 1198.89 1564.07 Q1203.53 1564.07 1206.17 1560.4 Q1208.85 1556.71 1208.85 1550.25 Z\" fill=\"#000000\" fill-rule=\"evenodd\" fill-opacity=\"1\" /><path clip-path=\"url(#clip760)\" d=\"M 0 0 M1255.13 1548.76 L1255.13 1551.62 L1228.2 1551.62 Q1228.58 1557.67 1231.83 1560.85 Q1235.11 1564 1240.93 1564 Q1244.31 1564 1247.46 1563.17 Q1250.64 1562.35 1253.76 1560.69 L1253.76 1566.23 Q1250.61 1567.57 1247.3 1568.27 Q1243.99 1568.97 1240.58 1568.97 Q1232.05 1568.97 1227.05 1564 Q1222.09 1559.04 1222.09 1550.57 Q1222.09 1541.82 1226.8 1536.69 Q1231.54 1531.54 1239.56 1531.54 Q1246.76 1531.54 1250.93 1536.18 Q1255.13 1540.8 1255.13 1548.76 M1249.27 1547.04 Q1249.21 1542.23 1246.57 1539.37 Q1243.96 1536.5 1239.63 1536.5 Q1234.72 1536.5 1231.76 1539.27 Q1228.84 1542.04 1228.39 1547.07 L1249.27 1547.04 Z\" fill=\"#000000\" fill-rule=\"evenodd\" fill-opacity=\"1\" /><path clip-path=\"url(#clip760)\" d=\"M 0 0 M1285.4 1537.87 Q1284.41 1537.3 1283.23 1537.04 Q1282.09 1536.76 1280.69 1536.76 Q1275.72 1536.76 1273.05 1540 Q1270.4 1543.22 1270.4 1549.27 L1270.4 1568.04 L1264.52 1568.04 L1264.52 1532.4 L1270.4 1532.4 L1270.4 1537.93 Q1272.25 1534.69 1275.21 1533.13 Q1278.17 1531.54 1282.4 1531.54 Q1283.01 1531.54 1283.74 1531.63 Q1284.47 1531.7 1285.36 1531.85 L1285.4 1537.87 Z\" fill=\"#000000\" fill-rule=\"evenodd\" fill-opacity=\"1\" /><path clip-path=\"url(#clip760)\" d=\"M 0 0 M1297.2 1562.7 L1297.2 1581.6 L1291.32 1581.6 L1291.32 1532.4 L1297.2 1532.4 L1297.2 1537.81 Q1299.05 1534.62 1301.85 1533.1 Q1304.68 1531.54 1308.6 1531.54 Q1315.09 1531.54 1319.13 1536.69 Q1323.21 1541.85 1323.21 1550.25 Q1323.21 1558.65 1319.13 1563.81 Q1315.09 1568.97 1308.6 1568.97 Q1304.68 1568.97 1301.85 1567.44 Q1299.05 1565.88 1297.2 1562.7 M1317.13 1550.25 Q1317.13 1543.79 1314.46 1540.13 Q1311.81 1536.44 1307.17 1536.44 Q1302.52 1536.44 1299.85 1540.13 Q1297.2 1543.79 1297.2 1550.25 Q1297.2 1556.71 1299.85 1560.4 Q1302.52 1564.07 1307.17 1564.07 Q1311.81 1564.07 1314.46 1560.4 Q1317.13 1556.71 1317.13 1550.25 Z\" fill=\"#000000\" fill-rule=\"evenodd\" fill-opacity=\"1\" /><path clip-path=\"url(#clip760)\" d=\"M 0 0 M1349.12 1550.12 Q1342.02 1550.12 1339.28 1551.75 Q1336.54 1553.37 1336.54 1557.29 Q1336.54 1560.4 1338.58 1562.25 Q1340.65 1564.07 1344.18 1564.07 Q1349.05 1564.07 1351.98 1560.63 Q1354.94 1557.16 1354.94 1551.43 L1354.94 1550.12 L1349.12 1550.12 M1360.8 1547.71 L1360.8 1568.04 L1354.94 1568.04 L1354.94 1562.63 Q1352.94 1565.88 1349.94 1567.44 Q1346.95 1568.97 1342.62 1568.97 Q1337.15 1568.97 1333.9 1565.91 Q1330.69 1562.82 1330.69 1557.67 Q1330.69 1551.65 1334.7 1548.6 Q1338.74 1545.54 1346.73 1545.54 L1354.94 1545.54 L1354.94 1544.97 Q1354.94 1540.93 1352.27 1538.73 Q1349.63 1536.5 1344.82 1536.5 Q1341.76 1536.5 1338.87 1537.23 Q1335.97 1537.97 1333.3 1539.43 L1333.3 1534.02 Q1336.51 1532.78 1339.54 1532.17 Q1342.56 1531.54 1345.42 1531.54 Q1353.16 1531.54 1356.98 1535.55 Q1360.8 1539.56 1360.8 1547.71 Z\" fill=\"#000000\" fill-rule=\"evenodd\" fill-opacity=\"1\" /><path clip-path=\"url(#clip760)\" d=\"M 0 0 M1393.52 1537.87 Q1392.53 1537.3 1391.35 1537.04 Q1390.21 1536.76 1388.81 1536.76 Q1383.84 1536.76 1381.17 1540 Q1378.53 1543.22 1378.53 1549.27 L1378.53 1568.04 L1372.64 1568.04 L1372.64 1532.4 L1378.53 1532.4 L1378.53 1537.93 Q1380.37 1534.69 1383.33 1533.13 Q1386.29 1531.54 1390.53 1531.54 Q1391.13 1531.54 1391.86 1531.63 Q1392.59 1531.7 1393.49 1531.85 L1393.52 1537.87 Z\" fill=\"#000000\" fill-rule=\"evenodd\" fill-opacity=\"1\" /><path clip-path=\"url(#clip760)\" d=\"M 0 0 M1415.86 1550.12 Q1408.76 1550.12 1406.03 1551.75 Q1403.29 1553.37 1403.29 1557.29 Q1403.29 1560.4 1405.33 1562.25 Q1407.39 1564.07 1410.93 1564.07 Q1415.8 1564.07 1418.73 1560.63 Q1421.69 1557.16 1421.69 1551.43 L1421.69 1550.12 L1415.86 1550.12 M1427.54 1547.71 L1427.54 1568.04 L1421.69 1568.04 L1421.69 1562.63 Q1419.68 1565.88 1416.69 1567.44 Q1413.7 1568.97 1409.37 1568.97 Q1403.89 1568.97 1400.65 1565.91 Q1397.43 1562.82 1397.43 1557.67 Q1397.43 1551.65 1401.44 1548.6 Q1405.49 1545.54 1413.47 1545.54 L1421.69 1545.54 L1421.69 1544.97 Q1421.69 1540.93 1419.01 1538.73 Q1416.37 1536.5 1411.56 1536.5 Q1408.51 1536.5 1405.61 1537.23 Q1402.72 1537.97 1400.04 1539.43 L1400.04 1534.02 Q1403.26 1532.78 1406.28 1532.17 Q1409.3 1531.54 1412.17 1531.54 Q1419.9 1531.54 1423.72 1535.55 Q1427.54 1539.56 1427.54 1547.71 Z\" fill=\"#000000\" fill-rule=\"evenodd\" fill-opacity=\"1\" /><path clip-path=\"url(#clip760)\" d=\"M 0 0 M1467.36 1539.24 Q1469.56 1535.29 1472.61 1533.41 Q1475.67 1531.54 1479.8 1531.54 Q1485.37 1531.54 1488.4 1535.45 Q1491.42 1539.33 1491.42 1546.53 L1491.42 1568.04 L1485.53 1568.04 L1485.53 1546.72 Q1485.53 1541.59 1483.72 1539.11 Q1481.91 1536.63 1478.18 1536.63 Q1473.63 1536.63 1470.99 1539.65 Q1468.35 1542.68 1468.35 1547.9 L1468.35 1568.04 L1462.46 1568.04 L1462.46 1546.72 Q1462.46 1541.56 1460.64 1539.11 Q1458.83 1536.63 1455.04 1536.63 Q1450.55 1536.63 1447.91 1539.68 Q1445.27 1542.71 1445.27 1547.9 L1445.27 1568.04 L1439.38 1568.04 L1439.38 1532.4 L1445.27 1532.4 L1445.27 1537.93 Q1447.28 1534.66 1450.08 1533.1 Q1452.88 1531.54 1456.73 1531.54 Q1460.61 1531.54 1463.32 1533.51 Q1466.05 1535.48 1467.36 1539.24 Z\" fill=\"#000000\" fill-rule=\"evenodd\" fill-opacity=\"1\" /><path clip-path=\"url(#clip760)\" d=\"M 0 0 M1533.59 1548.76 L1533.59 1551.62 L1506.67 1551.62 Q1507.05 1557.67 1510.3 1560.85 Q1513.57 1564 1519.4 1564 Q1522.77 1564 1525.92 1563.17 Q1529.11 1562.35 1532.23 1560.69 L1532.23 1566.23 Q1529.08 1567.57 1525.77 1568.27 Q1522.45 1568.97 1519.05 1568.97 Q1510.52 1568.97 1505.52 1564 Q1500.56 1559.04 1500.56 1550.57 Q1500.56 1541.82 1505.27 1536.69 Q1510.01 1531.54 1518.03 1531.54 Q1525.22 1531.54 1529.39 1536.18 Q1533.59 1540.8 1533.59 1548.76 M1527.74 1547.04 Q1527.67 1542.23 1525.03 1539.37 Q1522.42 1536.5 1518.09 1536.5 Q1513.19 1536.5 1510.23 1539.27 Q1507.3 1542.04 1506.86 1547.07 L1527.74 1547.04 Z\" fill=\"#000000\" fill-rule=\"evenodd\" fill-opacity=\"1\" /><path clip-path=\"url(#clip760)\" d=\"M 0 0 M1549 1522.27 L1549 1532.4 L1561.06 1532.4 L1561.06 1536.95 L1549 1536.95 L1549 1556.3 Q1549 1560.66 1550.18 1561.9 Q1551.39 1563.14 1555.05 1563.14 L1561.06 1563.14 L1561.06 1568.04 L1555.05 1568.04 Q1548.27 1568.04 1545.69 1565.53 Q1543.11 1562.98 1543.11 1556.3 L1543.11 1536.95 L1538.81 1536.95 L1538.81 1532.4 L1543.11 1532.4 L1543.11 1522.27 L1549 1522.27 Z\" fill=\"#000000\" fill-rule=\"evenodd\" fill-opacity=\"1\" /><path clip-path=\"url(#clip760)\" d=\"M 0 0 M1599.26 1548.76 L1599.26 1551.62 L1572.33 1551.62 Q1572.71 1557.67 1575.96 1560.85 Q1579.24 1564 1585.06 1564 Q1588.44 1564 1591.59 1563.17 Q1594.77 1562.35 1597.89 1560.69 L1597.89 1566.23 Q1594.74 1567.57 1591.43 1568.27 Q1588.12 1568.97 1584.71 1568.97 Q1576.18 1568.97 1571.18 1564 Q1566.22 1559.04 1566.22 1550.57 Q1566.22 1541.82 1570.93 1536.69 Q1575.67 1531.54 1583.69 1531.54 Q1590.89 1531.54 1595.06 1536.18 Q1599.26 1540.8 1599.26 1548.76 M1593.4 1547.04 Q1593.34 1542.23 1590.7 1539.37 Q1588.09 1536.5 1583.76 1536.5 Q1578.86 1536.5 1575.9 1539.27 Q1572.97 1542.04 1572.52 1547.07 L1593.4 1547.04 Z\" fill=\"#000000\" fill-rule=\"evenodd\" fill-opacity=\"1\" /><path clip-path=\"url(#clip760)\" d=\"M 0 0 M1629.53 1537.87 Q1628.54 1537.3 1627.36 1537.04 Q1626.22 1536.76 1624.82 1536.76 Q1619.85 1536.76 1617.18 1540 Q1614.53 1543.22 1614.53 1549.27 L1614.53 1568.04 L1608.65 1568.04 L1608.65 1532.4 L1614.53 1532.4 L1614.53 1537.93 Q1616.38 1534.69 1619.34 1533.13 Q1622.3 1531.54 1626.53 1531.54 Q1627.14 1531.54 1627.87 1531.63 Q1628.6 1531.7 1629.49 1531.85 L1629.53 1537.87 Z\" fill=\"#000000\" fill-rule=\"evenodd\" fill-opacity=\"1\" /><path clip-path=\"url(#clip760)\" d=\"M 0 0 M1637.16 1559.96 L1643.88 1559.96 L1643.88 1565.43 L1638.66 1575.62 L1634.56 1575.62 L1637.16 1565.43 L1637.16 1559.96 Z\" fill=\"#000000\" fill-rule=\"evenodd\" fill-opacity=\"1\" /><path clip-path=\"url(#clip760)\" d=\"M 0 0 M1691.15 1524.09 L1707.6 1568.04 L1701.39 1568.04 L1691.4 1541.69 L1679.11 1568.04 L1672.91 1568.04 L1688.54 1533.86 L1686.18 1527.56 Q1684.68 1523.55 1681.28 1523.55 L1678.22 1523.55 L1678.22 1518.52 L1681.95 1518.58 Q1689.14 1518.68 1691.15 1524.09 Z\" fill=\"#000000\" fill-rule=\"evenodd\" fill-opacity=\"1\" /><polyline clip-path=\"url(#clip762)\" style=\"stroke:#000000; stroke-width:2; stroke-opacity:0.1; fill:none\" points=\"\n",
       "  457.991,1162.08 2352.76,1162.08 \n",
       "  \"/>\n",
       "<polyline clip-path=\"url(#clip762)\" style=\"stroke:#000000; stroke-width:2; stroke-opacity:0.1; fill:none\" points=\"\n",
       "  457.991,861.559 2352.76,861.559 \n",
       "  \"/>\n",
       "<polyline clip-path=\"url(#clip762)\" style=\"stroke:#000000; stroke-width:2; stroke-opacity:0.1; fill:none\" points=\"\n",
       "  457.991,561.039 2352.76,561.039 \n",
       "  \"/>\n",
       "<polyline clip-path=\"url(#clip762)\" style=\"stroke:#000000; stroke-width:2; stroke-opacity:0.1; fill:none\" points=\"\n",
       "  457.991,260.518 2352.76,260.518 \n",
       "  \"/>\n",
       "<polyline clip-path=\"url(#clip760)\" style=\"stroke:#000000; stroke-width:4; stroke-opacity:1; fill:none\" points=\"\n",
       "  457.991,1423.18 457.991,123.472 \n",
       "  \"/>\n",
       "<polyline clip-path=\"url(#clip760)\" style=\"stroke:#000000; stroke-width:4; stroke-opacity:1; fill:none\" points=\"\n",
       "  457.991,1162.08 480.729,1162.08 \n",
       "  \"/>\n",
       "<polyline clip-path=\"url(#clip760)\" style=\"stroke:#000000; stroke-width:4; stroke-opacity:1; fill:none\" points=\"\n",
       "  457.991,861.559 480.729,861.559 \n",
       "  \"/>\n",
       "<polyline clip-path=\"url(#clip760)\" style=\"stroke:#000000; stroke-width:4; stroke-opacity:1; fill:none\" points=\"\n",
       "  457.991,561.039 480.729,561.039 \n",
       "  \"/>\n",
       "<polyline clip-path=\"url(#clip760)\" style=\"stroke:#000000; stroke-width:4; stroke-opacity:1; fill:none\" points=\"\n",
       "  457.991,260.518 480.729,260.518 \n",
       "  \"/>\n",
       "<path clip-path=\"url(#clip760)\" d=\"M 0 0 M114.26 1151.25 L136.482 1151.25 L136.482 1153.24 L123.936 1185.81 L119.052 1185.81 L130.857 1155.18 L114.26 1155.18 L114.26 1151.25 Z\" fill=\"#000000\" fill-rule=\"evenodd\" fill-opacity=\"1\" /><path clip-path=\"url(#clip760)\" d=\"M 0 0 M145.603 1179.93 L150.487 1179.93 L150.487 1185.81 L145.603 1185.81 L145.603 1179.93 Z\" fill=\"#000000\" fill-rule=\"evenodd\" fill-opacity=\"1\" /><path clip-path=\"url(#clip760)\" d=\"M 0 0 M174.839 1167.17 Q178.195 1167.89 180.07 1170.16 Q181.968 1172.43 181.968 1175.76 Q181.968 1180.88 178.45 1183.68 Q174.931 1186.48 168.45 1186.48 Q166.274 1186.48 163.959 1186.04 Q161.667 1185.62 159.214 1184.77 L159.214 1180.25 Q161.158 1181.39 163.473 1181.96 Q165.788 1182.54 168.311 1182.54 Q172.709 1182.54 175.001 1180.81 Q177.315 1179.07 177.315 1175.76 Q177.315 1172.71 175.163 1170.99 Q173.033 1169.26 169.214 1169.26 L165.186 1169.26 L165.186 1165.41 L169.399 1165.41 Q172.848 1165.41 174.677 1164.05 Q176.505 1162.66 176.505 1160.07 Q176.505 1157.4 174.607 1155.99 Q172.732 1154.56 169.214 1154.56 Q167.292 1154.56 165.093 1154.97 Q162.894 1155.39 160.255 1156.27 L160.255 1152.1 Q162.917 1151.36 165.232 1150.99 Q167.57 1150.62 169.63 1150.62 Q174.954 1150.62 178.056 1153.05 Q181.158 1155.46 181.158 1159.58 Q181.158 1162.45 179.514 1164.44 Q177.871 1166.41 174.839 1167.17 Z\" fill=\"#000000\" fill-rule=\"evenodd\" fill-opacity=\"1\" /><path clip-path=\"url(#clip760)\" d=\"M 0 0 M190.88 1151.25 L209.237 1151.25 L209.237 1155.18 L195.163 1155.18 L195.163 1163.65 Q196.181 1163.31 197.2 1163.15 Q198.218 1162.96 199.237 1162.96 Q205.024 1162.96 208.403 1166.13 Q211.783 1169.3 211.783 1174.72 Q211.783 1180.3 208.311 1183.4 Q204.838 1186.48 198.519 1186.48 Q196.343 1186.48 194.075 1186.11 Q191.829 1185.74 189.422 1185 L189.422 1180.3 Q191.505 1181.43 193.727 1181.99 Q195.95 1182.54 198.426 1182.54 Q202.431 1182.54 204.769 1180.44 Q207.107 1178.33 207.107 1174.72 Q207.107 1171.11 204.769 1169 Q202.431 1166.9 198.426 1166.9 Q196.551 1166.9 194.676 1167.31 Q192.825 1167.73 190.88 1168.61 L190.88 1151.25 Z\" fill=\"#000000\" fill-rule=\"evenodd\" fill-opacity=\"1\" /><path clip-path=\"url(#clip760)\" d=\"M 0 0 M230.996 1169.4 Q227.662 1169.4 225.741 1171.18 Q223.843 1172.96 223.843 1176.09 Q223.843 1179.21 225.741 1180.99 Q227.662 1182.77 230.996 1182.77 Q234.329 1182.77 236.25 1180.99 Q238.172 1179.19 238.172 1176.09 Q238.172 1172.96 236.25 1171.18 Q234.352 1169.4 230.996 1169.4 M226.32 1167.4 Q223.31 1166.66 221.621 1164.6 Q219.954 1162.54 219.954 1159.58 Q219.954 1155.44 222.894 1153.03 Q225.857 1150.62 230.996 1150.62 Q236.158 1150.62 239.097 1153.03 Q242.037 1155.44 242.037 1159.58 Q242.037 1162.54 240.347 1164.6 Q238.681 1166.66 235.695 1167.4 Q239.074 1168.19 240.949 1170.48 Q242.847 1172.77 242.847 1176.09 Q242.847 1181.11 239.769 1183.79 Q236.713 1186.48 230.996 1186.48 Q225.278 1186.48 222.199 1183.79 Q219.144 1181.11 219.144 1176.09 Q219.144 1172.77 221.042 1170.48 Q222.94 1168.19 226.32 1167.4 M224.607 1160.02 Q224.607 1162.71 226.273 1164.21 Q227.963 1165.71 230.996 1165.71 Q234.005 1165.71 235.695 1164.21 Q237.408 1162.71 237.408 1160.02 Q237.408 1157.34 235.695 1155.83 Q234.005 1154.33 230.996 1154.33 Q227.963 1154.33 226.273 1155.83 Q224.607 1157.34 224.607 1160.02 Z\" fill=\"#000000\" fill-rule=\"evenodd\" fill-opacity=\"1\" /><path clip-path=\"url(#clip760)\" d=\"M 0 0 M261.158 1154.33 Q257.546 1154.33 255.718 1157.89 Q253.912 1161.43 253.912 1168.56 Q253.912 1175.67 255.718 1179.23 Q257.546 1182.77 261.158 1182.77 Q264.792 1182.77 266.597 1179.23 Q268.426 1175.67 268.426 1168.56 Q268.426 1161.43 266.597 1157.89 Q264.792 1154.33 261.158 1154.33 M261.158 1150.62 Q266.968 1150.62 270.023 1155.23 Q273.102 1159.81 273.102 1168.56 Q273.102 1177.29 270.023 1181.9 Q266.968 1186.48 261.158 1186.48 Q255.347 1186.48 252.269 1181.9 Q249.213 1177.29 249.213 1168.56 Q249.213 1159.81 252.269 1155.23 Q255.347 1150.62 261.158 1150.62 Z\" fill=\"#000000\" fill-rule=\"evenodd\" fill-opacity=\"1\" /><path clip-path=\"url(#clip760)\" d=\"M 0 0 M309.491 1160.34 L298.912 1170.97 L309.491 1181.55 L306.736 1184.35 L296.111 1173.72 L285.486 1184.35 L282.755 1181.55 L293.31 1170.97 L282.755 1160.34 L285.486 1157.54 L296.111 1168.17 L306.736 1157.54 L309.491 1160.34 Z\" fill=\"#000000\" fill-rule=\"evenodd\" fill-opacity=\"1\" /><path clip-path=\"url(#clip760)\" d=\"M 0 0 M321.852 1181.87 L329.49 1181.87 L329.49 1155.51 L321.18 1157.17 L321.18 1152.91 L329.444 1151.25 L334.12 1151.25 L334.12 1181.87 L341.759 1181.87 L341.759 1185.81 L321.852 1185.81 L321.852 1181.87 Z\" fill=\"#000000\" fill-rule=\"evenodd\" fill-opacity=\"1\" /><path clip-path=\"url(#clip760)\" d=\"M 0 0 M361.203 1154.33 Q357.592 1154.33 355.763 1157.89 Q353.958 1161.43 353.958 1168.56 Q353.958 1175.67 355.763 1179.23 Q357.592 1182.77 361.203 1182.77 Q364.838 1182.77 366.643 1179.23 Q368.472 1175.67 368.472 1168.56 Q368.472 1161.43 366.643 1157.89 Q364.838 1154.33 361.203 1154.33 M361.203 1150.62 Q367.013 1150.62 370.069 1155.23 Q373.148 1159.81 373.148 1168.56 Q373.148 1177.29 370.069 1181.9 Q367.013 1186.48 361.203 1186.48 Q355.393 1186.48 352.314 1181.9 Q349.259 1177.29 349.259 1168.56 Q349.259 1159.81 352.314 1155.23 Q355.393 1150.62 361.203 1150.62 Z\" fill=\"#000000\" fill-rule=\"evenodd\" fill-opacity=\"1\" /><path clip-path=\"url(#clip760)\" d=\"M 0 0 M373.148 1144.72 L397.259 1144.72 L397.259 1147.92 L373.148 1147.92 L373.148 1144.72 Z\" fill=\"#000000\" fill-rule=\"evenodd\" fill-opacity=\"1\" /><path clip-path=\"url(#clip760)\" d=\"M 0 0 M408.732 1155.2 L421.991 1155.2 L421.991 1158.4 L404.162 1158.4 L404.162 1155.2 Q406.325 1152.96 410.049 1149.2 Q413.791 1145.42 414.75 1144.33 Q416.575 1142.28 417.289 1140.87 Q418.023 1139.44 418.023 1138.07 Q418.023 1135.83 416.443 1134.42 Q414.882 1133.01 412.362 1133.01 Q410.575 1133.01 408.581 1133.63 Q406.607 1134.25 404.35 1135.51 L404.35 1131.67 Q406.644 1130.75 408.638 1130.28 Q410.632 1129.81 412.287 1129.81 Q416.65 1129.81 419.246 1131.99 Q421.841 1134.17 421.841 1137.82 Q421.841 1139.55 421.183 1141.11 Q420.543 1142.65 418.832 1144.76 Q418.362 1145.31 415.841 1147.92 Q413.321 1150.52 408.732 1155.2 Z\" fill=\"#000000\" fill-rule=\"evenodd\" fill-opacity=\"1\" /><path clip-path=\"url(#clip760)\" d=\"M 0 0 M114.26 850.727 L136.482 850.727 L136.482 852.718 L123.936 885.287 L119.052 885.287 L130.857 854.662 L114.26 854.662 L114.26 850.727 Z\" fill=\"#000000\" fill-rule=\"evenodd\" fill-opacity=\"1\" /><path clip-path=\"url(#clip760)\" d=\"M 0 0 M145.603 879.407 L150.487 879.407 L150.487 885.287 L145.603 885.287 L145.603 879.407 Z\" fill=\"#000000\" fill-rule=\"evenodd\" fill-opacity=\"1\" /><path clip-path=\"url(#clip760)\" d=\"M 0 0 M174.839 866.653 Q178.195 867.37 180.07 869.639 Q181.968 871.907 181.968 875.241 Q181.968 880.356 178.45 883.157 Q174.931 885.958 168.45 885.958 Q166.274 885.958 163.959 885.518 Q161.667 885.102 159.214 884.245 L159.214 879.731 Q161.158 880.866 163.473 881.444 Q165.788 882.023 168.311 882.023 Q172.709 882.023 175.001 880.287 Q177.315 878.551 177.315 875.241 Q177.315 872.185 175.163 870.472 Q173.033 868.736 169.214 868.736 L165.186 868.736 L165.186 864.893 L169.399 864.893 Q172.848 864.893 174.677 863.528 Q176.505 862.139 176.505 859.546 Q176.505 856.884 174.607 855.472 Q172.732 854.037 169.214 854.037 Q167.292 854.037 165.093 854.454 Q162.894 854.87 160.255 855.75 L160.255 851.583 Q162.917 850.843 165.232 850.472 Q167.57 850.102 169.63 850.102 Q174.954 850.102 178.056 852.532 Q181.158 854.94 181.158 859.06 Q181.158 861.93 179.514 863.921 Q177.871 865.889 174.839 866.653 Z\" fill=\"#000000\" fill-rule=\"evenodd\" fill-opacity=\"1\" /><path clip-path=\"url(#clip760)\" d=\"M 0 0 M201.412 866.143 Q198.264 866.143 196.412 868.296 Q194.584 870.449 194.584 874.199 Q194.584 877.926 196.412 880.102 Q198.264 882.254 201.412 882.254 Q204.561 882.254 206.389 880.102 Q208.241 877.926 208.241 874.199 Q208.241 870.449 206.389 868.296 Q204.561 866.143 201.412 866.143 M210.695 851.491 L210.695 855.75 Q208.936 854.917 207.13 854.477 Q205.348 854.037 203.588 854.037 Q198.959 854.037 196.505 857.162 Q194.075 860.287 193.727 866.606 Q195.093 864.592 197.153 863.528 Q199.213 862.44 201.69 862.44 Q206.899 862.44 209.908 865.611 Q212.94 868.759 212.94 874.199 Q212.94 879.523 209.792 882.741 Q206.644 885.958 201.412 885.958 Q195.417 885.958 192.246 881.375 Q189.075 876.768 189.075 868.042 Q189.075 859.847 192.963 854.986 Q196.852 850.102 203.403 850.102 Q205.162 850.102 206.945 850.449 Q208.75 850.796 210.695 851.491 Z\" fill=\"#000000\" fill-rule=\"evenodd\" fill-opacity=\"1\" /><path clip-path=\"url(#clip760)\" d=\"M 0 0 M230.996 853.806 Q227.385 853.806 225.556 857.37 Q223.75 860.912 223.75 868.042 Q223.75 875.148 225.556 878.713 Q227.385 882.254 230.996 882.254 Q234.63 882.254 236.435 878.713 Q238.264 875.148 238.264 868.042 Q238.264 860.912 236.435 857.37 Q234.63 853.806 230.996 853.806 M230.996 850.102 Q236.806 850.102 239.861 854.708 Q242.94 859.292 242.94 868.042 Q242.94 876.768 239.861 881.375 Q236.806 885.958 230.996 885.958 Q225.185 885.958 222.107 881.375 Q219.051 876.768 219.051 868.042 Q219.051 859.292 222.107 854.708 Q225.185 850.102 230.996 850.102 Z\" fill=\"#000000\" fill-rule=\"evenodd\" fill-opacity=\"1\" /><path clip-path=\"url(#clip760)\" d=\"M 0 0 M261.158 853.806 Q257.546 853.806 255.718 857.37 Q253.912 860.912 253.912 868.042 Q253.912 875.148 255.718 878.713 Q257.546 882.254 261.158 882.254 Q264.792 882.254 266.597 878.713 Q268.426 875.148 268.426 868.042 Q268.426 860.912 266.597 857.37 Q264.792 853.806 261.158 853.806 M261.158 850.102 Q266.968 850.102 270.023 854.708 Q273.102 859.292 273.102 868.042 Q273.102 876.768 270.023 881.375 Q266.968 885.958 261.158 885.958 Q255.347 885.958 252.269 881.375 Q249.213 876.768 249.213 868.042 Q249.213 859.292 252.269 854.708 Q255.347 850.102 261.158 850.102 Z\" fill=\"#000000\" fill-rule=\"evenodd\" fill-opacity=\"1\" /><path clip-path=\"url(#clip760)\" d=\"M 0 0 M309.491 859.824 L298.912 870.449 L309.491 881.028 L306.736 883.828 L296.111 873.204 L285.486 883.828 L282.755 881.028 L293.31 870.449 L282.755 859.824 L285.486 857.023 L296.111 867.648 L306.736 857.023 L309.491 859.824 Z\" fill=\"#000000\" fill-rule=\"evenodd\" fill-opacity=\"1\" /><path clip-path=\"url(#clip760)\" d=\"M 0 0 M321.852 881.352 L329.49 881.352 L329.49 854.986 L321.18 856.653 L321.18 852.393 L329.444 850.727 L334.12 850.727 L334.12 881.352 L341.759 881.352 L341.759 885.287 L321.852 885.287 L321.852 881.352 Z\" fill=\"#000000\" fill-rule=\"evenodd\" fill-opacity=\"1\" /><path clip-path=\"url(#clip760)\" d=\"M 0 0 M361.203 853.806 Q357.592 853.806 355.763 857.37 Q353.958 860.912 353.958 868.042 Q353.958 875.148 355.763 878.713 Q357.592 882.254 361.203 882.254 Q364.838 882.254 366.643 878.713 Q368.472 875.148 368.472 868.042 Q368.472 860.912 366.643 857.37 Q364.838 853.806 361.203 853.806 M361.203 850.102 Q367.013 850.102 370.069 854.708 Q373.148 859.292 373.148 868.042 Q373.148 876.768 370.069 881.375 Q367.013 885.958 361.203 885.958 Q355.393 885.958 352.314 881.375 Q349.259 876.768 349.259 868.042 Q349.259 859.292 352.314 854.708 Q355.393 850.102 361.203 850.102 Z\" fill=\"#000000\" fill-rule=\"evenodd\" fill-opacity=\"1\" /><path clip-path=\"url(#clip760)\" d=\"M 0 0 M373.148 844.203 L397.259 844.203 L397.259 847.4 L373.148 847.4 L373.148 844.203 Z\" fill=\"#000000\" fill-rule=\"evenodd\" fill-opacity=\"1\" /><path clip-path=\"url(#clip760)\" d=\"M 0 0 M408.732 854.679 L421.991 854.679 L421.991 857.876 L404.162 857.876 L404.162 854.679 Q406.325 852.441 410.049 848.679 Q413.791 844.899 414.75 843.808 Q416.575 841.758 417.289 840.348 Q418.023 838.918 418.023 837.545 Q418.023 835.307 416.443 833.897 Q414.882 832.486 412.362 832.486 Q410.575 832.486 408.581 833.107 Q406.607 833.727 404.35 834.987 L404.35 831.151 Q406.644 830.229 408.638 829.759 Q410.632 829.289 412.287 829.289 Q416.65 829.289 419.246 831.47 Q421.841 833.652 421.841 837.301 Q421.841 839.031 421.183 840.592 Q420.543 842.134 418.832 844.241 Q418.362 844.786 415.841 847.4 Q413.321 849.996 408.732 854.679 Z\" fill=\"#000000\" fill-rule=\"evenodd\" fill-opacity=\"1\" /><path clip-path=\"url(#clip760)\" d=\"M 0 0 M114.26 550.206 L136.482 550.206 L136.482 552.197 L123.936 584.766 L119.052 584.766 L130.857 554.142 L114.26 554.142 L114.26 550.206 Z\" fill=\"#000000\" fill-rule=\"evenodd\" fill-opacity=\"1\" /><path clip-path=\"url(#clip760)\" d=\"M 0 0 M145.603 578.887 L150.487 578.887 L150.487 584.766 L145.603 584.766 L145.603 578.887 Z\" fill=\"#000000\" fill-rule=\"evenodd\" fill-opacity=\"1\" /><path clip-path=\"url(#clip760)\" d=\"M 0 0 M174.839 566.132 Q178.195 566.85 180.07 569.118 Q181.968 571.387 181.968 574.72 Q181.968 579.836 178.45 582.637 Q174.931 585.438 168.45 585.438 Q166.274 585.438 163.959 584.998 Q161.667 584.581 159.214 583.725 L159.214 579.211 Q161.158 580.345 163.473 580.924 Q165.788 581.502 168.311 581.502 Q172.709 581.502 175.001 579.766 Q177.315 578.03 177.315 574.72 Q177.315 571.665 175.163 569.952 Q173.033 568.216 169.214 568.216 L165.186 568.216 L165.186 564.373 L169.399 564.373 Q172.848 564.373 174.677 563.007 Q176.505 561.618 176.505 559.026 Q176.505 556.364 174.607 554.952 Q172.732 553.517 169.214 553.517 Q167.292 553.517 165.093 553.933 Q162.894 554.35 160.255 555.229 L160.255 551.063 Q162.917 550.322 165.232 549.952 Q167.57 549.581 169.63 549.581 Q174.954 549.581 178.056 552.012 Q181.158 554.419 181.158 558.54 Q181.158 561.41 179.514 563.401 Q177.871 565.368 174.839 566.132 Z\" fill=\"#000000\" fill-rule=\"evenodd\" fill-opacity=\"1\" /><path clip-path=\"url(#clip760)\" d=\"M 0 0 M201.412 565.623 Q198.264 565.623 196.412 567.776 Q194.584 569.928 194.584 573.678 Q194.584 577.405 196.412 579.581 Q198.264 581.734 201.412 581.734 Q204.561 581.734 206.389 579.581 Q208.241 577.405 208.241 573.678 Q208.241 569.928 206.389 567.776 Q204.561 565.623 201.412 565.623 M210.695 550.97 L210.695 555.229 Q208.936 554.396 207.13 553.956 Q205.348 553.517 203.588 553.517 Q198.959 553.517 196.505 556.642 Q194.075 559.766 193.727 566.086 Q195.093 564.072 197.153 563.007 Q199.213 561.919 201.69 561.919 Q206.899 561.919 209.908 565.091 Q212.94 568.239 212.94 573.678 Q212.94 579.002 209.792 582.22 Q206.644 585.438 201.412 585.438 Q195.417 585.438 192.246 580.854 Q189.075 576.248 189.075 567.521 Q189.075 559.327 192.963 554.466 Q196.852 549.581 203.403 549.581 Q205.162 549.581 206.945 549.929 Q208.75 550.276 210.695 550.97 Z\" fill=\"#000000\" fill-rule=\"evenodd\" fill-opacity=\"1\" /><path clip-path=\"url(#clip760)\" d=\"M 0 0 M225.023 580.831 L241.343 580.831 L241.343 584.766 L219.398 584.766 L219.398 580.831 Q222.061 578.077 226.644 573.447 Q231.25 568.794 232.431 567.452 Q234.676 564.928 235.556 563.192 Q236.459 561.433 236.459 559.743 Q236.459 556.989 234.514 555.253 Q232.593 553.517 229.491 553.517 Q227.292 553.517 224.838 554.28 Q222.408 555.044 219.63 556.595 L219.63 551.873 Q222.454 550.739 224.908 550.16 Q227.361 549.581 229.398 549.581 Q234.769 549.581 237.963 552.267 Q241.158 554.952 241.158 559.442 Q241.158 561.572 240.347 563.493 Q239.56 565.391 237.454 567.984 Q236.875 568.655 233.773 571.873 Q230.672 575.067 225.023 580.831 Z\" fill=\"#000000\" fill-rule=\"evenodd\" fill-opacity=\"1\" /><path clip-path=\"url(#clip760)\" d=\"M 0 0 M261.158 553.285 Q257.546 553.285 255.718 556.85 Q253.912 560.391 253.912 567.521 Q253.912 574.628 255.718 578.192 Q257.546 581.734 261.158 581.734 Q264.792 581.734 266.597 578.192 Q268.426 574.628 268.426 567.521 Q268.426 560.391 266.597 556.85 Q264.792 553.285 261.158 553.285 M261.158 549.581 Q266.968 549.581 270.023 554.188 Q273.102 558.771 273.102 567.521 Q273.102 576.248 270.023 580.854 Q266.968 585.438 261.158 585.438 Q255.347 585.438 252.269 580.854 Q249.213 576.248 249.213 567.521 Q249.213 558.771 252.269 554.188 Q255.347 549.581 261.158 549.581 Z\" fill=\"#000000\" fill-rule=\"evenodd\" fill-opacity=\"1\" /><path clip-path=\"url(#clip760)\" d=\"M 0 0 M309.491 559.304 L298.912 569.928 L309.491 580.507 L306.736 583.308 L296.111 572.683 L285.486 583.308 L282.755 580.507 L293.31 569.928 L282.755 559.304 L285.486 556.503 L296.111 567.128 L306.736 556.503 L309.491 559.304 Z\" fill=\"#000000\" fill-rule=\"evenodd\" fill-opacity=\"1\" /><path clip-path=\"url(#clip760)\" d=\"M 0 0 M321.852 580.831 L329.49 580.831 L329.49 554.466 L321.18 556.132 L321.18 551.873 L329.444 550.206 L334.12 550.206 L334.12 580.831 L341.759 580.831 L341.759 584.766 L321.852 584.766 L321.852 580.831 Z\" fill=\"#000000\" fill-rule=\"evenodd\" fill-opacity=\"1\" /><path clip-path=\"url(#clip760)\" d=\"M 0 0 M361.203 553.285 Q357.592 553.285 355.763 556.85 Q353.958 560.391 353.958 567.521 Q353.958 574.628 355.763 578.192 Q357.592 581.734 361.203 581.734 Q364.838 581.734 366.643 578.192 Q368.472 574.628 368.472 567.521 Q368.472 560.391 366.643 556.85 Q364.838 553.285 361.203 553.285 M361.203 549.581 Q367.013 549.581 370.069 554.188 Q373.148 558.771 373.148 567.521 Q373.148 576.248 370.069 580.854 Q367.013 585.438 361.203 585.438 Q355.393 585.438 352.314 580.854 Q349.259 576.248 349.259 567.521 Q349.259 558.771 352.314 554.188 Q355.393 549.581 361.203 549.581 Z\" fill=\"#000000\" fill-rule=\"evenodd\" fill-opacity=\"1\" /><path clip-path=\"url(#clip760)\" d=\"M 0 0 M373.148 543.683 L397.259 543.683 L397.259 546.88 L373.148 546.88 L373.148 543.683 Z\" fill=\"#000000\" fill-rule=\"evenodd\" fill-opacity=\"1\" /><path clip-path=\"url(#clip760)\" d=\"M 0 0 M408.732 554.159 L421.991 554.159 L421.991 557.356 L404.162 557.356 L404.162 554.159 Q406.325 551.921 410.049 548.159 Q413.791 544.379 414.75 543.288 Q416.575 541.238 417.289 539.827 Q418.023 538.398 418.023 537.025 Q418.023 534.787 416.443 533.376 Q414.882 531.965 412.362 531.965 Q410.575 531.965 408.581 532.586 Q406.607 533.207 404.35 534.467 L404.35 530.63 Q406.644 529.709 408.638 529.238 Q410.632 528.768 412.287 528.768 Q416.65 528.768 419.246 530.95 Q421.841 533.132 421.841 536.78 Q421.841 538.511 421.183 540.072 Q420.543 541.614 418.832 543.72 Q418.362 544.266 415.841 546.88 Q413.321 549.475 408.732 554.159 Z\" fill=\"#000000\" fill-rule=\"evenodd\" fill-opacity=\"1\" /><path clip-path=\"url(#clip760)\" d=\"M 0 0 M114.26 249.686 L136.482 249.686 L136.482 251.677 L123.936 284.246 L119.052 284.246 L130.857 253.621 L114.26 253.621 L114.26 249.686 Z\" fill=\"#000000\" fill-rule=\"evenodd\" fill-opacity=\"1\" /><path clip-path=\"url(#clip760)\" d=\"M 0 0 M145.603 278.366 L150.487 278.366 L150.487 284.246 L145.603 284.246 L145.603 278.366 Z\" fill=\"#000000\" fill-rule=\"evenodd\" fill-opacity=\"1\" /><path clip-path=\"url(#clip760)\" d=\"M 0 0 M174.839 265.612 Q178.195 266.329 180.07 268.598 Q181.968 270.866 181.968 274.2 Q181.968 279.315 178.45 282.116 Q174.931 284.917 168.45 284.917 Q166.274 284.917 163.959 284.477 Q161.667 284.061 159.214 283.204 L159.214 278.69 Q161.158 279.825 163.473 280.403 Q165.788 280.982 168.311 280.982 Q172.709 280.982 175.001 279.246 Q177.315 277.51 177.315 274.2 Q177.315 271.144 175.163 269.431 Q173.033 267.695 169.214 267.695 L165.186 267.695 L165.186 263.852 L169.399 263.852 Q172.848 263.852 174.677 262.487 Q176.505 261.098 176.505 258.505 Q176.505 255.843 174.607 254.431 Q172.732 252.996 169.214 252.996 Q167.292 252.996 165.093 253.413 Q162.894 253.829 160.255 254.709 L160.255 250.542 Q162.917 249.802 165.232 249.431 Q167.57 249.061 169.63 249.061 Q174.954 249.061 178.056 251.491 Q181.158 253.899 181.158 258.019 Q181.158 260.89 179.514 262.88 Q177.871 264.848 174.839 265.612 Z\" fill=\"#000000\" fill-rule=\"evenodd\" fill-opacity=\"1\" /><path clip-path=\"url(#clip760)\" d=\"M 0 0 M201.412 265.102 Q198.264 265.102 196.412 267.255 Q194.584 269.408 194.584 273.158 Q194.584 276.885 196.412 279.061 Q198.264 281.213 201.412 281.213 Q204.561 281.213 206.389 279.061 Q208.241 276.885 208.241 273.158 Q208.241 269.408 206.389 267.255 Q204.561 265.102 201.412 265.102 M210.695 250.45 L210.695 254.709 Q208.936 253.876 207.13 253.436 Q205.348 252.996 203.588 252.996 Q198.959 252.996 196.505 256.121 Q194.075 259.246 193.727 265.565 Q195.093 263.552 197.153 262.487 Q199.213 261.399 201.69 261.399 Q206.899 261.399 209.908 264.57 Q212.94 267.718 212.94 273.158 Q212.94 278.482 209.792 281.7 Q206.644 284.917 201.412 284.917 Q195.417 284.917 192.246 280.334 Q189.075 275.727 189.075 267.001 Q189.075 258.806 192.963 253.945 Q196.852 249.061 203.403 249.061 Q205.162 249.061 206.945 249.408 Q208.75 249.755 210.695 250.45 Z\" fill=\"#000000\" fill-rule=\"evenodd\" fill-opacity=\"1\" /><path clip-path=\"url(#clip760)\" d=\"M 0 0 M233.843 253.76 L222.037 272.209 L233.843 272.209 L233.843 253.76 M232.616 249.686 L238.496 249.686 L238.496 272.209 L243.426 272.209 L243.426 276.098 L238.496 276.098 L238.496 284.246 L233.843 284.246 L233.843 276.098 L218.241 276.098 L218.241 271.584 L232.616 249.686 Z\" fill=\"#000000\" fill-rule=\"evenodd\" fill-opacity=\"1\" /><path clip-path=\"url(#clip760)\" d=\"M 0 0 M261.158 252.765 Q257.546 252.765 255.718 256.329 Q253.912 259.871 253.912 267.001 Q253.912 274.107 255.718 277.672 Q257.546 281.213 261.158 281.213 Q264.792 281.213 266.597 277.672 Q268.426 274.107 268.426 267.001 Q268.426 259.871 266.597 256.329 Q264.792 252.765 261.158 252.765 M261.158 249.061 Q266.968 249.061 270.023 253.667 Q273.102 258.251 273.102 267.001 Q273.102 275.727 270.023 280.334 Q266.968 284.917 261.158 284.917 Q255.347 284.917 252.269 280.334 Q249.213 275.727 249.213 267.001 Q249.213 258.251 252.269 253.667 Q255.347 249.061 261.158 249.061 Z\" fill=\"#000000\" fill-rule=\"evenodd\" fill-opacity=\"1\" /><path clip-path=\"url(#clip760)\" d=\"M 0 0 M309.491 258.783 L298.912 269.408 L309.491 279.987 L306.736 282.788 L296.111 272.163 L285.486 282.788 L282.755 279.987 L293.31 269.408 L282.755 258.783 L285.486 255.982 L296.111 266.607 L306.736 255.982 L309.491 258.783 Z\" fill=\"#000000\" fill-rule=\"evenodd\" fill-opacity=\"1\" /><path clip-path=\"url(#clip760)\" d=\"M 0 0 M321.852 280.311 L329.49 280.311 L329.49 253.945 L321.18 255.612 L321.18 251.353 L329.444 249.686 L334.12 249.686 L334.12 280.311 L341.759 280.311 L341.759 284.246 L321.852 284.246 L321.852 280.311 Z\" fill=\"#000000\" fill-rule=\"evenodd\" fill-opacity=\"1\" /><path clip-path=\"url(#clip760)\" d=\"M 0 0 M361.203 252.765 Q357.592 252.765 355.763 256.329 Q353.958 259.871 353.958 267.001 Q353.958 274.107 355.763 277.672 Q357.592 281.213 361.203 281.213 Q364.838 281.213 366.643 277.672 Q368.472 274.107 368.472 267.001 Q368.472 259.871 366.643 256.329 Q364.838 252.765 361.203 252.765 M361.203 249.061 Q367.013 249.061 370.069 253.667 Q373.148 258.251 373.148 267.001 Q373.148 275.727 370.069 280.334 Q367.013 284.917 361.203 284.917 Q355.393 284.917 352.314 280.334 Q349.259 275.727 349.259 267.001 Q349.259 258.251 352.314 253.667 Q355.393 249.061 361.203 249.061 Z\" fill=\"#000000\" fill-rule=\"evenodd\" fill-opacity=\"1\" /><path clip-path=\"url(#clip760)\" d=\"M 0 0 M373.148 243.162 L397.259 243.162 L397.259 246.36 L373.148 246.36 L373.148 243.162 Z\" fill=\"#000000\" fill-rule=\"evenodd\" fill-opacity=\"1\" /><path clip-path=\"url(#clip760)\" d=\"M 0 0 M408.732 253.638 L421.991 253.638 L421.991 256.835 L404.162 256.835 L404.162 253.638 Q406.325 251.4 410.049 247.638 Q413.791 243.858 414.75 242.767 Q416.575 240.717 417.289 239.307 Q418.023 237.877 418.023 236.504 Q418.023 234.266 416.443 232.856 Q414.882 231.445 412.362 231.445 Q410.575 231.445 408.581 232.066 Q406.607 232.686 404.35 233.946 L404.35 230.11 Q406.644 229.188 408.638 228.718 Q410.632 228.248 412.287 228.248 Q416.65 228.248 419.246 230.429 Q421.841 232.611 421.841 236.26 Q421.841 237.99 421.183 239.551 Q420.543 241.093 418.832 243.2 Q418.362 243.745 415.841 246.36 Q413.321 248.955 408.732 253.638 Z\" fill=\"#000000\" fill-rule=\"evenodd\" fill-opacity=\"1\" /><path clip-path=\"url(#clip760)\" d=\"M 0 0 M16.4842 858.706 L16.4842 849.126 L48.8219 836.999 L16.4842 824.809 L16.4842 815.228 L64.0042 815.228 L64.0042 821.498 L22.277 821.498 L54.8694 833.752 L54.8694 840.214 L22.277 852.468 L64.0042 852.468 L64.0042 858.706 L16.4842 858.706 Z\" fill=\"#000000\" fill-rule=\"evenodd\" fill-opacity=\"1\" /><path clip-path=\"url(#clip760)\" d=\"M 0 0 M22.818 786.583 L46.4666 795.304 L46.4666 777.83 L22.818 786.583 M16.4842 790.211 L16.4842 782.922 L64.0042 764.812 L64.0042 771.496 L51.8138 775.825 L51.8138 797.245 L64.0042 801.574 L64.0042 808.353 L16.4842 790.211 Z\" fill=\"#000000\" fill-rule=\"evenodd\" fill-opacity=\"1\" /><path clip-path=\"url(#clip760)\" d=\"M 0 0 M21.7677 751.444 L39.6235 751.444 L39.6235 743.359 Q39.6235 738.872 37.3 736.421 Q34.9765 733.97 30.6797 733.97 Q26.4147 733.97 24.0912 736.421 Q21.7677 738.872 21.7677 743.359 L21.7677 751.444 M16.4842 757.873 L16.4842 743.359 Q16.4842 735.37 20.1126 731.296 Q23.7092 727.191 30.6797 727.191 Q37.7138 727.191 41.3104 731.296 Q44.907 735.37 44.907 743.359 L44.907 751.444 L64.0042 751.444 L64.0042 757.873 L16.4842 757.873 Z\" fill=\"#000000\" fill-rule=\"evenodd\" fill-opacity=\"1\" /><path clip-path=\"url(#clip760)\" d=\"M 0 0 M16.4842 718.565 L16.4842 688.519 L21.895 688.519 L21.895 712.136 L35.9632 712.136 L35.9632 689.506 L41.3741 689.506 L41.3741 712.136 L58.5933 712.136 L58.5933 687.946 L64.0042 687.946 L64.0042 718.565 L16.4842 718.565 Z\" fill=\"#000000\" fill-rule=\"evenodd\" fill-opacity=\"1\" /><path clip-path=\"url(#clip760)\" d=\"M 0 0 M1401.81 34.0924 L1401.81 9.54393 L1409.26 9.54393 L1409.26 72.576 L1401.81 72.576 L1401.81 65.7705 Q1399.46 69.8214 1395.85 71.8063 Q1392.29 73.7508 1387.27 73.7508 Q1379.04 73.7508 1373.86 67.1883 Q1368.71 60.6258 1368.71 49.9314 Q1368.71 39.2371 1373.86 32.6746 Q1379.04 26.1121 1387.27 26.1121 Q1392.29 26.1121 1395.85 28.0971 Q1399.46 30.0415 1401.81 34.0924 M1376.41 49.9314 Q1376.41 58.1548 1379.77 62.8538 Q1383.17 67.5124 1389.09 67.5124 Q1395 67.5124 1398.41 62.8538 Q1401.81 58.1548 1401.81 49.9314 Q1401.81 41.7081 1398.41 37.0496 Q1395 32.3505 1389.09 32.3505 Q1383.17 32.3505 1379.77 37.0496 Q1376.41 41.7081 1376.41 49.9314 Z\" fill=\"#000000\" fill-rule=\"evenodd\" fill-opacity=\"1\" /><path clip-path=\"url(#clip760)\" d=\"M 0 0 M1423.44 9.62495 L1429.92 9.62495 Q1436 19.1851 1439 28.3401 Q1442.03 37.4952 1442.03 46.5287 Q1442.03 55.6027 1439 64.7983 Q1436 73.9938 1429.92 83.5134 L1423.44 83.5134 Q1428.83 74.2369 1431.46 65.0818 Q1434.14 55.8863 1434.14 46.5287 Q1434.14 37.1711 1431.46 28.0566 Q1428.83 18.942 1423.44 9.62495 Z\" fill=\"#000000\" fill-rule=\"evenodd\" fill-opacity=\"1\" /><circle clip-path=\"url(#clip762)\" cx=\"511.617\" cy=\"585.775\" r=\"14\" fill=\"#009af9\" fill-rule=\"evenodd\" fill-opacity=\"1\" stroke=\"#000000\" stroke-opacity=\"1\" stroke-width=\"3.2\"/>\n",
       "<circle clip-path=\"url(#clip762)\" cx=\"548.857\" cy=\"709.068\" r=\"14\" fill=\"#009af9\" fill-rule=\"evenodd\" fill-opacity=\"1\" stroke=\"#000000\" stroke-opacity=\"1\" stroke-width=\"3.2\"/>\n",
       "<circle clip-path=\"url(#clip762)\" cx=\"586.097\" cy=\"1048.15\" r=\"14\" fill=\"#009af9\" fill-rule=\"evenodd\" fill-opacity=\"1\" stroke=\"#000000\" stroke-opacity=\"1\" stroke-width=\"3.2\"/>\n",
       "<circle clip-path=\"url(#clip762)\" cx=\"623.336\" cy=\"1167.1\" r=\"14\" fill=\"#009af9\" fill-rule=\"evenodd\" fill-opacity=\"1\" stroke=\"#000000\" stroke-opacity=\"1\" stroke-width=\"3.2\"/>\n",
       "<circle clip-path=\"url(#clip762)\" cx=\"660.576\" cy=\"1241.68\" r=\"14\" fill=\"#009af9\" fill-rule=\"evenodd\" fill-opacity=\"1\" stroke=\"#000000\" stroke-opacity=\"1\" stroke-width=\"3.2\"/>\n",
       "<circle clip-path=\"url(#clip762)\" cx=\"697.816\" cy=\"1374.41\" r=\"14\" fill=\"#009af9\" fill-rule=\"evenodd\" fill-opacity=\"1\" stroke=\"#000000\" stroke-opacity=\"1\" stroke-width=\"3.2\"/>\n",
       "<circle clip-path=\"url(#clip762)\" cx=\"735.056\" cy=\"1386.4\" r=\"14\" fill=\"#009af9\" fill-rule=\"evenodd\" fill-opacity=\"1\" stroke=\"#000000\" stroke-opacity=\"1\" stroke-width=\"3.2\"/>\n",
       "<circle clip-path=\"url(#clip762)\" cx=\"772.296\" cy=\"1368.99\" r=\"14\" fill=\"#009af9\" fill-rule=\"evenodd\" fill-opacity=\"1\" stroke=\"#000000\" stroke-opacity=\"1\" stroke-width=\"3.2\"/>\n",
       "<circle clip-path=\"url(#clip762)\" cx=\"809.536\" cy=\"1327.1\" r=\"14\" fill=\"#009af9\" fill-rule=\"evenodd\" fill-opacity=\"1\" stroke=\"#000000\" stroke-opacity=\"1\" stroke-width=\"3.2\"/>\n",
       "<circle clip-path=\"url(#clip762)\" cx=\"846.776\" cy=\"1324.03\" r=\"14\" fill=\"#009af9\" fill-rule=\"evenodd\" fill-opacity=\"1\" stroke=\"#000000\" stroke-opacity=\"1\" stroke-width=\"3.2\"/>\n",
       "<circle clip-path=\"url(#clip762)\" cx=\"884.016\" cy=\"1303.34\" r=\"14\" fill=\"#009af9\" fill-rule=\"evenodd\" fill-opacity=\"1\" stroke=\"#000000\" stroke-opacity=\"1\" stroke-width=\"3.2\"/>\n",
       "<circle clip-path=\"url(#clip762)\" cx=\"921.255\" cy=\"1324.2\" r=\"14\" fill=\"#009af9\" fill-rule=\"evenodd\" fill-opacity=\"1\" stroke=\"#000000\" stroke-opacity=\"1\" stroke-width=\"3.2\"/>\n",
       "<circle clip-path=\"url(#clip762)\" cx=\"958.495\" cy=\"1279.33\" r=\"14\" fill=\"#009af9\" fill-rule=\"evenodd\" fill-opacity=\"1\" stroke=\"#000000\" stroke-opacity=\"1\" stroke-width=\"3.2\"/>\n",
       "<circle clip-path=\"url(#clip762)\" cx=\"995.735\" cy=\"1273.93\" r=\"14\" fill=\"#009af9\" fill-rule=\"evenodd\" fill-opacity=\"1\" stroke=\"#000000\" stroke-opacity=\"1\" stroke-width=\"3.2\"/>\n",
       "<circle clip-path=\"url(#clip762)\" cx=\"1032.97\" cy=\"1173.97\" r=\"14\" fill=\"#009af9\" fill-rule=\"evenodd\" fill-opacity=\"1\" stroke=\"#000000\" stroke-opacity=\"1\" stroke-width=\"3.2\"/>\n",
       "<circle clip-path=\"url(#clip762)\" cx=\"1070.21\" cy=\"1213.91\" r=\"14\" fill=\"#009af9\" fill-rule=\"evenodd\" fill-opacity=\"1\" stroke=\"#000000\" stroke-opacity=\"1\" stroke-width=\"3.2\"/>\n",
       "<circle clip-path=\"url(#clip762)\" cx=\"1107.45\" cy=\"1213.75\" r=\"14\" fill=\"#009af9\" fill-rule=\"evenodd\" fill-opacity=\"1\" stroke=\"#000000\" stroke-opacity=\"1\" stroke-width=\"3.2\"/>\n",
       "<circle clip-path=\"url(#clip762)\" cx=\"1144.69\" cy=\"998.951\" r=\"14\" fill=\"#009af9\" fill-rule=\"evenodd\" fill-opacity=\"1\" stroke=\"#000000\" stroke-opacity=\"1\" stroke-width=\"3.2\"/>\n",
       "<circle clip-path=\"url(#clip762)\" cx=\"1181.93\" cy=\"1188.67\" r=\"14\" fill=\"#009af9\" fill-rule=\"evenodd\" fill-opacity=\"1\" stroke=\"#000000\" stroke-opacity=\"1\" stroke-width=\"3.2\"/>\n",
       "<circle clip-path=\"url(#clip762)\" cx=\"1219.17\" cy=\"999.265\" r=\"14\" fill=\"#009af9\" fill-rule=\"evenodd\" fill-opacity=\"1\" stroke=\"#000000\" stroke-opacity=\"1\" stroke-width=\"3.2\"/>\n",
       "<circle clip-path=\"url(#clip762)\" cx=\"1256.41\" cy=\"962.159\" r=\"14\" fill=\"#009af9\" fill-rule=\"evenodd\" fill-opacity=\"1\" stroke=\"#000000\" stroke-opacity=\"1\" stroke-width=\"3.2\"/>\n",
       "<circle clip-path=\"url(#clip762)\" cx=\"1293.65\" cy=\"917.373\" r=\"14\" fill=\"#009af9\" fill-rule=\"evenodd\" fill-opacity=\"1\" stroke=\"#000000\" stroke-opacity=\"1\" stroke-width=\"3.2\"/>\n",
       "<circle clip-path=\"url(#clip762)\" cx=\"1330.89\" cy=\"905.441\" r=\"14\" fill=\"#009af9\" fill-rule=\"evenodd\" fill-opacity=\"1\" stroke=\"#000000\" stroke-opacity=\"1\" stroke-width=\"3.2\"/>\n",
       "<circle clip-path=\"url(#clip762)\" cx=\"1368.13\" cy=\"1109.79\" r=\"14\" fill=\"#009af9\" fill-rule=\"evenodd\" fill-opacity=\"1\" stroke=\"#000000\" stroke-opacity=\"1\" stroke-width=\"3.2\"/>\n",
       "<circle clip-path=\"url(#clip762)\" cx=\"1405.37\" cy=\"840.463\" r=\"14\" fill=\"#009af9\" fill-rule=\"evenodd\" fill-opacity=\"1\" stroke=\"#000000\" stroke-opacity=\"1\" stroke-width=\"3.2\"/>\n",
       "<circle clip-path=\"url(#clip762)\" cx=\"1442.61\" cy=\"812.547\" r=\"14\" fill=\"#009af9\" fill-rule=\"evenodd\" fill-opacity=\"1\" stroke=\"#000000\" stroke-opacity=\"1\" stroke-width=\"3.2\"/>\n",
       "<circle clip-path=\"url(#clip762)\" cx=\"1479.85\" cy=\"717.261\" r=\"14\" fill=\"#009af9\" fill-rule=\"evenodd\" fill-opacity=\"1\" stroke=\"#000000\" stroke-opacity=\"1\" stroke-width=\"3.2\"/>\n",
       "<circle clip-path=\"url(#clip762)\" cx=\"1517.09\" cy=\"778.154\" r=\"14\" fill=\"#009af9\" fill-rule=\"evenodd\" fill-opacity=\"1\" stroke=\"#000000\" stroke-opacity=\"1\" stroke-width=\"3.2\"/>\n",
       "<circle clip-path=\"url(#clip762)\" cx=\"1554.33\" cy=\"588.392\" r=\"14\" fill=\"#009af9\" fill-rule=\"evenodd\" fill-opacity=\"1\" stroke=\"#000000\" stroke-opacity=\"1\" stroke-width=\"3.2\"/>\n",
       "<circle clip-path=\"url(#clip762)\" cx=\"1591.57\" cy=\"468.441\" r=\"14\" fill=\"#009af9\" fill-rule=\"evenodd\" fill-opacity=\"1\" stroke=\"#000000\" stroke-opacity=\"1\" stroke-width=\"3.2\"/>\n",
       "<circle clip-path=\"url(#clip762)\" cx=\"1628.81\" cy=\"364.174\" r=\"14\" fill=\"#009af9\" fill-rule=\"evenodd\" fill-opacity=\"1\" stroke=\"#000000\" stroke-opacity=\"1\" stroke-width=\"3.2\"/>\n",
       "<circle clip-path=\"url(#clip762)\" cx=\"1666.05\" cy=\"418.657\" r=\"14\" fill=\"#009af9\" fill-rule=\"evenodd\" fill-opacity=\"1\" stroke=\"#000000\" stroke-opacity=\"1\" stroke-width=\"3.2\"/>\n",
       "<circle clip-path=\"url(#clip762)\" cx=\"1703.29\" cy=\"363.677\" r=\"14\" fill=\"#009af9\" fill-rule=\"evenodd\" fill-opacity=\"1\" stroke=\"#000000\" stroke-opacity=\"1\" stroke-width=\"3.2\"/>\n",
       "<circle clip-path=\"url(#clip762)\" cx=\"1740.53\" cy=\"269.545\" r=\"14\" fill=\"#009af9\" fill-rule=\"evenodd\" fill-opacity=\"1\" stroke=\"#000000\" stroke-opacity=\"1\" stroke-width=\"3.2\"/>\n",
       "<circle clip-path=\"url(#clip762)\" cx=\"1777.77\" cy=\"387.819\" r=\"14\" fill=\"#009af9\" fill-rule=\"evenodd\" fill-opacity=\"1\" stroke=\"#000000\" stroke-opacity=\"1\" stroke-width=\"3.2\"/>\n",
       "<circle clip-path=\"url(#clip762)\" cx=\"1815.01\" cy=\"341.443\" r=\"14\" fill=\"#009af9\" fill-rule=\"evenodd\" fill-opacity=\"1\" stroke=\"#000000\" stroke-opacity=\"1\" stroke-width=\"3.2\"/>\n",
       "<circle clip-path=\"url(#clip762)\" cx=\"1852.25\" cy=\"443.096\" r=\"14\" fill=\"#009af9\" fill-rule=\"evenodd\" fill-opacity=\"1\" stroke=\"#000000\" stroke-opacity=\"1\" stroke-width=\"3.2\"/>\n",
       "<circle clip-path=\"url(#clip762)\" cx=\"1889.49\" cy=\"446.249\" r=\"14\" fill=\"#009af9\" fill-rule=\"evenodd\" fill-opacity=\"1\" stroke=\"#000000\" stroke-opacity=\"1\" stroke-width=\"3.2\"/>\n",
       "<circle clip-path=\"url(#clip762)\" cx=\"1926.73\" cy=\"339.322\" r=\"14\" fill=\"#009af9\" fill-rule=\"evenodd\" fill-opacity=\"1\" stroke=\"#000000\" stroke-opacity=\"1\" stroke-width=\"3.2\"/>\n",
       "<circle clip-path=\"url(#clip762)\" cx=\"1963.97\" cy=\"295.926\" r=\"14\" fill=\"#009af9\" fill-rule=\"evenodd\" fill-opacity=\"1\" stroke=\"#000000\" stroke-opacity=\"1\" stroke-width=\"3.2\"/>\n",
       "<circle clip-path=\"url(#clip762)\" cx=\"2001.21\" cy=\"287.198\" r=\"14\" fill=\"#009af9\" fill-rule=\"evenodd\" fill-opacity=\"1\" stroke=\"#000000\" stroke-opacity=\"1\" stroke-width=\"3.2\"/>\n",
       "<circle clip-path=\"url(#clip762)\" cx=\"2038.45\" cy=\"226.918\" r=\"14\" fill=\"#009af9\" fill-rule=\"evenodd\" fill-opacity=\"1\" stroke=\"#000000\" stroke-opacity=\"1\" stroke-width=\"3.2\"/>\n",
       "<circle clip-path=\"url(#clip762)\" cx=\"2075.69\" cy=\"249.627\" r=\"14\" fill=\"#009af9\" fill-rule=\"evenodd\" fill-opacity=\"1\" stroke=\"#000000\" stroke-opacity=\"1\" stroke-width=\"3.2\"/>\n",
       "<circle clip-path=\"url(#clip762)\" cx=\"2112.93\" cy=\"272.711\" r=\"14\" fill=\"#009af9\" fill-rule=\"evenodd\" fill-opacity=\"1\" stroke=\"#000000\" stroke-opacity=\"1\" stroke-width=\"3.2\"/>\n",
       "<circle clip-path=\"url(#clip762)\" cx=\"2150.17\" cy=\"195.907\" r=\"14\" fill=\"#009af9\" fill-rule=\"evenodd\" fill-opacity=\"1\" stroke=\"#000000\" stroke-opacity=\"1\" stroke-width=\"3.2\"/>\n",
       "<circle clip-path=\"url(#clip762)\" cx=\"2187.41\" cy=\"160.256\" r=\"14\" fill=\"#009af9\" fill-rule=\"evenodd\" fill-opacity=\"1\" stroke=\"#000000\" stroke-opacity=\"1\" stroke-width=\"3.2\"/>\n",
       "<circle clip-path=\"url(#clip762)\" cx=\"2224.65\" cy=\"172.394\" r=\"14\" fill=\"#009af9\" fill-rule=\"evenodd\" fill-opacity=\"1\" stroke=\"#000000\" stroke-opacity=\"1\" stroke-width=\"3.2\"/>\n",
       "<circle clip-path=\"url(#clip762)\" cx=\"2261.89\" cy=\"202.8\" r=\"14\" fill=\"#009af9\" fill-rule=\"evenodd\" fill-opacity=\"1\" stroke=\"#000000\" stroke-opacity=\"1\" stroke-width=\"3.2\"/>\n",
       "<circle clip-path=\"url(#clip762)\" cx=\"2299.13\" cy=\"275.358\" r=\"14\" fill=\"#009af9\" fill-rule=\"evenodd\" fill-opacity=\"1\" stroke=\"#000000\" stroke-opacity=\"1\" stroke-width=\"3.2\"/>\n",
       "</svg>\n"
      ]
     },
     "execution_count": 131,
     "metadata": {},
     "output_type": "execute_result"
    }
   ],
   "source": [
    "rep = report(mach);\n",
    "plt = rep.plotting;\n",
    "scatter(Float64.(plt.parameter_values)[2:end-1], plt.measurements[2:end-1],\n",
    "    label = :none)\n",
    "xlabel!(\"hyperparameter, λ\")\n",
    "ylabel!(\"MAPE\")\n",
    "title!(\"d)\")"
   ]
  },
  {
   "cell_type": "markdown",
   "metadata": {},
   "source": [
    "## Summary\n",
    "Based on the training data, the least-square regression model is obtained and is given by\n",
    "\n",
    "$$f_{{\\hat{\\beta}}_{ls}}\\left(x\\right)=66.47+1.84X_1-3.43X_2+5.03X_3+20.24X_4-20.76X_5-7.69X_6$$\n",
    "\n",
    "Based on the training data and the hyperparameter value $\\lambda=0.048$, the ridge regression model is given by\n",
    "\n",
    "$$f_{{\\hat{\\beta}}_r}\\left(x\\right)=63.85+2.32X_1-2.97X_2+4.69X_3+17.14X_4-15.77X_5-9.45X_6$$\n",
    "\n",
    "Based on the training data and the hyperparameter value $\\delta=0.84$, the Huber regression model is given by\n",
    "\n",
    "$$f_{{\\hat{\\beta}}_h}\\left(x\\right)=66.55+1.24X_1-4.36X_2+8.09X_3-1.75X_4-2.83X_5-5.64X_6$$\n",
    "\n",
    "Based on the training data and the hyperparameter value $\\delta=0.6$, the quantile regression model is given by\n",
    "\n",
    "$$f_{{\\hat{\\beta}}_q}\\left(x\\right)=63.19+0.83X_1-2.85X_2+7.18X_3-3.31X_4-0.44X_5-5.85X_6$$\n",
    "\n",
    "Based on the training data and the hyperparameter values $\\delta=0.6$, and $\\lambda=0.9$, the quantile regression model with $l_2$-regularization is obtained and is given by\n",
    "\n",
    "$$f_{{\\hat{\\beta}}_{ql}}\\left(x\\right)=63.19+0.83X_1-2.85X_2+7.18X_3-3.31X_4-0.44X_5-5.85X_6$$\n"
   ]
  },
  {
   "cell_type": "markdown",
   "metadata": {},
   "source": [
    "After the five models are obtained, the next step is to evaluate these models using data testing. There are three criteria used in this evaluation step, i.e., the maximum error value ($\\varepsilon_{max}$), the root mean squared error (RMSE), and the mean absolute proportional error (MAPE). The evaluation results of the five models can be seen in Table 1 below.\n",
    "\n",
    "|Regression models| hyperpar. $\\lambda$ | hyperpar. $\\delta$  | $\\varepsilon_{max}$ |RMSE|MAPE|\n",
    "|:-|:-:|:-:|-|-|-|\n",
    "|Least square|-|-|9.2712|3.9055|7.17%|\n",
    "|Ridge|0.048|-|9.1667|3.7814|6.95%|\n",
    "|Huber|-|0.84|5.4043|2.4019|3.90%|\n",
    "|Quantile|-|0.60|5.2159|**2.3094**|**3.56%**|\n",
    "|Quantile with $l_2$|0.90|0.60|**4.8959**|2.3673|4.03%|\n",
    "\n",
    "This is the prediction results of the study period using quantile regression with $l_2$-regularization on data testing "
   ]
  },
  {
   "cell_type": "code",
   "execution_count": null,
   "metadata": {
    "scrolled": true
   },
   "outputs": [],
   "source": [
    "fitted_params(mach).best_model"
   ]
  },
  {
   "cell_type": "code",
   "execution_count": null,
   "metadata": {},
   "outputs": [],
   "source": [
    "Evals = X[test,:]\n",
    "Evals.Y = y[test]\n",
    "Evals.Yhat = predict(mach, rows=test)\n",
    "Evals.Error = Evals.Yhat-Evals.Y\n",
    "Evals.AbsError = abs.(Evals.Yhat-Evals.Y)\n",
    "sort(Evals,:AbsError,rev=true)"
   ]
  },
  {
   "cell_type": "markdown",
   "metadata": {},
   "source": [
    "# 🍁 Thank You 🍁"
   ]
  },
  {
   "cell_type": "code",
   "execution_count": null,
   "metadata": {},
   "outputs": [],
   "source": []
  }
 ],
 "metadata": {
  "kernelspec": {
   "display_name": "Julia 1.6.5",
   "language": "julia",
   "name": "julia-1.6"
  },
  "language_info": {
   "file_extension": ".jl",
   "mimetype": "application/julia",
   "name": "julia",
   "version": "1.6.5"
  }
 },
 "nbformat": 4,
 "nbformat_minor": 4
}
